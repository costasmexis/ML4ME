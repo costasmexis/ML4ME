{
 "cells": [
  {
   "cell_type": "code",
   "execution_count": 1,
   "metadata": {},
   "outputs": [],
   "source": [
    "from typing import Union\n",
    "\n",
    "import matplotlib.pyplot as plt\n",
    "import numpy as np\n",
    "import pandas as pd\n",
    "from sklearn.metrics import confusion_matrix, accuracy_score\n",
    "from sklearn.model_selection import GridSearchCV, RandomizedSearchCV\n",
    "from sklearn.tree import DecisionTreeClassifier, export_text, plot_tree\n",
    "\n",
    "# Autoreload magic command\n",
    "%load_ext autoreload\n",
    "%autoreload 2"
   ]
  },
  {
   "cell_type": "code",
   "execution_count": 2,
   "metadata": {},
   "outputs": [
    {
     "name": "stdout",
     "output_type": "stream",
     "text": [
      "FI = 0.374\n"
     ]
    },
    {
     "data": {
      "text/html": [
       "<div>\n",
       "<style scoped>\n",
       "    .dataframe tbody tr th:only-of-type {\n",
       "        vertical-align: middle;\n",
       "    }\n",
       "\n",
       "    .dataframe tbody tr th {\n",
       "        vertical-align: top;\n",
       "    }\n",
       "\n",
       "    .dataframe thead th {\n",
       "        text-align: right;\n",
       "    }\n",
       "</style>\n",
       "<table border=\"1\" class=\"dataframe\">\n",
       "  <thead>\n",
       "    <tr style=\"text-align: right;\">\n",
       "      <th></th>\n",
       "      <th>p1</th>\n",
       "      <th>p2</th>\n",
       "      <th>label</th>\n",
       "    </tr>\n",
       "  </thead>\n",
       "  <tbody>\n",
       "    <tr>\n",
       "      <th>0</th>\n",
       "      <td>0.555666</td>\n",
       "      <td>0.108658</td>\n",
       "      <td>1</td>\n",
       "    </tr>\n",
       "    <tr>\n",
       "      <th>1</th>\n",
       "      <td>0.755804</td>\n",
       "      <td>0.398517</td>\n",
       "      <td>0</td>\n",
       "    </tr>\n",
       "    <tr>\n",
       "      <th>2</th>\n",
       "      <td>0.632536</td>\n",
       "      <td>0.079676</td>\n",
       "      <td>1</td>\n",
       "    </tr>\n",
       "    <tr>\n",
       "      <th>3</th>\n",
       "      <td>0.557980</td>\n",
       "      <td>0.835451</td>\n",
       "      <td>0</td>\n",
       "    </tr>\n",
       "    <tr>\n",
       "      <th>4</th>\n",
       "      <td>0.404245</td>\n",
       "      <td>0.276517</td>\n",
       "      <td>1</td>\n",
       "    </tr>\n",
       "  </tbody>\n",
       "</table>\n",
       "</div>"
      ],
      "text/plain": [
       "         p1        p2  label\n",
       "0  0.555666  0.108658      1\n",
       "1  0.755804  0.398517      0\n",
       "2  0.632536  0.079676      1\n",
       "3  0.557980  0.835451      0\n",
       "4  0.404245  0.276517      1"
      ]
     },
     "execution_count": 2,
     "metadata": {},
     "output_type": "execute_result"
    }
   ],
   "source": [
    "num_samples = 500\n",
    "p1_range = [0, 1]\n",
    "p2_range = [0, 1]\n",
    "\n",
    "\n",
    "def f(p1, p2):\n",
    "    return (p1 - 0.1) ** 2 + 4 * (p2 - 0.1) ** 2 - 0.64\n",
    "\n",
    "\n",
    "def FI(df: pd.DataFrame) -> float:\n",
    "    return len(df[df[\"label\"] == 1]) / len(df)\n",
    "\n",
    "\n",
    "# Generate a dataset\n",
    "df = pd.DataFrame(columns=[\"p1\", \"p2\", \"f\", \"label\"])\n",
    "df[\"p1\"] = np.random.uniform(p1_range[0], p1_range[1], num_samples)\n",
    "df[\"p2\"] = np.random.uniform(p2_range[0], p2_range[1], num_samples)\n",
    "df[\"f\"] = f(df[\"p1\"], df[\"p2\"])\n",
    "df[\"label\"] = (df[\"f\"] < 0).astype(int)\n",
    "df.drop(\"f\", axis=1, inplace=True)\n",
    "\n",
    "print(f\"FI = {FI(df)}\")\n",
    "\n",
    "df.head()"
   ]
  },
  {
   "cell_type": "code",
   "execution_count": 3,
   "metadata": {},
   "outputs": [],
   "source": [
    "def train_cart(df: pd.DataFrame, label: str) -> DecisionTreeClassifier:\n",
    "    cart = DecisionTreeClassifier()\n",
    "    X = df.drop(columns=[label])\n",
    "    y = df[label]\n",
    "    \n",
    "    # Define parameter grid\n",
    "    param_grid = {\n",
    "        'max_depth': np.arange(2, 12, 1),\n",
    "        'min_samples_split': np.arange(0, int(len(df) * .8), 1),\n",
    "        'min_samples_leaf': np.arange(1, int(len(df) * .8), 1),\n",
    "    }\n",
    "    \n",
    "    search = RandomizedSearchCV(cart, param_grid, n_iter=100, cv=5, scoring='accuracy', n_jobs=-1)\n",
    "    search.fit(X, y)\n",
    "    cart = search.best_estimator_\n",
    "    print(f\"Best parameters: {search.best_params_}\")\n",
    "    print(f\"Best score: {search.best_score_}\")\n",
    "    return cart"
   ]
  },
  {
   "cell_type": "code",
   "execution_count": 4,
   "metadata": {},
   "outputs": [
    {
     "name": "stdout",
     "output_type": "stream",
     "text": [
      "Best parameters: {'min_samples_split': 55, 'min_samples_leaf': 23, 'max_depth': 6}\n",
      "Best score: 0.922\n"
     ]
    }
   ],
   "source": [
    "cart = train_cart(df, \"label\")"
   ]
  },
  {
   "cell_type": "code",
   "execution_count": 5,
   "metadata": {},
   "outputs": [
    {
     "data": {
      "text/plain": [
       "['if (p2 > 0.479) and (p2 > 0.515) then class: 1 (proba: 100.0%) | based on 232 samples',\n",
       " 'if (p2 <= 0.479) and (p1 <= 0.749) and (p2 <= 0.441) and (p2 <= 0.337) then class: 0 (proba: 100.0%) | based on 124 samples',\n",
       " 'if (p2 <= 0.479) and (p1 > 0.749) and (p2 > 0.203) then class: 1 (proba: 97.14%) | based on 35 samples',\n",
       " 'if (p2 <= 0.479) and (p1 > 0.749) and (p2 <= 0.203) then class: 0 (proba: 57.14%) | based on 35 samples',\n",
       " 'if (p2 <= 0.479) and (p1 <= 0.749) and (p2 > 0.441) then class: 0 (proba: 60.71%) | based on 28 samples',\n",
       " 'if (p2 > 0.479) and (p2 <= 0.515) then class: 1 (proba: 86.96%) | based on 23 samples',\n",
       " 'if (p2 <= 0.479) and (p1 <= 0.749) and (p2 <= 0.441) and (p2 > 0.337) then class: 0 (proba: 95.65%) | based on 23 samples']"
      ]
     },
     "execution_count": 5,
     "metadata": {},
     "output_type": "execute_result"
    }
   ],
   "source": [
    "from ml2rules.machinelearning import MyClass\n",
    "\n",
    "my_class = MyClass(df, 'label', cart)\n",
    "my_class.get_rules()\n",
    "my_class.rules"
   ]
  },
  {
   "cell_type": "code",
   "execution_count": 6,
   "metadata": {},
   "outputs": [
    {
     "data": {
      "image/png": "[encoded data removed]",
      "text/plain": [
       "<Figure size 640x480 with 1 Axes>"
      ]
     },
     "metadata": {},
     "output_type": "display_data"
    }
   ],
   "source": [
    "my_class.visualize_tree()"
   ]
  },
  {
   "cell_type": "code",
   "execution_count": 7,
   "metadata": {},
   "outputs": [
    {
     "data": {
      "text/html": [
       "<div>\n",
       "<style scoped>\n",
       "    .dataframe tbody tr th:only-of-type {\n",
       "        vertical-align: middle;\n",
       "    }\n",
       "\n",
       "    .dataframe tbody tr th {\n",
       "        vertical-align: top;\n",
       "    }\n",
       "\n",
       "    .dataframe thead th {\n",
       "        text-align: right;\n",
       "    }\n",
       "</style>\n",
       "<table border=\"1\" class=\"dataframe\">\n",
       "  <thead>\n",
       "    <tr style=\"text-align: right;\">\n",
       "      <th></th>\n",
       "      <th>feature</th>\n",
       "      <th>ineq</th>\n",
       "      <th>value</th>\n",
       "      <th>rule</th>\n",
       "      <th>class</th>\n",
       "    </tr>\n",
       "  </thead>\n",
       "  <tbody>\n",
       "    <tr>\n",
       "      <th>0</th>\n",
       "      <td>p2</td>\n",
       "      <td>&lt;=</td>\n",
       "      <td>0.4786</td>\n",
       "      <td>0</td>\n",
       "      <td>1.0</td>\n",
       "    </tr>\n",
       "    <tr>\n",
       "      <th>1</th>\n",
       "      <td>p1</td>\n",
       "      <td>&lt;=</td>\n",
       "      <td>0.7493</td>\n",
       "      <td>0</td>\n",
       "      <td>1.0</td>\n",
       "    </tr>\n",
       "    <tr>\n",
       "      <th>2</th>\n",
       "      <td>p2</td>\n",
       "      <td>&lt;=</td>\n",
       "      <td>0.4409</td>\n",
       "      <td>0</td>\n",
       "      <td>1.0</td>\n",
       "    </tr>\n",
       "    <tr>\n",
       "      <th>3</th>\n",
       "      <td>p2</td>\n",
       "      <td>&lt;=</td>\n",
       "      <td>0.3370</td>\n",
       "      <td>0</td>\n",
       "      <td>1.0</td>\n",
       "    </tr>\n",
       "    <tr>\n",
       "      <th>4</th>\n",
       "      <td>p2</td>\n",
       "      <td>&gt;</td>\n",
       "      <td>0.3370</td>\n",
       "      <td>1</td>\n",
       "      <td>1.0</td>\n",
       "    </tr>\n",
       "    <tr>\n",
       "      <th>5</th>\n",
       "      <td>p2</td>\n",
       "      <td>&gt;</td>\n",
       "      <td>0.4409</td>\n",
       "      <td>2</td>\n",
       "      <td>1.0</td>\n",
       "    </tr>\n",
       "    <tr>\n",
       "      <th>6</th>\n",
       "      <td>p1</td>\n",
       "      <td>&gt;</td>\n",
       "      <td>0.7493</td>\n",
       "      <td>3</td>\n",
       "      <td>1.0</td>\n",
       "    </tr>\n",
       "    <tr>\n",
       "      <th>7</th>\n",
       "      <td>p2</td>\n",
       "      <td>&lt;=</td>\n",
       "      <td>0.2028</td>\n",
       "      <td>3</td>\n",
       "      <td>1.0</td>\n",
       "    </tr>\n",
       "    <tr>\n",
       "      <th>8</th>\n",
       "      <td>p2</td>\n",
       "      <td>&gt;</td>\n",
       "      <td>0.2028</td>\n",
       "      <td>4</td>\n",
       "      <td>0.0</td>\n",
       "    </tr>\n",
       "    <tr>\n",
       "      <th>9</th>\n",
       "      <td>p2</td>\n",
       "      <td>&gt;</td>\n",
       "      <td>0.4786</td>\n",
       "      <td>5</td>\n",
       "      <td>0.0</td>\n",
       "    </tr>\n",
       "    <tr>\n",
       "      <th>10</th>\n",
       "      <td>p2</td>\n",
       "      <td>&lt;=</td>\n",
       "      <td>0.5150</td>\n",
       "      <td>5</td>\n",
       "      <td>0.0</td>\n",
       "    </tr>\n",
       "    <tr>\n",
       "      <th>11</th>\n",
       "      <td>p2</td>\n",
       "      <td>&gt;</td>\n",
       "      <td>0.5150</td>\n",
       "      <td>6</td>\n",
       "      <td>0.0</td>\n",
       "    </tr>\n",
       "  </tbody>\n",
       "</table>\n",
       "</div>"
      ],
      "text/plain": [
       "   feature ineq   value rule  class\n",
       "0       p2   <=  0.4786    0    1.0\n",
       "1       p1   <=  0.7493    0    1.0\n",
       "2       p2   <=  0.4409    0    1.0\n",
       "3       p2   <=  0.3370    0    1.0\n",
       "4       p2    >  0.3370    1    1.0\n",
       "5       p2    >  0.4409    2    1.0\n",
       "6       p1    >  0.7493    3    1.0\n",
       "7       p2   <=  0.2028    3    1.0\n",
       "8       p2    >  0.2028    4    0.0\n",
       "9       p2    >  0.4786    5    0.0\n",
       "10      p2   <=  0.5150    5    0.0\n",
       "11      p2    >  0.5150    6    0.0"
      ]
     },
     "execution_count": 7,
     "metadata": {},
     "output_type": "execute_result"
    }
   ],
   "source": [
    "rdf = my_class.get_rules_df()\n",
    "rdf"
   ]
  }
 ],
 "metadata": {
  "kernelspec": {
   "display_name": "main",
   "language": "python",
   "name": "python3"
  },
  "language_info": {
   "codemirror_mode": {
    "name": "ipython",
    "version": 3
   },
   "file_extension": ".py",
   "mimetype": "text/x-python",
   "name": "python",
   "nbconvert_exporter": "python",
   "pygments_lexer": "ipython3",
   "version": "3.10.13"
  }
 },
 "nbformat": 4,
 "nbformat_minor": 2
}
