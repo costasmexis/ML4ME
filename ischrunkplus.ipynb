{
 "cells": [
  {
   "cell_type": "code",
   "execution_count": 1,
   "metadata": {},
   "outputs": [],
   "source": [
    "from typing import Union\n",
    "\n",
    "import matplotlib.pyplot as plt\n",
    "import numpy as np\n",
    "import pandas as pd\n",
    "from sklearn.metrics import confusion_matrix, accuracy_score\n",
    "from sklearn.model_selection import GridSearchCV, RandomizedSearchCV\n",
    "from sklearn.tree import DecisionTreeClassifier, export_text, plot_tree"
   ]
  },
  {
   "cell_type": "code",
   "execution_count": 2,
   "metadata": {},
   "outputs": [
    {
     "name": "stdout",
     "output_type": "stream",
     "text": [
      "FI = 0.396\n"
     ]
    },
    {
     "data": {
      "text/html": [
       "<div>\n",
       "<style scoped>\n",
       "    .dataframe tbody tr th:only-of-type {\n",
       "        vertical-align: middle;\n",
       "    }\n",
       "\n",
       "    .dataframe tbody tr th {\n",
       "        vertical-align: top;\n",
       "    }\n",
       "\n",
       "    .dataframe thead th {\n",
       "        text-align: right;\n",
       "    }\n",
       "</style>\n",
       "<table border=\"1\" class=\"dataframe\">\n",
       "  <thead>\n",
       "    <tr style=\"text-align: right;\">\n",
       "      <th></th>\n",
       "      <th>p1</th>\n",
       "      <th>p2</th>\n",
       "      <th>label</th>\n",
       "    </tr>\n",
       "  </thead>\n",
       "  <tbody>\n",
       "    <tr>\n",
       "      <th>0</th>\n",
       "      <td>0.006064</td>\n",
       "      <td>0.777020</td>\n",
       "      <td>0</td>\n",
       "    </tr>\n",
       "    <tr>\n",
       "      <th>1</th>\n",
       "      <td>0.418820</td>\n",
       "      <td>0.745435</td>\n",
       "      <td>0</td>\n",
       "    </tr>\n",
       "    <tr>\n",
       "      <th>2</th>\n",
       "      <td>0.614711</td>\n",
       "      <td>0.728437</td>\n",
       "      <td>0</td>\n",
       "    </tr>\n",
       "    <tr>\n",
       "      <th>3</th>\n",
       "      <td>0.697844</td>\n",
       "      <td>0.922376</td>\n",
       "      <td>0</td>\n",
       "    </tr>\n",
       "    <tr>\n",
       "      <th>4</th>\n",
       "      <td>0.764033</td>\n",
       "      <td>0.003375</td>\n",
       "      <td>1</td>\n",
       "    </tr>\n",
       "  </tbody>\n",
       "</table>\n",
       "</div>"
      ],
      "text/plain": [
       "         p1        p2  label\n",
       "0  0.006064  0.777020      0\n",
       "1  0.418820  0.745435      0\n",
       "2  0.614711  0.728437      0\n",
       "3  0.697844  0.922376      0\n",
       "4  0.764033  0.003375      1"
      ]
     },
     "execution_count": 2,
     "metadata": {},
     "output_type": "execute_result"
    }
   ],
   "source": [
    "num_samples = 500\n",
    "p1_range = [0, 1]\n",
    "p2_range = [0, 1]\n",
    "\n",
    "\n",
    "def f(p1, p2):\n",
    "    return (p1 - 0.1) ** 2 + 4 * (p2 - 0.1) ** 2 - 0.64\n",
    "\n",
    "\n",
    "def FI(df: pd.DataFrame) -> float:\n",
    "    return len(df[df[\"label\"] == 1]) / len(df)\n",
    "\n",
    "\n",
    "# Generate a dataset\n",
    "df = pd.DataFrame(columns=[\"p1\", \"p2\", \"f\", \"label\"])\n",
    "df[\"p1\"] = np.random.uniform(p1_range[0], p1_range[1], num_samples)\n",
    "df[\"p2\"] = np.random.uniform(p2_range[0], p2_range[1], num_samples)\n",
    "df[\"f\"] = f(df[\"p1\"], df[\"p2\"])\n",
    "df[\"label\"] = (df[\"f\"] < 0).astype(int)\n",
    "df.drop(\"f\", axis=1, inplace=True)\n",
    "\n",
    "print(f\"FI = {FI(df)}\")\n",
    "\n",
    "df.head()"
   ]
  },
  {
   "cell_type": "code",
   "execution_count": 3,
   "metadata": {},
   "outputs": [],
   "source": [
    "def train_cart(df: pd.DataFrame, label: str) -> DecisionTreeClassifier:\n",
    "    cart = DecisionTreeClassifier()\n",
    "    X = df.drop(columns=[label])\n",
    "    y = df[label]\n",
    "    \n",
    "    # Define parameter grid\n",
    "    param_grid = {\n",
    "        'max_depth': np.arange(2, 12, 1),\n",
    "        'min_samples_split': np.arange(0, int(len(df) * .8), 1),\n",
    "        'min_samples_leaf': np.arange(1, int(len(df) * .8), 1),\n",
    "    }\n",
    "    \n",
    "    search = RandomizedSearchCV(cart, param_grid, n_iter=100, cv=5, scoring='accuracy', n_jobs=-1)\n",
    "    search.fit(X, y)\n",
    "    cart = search.best_estimator_\n",
    "    print(f\"Best parameters: {search.best_params_}\")\n",
    "    print(f\"Best score: {search.best_score_}\")\n",
    "    return cart"
   ]
  },
  {
   "cell_type": "code",
   "execution_count": 4,
   "metadata": {},
   "outputs": [
    {
     "name": "stdout",
     "output_type": "stream",
     "text": [
      "Best parameters: {'min_samples_split': 13, 'min_samples_leaf': 12, 'max_depth': 10}\n",
      "Best score: 0.958\n"
     ]
    }
   ],
   "source": [
    "cart = train_cart(df, \"label\")"
   ]
  },
  {
   "cell_type": "code",
   "execution_count": 5,
   "metadata": {},
   "outputs": [
    {
     "data": {
      "image/png": "[encoded data removed]",
      "text/plain": [
       "<Figure size 400x400 with 1 Axes>"
      ]
     },
     "metadata": {},
     "output_type": "display_data"
    }
   ],
   "source": [
    "plt.figure(figsize=(4, 4))\n",
    "plot_tree(cart, filled=True)\n",
    "plt.show()"
   ]
  },
  {
   "cell_type": "code",
   "execution_count": 6,
   "metadata": {},
   "outputs": [],
   "source": [
    "# Get the number of samples in the leaf nodes\n",
    "rules = export_text(cart, feature_names=[\"p1\", \"p2\"], spacing=1, decimals=4)\n",
    "\n",
    "# From text to list\n",
    "rules = rules.split(\"\\n\")\n",
    "# FInd number of list elements that contain \"class: \"\n",
    "leaf_nodes = [r for r in rules if \"class:\" in r]\n",
    "leaf_nodes = [l.replace(\"|\", \"\") for l in leaf_nodes]\n",
    "leaf_nodes = [l.replace(\"-\", \"\") for l in leaf_nodes]\n",
    "leaf_nodes = [l.replace(\" \", \"\") for l in leaf_nodes]\n",
    "leaf_nodes = [l.replace(\"class:\", \"\") for l in leaf_nodes]\n",
    "leaf_nodes = [int(l) for l in leaf_nodes]\n",
    "idx_leaf_nodes = [i for i, r in enumerate(rules) if \"class:\" in r]\n",
    "# Relace '|' with '' \n",
    "rules = [r.replace(\"|\", \"\") for r in rules]\n",
    "rules = [r.replace(\"-\", \"\") for r in rules]\n",
    "# Replace spaces with ''\n",
    "rules = [r.replace(\" \", \"\") for r in rules]\n",
    "\n",
    "# Define a dataframe to store the rules\n",
    "rules_df = pd.DataFrame(columns=['feature', 'ineq', 'value', 'rule'])\n",
    "\n",
    "start = 0\n",
    "for id, i in enumerate(idx_leaf_nodes):\n",
    "    ineq = []\n",
    "    for r in rules[start:i]:\n",
    "        if \"<=\" in r:\n",
    "            ineq.append(\"<=\")\n",
    "        else:\n",
    "            ineq.append(\">\")\n",
    "    _ = [r.split(\"<=\") if \"<=\" in r else r.split(\">\") for r in rules[start:i]]\n",
    "    feature = [r[0] for r in _]\n",
    "    value = [r[1] for r in _]\n",
    "    rule = [id for _ in range(len(feature))]\n",
    "    label = [leaf_nodes[id] for _ in range(len(feature))]\n",
    "    # Append feature, value and rule to rules_df\n",
    "    new_df = pd.DataFrame({'feature': feature, 'value': value, 'ineq': ineq, 'rule': rule, 'class': label})\n",
    "    rules_df = pd.concat([rules_df, new_df], ignore_index=True)\n",
    "    start = i+1"
   ]
  }
 ],
 "metadata": {
  "kernelspec": {
   "display_name": "main",
   "language": "python",
   "name": "python3"
  },
  "language_info": {
   "codemirror_mode": {
    "name": "ipython",
    "version": 3
   },
   "file_extension": ".py",
   "mimetype": "text/x-python",
   "name": "python",
   "nbconvert_exporter": "python",
   "pygments_lexer": "ipython3",
   "version": "3.10.13"
  }
 },
 "nbformat": 4,
 "nbformat_minor": 2
}
