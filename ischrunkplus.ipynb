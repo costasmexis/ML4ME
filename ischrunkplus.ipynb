{
 "cells": [
  {
   "cell_type": "code",
   "execution_count": 2,
   "metadata": {},
   "outputs": [
    {
     "name": "stdout",
     "output_type": "stream",
     "text": [
      "The autoreload extension is already loaded. To reload it, use:\n",
      "  %reload_ext autoreload\n"
     ]
    }
   ],
   "source": [
    "from typing import Union\n",
    "\n",
    "import matplotlib.pyplot as plt\n",
    "import numpy as np\n",
    "import pandas as pd\n",
    "from sklearn.metrics import confusion_matrix, accuracy_score\n",
    "from sklearn.model_selection import GridSearchCV, RandomizedSearchCV\n",
    "from sklearn.tree import DecisionTreeClassifier\n",
    "\n",
    "# Autoreload magic command\n",
    "%load_ext autoreload\n",
    "%autoreload 2"
   ]
  },
  {
   "cell_type": "code",
   "execution_count": 3,
   "metadata": {},
   "outputs": [
    {
     "name": "stdout",
     "output_type": "stream",
     "text": [
      "FI = 0.376\n"
     ]
    },
    {
     "data": {
      "text/html": [
       "<div>\n",
       "<style scoped>\n",
       "    .dataframe tbody tr th:only-of-type {\n",
       "        vertical-align: middle;\n",
       "    }\n",
       "\n",
       "    .dataframe tbody tr th {\n",
       "        vertical-align: top;\n",
       "    }\n",
       "\n",
       "    .dataframe thead th {\n",
       "        text-align: right;\n",
       "    }\n",
       "</style>\n",
       "<table border=\"1\" class=\"dataframe\">\n",
       "  <thead>\n",
       "    <tr style=\"text-align: right;\">\n",
       "      <th></th>\n",
       "      <th>p1</th>\n",
       "      <th>p2</th>\n",
       "      <th>label</th>\n",
       "    </tr>\n",
       "  </thead>\n",
       "  <tbody>\n",
       "    <tr>\n",
       "      <th>0</th>\n",
       "      <td>0.910812</td>\n",
       "      <td>0.316149</td>\n",
       "      <td>0</td>\n",
       "    </tr>\n",
       "    <tr>\n",
       "      <th>1</th>\n",
       "      <td>0.253595</td>\n",
       "      <td>0.607475</td>\n",
       "      <td>0</td>\n",
       "    </tr>\n",
       "    <tr>\n",
       "      <th>2</th>\n",
       "      <td>0.235714</td>\n",
       "      <td>0.309095</td>\n",
       "      <td>1</td>\n",
       "    </tr>\n",
       "    <tr>\n",
       "      <th>3</th>\n",
       "      <td>0.623912</td>\n",
       "      <td>0.477351</td>\n",
       "      <td>0</td>\n",
       "    </tr>\n",
       "    <tr>\n",
       "      <th>4</th>\n",
       "      <td>0.666865</td>\n",
       "      <td>0.760810</td>\n",
       "      <td>0</td>\n",
       "    </tr>\n",
       "  </tbody>\n",
       "</table>\n",
       "</div>"
      ],
      "text/plain": [
       "         p1        p2  label\n",
       "0  0.910812  0.316149      0\n",
       "1  0.253595  0.607475      0\n",
       "2  0.235714  0.309095      1\n",
       "3  0.623912  0.477351      0\n",
       "4  0.666865  0.760810      0"
      ]
     },
     "execution_count": 3,
     "metadata": {},
     "output_type": "execute_result"
    }
   ],
   "source": [
    "num_samples = 500\n",
    "p1_range = [0, 1]\n",
    "p2_range = [0, 1]\n",
    "\n",
    "\n",
    "def f(p1, p2):\n",
    "    return (p1 - 0.1) ** 2 + 4 * (p2 - 0.1) ** 2 - 0.64\n",
    "\n",
    "\n",
    "def FI(df: pd.DataFrame) -> float:\n",
    "    return len(df[df[\"label\"] == 1]) / len(df)\n",
    "\n",
    "\n",
    "# Generate a dataset\n",
    "df = pd.DataFrame(columns=[\"p1\", \"p2\", \"f\", \"label\"])\n",
    "df[\"p1\"] = np.random.uniform(p1_range[0], p1_range[1], num_samples)\n",
    "df[\"p2\"] = np.random.uniform(p2_range[0], p2_range[1], num_samples)\n",
    "df[\"f\"] = f(df[\"p1\"], df[\"p2\"])\n",
    "df[\"label\"] = (df[\"f\"] < 0).astype(int)\n",
    "df.drop(\"f\", axis=1, inplace=True)\n",
    "\n",
    "print(f\"FI = {FI(df)}\")\n",
    "\n",
    "df.head()"
   ]
  },
  {
   "cell_type": "code",
   "execution_count": 4,
   "metadata": {},
   "outputs": [],
   "source": [
    "def train_cart(df: pd.DataFrame, label: str) -> DecisionTreeClassifier:\n",
    "    cart = DecisionTreeClassifier()\n",
    "    X = df.drop(columns=[label])\n",
    "    y = df[label]\n",
    "    \n",
    "    # Define parameter grid\n",
    "    param_grid = {\n",
    "        'max_depth': np.arange(2, 12, 1),\n",
    "        'min_samples_split': np.arange(0, int(len(df) * .8), 1),\n",
    "        'min_samples_leaf': np.arange(1, int(len(df) * .8), 1),\n",
    "    }\n",
    "    \n",
    "    search = RandomizedSearchCV(cart, param_grid, n_iter=100, cv=5, scoring='accuracy', n_jobs=-1)\n",
    "    search.fit(X, y)\n",
    "    cart = search.best_estimator_\n",
    "    print(f\"Best parameters: {search.best_params_}\")\n",
    "    print(f\"Best score: {search.best_score_}\")\n",
    "    return cart"
   ]
  },
  {
   "cell_type": "code",
   "execution_count": 6,
   "metadata": {},
   "outputs": [
    {
     "name": "stdout",
     "output_type": "stream",
     "text": [
      "Best parameters: {'min_samples_split': 125, 'min_samples_leaf': 31, 'max_depth': 4}\n",
      "Best score: 0.9460000000000001\n"
     ]
    },
    {
     "name": "stderr",
     "output_type": "stream",
     "text": [
      "c:\\Users\\mexis\\anaconda3\\envs\\main\\lib\\site-packages\\sklearn\\model_selection\\_validation.py:540: FitFailedWarning: \n",
      "10 fits failed out of a total of 500.\n",
      "The score on these train-test partitions for these parameters will be set to nan.\n",
      "If these failures are not expected, you can try to debug them by setting error_score='raise'.\n",
      "\n",
      "Below are more details about the failures:\n",
      "--------------------------------------------------------------------------------\n",
      "5 fits failed with the following error:\n",
      "Traceback (most recent call last):\n",
      "  File \"c:\\Users\\mexis\\anaconda3\\envs\\main\\lib\\site-packages\\sklearn\\model_selection\\_validation.py\", line 888, in _fit_and_score\n",
      "    estimator.fit(X_train, y_train, **fit_params)\n",
      "  File \"c:\\Users\\mexis\\anaconda3\\envs\\main\\lib\\site-packages\\sklearn\\base.py\", line 1466, in wrapper\n",
      "    estimator._validate_params()\n",
      "  File \"c:\\Users\\mexis\\anaconda3\\envs\\main\\lib\\site-packages\\sklearn\\base.py\", line 666, in _validate_params\n",
      "    validate_parameter_constraints(\n",
      "  File \"c:\\Users\\mexis\\anaconda3\\envs\\main\\lib\\site-packages\\sklearn\\utils\\_param_validation.py\", line 95, in validate_parameter_constraints\n",
      "    raise InvalidParameterError(\n",
      "sklearn.utils._param_validation.InvalidParameterError: The 'min_samples_split' parameter of DecisionTreeClassifier must be an int in the range [2, inf) or a float in the range (0.0, 1.0]. Got 0 instead.\n",
      "\n",
      "--------------------------------------------------------------------------------\n",
      "5 fits failed with the following error:\n",
      "Traceback (most recent call last):\n",
      "  File \"c:\\Users\\mexis\\anaconda3\\envs\\main\\lib\\site-packages\\sklearn\\model_selection\\_validation.py\", line 888, in _fit_and_score\n",
      "    estimator.fit(X_train, y_train, **fit_params)\n",
      "  File \"c:\\Users\\mexis\\anaconda3\\envs\\main\\lib\\site-packages\\sklearn\\base.py\", line 1466, in wrapper\n",
      "    estimator._validate_params()\n",
      "  File \"c:\\Users\\mexis\\anaconda3\\envs\\main\\lib\\site-packages\\sklearn\\base.py\", line 666, in _validate_params\n",
      "    validate_parameter_constraints(\n",
      "  File \"c:\\Users\\mexis\\anaconda3\\envs\\main\\lib\\site-packages\\sklearn\\utils\\_param_validation.py\", line 95, in validate_parameter_constraints\n",
      "    raise InvalidParameterError(\n",
      "sklearn.utils._param_validation.InvalidParameterError: The 'min_samples_split' parameter of DecisionTreeClassifier must be an int in the range [2, inf) or a float in the range (0.0, 1.0]. Got 1 instead.\n",
      "\n",
      "  warnings.warn(some_fits_failed_message, FitFailedWarning)\n",
      "c:\\Users\\mexis\\anaconda3\\envs\\main\\lib\\site-packages\\sklearn\\model_selection\\_search.py:1103: UserWarning: One or more of the test scores are non-finite: [0.892 0.886 0.624 0.624 0.946 0.892 0.892 0.892 0.908 0.892 0.892 0.624\n",
      " 0.624 0.624 0.892 0.624 0.624 0.892 0.892 0.892 0.906 0.892 0.624 0.624\n",
      " 0.624 0.624 0.892 0.942 0.892 0.892 0.624 0.624 0.892   nan 0.624 0.624\n",
      " 0.892 0.624 0.624 0.892 0.624 0.892 0.624 0.892 0.624 0.624 0.624 0.624\n",
      " 0.894 0.624 0.624 0.624 0.624 0.892 0.624 0.892 0.892 0.892 0.624 0.624\n",
      " 0.892 0.624 0.624 0.892 0.892 0.624 0.892 0.89  0.892 0.892 0.892 0.624\n",
      " 0.892 0.918 0.624 0.892 0.886 0.892 0.624 0.892 0.624 0.888 0.892 0.624\n",
      " 0.624 0.624 0.892 0.938 0.892 0.624 0.624 0.624 0.892 0.624 0.624 0.624\n",
      " 0.624   nan 0.892 0.624]\n",
      "  warnings.warn(\n"
     ]
    }
   ],
   "source": [
    "cart = train_cart(df, \"label\")"
   ]
  },
  {
   "cell_type": "code",
   "execution_count": 8,
   "metadata": {},
   "outputs": [
    {
     "data": {
      "text/plain": [
       "['if (p2 > 0.471) and (p2 > 0.54) then class: 0 (proba: 100.0%) | based on 241 samples',\n",
       " 'if (p2 <= 0.471) and (p1 <= 0.798) and (p2 <= 0.398) and (p2 <= 0.313) then class: 1 (proba: 100.0%) | based on 123 samples',\n",
       " 'if (p2 <= 0.471) and (p1 > 0.798) then class: 0 (proba: 84.62%) | based on 39 samples',\n",
       " 'if (p2 <= 0.471) and (p1 <= 0.798) and (p2 > 0.398) then class: 1 (proba: 74.29%) | based on 35 samples',\n",
       " 'if (p2 > 0.471) and (p2 <= 0.54) then class: 0 (proba: 87.1%) | based on 31 samples',\n",
       " 'if (p2 <= 0.471) and (p1 <= 0.798) and (p2 <= 0.398) and (p2 > 0.313) then class: 1 (proba: 93.55%) | based on 31 samples']"
      ]
     },
     "execution_count": 8,
     "metadata": {},
     "output_type": "execute_result"
    }
   ],
   "source": [
    "from src.ml2rules import TreeRuler\n",
    "\n",
    "my_class = TreeRuler(df, 'label', cart)\n",
    "my_class.get_rules()\n",
    "my_class.rules"
   ]
  },
  {
   "cell_type": "code",
   "execution_count": 9,
   "metadata": {},
   "outputs": [
    {
     "data": {
      "image/png": "[encoded data removed]",
      "text/plain": [
       "<Figure size 640x480 with 1 Axes>"
      ]
     },
     "metadata": {},
     "output_type": "display_data"
    }
   ],
   "source": [
    "my_class.visualize_tree()"
   ]
  },
  {
   "cell_type": "code",
   "execution_count": 7,
   "metadata": {},
   "outputs": [
    {
     "data": {
      "text/html": [
       "<div>\n",
       "<style scoped>\n",
       "    .dataframe tbody tr th:only-of-type {\n",
       "        vertical-align: middle;\n",
       "    }\n",
       "\n",
       "    .dataframe tbody tr th {\n",
       "        vertical-align: top;\n",
       "    }\n",
       "\n",
       "    .dataframe thead th {\n",
       "        text-align: right;\n",
       "    }\n",
       "</style>\n",
       "<table border=\"1\" class=\"dataframe\">\n",
       "  <thead>\n",
       "    <tr style=\"text-align: right;\">\n",
       "      <th></th>\n",
       "      <th>feature</th>\n",
       "      <th>ineq</th>\n",
       "      <th>value</th>\n",
       "      <th>rule</th>\n",
       "      <th>class</th>\n",
       "    </tr>\n",
       "  </thead>\n",
       "  <tbody>\n",
       "    <tr>\n",
       "      <th>0</th>\n",
       "      <td>p2</td>\n",
       "      <td>&lt;=</td>\n",
       "      <td>0.4786</td>\n",
       "      <td>0</td>\n",
       "      <td>1.0</td>\n",
       "    </tr>\n",
       "    <tr>\n",
       "      <th>1</th>\n",
       "      <td>p1</td>\n",
       "      <td>&lt;=</td>\n",
       "      <td>0.7493</td>\n",
       "      <td>0</td>\n",
       "      <td>1.0</td>\n",
       "    </tr>\n",
       "    <tr>\n",
       "      <th>2</th>\n",
       "      <td>p2</td>\n",
       "      <td>&lt;=</td>\n",
       "      <td>0.4409</td>\n",
       "      <td>0</td>\n",
       "      <td>1.0</td>\n",
       "    </tr>\n",
       "    <tr>\n",
       "      <th>3</th>\n",
       "      <td>p2</td>\n",
       "      <td>&lt;=</td>\n",
       "      <td>0.3370</td>\n",
       "      <td>0</td>\n",
       "      <td>1.0</td>\n",
       "    </tr>\n",
       "    <tr>\n",
       "      <th>4</th>\n",
       "      <td>p2</td>\n",
       "      <td>&gt;</td>\n",
       "      <td>0.3370</td>\n",
       "      <td>1</td>\n",
       "      <td>1.0</td>\n",
       "    </tr>\n",
       "    <tr>\n",
       "      <th>5</th>\n",
       "      <td>p2</td>\n",
       "      <td>&gt;</td>\n",
       "      <td>0.4409</td>\n",
       "      <td>2</td>\n",
       "      <td>1.0</td>\n",
       "    </tr>\n",
       "    <tr>\n",
       "      <th>6</th>\n",
       "      <td>p1</td>\n",
       "      <td>&gt;</td>\n",
       "      <td>0.7493</td>\n",
       "      <td>3</td>\n",
       "      <td>1.0</td>\n",
       "    </tr>\n",
       "    <tr>\n",
       "      <th>7</th>\n",
       "      <td>p2</td>\n",
       "      <td>&lt;=</td>\n",
       "      <td>0.2028</td>\n",
       "      <td>3</td>\n",
       "      <td>1.0</td>\n",
       "    </tr>\n",
       "    <tr>\n",
       "      <th>8</th>\n",
       "      <td>p2</td>\n",
       "      <td>&gt;</td>\n",
       "      <td>0.2028</td>\n",
       "      <td>4</td>\n",
       "      <td>0.0</td>\n",
       "    </tr>\n",
       "    <tr>\n",
       "      <th>9</th>\n",
       "      <td>p2</td>\n",
       "      <td>&gt;</td>\n",
       "      <td>0.4786</td>\n",
       "      <td>5</td>\n",
       "      <td>0.0</td>\n",
       "    </tr>\n",
       "    <tr>\n",
       "      <th>10</th>\n",
       "      <td>p2</td>\n",
       "      <td>&lt;=</td>\n",
       "      <td>0.5150</td>\n",
       "      <td>5</td>\n",
       "      <td>0.0</td>\n",
       "    </tr>\n",
       "    <tr>\n",
       "      <th>11</th>\n",
       "      <td>p2</td>\n",
       "      <td>&gt;</td>\n",
       "      <td>0.5150</td>\n",
       "      <td>6</td>\n",
       "      <td>0.0</td>\n",
       "    </tr>\n",
       "  </tbody>\n",
       "</table>\n",
       "</div>"
      ],
      "text/plain": [
       "   feature ineq   value rule  class\n",
       "0       p2   <=  0.4786    0    1.0\n",
       "1       p1   <=  0.7493    0    1.0\n",
       "2       p2   <=  0.4409    0    1.0\n",
       "3       p2   <=  0.3370    0    1.0\n",
       "4       p2    >  0.3370    1    1.0\n",
       "5       p2    >  0.4409    2    1.0\n",
       "6       p1    >  0.7493    3    1.0\n",
       "7       p2   <=  0.2028    3    1.0\n",
       "8       p2    >  0.2028    4    0.0\n",
       "9       p2    >  0.4786    5    0.0\n",
       "10      p2   <=  0.5150    5    0.0\n",
       "11      p2    >  0.5150    6    0.0"
      ]
     },
     "execution_count": 7,
     "metadata": {},
     "output_type": "execute_result"
    }
   ],
   "source": [
    "rdf = my_class.get_rules_df()\n",
    "rdf"
   ]
  }
 ],
 "metadata": {
  "kernelspec": {
   "display_name": "main",
   "language": "python",
   "name": "python3"
  },
  "language_info": {
   "codemirror_mode": {
    "name": "ipython",
    "version": 3
   },
   "file_extension": ".py",
   "mimetype": "text/x-python",
   "name": "python",
   "nbconvert_exporter": "python",
   "pygments_lexer": "ipython3",
   "version": "3.10.13"
  }
 },
 "nbformat": 4,
 "nbformat_minor": 2
}
