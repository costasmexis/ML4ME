{
 "cells": [
  {
   "cell_type": "code",
   "execution_count": 1,
   "metadata": {},
   "outputs": [],
   "source": [
    "%load_ext autoreload\n",
    "%autoreload 2"
   ]
  },
  {
   "cell_type": "code",
   "execution_count": 2,
   "metadata": {},
   "outputs": [],
   "source": [
    "import sys\n",
    "\n",
    "sys.path.append('..')\n",
    "\n",
    "import matplotlib.pyplot as plt\n",
    "import numpy as np\n",
    "import pandas as pd\n",
    "import xgboost as xgb\n",
    "from mrmr import mrmr_classif\n",
    "\n",
    "from src.machinelearning import (\n",
    "    ANNClassifier,\n",
    "    evaluate_ann,\n",
    "    evaluate_sklearn,\n",
    "    get_predictions,\n",
    "    train_ann,\n",
    "    train_decisiontree,\n",
    "    train_skoperules,\n",
    "    train_xgboost,\n",
    ")\n",
    "from src.ml2rules import TreeRuler, ml2tree, sample_from_df\n",
    "from src.utils import get_cc_mat, get_dataset, non_stratify_split, stratify_split"
   ]
  },
  {
   "cell_type": "code",
   "execution_count": 3,
   "metadata": {},
   "outputs": [],
   "source": [
    "def plot_cc_ranges(df: pd.DataFrame) -> None:\n",
    "    # Change plot style\n",
    "    plt.style.use(\"ggplot\")\n",
    "    # Calculate the 1st and 3rd quartiles of df values\n",
    "    q1 = df.quantile(0.25)\n",
    "    q3 = df.quantile(0.75)\n",
    "    # Plot the mean of df values\n",
    "    plt.figure(figsize=(10, 3))\n",
    "    plt.barh(df.columns[::-1], df.mean()[::-1])\n",
    "    plt.axvline(x=0, color=\"black\", linestyle=\"-\")\n",
    "    plt.plot(q1, df.columns, \"|\", color=\"black\", label=\"Q1\", alpha=1)\n",
    "    plt.plot(q3, df.columns, \"|\", color=\"black\", label=\"Q3\", alpha=1)\n",
    "    for i, enzyme in enumerate(df.columns):\n",
    "        plt.plot([q1[i], q3[i]], [enzyme, enzyme], color=\"black\")\n",
    "    plt.title(\"CC_XTR\")\n",
    "    plt.grid()\n",
    "    plt.show()\n",
    "    \n",
    "def get_value_counts(df: pd.DataFrame) -> None:\n",
    "    display(\n",
    "        pd.DataFrame(\n",
    "        data=[df['label'].value_counts(normalize=True).round(4), df['label'].value_counts()],\n",
    "        index=[\"percentage\", \"absolute\"]    \n",
    "    ).T\n",
    "    )\n"
   ]
  },
  {
   "cell_type": "markdown",
   "metadata": {},
   "source": [
    "### Data loading"
   ]
  },
  {
   "cell_type": "code",
   "execution_count": 4,
   "metadata": {},
   "outputs": [
    {
     "name": "stdout",
     "output_type": "stream",
     "text": [
      "***Dataset shape: (200000, 259)\n",
      "\n",
      "Enzyme: XTR\n",
      "Common enzymes: ['HXK', 'PGI', 'TPI', 'ZWF', 'ATPM', 'ADK', 'NDR', 'PDA', 'XTR', 'XRI', 'XDH', 'XK']\n",
      "Number of all enzymes: 86\n"
     ]
    },
    {
     "data": {
      "image/png": "[encoded data removed]",
      "text/plain": [
       "<Figure size 1000x300 with 1 Axes>"
      ]
     },
     "metadata": {},
     "output_type": "display_data"
    }
   ],
   "source": [
    "df = get_dataset(\n",
    "    labels_file=\"../data/class_vector_train_ref.mat\",\n",
    "    params_file=\"../data/training_set_ref.mat\",\n",
    "    names_file=\"../data/paremeterNames.mat\",\n",
    ")\n",
    "\n",
    "print(f\"***Dataset shape: {df.shape}\\n\")\n",
    "\n",
    "# Load FCC data\n",
    "enzyme, commonEnz, allEnzymes, \\\n",
    "    commonConCoeff, allConCoeff = get_cc_mat(\"../data/ccXTR_ref.mat\")\n",
    "\n",
    "plot_cc_ranges(commonConCoeff)"
   ]
  },
  {
   "cell_type": "code",
   "execution_count": 5,
   "metadata": {},
   "outputs": [
    {
     "data": {
      "text/html": [
       "<div>\n",
       "<style scoped>\n",
       "    .dataframe tbody tr th:only-of-type {\n",
       "        vertical-align: middle;\n",
       "    }\n",
       "\n",
       "    .dataframe tbody tr th {\n",
       "        vertical-align: top;\n",
       "    }\n",
       "\n",
       "    .dataframe thead th {\n",
       "        text-align: right;\n",
       "    }\n",
       "</style>\n",
       "<table border=\"1\" class=\"dataframe\">\n",
       "  <thead>\n",
       "    <tr style=\"text-align: right;\">\n",
       "      <th></th>\n",
       "      <th>percentage</th>\n",
       "      <th>absolute</th>\n",
       "    </tr>\n",
       "  </thead>\n",
       "  <tbody>\n",
       "    <tr>\n",
       "      <th>0</th>\n",
       "      <td>0.5287</td>\n",
       "      <td>105746.0</td>\n",
       "    </tr>\n",
       "    <tr>\n",
       "      <th>1</th>\n",
       "      <td>0.4713</td>\n",
       "      <td>94254.0</td>\n",
       "    </tr>\n",
       "  </tbody>\n",
       "</table>\n",
       "</div>"
      ],
      "text/plain": [
       "   percentage  absolute\n",
       "0      0.5287  105746.0\n",
       "1      0.4713   94254.0"
      ]
     },
     "metadata": {},
     "output_type": "display_data"
    }
   ],
   "source": [
    "# Create dataset for HXK enzyme; label 1 if CC < 0, 0 otherwise\n",
    "idx_HXK = commonConCoeff[commonConCoeff[\"HXK\"] < 0].index\n",
    "\n",
    "df_HXK = df.drop(\"label\", axis=1)\n",
    "df_HXK[\"label\"] = [1 if i in idx_HXK else 0 for i in df_HXK.index]\n",
    "df_HXK[\"label\"].value_counts(normalize=True).round(4)\n",
    "df = df_HXK.copy()\n",
    "\n",
    "# Create a dataframe with value_counts both percentage and absolute\n",
    "display(\n",
    "    pd.DataFrame(\n",
    "    data=[df['label'].value_counts(normalize=True).round(4), df['label'].value_counts()],\n",
    "    index=[\"percentage\", \"absolute\"]    \n",
    ").T\n",
    ")\n",
    "\n",
    "del df_HXK"
   ]
  },
  {
   "cell_type": "markdown",
   "metadata": {},
   "source": [
    "### Train - Test data split"
   ]
  },
  {
   "cell_type": "code",
   "execution_count": 6,
   "metadata": {},
   "outputs": [
    {
     "name": "stdout",
     "output_type": "stream",
     "text": [
      "Traininig set shape: (10000, 258)\n",
      "Test set shape: (190000, 258)\n",
      "Training set value counts:\n"
     ]
    },
    {
     "data": {
      "text/html": [
       "<div>\n",
       "<style scoped>\n",
       "    .dataframe tbody tr th:only-of-type {\n",
       "        vertical-align: middle;\n",
       "    }\n",
       "\n",
       "    .dataframe tbody tr th {\n",
       "        vertical-align: top;\n",
       "    }\n",
       "\n",
       "    .dataframe thead th {\n",
       "        text-align: right;\n",
       "    }\n",
       "</style>\n",
       "<table border=\"1\" class=\"dataframe\">\n",
       "  <thead>\n",
       "    <tr style=\"text-align: right;\">\n",
       "      <th></th>\n",
       "      <th>percentage</th>\n",
       "      <th>absolute</th>\n",
       "    </tr>\n",
       "  </thead>\n",
       "  <tbody>\n",
       "    <tr>\n",
       "      <th>0</th>\n",
       "      <td>0.5287</td>\n",
       "      <td>5287.0</td>\n",
       "    </tr>\n",
       "    <tr>\n",
       "      <th>1</th>\n",
       "      <td>0.4713</td>\n",
       "      <td>4713.0</td>\n",
       "    </tr>\n",
       "  </tbody>\n",
       "</table>\n",
       "</div>"
      ],
      "text/plain": [
       "   percentage  absolute\n",
       "0      0.5287    5287.0\n",
       "1      0.4713    4713.0"
      ]
     },
     "metadata": {},
     "output_type": "display_data"
    },
    {
     "name": "stdout",
     "output_type": "stream",
     "text": [
      "Test set value counts:\n"
     ]
    },
    {
     "data": {
      "text/html": [
       "<div>\n",
       "<style scoped>\n",
       "    .dataframe tbody tr th:only-of-type {\n",
       "        vertical-align: middle;\n",
       "    }\n",
       "\n",
       "    .dataframe tbody tr th {\n",
       "        vertical-align: top;\n",
       "    }\n",
       "\n",
       "    .dataframe thead th {\n",
       "        text-align: right;\n",
       "    }\n",
       "</style>\n",
       "<table border=\"1\" class=\"dataframe\">\n",
       "  <thead>\n",
       "    <tr style=\"text-align: right;\">\n",
       "      <th></th>\n",
       "      <th>percentage</th>\n",
       "      <th>absolute</th>\n",
       "    </tr>\n",
       "  </thead>\n",
       "  <tbody>\n",
       "    <tr>\n",
       "      <th>0</th>\n",
       "      <td>0.5287</td>\n",
       "      <td>100459.0</td>\n",
       "    </tr>\n",
       "    <tr>\n",
       "      <th>1</th>\n",
       "      <td>0.4713</td>\n",
       "      <td>89541.0</td>\n",
       "    </tr>\n",
       "  </tbody>\n",
       "</table>\n",
       "</div>"
      ],
      "text/plain": [
       "   percentage  absolute\n",
       "0      0.5287  100459.0\n",
       "1      0.4713   89541.0"
      ]
     },
     "metadata": {},
     "output_type": "display_data"
    }
   ],
   "source": [
    "# Split data\n",
    "# X_train, X_test, y_train, y_test = non_stratify_split(\n",
    "#     data=df, train_size=100000, target=\"label\", zero_class_pct=0.60\n",
    "# )\n",
    "\n",
    "X_train, X_test, y_train, y_test = stratify_split(data=df, train_size=10000, target=\"label\")\n",
    "\n",
    "train_df = pd.concat([X_train, y_train], axis=1)\n",
    "test_df = pd.concat([X_test, y_test], axis=1)\n",
    "\n",
    "print('Training set value counts:')\n",
    "get_value_counts(train_df)\n",
    "\n",
    "print('Test set value counts:')\n",
    "get_value_counts(test_df)"
   ]
  },
  {
   "cell_type": "markdown",
   "metadata": {},
   "source": [
    "### Feature Selection"
   ]
  },
  {
   "cell_type": "code",
   "execution_count": 7,
   "metadata": {},
   "outputs": [
    {
     "name": "stdout",
     "output_type": "stream",
     "text": [
      "***Number of features to select: 10\n"
     ]
    },
    {
     "name": "stderr",
     "output_type": "stream",
     "text": [
      "100%|██████████| 10/10 [00:07<00:00,  1.34it/s]"
     ]
    },
    {
     "name": "stdout",
     "output_type": "stream",
     "text": [
      "Training set shape: (10000, 11)\n",
      "Test set shape: (190000, 11)\n"
     ]
    },
    {
     "name": "stderr",
     "output_type": "stream",
     "text": [
      "\n"
     ]
    }
   ],
   "source": [
    "K = int(df.drop(\"label\", axis=1).shape[1] / 25)\n",
    "print(f\"***Number of features to select: {K}\")\n",
    "selected_features = mrmr_classif(X=df.drop(\"label\", axis=1), y=df[\"label\"], K=K)\n",
    "\n",
    "# keep only selected features\n",
    "X_train = X_train[selected_features]\n",
    "X_test = X_test[selected_features]\n",
    "train_df = pd.concat([X_train, y_train], axis=1)\n",
    "test_df = pd.concat([X_test, y_test], axis=1)\n",
    "\n",
    "print(f'Training set shape: {train_df.shape}')\n",
    "print(f'Test set shape: {test_df.shape}')"
   ]
  },
  {
   "cell_type": "markdown",
   "metadata": {},
   "source": [
    "### Machine Learning"
   ]
  },
  {
   "cell_type": "markdown",
   "metadata": {},
   "source": [
    "##### Decision Tree - iSHRUNCK"
   ]
  },
  {
   "cell_type": "code",
   "execution_count": 25,
   "metadata": {},
   "outputs": [
    {
     "name": "stderr",
     "output_type": "stream",
     "text": [
      "[I 2024-09-30 18:26:46,163] A new study created in memory with name: no-name-3df9d388-b407-4f06-8cf0-e618b8784006\n",
      "[Parallel(n_jobs=-1)]: Using backend LokyBackend with 64 concurrent workers.\n"
     ]
    },
    {
     "name": "stdout",
     "output_type": "stream",
     "text": [
      "[CV] START .....................................................................\n",
      "[CV] END ................................ score: (test=0.572) total time=   0.0s\n"
     ]
    },
    {
     "name": "stderr",
     "output_type": "stream",
     "text": [
      "[Parallel(n_jobs=-1)]: Done   1 out of   1 | elapsed:    1.8s finished\n",
      "[Parallel(n_jobs=-1)]: Done   3 out of   3 | elapsed:    2.5s finished\n",
      "[I 2024-09-30 18:26:48,692] Trial 0 finished with value: 0.571899991438856 and parameters: {'max_depth': 16, 'min_samples_split': 15, 'min_samples_leaf': 12, 'max_features': 'sqrt'}. Best is trial 0 with value: 0.571899991438856.\n"
     ]
    },
    {
     "name": "stdout",
     "output_type": "stream",
     "text": [
      "[CV] START .....................................................................\n",
      "[CV] END ................................ score: (test=0.571) total time=   0.0s\n",
      "[CV] START .....................................................................\n",
      "[CV] END ................................ score: (test=0.572) total time=   0.0s\n"
     ]
    },
    {
     "name": "stderr",
     "output_type": "stream",
     "text": [
      "[Parallel(n_jobs=-1)]: Using backend LokyBackend with 64 concurrent workers.\n",
      "[Parallel(n_jobs=-1)]: Done   3 out of   3 | elapsed:    0.7s finished\n",
      "[I 2024-09-30 18:26:49,357] Trial 1 finished with value: 0.5734988015898171 and parameters: {'max_depth': 16, 'min_samples_split': 10, 'min_samples_leaf': 18, 'max_features': 'log2'}. Best is trial 1 with value: 0.5734988015898171.\n"
     ]
    },
    {
     "name": "stdout",
     "output_type": "stream",
     "text": [
      "[CV] START .....................................................................\n",
      "[CV] START .....................................................................\n",
      "[CV] START .....................................................................\n",
      "[CV] END ................................ score: (test=0.568) total time=   0.0s\n",
      "[CV] END ................................ score: (test=0.567) total time=   0.0s\n",
      "[CV] END ................................ score: (test=0.585) total time=   0.0s\n"
     ]
    },
    {
     "name": "stderr",
     "output_type": "stream",
     "text": [
      "[Parallel(n_jobs=-1)]: Using backend LokyBackend with 64 concurrent workers.\n",
      "[Parallel(n_jobs=-1)]: Done   3 out of   3 | elapsed:    0.7s finished\n",
      "[I 2024-09-30 18:26:50,058] Trial 2 finished with value: 0.598299452020787 and parameters: {'max_depth': 3, 'min_samples_split': 21, 'min_samples_leaf': 1, 'max_features': None}. Best is trial 2 with value: 0.598299452020787.\n"
     ]
    },
    {
     "name": "stdout",
     "output_type": "stream",
     "text": [
      "[CV] START .....................................................................\n",
      "[CV] START .....................................................................\n",
      "[CV] END ................................ score: (test=0.594) total time=   0.0s\n",
      "[CV] END ................................ score: (test=0.597) total time=   0.0s\n",
      "[CV] START .....................................................................\n",
      "[CV] END ................................ score: (test=0.604) total time=   0.0s\n"
     ]
    },
    {
     "name": "stderr",
     "output_type": "stream",
     "text": [
      "[Parallel(n_jobs=-1)]: Using backend LokyBackend with 64 concurrent workers.\n",
      "[Parallel(n_jobs=-1)]: Done   3 out of   3 | elapsed:    0.7s finished\n",
      "[I 2024-09-30 18:26:50,761] Trial 3 finished with value: 0.5557003210818983 and parameters: {'max_depth': 16, 'min_samples_split': 4, 'min_samples_leaf': 2, 'max_features': 'sqrt'}. Best is trial 2 with value: 0.598299452020787.\n"
     ]
    },
    {
     "name": "stdout",
     "output_type": "stream",
     "text": [
      "[CV] START .....................................................................\n",
      "[CV] START .....................................................................\n",
      "[CV] START .....................................................................\n",
      "[CV] END ................................ score: (test=0.561) total time=   0.0s\n",
      "[CV] END ................................ score: (test=0.554) total time=   0.0s\n",
      "[CV] END ................................ score: (test=0.552) total time=   0.0s\n"
     ]
    },
    {
     "name": "stderr",
     "output_type": "stream",
     "text": [
      "[Parallel(n_jobs=-1)]: Using backend LokyBackend with 64 concurrent workers.\n",
      "[Parallel(n_jobs=-1)]: Done   3 out of   3 | elapsed:    0.7s finished\n",
      "[I 2024-09-30 18:26:51,443] Trial 4 finished with value: 0.5664007012578883 and parameters: {'max_depth': 19, 'min_samples_split': 5, 'min_samples_leaf': 15, 'max_features': 'log2'}. Best is trial 2 with value: 0.598299452020787.\n"
     ]
    },
    {
     "name": "stdout",
     "output_type": "stream",
     "text": [
      "[CV] START .....................................................................\n",
      "[CV] START .....................................................................\n",
      "[CV] START .....................................................................\n",
      "[CV] END ................................ score: (test=0.559) total time=   0.0s\n",
      "[CV] END ................................ score: (test=0.579) total time=   0.0s\n",
      "[CV] END ................................ score: (test=0.561) total time=   0.0s\n"
     ]
    },
    {
     "name": "stderr",
     "output_type": "stream",
     "text": [
      "[Parallel(n_jobs=-1)]: Using backend LokyBackend with 64 concurrent workers.\n",
      "[Parallel(n_jobs=-1)]: Done   3 out of   3 | elapsed:    0.7s finished\n",
      "[I 2024-09-30 18:26:52,187] Trial 5 finished with value: 0.5874995717928121 and parameters: {'max_depth': 8, 'min_samples_split': 2, 'min_samples_leaf': 25, 'max_features': None}. Best is trial 2 with value: 0.598299452020787.\n"
     ]
    },
    {
     "name": "stdout",
     "output_type": "stream",
     "text": [
      "[CV] START .....................................................................\n",
      "[CV] START .....................................................................\n",
      "[CV] START .....................................................................\n",
      "[CV] END ................................ score: (test=0.592) total time=   0.1s\n",
      "[CV] END ................................ score: (test=0.590) total time=   0.1s\n",
      "[CV] END ................................ score: (test=0.581) total time=   0.1s\n"
     ]
    },
    {
     "name": "stderr",
     "output_type": "stream",
     "text": [
      "[Parallel(n_jobs=-1)]: Using backend LokyBackend with 64 concurrent workers.\n",
      "[Parallel(n_jobs=-1)]: Done   3 out of   3 | elapsed:    0.7s finished\n",
      "[I 2024-09-30 18:26:52,870] Trial 6 finished with value: 0.5748999914988498 and parameters: {'max_depth': 15, 'min_samples_split': 12, 'min_samples_leaf': 22, 'max_features': 'log2'}. Best is trial 2 with value: 0.598299452020787.\n"
     ]
    },
    {
     "name": "stdout",
     "output_type": "stream",
     "text": [
      "[CV] START .....................................................................\n",
      "[CV] START .....................................................................\n",
      "[CV] START .....................................................................\n",
      "[CV] END ................................ score: (test=0.573) total time=   0.0s\n",
      "[CV] END ................................ score: (test=0.577) total time=   0.0s\n",
      "[CV] END ................................ score: (test=0.575) total time=   0.0s\n"
     ]
    },
    {
     "name": "stderr",
     "output_type": "stream",
     "text": [
      "[Parallel(n_jobs=-1)]: Using backend LokyBackend with 64 concurrent workers.\n",
      "[Parallel(n_jobs=-1)]: Done   3 out of   3 | elapsed:    0.7s finished\n",
      "[I 2024-09-30 18:26:53,603] Trial 7 finished with value: 0.5726999214618522 and parameters: {'max_depth': 21, 'min_samples_split': 13, 'min_samples_leaf': 25, 'max_features': None}. Best is trial 2 with value: 0.598299452020787.\n"
     ]
    },
    {
     "name": "stdout",
     "output_type": "stream",
     "text": [
      "[CV] START .....................................................................\n",
      "[CV] START .....................................................................\n",
      "[CV] START .....................................................................\n",
      "[CV] END ................................ score: (test=0.573) total time=   0.1s\n",
      "[CV] END ................................ score: (test=0.581) total time=   0.1s\n",
      "[CV] END ................................ score: (test=0.564) total time=   0.1s\n"
     ]
    },
    {
     "name": "stderr",
     "output_type": "stream",
     "text": [
      "[Parallel(n_jobs=-1)]: Using backend LokyBackend with 64 concurrent workers.\n",
      "[Parallel(n_jobs=-1)]: Done   3 out of   3 | elapsed:    0.7s finished\n",
      "[I 2024-09-30 18:26:54,303] Trial 8 finished with value: 0.5972998319628003 and parameters: {'max_depth': 5, 'min_samples_split': 3, 'min_samples_leaf': 22, 'max_features': None}. Best is trial 2 with value: 0.598299452020787.\n"
     ]
    },
    {
     "name": "stdout",
     "output_type": "stream",
     "text": [
      "[CV] START .....................................................................\n",
      "[CV] START .....................................................................\n",
      "[CV] START .....................................................................\n",
      "[CV] END ................................ score: (test=0.592) total time=   0.0s\n",
      "[CV] END ................................ score: (test=0.601) total time=   0.0s\n",
      "[CV] END ................................ score: (test=0.599) total time=   0.0s\n"
     ]
    },
    {
     "name": "stderr",
     "output_type": "stream",
     "text": [
      "[Parallel(n_jobs=-1)]: Using backend LokyBackend with 64 concurrent workers.\n",
      "[Parallel(n_jobs=-1)]: Done   3 out of   3 | elapsed:    0.7s finished\n",
      "[I 2024-09-30 18:26:54,986] Trial 9 finished with value: 0.5972998319628003 and parameters: {'max_depth': 5, 'min_samples_split': 24, 'min_samples_leaf': 21, 'max_features': None}. Best is trial 2 with value: 0.598299452020787.\n"
     ]
    },
    {
     "name": "stdout",
     "output_type": "stream",
     "text": [
      "[CV] START .....................................................................\n",
      "[CV] START .....................................................................\n",
      "[CV] START .....................................................................\n",
      "[CV] END ................................ score: (test=0.601) total time=   0.0s\n",
      "[CV] END ................................ score: (test=0.592) total time=   0.0s\n",
      "[CV] END ................................ score: (test=0.599) total time=   0.0s\n",
      "[CV] START .....................................................................\n",
      "[CV] END ................................ score: (test=0.580) total time=   0.1s\n"
     ]
    },
    {
     "name": "stderr",
     "output_type": "stream",
     "text": [
      "[Parallel(n_jobs=-1)]: Using backend LokyBackend with 64 concurrent workers.\n",
      "[Parallel(n_jobs=-1)]: Batch computation too fast (0.08397674560546875s.) Setting batch_size=2.\n",
      "[Parallel(n_jobs=-1)]: Done   3 out of   3 | elapsed:    0.7s finished\n",
      "[I 2024-09-30 18:26:55,703] Trial 10 finished with value: 0.5802000415998408 and parameters: {'max_depth': 10, 'min_samples_split': 23, 'min_samples_leaf': 1, 'max_features': None}. Best is trial 2 with value: 0.598299452020787.\n"
     ]
    },
    {
     "name": "stdout",
     "output_type": "stream",
     "text": [
      "[CV] START .....................................................................\n",
      "[CV] START .....................................................................\n",
      "[CV] END ................................ score: (test=0.589) total time=   0.1s\n",
      "[CV] END ................................ score: (test=0.572) total time=   0.1s\n"
     ]
    },
    {
     "name": "stderr",
     "output_type": "stream",
     "text": [
      "[Parallel(n_jobs=-1)]: Using backend LokyBackend with 64 concurrent workers.\n",
      "[Parallel(n_jobs=-1)]: Done   3 out of   3 | elapsed:    0.7s finished\n",
      "[I 2024-09-30 18:26:56,419] Trial 11 finished with value: 0.5845998217098255 and parameters: {'max_depth': 2, 'min_samples_split': 18, 'min_samples_leaf': 8, 'max_features': None}. Best is trial 2 with value: 0.598299452020787.\n"
     ]
    },
    {
     "name": "stdout",
     "output_type": "stream",
     "text": [
      "[CV] START .....................................................................\n",
      "[CV] START .....................................................................\n",
      "[CV] END ................................ score: (test=0.586) total time=   0.0s\n",
      "[CV] END ................................ score: (test=0.578) total time=   0.0s\n",
      "[CV] START .....................................................................\n",
      "[CV] END ................................ score: (test=0.590) total time=   0.0s\n"
     ]
    },
    {
     "name": "stderr",
     "output_type": "stream",
     "text": [
      "[Parallel(n_jobs=-1)]: Using backend LokyBackend with 64 concurrent workers.\n",
      "[Parallel(n_jobs=-1)]: Done   3 out of   3 | elapsed:    0.7s finished\n",
      "[I 2024-09-30 18:26:57,154] Trial 12 finished with value: 0.5845998217098255 and parameters: {'max_depth': 2, 'min_samples_split': 19, 'min_samples_leaf': 7, 'max_features': None}. Best is trial 2 with value: 0.598299452020787.\n"
     ]
    },
    {
     "name": "stdout",
     "output_type": "stream",
     "text": [
      "[CV] START .....................................................................\n",
      "[CV] START .....................................................................\n",
      "[CV] END ................................ score: (test=0.590) total time=   0.0s\n",
      "[CV] END ................................ score: (test=0.578) total time=   0.0s\n",
      "[CV] START .....................................................................\n",
      "[CV] END ................................ score: (test=0.586) total time=   0.0s\n"
     ]
    },
    {
     "name": "stderr",
     "output_type": "stream",
     "text": [
      "[Parallel(n_jobs=-1)]: Using backend LokyBackend with 64 concurrent workers.\n",
      "[Parallel(n_jobs=-1)]: Done   3 out of   3 | elapsed:    0.7s finished\n",
      "[I 2024-09-30 18:26:57,921] Trial 13 finished with value: 0.578799421633825 and parameters: {'max_depth': 10, 'min_samples_split': 8, 'min_samples_leaf': 11, 'max_features': None}. Best is trial 2 with value: 0.598299452020787.\n"
     ]
    },
    {
     "name": "stdout",
     "output_type": "stream",
     "text": [
      "[CV] START .....................................................................\n",
      "[CV] START .....................................................................\n",
      "[CV] START .....................................................................\n",
      "[CV] END ................................ score: (test=0.585) total time=   0.1s\n",
      "[CV] END ................................ score: (test=0.582) total time=   0.1s\n",
      "[CV] END ................................ score: (test=0.570) total time=   0.1s\n"
     ]
    },
    {
     "name": "stderr",
     "output_type": "stream",
     "text": [
      "[Parallel(n_jobs=-1)]: Using backend LokyBackend with 64 concurrent workers.\n",
      "[Parallel(n_jobs=-1)]: Done   3 out of   3 | elapsed:    0.7s finished\n",
      "[I 2024-09-30 18:26:58,668] Trial 14 finished with value: 0.6005997420377911 and parameters: {'max_depth': 6, 'min_samples_split': 18, 'min_samples_leaf': 16, 'max_features': None}. Best is trial 14 with value: 0.6005997420377911.\n"
     ]
    },
    {
     "name": "stdout",
     "output_type": "stream",
     "text": [
      "[CV] START .....................................................................\n",
      "[CV] START .....................................................................\n",
      "[CV] START .....................................................................\n",
      "[CV] END ................................ score: (test=0.603) total time=   0.0s\n",
      "[CV] END ................................ score: (test=0.603) total time=   0.1s\n",
      "[CV] END ................................ score: (test=0.595) total time=   0.1s\n"
     ]
    },
    {
     "name": "stderr",
     "output_type": "stream",
     "text": [
      "[Parallel(n_jobs=-1)]: Using backend LokyBackend with 64 concurrent workers.\n",
      "[Parallel(n_jobs=-1)]: Done   3 out of   3 | elapsed:    0.7s finished\n",
      "[I 2024-09-30 18:26:59,375] Trial 15 finished with value: 0.5710007713428812 and parameters: {'max_depth': 25, 'min_samples_split': 20, 'min_samples_leaf': 15, 'max_features': 'sqrt'}. Best is trial 14 with value: 0.6005997420377911.\n"
     ]
    },
    {
     "name": "stdout",
     "output_type": "stream",
     "text": [
      "[CV] START .....................................................................\n",
      "[CV] START .....................................................................\n",
      "[CV] START .....................................................................\n",
      "[CV] END ................................ score: (test=0.563) total time=   0.0s\n",
      "[CV] END ................................ score: (test=0.574) total time=   0.0s\n",
      "[CV] END ................................ score: (test=0.576) total time=   0.0s\n"
     ]
    },
    {
     "name": "stderr",
     "output_type": "stream",
     "text": [
      "[Parallel(n_jobs=-1)]: Using backend LokyBackend with 64 concurrent workers.\n",
      "[Parallel(n_jobs=-1)]: Done   3 out of   3 | elapsed:    0.7s finished\n",
      "[I 2024-09-30 18:27:00,093] Trial 16 finished with value: 0.6022998220637902 and parameters: {'max_depth': 6, 'min_samples_split': 17, 'min_samples_leaf': 5, 'max_features': None}. Best is trial 16 with value: 0.6022998220637902.\n"
     ]
    },
    {
     "name": "stdout",
     "output_type": "stream",
     "text": [
      "[CV] START .....................................................................\n",
      "[CV] START .....................................................................\n",
      "[CV] START .....................................................................\n",
      "[CV] END ................................ score: (test=0.604) total time=   0.0s\n",
      "[CV] END ................................ score: (test=0.593) total time=   0.0s\n",
      "[CV] END ................................ score: (test=0.609) total time=   0.0s\n"
     ]
    },
    {
     "name": "stderr",
     "output_type": "stream",
     "text": [
      "[Parallel(n_jobs=-1)]: Using backend LokyBackend with 64 concurrent workers.\n",
      "[Parallel(n_jobs=-1)]: Done   3 out of   3 | elapsed:    0.7s finished\n",
      "[I 2024-09-30 18:27:00,800] Trial 17 finished with value: 0.5908996418538074 and parameters: {'max_depth': 8, 'min_samples_split': 16, 'min_samples_leaf': 5, 'max_features': None}. Best is trial 16 with value: 0.6022998220637902.\n"
     ]
    },
    {
     "name": "stdout",
     "output_type": "stream",
     "text": [
      "[CV] START .....................................................................\n",
      "[CV] START .....................................................................\n",
      "[CV] START .....................................................................\n",
      "[CV] END ................................ score: (test=0.594) total time=   0.1s\n",
      "[CV] END ................................ score: (test=0.590) total time=   0.1s\n",
      "[CV] END ................................ score: (test=0.588) total time=   0.1s\n"
     ]
    },
    {
     "name": "stderr",
     "output_type": "stream",
     "text": [
      "[Parallel(n_jobs=-1)]: Using backend LokyBackend with 64 concurrent workers.\n",
      "[Parallel(n_jobs=-1)]: Done   3 out of   3 | elapsed:    0.7s finished\n",
      "[I 2024-09-30 18:27:01,520] Trial 18 finished with value: 0.5929997618838069 and parameters: {'max_depth': 6, 'min_samples_split': 17, 'min_samples_leaf': 17, 'max_features': 'sqrt'}. Best is trial 16 with value: 0.6022998220637902.\n"
     ]
    },
    {
     "name": "stdout",
     "output_type": "stream",
     "text": [
      "[CV] START .....................................................................\n",
      "[CV] START .....................................................................\n",
      "[CV] END ................................ score: (test=0.585) total time=   0.0s\n",
      "[CV] START .....................................................................\n",
      "[CV] END ................................ score: (test=0.595) total time=   0.0s\n",
      "[CV] END ................................ score: (test=0.599) total time=   0.0s\n"
     ]
    },
    {
     "name": "stderr",
     "output_type": "stream",
     "text": [
      "[Parallel(n_jobs=-1)]: Using backend LokyBackend with 64 concurrent workers.\n",
      "[Parallel(n_jobs=-1)]: Done   3 out of   3 | elapsed:    0.7s finished\n",
      "[I 2024-09-30 18:27:02,217] Trial 19 finished with value: 0.5817988817478029 and parameters: {'max_depth': 10, 'min_samples_split': 25, 'min_samples_leaf': 10, 'max_features': 'log2'}. Best is trial 16 with value: 0.6022998220637902.\n"
     ]
    },
    {
     "name": "stdout",
     "output_type": "stream",
     "text": [
      "[CV] START .....................................................................\n",
      "[CV] END ................................ score: (test=0.575) total time=   0.0s\n",
      "[CV] START .....................................................................\n",
      "[CV] START .....................................................................\n",
      "[CV] END ................................ score: (test=0.593) total time=   0.0s\n",
      "[CV] END ................................ score: (test=0.577) total time=   0.0s\n"
     ]
    },
    {
     "name": "stderr",
     "output_type": "stream",
     "text": [
      "[Parallel(n_jobs=-1)]: Using backend LokyBackend with 64 concurrent workers.\n",
      "[Parallel(n_jobs=-1)]: Done   3 out of   3 | elapsed:    0.8s finished\n",
      "[I 2024-09-30 18:27:03,035] Trial 20 finished with value: 0.5656005312588847 and parameters: {'max_depth': 12, 'min_samples_split': 22, 'min_samples_leaf': 5, 'max_features': None}. Best is trial 16 with value: 0.6022998220637902.\n"
     ]
    },
    {
     "name": "stdout",
     "output_type": "stream",
     "text": [
      "[CV] START .....................................................................\n",
      "[CV] START .....................................................................\n",
      "[CV] START .....................................................................\n",
      "[CV] END ................................ score: (test=0.562) total time=   0.1s\n",
      "[CV] END ................................ score: (test=0.574) total time=   0.1s\n",
      "[CV] END ................................ score: (test=0.560) total time=   0.1s\n",
      "[CV] START .....................................................................\n",
      "[CV] END ................................ score: (test=0.597) total time=   0.0s\n"
     ]
    },
    {
     "name": "stderr",
     "output_type": "stream",
     "text": [
      "[Parallel(n_jobs=-1)]: Using backend LokyBackend with 64 concurrent workers.\n",
      "[Parallel(n_jobs=-1)]: Batch computation too fast (0.05267214775085449s.) Setting batch_size=2.\n",
      "[Parallel(n_jobs=-1)]: Done   3 out of   3 | elapsed:    0.7s finished\n",
      "[I 2024-09-30 18:27:03,751] Trial 21 finished with value: 0.598299452020787 and parameters: {'max_depth': 3, 'min_samples_split': 21, 'min_samples_leaf': 3, 'max_features': None}. Best is trial 16 with value: 0.6022998220637902.\n",
      "[Parallel(n_jobs=-1)]: Using backend LokyBackend with 64 concurrent workers.\n",
      "[Parallel(n_jobs=-1)]: Batch computation too fast (0.06862711906433105s.) Setting batch_size=2.\n",
      "[Parallel(n_jobs=-1)]: Done   3 out of   3 | elapsed:    0.1s finished\n",
      "[I 2024-09-30 18:27:03,860] Trial 22 finished with value: 0.6004994620637828 and parameters: {'max_depth': 7, 'min_samples_split': 15, 'min_samples_leaf': 5, 'max_features': None}. Best is trial 16 with value: 0.6022998220637902.\n"
     ]
    },
    {
     "name": "stdout",
     "output_type": "stream",
     "text": [
      "[CV] START .....................................................................\n",
      "[CV] START .....................................................................\n",
      "[CV] END ................................ score: (test=0.604) total time=   0.0s\n",
      "[CV] END ................................ score: (test=0.594) total time=   0.0s\n",
      "[CV] START .....................................................................\n",
      "[CV] START .....................................................................\n",
      "[CV] START .....................................................................\n",
      "[CV] END ................................ score: (test=0.606) total time=   0.1s\n",
      "[CV] END ................................ score: (test=0.596) total time=   0.1s\n",
      "[CV] END ................................ score: (test=0.600) total time=   0.1s\n",
      "[CV] START .....................................................................\n",
      "[CV] START .....................................................................\n",
      "[CV] START .....................................................................\n"
     ]
    },
    {
     "name": "stderr",
     "output_type": "stream",
     "text": [
      "[Parallel(n_jobs=-1)]: Using backend LokyBackend with 64 concurrent workers.\n",
      "[Parallel(n_jobs=-1)]: Batch computation too fast (0.06293416023254395s.) Setting batch_size=2.\n",
      "[Parallel(n_jobs=-1)]: Done   3 out of   3 | elapsed:    0.1s finished\n",
      "[I 2024-09-30 18:27:03,970] Trial 23 finished with value: 0.6043998820997877 and parameters: {'max_depth': 6, 'min_samples_split': 15, 'min_samples_leaf': 9, 'max_features': None}. Best is trial 23 with value: 0.6043998820997877.\n",
      "[Parallel(n_jobs=-1)]: Using backend LokyBackend with 64 concurrent workers.\n",
      "[Parallel(n_jobs=-1)]: Batch computation too fast (0.08759474754333496s.) Setting batch_size=2.\n",
      "[Parallel(n_jobs=-1)]: Done   3 out of   3 | elapsed:    0.1s finished\n",
      "[I 2024-09-30 18:27:04,098] Trial 24 finished with value: 0.5613994812798616 and parameters: {'max_depth': 13, 'min_samples_split': 11, 'min_samples_leaf': 9, 'max_features': None}. Best is trial 23 with value: 0.6043998820997877.\n"
     ]
    },
    {
     "name": "stdout",
     "output_type": "stream",
     "text": [
      "[CV] END ................................ score: (test=0.606) total time=   0.1s\n",
      "[CV] END ................................ score: (test=0.595) total time=   0.1s\n",
      "[CV] END ................................ score: (test=0.613) total time=   0.1s\n",
      "[CV] START .....................................................................\n",
      "[CV] START .....................................................................\n",
      "[CV] START .....................................................................\n",
      "[CV] END ................................ score: (test=0.567) total time=   0.1s\n",
      "[CV] END ................................ score: (test=0.569) total time=   0.1s\n",
      "[CV] END ................................ score: (test=0.549) total time=   0.1s\n",
      "[CV] START .....................................................................\n",
      "[CV] START .....................................................................\n",
      "[CV] START .....................................................................\n"
     ]
    },
    {
     "name": "stderr",
     "output_type": "stream",
     "text": [
      "[Parallel(n_jobs=-1)]: Using backend LokyBackend with 64 concurrent workers.\n",
      "[Parallel(n_jobs=-1)]: Batch computation too fast (0.06361937522888184s.) Setting batch_size=2.\n",
      "[Parallel(n_jobs=-1)]: Done   3 out of   3 | elapsed:    0.1s finished\n",
      "[I 2024-09-30 18:27:04,205] Trial 25 finished with value: 0.5997001319808045 and parameters: {'max_depth': 5, 'min_samples_split': 18, 'min_samples_leaf': 7, 'max_features': None}. Best is trial 23 with value: 0.6043998820997877.\n",
      "[Parallel(n_jobs=-1)]: Using backend LokyBackend with 64 concurrent workers.\n",
      "[Parallel(n_jobs=-1)]: Batch computation too fast (0.07745599746704102s.) Setting batch_size=2.\n",
      "[Parallel(n_jobs=-1)]: Done   3 out of   3 | elapsed:    0.1s finished\n",
      "[I 2024-09-30 18:27:04,332] Trial 26 finished with value: 0.5873999817498247 and parameters: {'max_depth': 9, 'min_samples_split': 14, 'min_samples_leaf': 13, 'max_features': None}. Best is trial 23 with value: 0.6043998820997877.\n"
     ]
    },
    {
     "name": "stdout",
     "output_type": "stream",
     "text": [
      "[CV] END ................................ score: (test=0.598) total time=   0.0s\n",
      "[CV] END ................................ score: (test=0.602) total time=   0.0s\n",
      "[CV] END ................................ score: (test=0.599) total time=   0.1s\n",
      "[CV] START .....................................................................\n",
      "[CV] START .....................................................................\n",
      "[CV] START .....................................................................\n",
      "[CV] END ................................ score: (test=0.588) total time=   0.1s\n",
      "[CV] END ................................ score: (test=0.586) total time=   0.1s\n",
      "[CV] END ................................ score: (test=0.589) total time=   0.1s\n",
      "[CV] START .....................................................................\n",
      "[CV] START .....................................................................\n",
      "[CV] START .....................................................................\n"
     ]
    },
    {
     "name": "stderr",
     "output_type": "stream",
     "text": [
      "[Parallel(n_jobs=-1)]: Using backend LokyBackend with 64 concurrent workers.\n",
      "[Parallel(n_jobs=-1)]: Batch computation too fast (0.04964756965637207s.) Setting batch_size=2.\n",
      "[Parallel(n_jobs=-1)]: Done   3 out of   3 | elapsed:    0.1s finished\n",
      "[I 2024-09-30 18:27:04,421] Trial 27 finished with value: 0.6087993022457614 and parameters: {'max_depth': 4, 'min_samples_split': 8, 'min_samples_leaf': 14, 'max_features': None}. Best is trial 27 with value: 0.6087993022457614.\n",
      "[Parallel(n_jobs=-1)]: Using backend LokyBackend with 64 concurrent workers.\n",
      "[Parallel(n_jobs=-1)]: Batch computation too fast (0.027987241744995117s.) Setting batch_size=2.\n",
      "[Parallel(n_jobs=-1)]: Done   3 out of   3 | elapsed:    0.0s finished\n",
      "[I 2024-09-30 18:27:04,490] Trial 28 finished with value: 0.5896991918747964 and parameters: {'max_depth': 4, 'min_samples_split': 8, 'min_samples_leaf': 14, 'max_features': 'log2'}. Best is trial 27 with value: 0.6087993022457614.\n",
      "[Parallel(n_jobs=-1)]: Using backend LokyBackend with 64 concurrent workers.\n",
      "[Parallel(n_jobs=-1)]: Batch computation too fast (0.037982940673828125s.) Setting batch_size=2.\n",
      "[Parallel(n_jobs=-1)]: Done   3 out of   3 | elapsed:    0.0s finished\n",
      "[I 2024-09-30 18:27:04,572] Trial 29 finished with value: 0.594799551940797 and parameters: {'max_depth': 7, 'min_samples_split': 7, 'min_samples_leaf': 12, 'max_features': 'sqrt'}. Best is trial 27 with value: 0.6087993022457614.\n"
     ]
    },
    {
     "name": "stdout",
     "output_type": "stream",
     "text": [
      "[CV] END ................................ score: (test=0.616) total time=   0.0s\n",
      "[CV] END ................................ score: (test=0.603) total time=   0.0s\n",
      "[CV] END ................................ score: (test=0.608) total time=   0.0s\n",
      "[CV] START .....................................................................\n",
      "[CV] START .....................................................................\n",
      "[CV] START .....................................................................\n",
      "[CV] END ................................ score: (test=0.598) total time=   0.0s\n",
      "[CV] END ................................ score: (test=0.569) total time=   0.0s\n",
      "[CV] END ................................ score: (test=0.602) total time=   0.0s\n",
      "[CV] START .....................................................................\n",
      "[CV] START .....................................................................\n",
      "[CV] START .....................................................................\n",
      "[CV] END ................................ score: (test=0.599) total time=   0.0s\n",
      "[CV] END ................................ score: (test=0.600) total time=   0.0s\n",
      "[CV] END ................................ score: (test=0.585) total time=   0.0s\n",
      "[CV] START .....................................................................\n"
     ]
    },
    {
     "name": "stderr",
     "output_type": "stream",
     "text": [
      "[Parallel(n_jobs=-1)]: Using backend LokyBackend with 64 concurrent workers.\n",
      "[Parallel(n_jobs=-1)]: Batch computation too fast (0.03729534149169922s.) Setting batch_size=2.\n",
      "[Parallel(n_jobs=-1)]: Done   3 out of   3 | elapsed:    0.0s finished\n",
      "[I 2024-09-30 18:27:04,652] Trial 30 finished with value: 0.5796999016038377 and parameters: {'max_depth': 11, 'min_samples_split': 14, 'min_samples_leaf': 19, 'max_features': 'sqrt'}. Best is trial 27 with value: 0.6087993022457614.\n",
      "[Parallel(n_jobs=-1)]: Using backend LokyBackend with 64 concurrent workers.\n",
      "[Parallel(n_jobs=-1)]: Batch computation too fast (0.062455177307128906s.) Setting batch_size=2.\n",
      "[Parallel(n_jobs=-1)]: Done   3 out of   3 | elapsed:    0.1s finished\n",
      "[I 2024-09-30 18:27:04,771] Trial 31 finished with value: 0.6008997720407914 and parameters: {'max_depth': 6, 'min_samples_split': 16, 'min_samples_leaf': 16, 'max_features': None}. Best is trial 27 with value: 0.6087993022457614.\n",
      "[Parallel(n_jobs=-1)]: Using backend LokyBackend with 64 concurrent workers.\n"
     ]
    },
    {
     "name": "stdout",
     "output_type": "stream",
     "text": [
      "[CV] START .....................................................................\n",
      "[CV] START .....................................................................\n",
      "[CV] END ................................ score: (test=0.581) total time=   0.0s\n",
      "[CV] END ................................ score: (test=0.589) total time=   0.0s\n",
      "[CV] END ................................ score: (test=0.569) total time=   0.0s\n",
      "[CV] START .....................................................................\n",
      "[CV] START .....................................................................\n",
      "[CV] START .....................................................................\n",
      "[CV] END ................................ score: (test=0.603) total time=   0.1s\n",
      "[CV] END ................................ score: (test=0.596) total time=   0.1s\n",
      "[CV] END ................................ score: (test=0.603) total time=   0.1s\n",
      "[CV] START .....................................................................\n"
     ]
    },
    {
     "name": "stderr",
     "output_type": "stream",
     "text": [
      "[Parallel(n_jobs=-1)]: Batch computation too fast (0.052994728088378906s.) Setting batch_size=2.\n",
      "[Parallel(n_jobs=-1)]: Done   3 out of   3 | elapsed:    0.1s finished\n",
      "[I 2024-09-30 18:27:04,870] Trial 32 finished with value: 0.6094992522647585 and parameters: {'max_depth': 4, 'min_samples_split': 16, 'min_samples_leaf': 11, 'max_features': None}. Best is trial 32 with value: 0.6094992522647585.\n",
      "[Parallel(n_jobs=-1)]: Using backend LokyBackend with 64 concurrent workers.\n",
      "[Parallel(n_jobs=-1)]: Batch computation too fast (0.05402684211730957s.) Setting batch_size=2.\n",
      "[Parallel(n_jobs=-1)]: Done   3 out of   3 | elapsed:    0.1s finished\n",
      "[I 2024-09-30 18:27:04,959] Trial 33 finished with value: 0.6094992522647585 and parameters: {'max_depth': 4, 'min_samples_split': 11, 'min_samples_leaf': 11, 'max_features': None}. Best is trial 32 with value: 0.6094992522647585.\n",
      "[Parallel(n_jobs=-1)]: Using backend LokyBackend with 64 concurrent workers.\n"
     ]
    },
    {
     "name": "stdout",
     "output_type": "stream",
     "text": [
      "[CV] START .....................................................................\n",
      "[CV] START .....................................................................\n",
      "[CV] END ................................ score: (test=0.617) total time=   0.0s\n",
      "[CV] END ................................ score: (test=0.608) total time=   0.0s\n",
      "[CV] END ................................ score: (test=0.604) total time=   0.0s\n",
      "[CV] START .....................................................................\n",
      "[CV] START .....................................................................\n",
      "[CV] START .....................................................................\n",
      "[CV] END ................................ score: (test=0.617) total time=   0.0s\n",
      "[CV] END ................................ score: (test=0.608) total time=   0.0s\n",
      "[CV] END ................................ score: (test=0.604) total time=   0.0s\n",
      "[CV] START .....................................................................\n",
      "[CV] START .....................................................................\n",
      "[CV] START .....................................................................\n"
     ]
    },
    {
     "name": "stderr",
     "output_type": "stream",
     "text": [
      "[Parallel(n_jobs=-1)]: Batch computation too fast (0.05035686492919922s.) Setting batch_size=2.\n",
      "[Parallel(n_jobs=-1)]: Done   3 out of   3 | elapsed:    0.1s finished\n",
      "[I 2024-09-30 18:27:05,049] Trial 34 finished with value: 0.6093992422637585 and parameters: {'max_depth': 4, 'min_samples_split': 10, 'min_samples_leaf': 11, 'max_features': None}. Best is trial 32 with value: 0.6094992522647585.\n",
      "[Parallel(n_jobs=-1)]: Using backend LokyBackend with 64 concurrent workers.\n",
      "[Parallel(n_jobs=-1)]: Batch computation too fast (0.04434537887573242s.) Setting batch_size=2.\n",
      "[Parallel(n_jobs=-1)]: Done   3 out of   3 | elapsed:    0.1s finished\n",
      "[I 2024-09-30 18:27:05,138] Trial 35 finished with value: 0.598299452020787 and parameters: {'max_depth': 3, 'min_samples_split': 10, 'min_samples_leaf': 12, 'max_features': None}. Best is trial 32 with value: 0.6094992522647585.\n",
      "[Parallel(n_jobs=-1)]: Using backend LokyBackend with 64 concurrent workers.\n",
      "[Parallel(n_jobs=-1)]: Batch computation too fast (0.029064655303955078s.) Setting batch_size=2.\n",
      "[Parallel(n_jobs=-1)]: Done   3 out of   3 | elapsed:    0.0s finished\n",
      "[I 2024-09-30 18:27:05,207] Trial 36 finished with value: 0.5780971918427595 and parameters: {'max_depth': 4, 'min_samples_split': 6, 'min_samples_leaf': 11, 'max_features': 'log2'}. Best is trial 32 with value: 0.6094992522647585.\n"
     ]
    },
    {
     "name": "stdout",
     "output_type": "stream",
     "text": [
      "[CV] END ................................ score: (test=0.617) total time=   0.0s\n",
      "[CV] END ................................ score: (test=0.608) total time=   0.0s\n",
      "[CV] END ................................ score: (test=0.603) total time=   0.0s\n",
      "[CV] START .....................................................................\n",
      "[CV] START .....................................................................\n",
      "[CV] START .....................................................................\n",
      "[CV] END ................................ score: (test=0.604) total time=   0.0s\n",
      "[CV] END ................................ score: (test=0.594) total time=   0.0s\n",
      "[CV] END ................................ score: (test=0.597) total time=   0.0s\n",
      "[CV] START .....................................................................\n",
      "[CV] START .....................................................................\n",
      "[CV] START .....................................................................\n",
      "[CV] END ................................ score: (test=0.606) total time=   0.0s\n",
      "[CV] END ................................ score: (test=0.560) total time=   0.0s\n",
      "[CV] END ................................ score: (test=0.569) total time=   0.0s\n"
     ]
    },
    {
     "name": "stderr",
     "output_type": "stream",
     "text": [
      "[Parallel(n_jobs=-1)]: Using backend LokyBackend with 64 concurrent workers.\n",
      "[Parallel(n_jobs=-1)]: Batch computation too fast (0.03638195991516113s.) Setting batch_size=2.\n",
      "[Parallel(n_jobs=-1)]: Done   3 out of   3 | elapsed:    0.0s finished\n",
      "[I 2024-09-30 18:27:05,286] Trial 37 finished with value: 0.5845998217098255 and parameters: {'max_depth': 2, 'min_samples_split': 10, 'min_samples_leaf': 13, 'max_features': None}. Best is trial 32 with value: 0.6094992522647585.\n",
      "[Parallel(n_jobs=-1)]: Using backend LokyBackend with 64 concurrent workers.\n",
      "[Parallel(n_jobs=-1)]: Batch computation too fast (0.04309487342834473s.) Setting batch_size=2.\n",
      "[Parallel(n_jobs=-1)]: Done   3 out of   3 | elapsed:    0.1s finished\n",
      "[I 2024-09-30 18:27:05,378] Trial 38 finished with value: 0.6087993022457614 and parameters: {'max_depth': 4, 'min_samples_split': 10, 'min_samples_leaf': 14, 'max_features': None}. Best is trial 32 with value: 0.6094992522647585.\n",
      "[Parallel(n_jobs=-1)]: Using backend LokyBackend with 64 concurrent workers.\n"
     ]
    },
    {
     "name": "stdout",
     "output_type": "stream",
     "text": [
      "[CV] START .....................................................................\n",
      "[CV] START .....................................................................\n",
      "[CV] START .....................................................................\n",
      "[CV] END ................................ score: (test=0.586) total time=   0.0s\n",
      "[CV] END ................................ score: (test=0.590) total time=   0.0s\n",
      "[CV] END ................................ score: (test=0.578) total time=   0.0s\n",
      "[CV] START .....................................................................\n",
      "[CV] START .....................................................................\n",
      "[CV] START .....................................................................\n",
      "[CV] END ................................ score: (test=0.616) total time=   0.0s\n",
      "[CV] END ................................ score: (test=0.608) total time=   0.0s\n",
      "[CV] END ................................ score: (test=0.603) total time=   0.0s\n",
      "[CV] START .....................................................................\n",
      "[CV] START .....................................................................\n",
      "[CV] START .....................................................................\n"
     ]
    },
    {
     "name": "stderr",
     "output_type": "stream",
     "text": [
      "[Parallel(n_jobs=-1)]: Batch computation too fast (0.04292488098144531s.) Setting batch_size=2.\n",
      "[Parallel(n_jobs=-1)]: Done   3 out of   3 | elapsed:    0.1s finished\n",
      "[I 2024-09-30 18:27:05,455] Trial 39 finished with value: 0.5685997513968554 and parameters: {'max_depth': 19, 'min_samples_split': 12, 'min_samples_leaf': 10, 'max_features': 'log2'}. Best is trial 32 with value: 0.6094992522647585.\n",
      "[Parallel(n_jobs=-1)]: Using backend LokyBackend with 64 concurrent workers.\n",
      "[Parallel(n_jobs=-1)]: Batch computation too fast (0.03838038444519043s.) Setting batch_size=2.\n",
      "[Parallel(n_jobs=-1)]: Done   3 out of   3 | elapsed:    0.0s finished\n",
      "[I 2024-09-30 18:27:05,533] Trial 40 finished with value: 0.5838997217058238 and parameters: {'max_depth': 8, 'min_samples_split': 8, 'min_samples_leaf': 19, 'max_features': 'sqrt'}. Best is trial 32 with value: 0.6094992522647585.\n",
      "[Parallel(n_jobs=-1)]: Using backend LokyBackend with 64 concurrent workers.\n",
      "[Parallel(n_jobs=-1)]: Batch computation too fast (0.050705671310424805s.) Setting batch_size=2.\n",
      "[Parallel(n_jobs=-1)]: Done   3 out of   3 | elapsed:    0.1s finished\n",
      "[I 2024-09-30 18:27:05,622] Trial 41 finished with value: 0.6087993022457614 and parameters: {'max_depth': 4, 'min_samples_split': 11, 'min_samples_leaf': 14, 'max_features': None}. Best is trial 32 with value: 0.6094992522647585.\n"
     ]
    },
    {
     "name": "stdout",
     "output_type": "stream",
     "text": [
      "[CV] END ................................ score: (test=0.571) total time=   0.0s\n",
      "[CV] END ................................ score: (test=0.575) total time=   0.0s\n",
      "[CV] END ................................ score: (test=0.560) total time=   0.0s\n",
      "[CV] START .....................................................................\n",
      "[CV] START .....................................................................\n",
      "[CV] START .....................................................................\n",
      "[CV] END ................................ score: (test=0.587) total time=   0.0s\n",
      "[CV] END ................................ score: (test=0.584) total time=   0.0s\n",
      "[CV] END ................................ score: (test=0.581) total time=   0.0s\n",
      "[CV] START .....................................................................\n",
      "[CV] START .....................................................................\n",
      "[CV] START .....................................................................\n",
      "[CV] END ................................ score: (test=0.616) total time=   0.0s\n",
      "[CV] END ................................ score: (test=0.608) total time=   0.0s\n",
      "[CV] END ................................ score: (test=0.603) total time=   0.0s\n"
     ]
    },
    {
     "name": "stderr",
     "output_type": "stream",
     "text": [
      "[Parallel(n_jobs=-1)]: Using backend LokyBackend with 64 concurrent workers.\n",
      "[Parallel(n_jobs=-1)]: Batch computation too fast (0.05165982246398926s.) Setting batch_size=2.\n",
      "[Parallel(n_jobs=-1)]: Done   3 out of   3 | elapsed:    0.1s finished\n",
      "[I 2024-09-30 18:27:05,713] Trial 42 finished with value: 0.6094992522647585 and parameters: {'max_depth': 4, 'min_samples_split': 5, 'min_samples_leaf': 11, 'max_features': None}. Best is trial 32 with value: 0.6094992522647585.\n",
      "[Parallel(n_jobs=-1)]: Using backend LokyBackend with 64 concurrent workers.\n",
      "[Parallel(n_jobs=-1)]: Batch computation too fast (0.038838863372802734s.) Setting batch_size=2.\n",
      "[Parallel(n_jobs=-1)]: Done   3 out of   3 | elapsed:    0.1s finished\n",
      "[I 2024-09-30 18:27:05,793] Trial 43 finished with value: 0.598299452020787 and parameters: {'max_depth': 3, 'min_samples_split': 5, 'min_samples_leaf': 11, 'max_features': None}. Best is trial 32 with value: 0.6094992522647585.\n",
      "[Parallel(n_jobs=-1)]: Using backend LokyBackend with 64 concurrent workers.\n"
     ]
    },
    {
     "name": "stdout",
     "output_type": "stream",
     "text": [
      "[CV] START .....................................................................\n",
      "[CV] START .....................................................................\n",
      "[CV] START .....................................................................\n",
      "[CV] END ................................ score: (test=0.617) total time=   0.0s\n",
      "[CV] END ................................ score: (test=0.608) total time=   0.0s\n",
      "[CV] END ................................ score: (test=0.604) total time=   0.0s\n",
      "[CV] START .....................................................................\n",
      "[CV] START .....................................................................\n",
      "[CV] START .....................................................................\n",
      "[CV] END ................................ score: (test=0.604) total time=   0.0s\n",
      "[CV] END ................................ score: (test=0.594) total time=   0.0s\n",
      "[CV] END ................................ score: (test=0.597) total time=   0.0s\n",
      "[CV] START .....................................................................\n",
      "[CV] START .....................................................................\n",
      "[CV] START .....................................................................\n",
      "[CV] END ................................ score: (test=0.586) total time=   0.0s\n",
      "[CV] END ................................ score: (test=0.590) total time=   0.0s\n",
      "[CV] END ................................ score: (test=0.578) total time=   0.0s\n"
     ]
    },
    {
     "name": "stderr",
     "output_type": "stream",
     "text": [
      "[Parallel(n_jobs=-1)]: Batch computation too fast (0.03310561180114746s.) Setting batch_size=2.\n",
      "[Parallel(n_jobs=-1)]: Done   3 out of   3 | elapsed:    0.0s finished\n",
      "[I 2024-09-30 18:27:05,863] Trial 44 finished with value: 0.5845998217098255 and parameters: {'max_depth': 2, 'min_samples_split': 2, 'min_samples_leaf': 12, 'max_features': None}. Best is trial 32 with value: 0.6094992522647585.\n",
      "[Parallel(n_jobs=-1)]: Using backend LokyBackend with 64 concurrent workers.\n",
      "[Parallel(n_jobs=-1)]: Batch computation too fast (0.05397605895996094s.) Setting batch_size=2.\n",
      "[Parallel(n_jobs=-1)]: Done   3 out of   3 | elapsed:    0.1s finished\n",
      "[I 2024-09-30 18:27:05,963] Trial 45 finished with value: 0.6003001919868052 and parameters: {'max_depth': 5, 'min_samples_split': 4, 'min_samples_leaf': 9, 'max_features': None}. Best is trial 32 with value: 0.6094992522647585.\n",
      "[Parallel(n_jobs=-1)]: Using backend LokyBackend with 64 concurrent workers.\n",
      "[Parallel(n_jobs=-1)]: Batch computation too fast (0.06771349906921387s.) Setting batch_size=2.\n",
      "[Parallel(n_jobs=-1)]: Done   3 out of   3 | elapsed:    0.1s finished\n",
      "[I 2024-09-30 18:27:06,073] Trial 46 finished with value: 0.5996993820557821 and parameters: {'max_depth': 7, 'min_samples_split': 9, 'min_samples_leaf': 7, 'max_features': None}. Best is trial 32 with value: 0.6094992522647585.\n"
     ]
    },
    {
     "name": "stdout",
     "output_type": "stream",
     "text": [
      "[CV] START .....................................................................\n",
      "[CV] START .....................................................................\n",
      "[CV] START .....................................................................\n",
      "[CV] END ................................ score: (test=0.598) total time=   0.0s\n",
      "[CV] END ................................ score: (test=0.603) total time=   0.0s\n",
      "[CV] END ................................ score: (test=0.600) total time=   0.0s\n",
      "[CV] START .....................................................................\n",
      "[CV] START .....................................................................\n",
      "[CV] START .....................................................................\n",
      "[CV] END ................................ score: (test=0.606) total time=   0.1s\n",
      "[CV] END ................................ score: (test=0.596) total time=   0.1s\n",
      "[CV] END ................................ score: (test=0.597) total time=   0.1s\n"
     ]
    },
    {
     "name": "stderr",
     "output_type": "stream",
     "text": [
      "[Parallel(n_jobs=-1)]: Using backend LokyBackend with 64 concurrent workers.\n",
      "[Parallel(n_jobs=-1)]: Batch computation too fast (0.04286694526672363s.) Setting batch_size=2.\n",
      "[Parallel(n_jobs=-1)]: Done   3 out of   3 | elapsed:    0.1s finished\n",
      "[I 2024-09-30 18:27:06,154] Trial 47 finished with value: 0.598299452020787 and parameters: {'max_depth': 3, 'min_samples_split': 6, 'min_samples_leaf': 15, 'max_features': None}. Best is trial 32 with value: 0.6094992522647585.\n",
      "[Parallel(n_jobs=-1)]: Using backend LokyBackend with 64 concurrent workers.\n",
      "[Parallel(n_jobs=-1)]: Batch computation too fast (0.0559844970703125s.) Setting batch_size=2.\n",
      "[Parallel(n_jobs=-1)]: Done   3 out of   3 | elapsed:    0.1s finished\n",
      "[I 2024-09-30 18:27:06,254] Trial 48 finished with value: 0.6003001919868052 and parameters: {'max_depth': 5, 'min_samples_split': 13, 'min_samples_leaf': 10, 'max_features': None}. Best is trial 32 with value: 0.6094992522647585.\n",
      "[Parallel(n_jobs=-1)]: Using backend LokyBackend with 64 concurrent workers.\n"
     ]
    },
    {
     "name": "stdout",
     "output_type": "stream",
     "text": [
      "[CV] START .....................................................................\n",
      "[CV] START .....................................................................\n",
      "[CV] START .....................................................................\n",
      "[CV] END ................................ score: (test=0.604) total time=   0.0s\n",
      "[CV] END ................................ score: (test=0.594) total time=   0.0s\n",
      "[CV] END ................................ score: (test=0.597) total time=   0.0s\n",
      "[CV] START .....................................................................\n",
      "[CV] START .....................................................................\n",
      "[CV] START .....................................................................\n",
      "[CV] END ................................ score: (test=0.598) total time=   0.0s\n",
      "[CV] END ................................ score: (test=0.603) total time=   0.0s\n",
      "[CV] END ................................ score: (test=0.600) total time=   0.0s\n",
      "[CV] START .....................................................................\n",
      "[CV] START .....................................................................\n",
      "[CV] START .....................................................................\n"
     ]
    },
    {
     "name": "stderr",
     "output_type": "stream",
     "text": [
      "[Parallel(n_jobs=-1)]: Batch computation too fast (0.08834576606750488s.) Setting batch_size=2.\n",
      "[Parallel(n_jobs=-1)]: Done   3 out of   3 | elapsed:    0.1s finished\n",
      "[I 2024-09-30 18:27:06,384] Trial 49 finished with value: 0.5593989812898507 and parameters: {'max_depth': 15, 'min_samples_split': 12, 'min_samples_leaf': 8, 'max_features': None}. Best is trial 32 with value: 0.6094992522647585.\n",
      "[Parallel(n_jobs=-1)]: Using backend LokyBackend with 64 concurrent workers.\n",
      "[Parallel(n_jobs=-1)]: Batch computation too fast (0.07132649421691895s.) Setting batch_size=2.\n",
      "[Parallel(n_jobs=-1)]: Done   3 out of   3 | elapsed:    0.1s finished\n",
      "[I 2024-09-30 18:27:06,505] Trial 50 finished with value: 0.5857997017458194 and parameters: {'max_depth': 8, 'min_samples_split': 6, 'min_samples_leaf': 13, 'max_features': None}. Best is trial 32 with value: 0.6094992522647585.\n"
     ]
    },
    {
     "name": "stdout",
     "output_type": "stream",
     "text": [
      "[CV] END ................................ score: (test=0.570) total time=   0.1s\n",
      "[CV] END ................................ score: (test=0.546) total time=   0.1s\n",
      "[CV] END ................................ score: (test=0.562) total time=   0.1s\n",
      "[CV] START .....................................................................\n",
      "[CV] START .....................................................................\n",
      "[CV] START .....................................................................\n",
      "[CV] END ................................ score: (test=0.589) total time=   0.1s\n",
      "[CV] END ................................ score: (test=0.584) total time=   0.1s\n",
      "[CV] END ................................ score: (test=0.584) total time=   0.1s\n",
      "[CV] START .....................................................................\n",
      "[CV] START .....................................................................\n",
      "[CV] START .....................................................................\n"
     ]
    },
    {
     "name": "stderr",
     "output_type": "stream",
     "text": [
      "[Parallel(n_jobs=-1)]: Using backend LokyBackend with 64 concurrent workers.\n",
      "[Parallel(n_jobs=-1)]: Batch computation too fast (0.05018305778503418s.) Setting batch_size=2.\n",
      "[Parallel(n_jobs=-1)]: Done   3 out of   3 | elapsed:    0.1s finished\n",
      "[I 2024-09-30 18:27:06,596] Trial 51 finished with value: 0.6087993022457614 and parameters: {'max_depth': 4, 'min_samples_split': 9, 'min_samples_leaf': 14, 'max_features': None}. Best is trial 32 with value: 0.6094992522647585.\n",
      "[Parallel(n_jobs=-1)]: Using backend LokyBackend with 64 concurrent workers.\n",
      "[Parallel(n_jobs=-1)]: Batch computation too fast (0.04705452919006348s.) Setting batch_size=2.\n",
      "[Parallel(n_jobs=-1)]: Done   3 out of   3 | elapsed:    0.1s finished\n",
      "[I 2024-09-30 18:27:06,687] Trial 52 finished with value: 0.608599372234764 and parameters: {'max_depth': 4, 'min_samples_split': 10, 'min_samples_leaf': 17, 'max_features': None}. Best is trial 32 with value: 0.6094992522647585.\n",
      "[Parallel(n_jobs=-1)]: Using backend LokyBackend with 64 concurrent workers.\n",
      "[Parallel(n_jobs=-1)]: Batch computation too fast (0.03934454917907715s.) Setting batch_size=2.\n",
      "[Parallel(n_jobs=-1)]: Done   3 out of   3 | elapsed:    0.1s finished\n",
      "[I 2024-09-30 18:27:06,777] Trial 53 finished with value: 0.5845998217098255 and parameters: {'max_depth': 2, 'min_samples_split': 9, 'min_samples_leaf': 11, 'max_features': None}. Best is trial 32 with value: 0.6094992522647585.\n"
     ]
    },
    {
     "name": "stdout",
     "output_type": "stream",
     "text": [
      "[CV] END ................................ score: (test=0.616) total time=   0.0s\n",
      "[CV] END ................................ score: (test=0.608) total time=   0.0s\n",
      "[CV] END ................................ score: (test=0.603) total time=   0.0s\n",
      "[CV] START .....................................................................\n",
      "[CV] START .....................................................................\n",
      "[CV] START .....................................................................\n",
      "[CV] END ................................ score: (test=0.615) total time=   0.0s\n",
      "[CV] END ................................ score: (test=0.608) total time=   0.0s\n",
      "[CV] END ................................ score: (test=0.603) total time=   0.0s\n",
      "[CV] START .....................................................................\n",
      "[CV] START .....................................................................\n",
      "[CV] START .....................................................................\n",
      "[CV] END ................................ score: (test=0.586) total time=   0.0s\n",
      "[CV] END ................................ score: (test=0.590) total time=   0.0s\n",
      "[CV] END ................................ score: (test=0.578) total time=   0.0s\n"
     ]
    },
    {
     "name": "stderr",
     "output_type": "stream",
     "text": [
      "[Parallel(n_jobs=-1)]: Using backend LokyBackend with 64 concurrent workers.\n",
      "[Parallel(n_jobs=-1)]: Batch computation too fast (0.044019222259521484s.) Setting batch_size=2.\n",
      "[Parallel(n_jobs=-1)]: Done   3 out of   3 | elapsed:    0.1s finished\n",
      "[I 2024-09-30 18:27:06,857] Trial 54 finished with value: 0.598299452020787 and parameters: {'max_depth': 3, 'min_samples_split': 7, 'min_samples_leaf': 13, 'max_features': None}. Best is trial 32 with value: 0.6094992522647585.\n",
      "[Parallel(n_jobs=-1)]: Using backend LokyBackend with 64 concurrent workers.\n",
      "[Parallel(n_jobs=-1)]: Batch computation too fast (0.08502674102783203s.) Setting batch_size=2.\n"
     ]
    },
    {
     "name": "stdout",
     "output_type": "stream",
     "text": [
      "[CV] START .....................................................................\n",
      "[CV] START .....................................................................\n",
      "[CV] START .....................................................................\n",
      "[CV] END ................................ score: (test=0.604) total time=   0.0s\n",
      "[CV] END ................................ score: (test=0.594) total time=   0.0s\n",
      "[CV] END ................................ score: (test=0.597) total time=   0.0s\n",
      "[CV] START .....................................................................\n",
      "[CV] START .....................................................................\n",
      "[CV] START .....................................................................\n",
      "[CV] END ................................ score: (test=0.569) total time=   0.1s\n",
      "[CV] END ................................ score: (test=0.557) total time=   0.1s\n"
     ]
    },
    {
     "name": "stderr",
     "output_type": "stream",
     "text": [
      "[Parallel(n_jobs=-1)]: Done   3 out of   3 | elapsed:    0.1s finished\n",
      "[I 2024-09-30 18:27:07,032] Trial 55 finished with value: 0.5654996513448586 and parameters: {'max_depth': 23, 'min_samples_split': 4, 'min_samples_leaf': 15, 'max_features': None}. Best is trial 32 with value: 0.6094992522647585.\n",
      "[Parallel(n_jobs=-1)]: Using backend LokyBackend with 64 concurrent workers.\n",
      "[Parallel(n_jobs=-1)]: Batch computation too fast (0.03003215789794922s.) Setting batch_size=2.\n",
      "[Parallel(n_jobs=-1)]: Done   3 out of   3 | elapsed:    0.0s finished\n",
      "[I 2024-09-30 18:27:07,101] Trial 56 finished with value: 0.5836002616458407 and parameters: {'max_depth': 5, 'min_samples_split': 11, 'min_samples_leaf': 16, 'max_features': 'log2'}. Best is trial 32 with value: 0.6094992522647585.\n",
      "[Parallel(n_jobs=-1)]: Using backend LokyBackend with 64 concurrent workers.\n",
      "[Parallel(n_jobs=-1)]: Batch computation too fast (0.06906294822692871s.) Setting batch_size=2.\n",
      "[Parallel(n_jobs=-1)]: Done   3 out of   3 | elapsed:    0.1s finished\n",
      "[I 2024-09-30 18:27:07,211] Trial 57 finished with value: 0.5973992720207834 and parameters: {'max_depth': 7, 'min_samples_split': 13, 'min_samples_leaf': 10, 'max_features': None}. Best is trial 32 with value: 0.6094992522647585.\n"
     ]
    },
    {
     "name": "stdout",
     "output_type": "stream",
     "text": [
      "[CV] END ................................ score: (test=0.570) total time=   0.1s\n",
      "[CV] START .....................................................................\n",
      "[CV] START .....................................................................\n",
      "[CV] START .....................................................................\n",
      "[CV] END ................................ score: (test=0.581) total time=   0.0s\n",
      "[CV] END ................................ score: (test=0.605) total time=   0.0s\n",
      "[CV] END ................................ score: (test=0.564) total time=   0.0s\n",
      "[CV] START .....................................................................\n",
      "[CV] START .....................................................................\n",
      "[CV] START .....................................................................\n",
      "[CV] END ................................ score: (test=0.605) total time=   0.1s\n",
      "[CV] END ................................ score: (test=0.597) total time=   0.1s\n",
      "[CV] END ................................ score: (test=0.590) total time=   0.1s\n"
     ]
    },
    {
     "name": "stderr",
     "output_type": "stream",
     "text": [
      "[Parallel(n_jobs=-1)]: Using backend LokyBackend with 64 concurrent workers.\n",
      "[Parallel(n_jobs=-1)]: Batch computation too fast (0.08486604690551758s.) Setting batch_size=2.\n",
      "[Parallel(n_jobs=-1)]: Done   3 out of   3 | elapsed:    0.1s finished\n",
      "[I 2024-09-30 18:27:07,342] Trial 58 finished with value: 0.5634993913308548 and parameters: {'max_depth': 18, 'min_samples_split': 7, 'min_samples_leaf': 14, 'max_features': None}. Best is trial 32 with value: 0.6094992522647585.\n",
      "[Parallel(n_jobs=-1)]: Using backend LokyBackend with 64 concurrent workers.\n",
      "[Parallel(n_jobs=-1)]: Batch computation too fast (0.03740358352661133s.) Setting batch_size=2.\n",
      "[Parallel(n_jobs=-1)]: Done   3 out of   3 | elapsed:    0.0s finished\n",
      "[I 2024-09-30 18:27:07,420] Trial 59 finished with value: 0.5794005315348572 and parameters: {'max_depth': 9, 'min_samples_split': 8, 'min_samples_leaf': 8, 'max_features': 'sqrt'}. Best is trial 32 with value: 0.6094992522647585.\n"
     ]
    },
    {
     "name": "stdout",
     "output_type": "stream",
     "text": [
      "[CV] START .....................................................................\n",
      "[CV] START .....................................................................\n",
      "[CV] START .....................................................................\n",
      "[CV] END ................................ score: (test=0.570) total time=   0.1s\n",
      "[CV] END ................................ score: (test=0.558) total time=   0.1s\n",
      "[CV] END ................................ score: (test=0.563) total time=   0.1s\n",
      "[CV] START .....................................................................\n",
      "[CV] START .....................................................................\n",
      "[CV] START .....................................................................\n",
      "[CV] END ................................ score: (test=0.574) total time=   0.0s\n",
      "[CV] END ................................ score: (test=0.576) total time=   0.0s\n",
      "[CV] END ................................ score: (test=0.588) total time=   0.0s\n"
     ]
    },
    {
     "name": "stderr",
     "output_type": "stream",
     "text": [
      "[Parallel(n_jobs=-1)]: Using backend LokyBackend with 64 concurrent workers.\n",
      "[Parallel(n_jobs=-1)]: Batch computation too fast (0.061710357666015625s.) Setting batch_size=2.\n",
      "[Parallel(n_jobs=-1)]: Done   3 out of   3 | elapsed:    0.1s finished\n",
      "[I 2024-09-30 18:27:07,520] Trial 60 finished with value: 0.6038998320947871 and parameters: {'max_depth': 6, 'min_samples_split': 5, 'min_samples_leaf': 12, 'max_features': None}. Best is trial 32 with value: 0.6094992522647585.\n",
      "[Parallel(n_jobs=-1)]: Using backend LokyBackend with 64 concurrent workers.\n",
      "[Parallel(n_jobs=-1)]: Batch computation too fast (0.050994157791137695s.) Setting batch_size=2.\n",
      "[Parallel(n_jobs=-1)]: Done   3 out of   3 | elapsed:    0.1s finished\n",
      "[I 2024-09-30 18:27:07,611] Trial 61 finished with value: 0.6091992222617583 and parameters: {'max_depth': 4, 'min_samples_split': 12, 'min_samples_leaf': 12, 'max_features': None}. Best is trial 32 with value: 0.6094992522647585.\n",
      "[Parallel(n_jobs=-1)]: Using backend LokyBackend with 64 concurrent workers.\n"
     ]
    },
    {
     "name": "stdout",
     "output_type": "stream",
     "text": [
      "[CV] START .....................................................................\n",
      "[CV] START .....................................................................\n",
      "[CV] START .....................................................................\n",
      "[CV] END ................................ score: (test=0.613) total time=   0.0s\n",
      "[CV] END ................................ score: (test=0.606) total time=   0.1s\n",
      "[CV] END ................................ score: (test=0.593) total time=   0.1s\n",
      "[CV] START .....................................................................\n",
      "[CV] START .....................................................................\n",
      "[CV] START .....................................................................\n",
      "[CV] END ................................ score: (test=0.617) total time=   0.0s\n",
      "[CV] END ................................ score: (test=0.603) total time=   0.0s\n",
      "[CV] END ................................ score: (test=0.608) total time=   0.0s\n",
      "[CV] START .....................................................................\n",
      "[CV] START .....................................................................\n",
      "[CV] START .....................................................................\n"
     ]
    },
    {
     "name": "stderr",
     "output_type": "stream",
     "text": [
      "[Parallel(n_jobs=-1)]: Batch computation too fast (0.05052995681762695s.) Setting batch_size=2.\n",
      "[Parallel(n_jobs=-1)]: Done   3 out of   3 | elapsed:    0.1s finished\n",
      "[I 2024-09-30 18:27:07,701] Trial 62 finished with value: 0.6091992222617583 and parameters: {'max_depth': 4, 'min_samples_split': 12, 'min_samples_leaf': 12, 'max_features': None}. Best is trial 32 with value: 0.6094992522647585.\n",
      "[Parallel(n_jobs=-1)]: Using backend LokyBackend with 64 concurrent workers.\n",
      "[Parallel(n_jobs=-1)]: Batch computation too fast (0.04116177558898926s.) Setting batch_size=2.\n",
      "[Parallel(n_jobs=-1)]: Done   3 out of   3 | elapsed:    0.1s finished\n",
      "[I 2024-09-30 18:27:07,783] Trial 63 finished with value: 0.598299452020787 and parameters: {'max_depth': 3, 'min_samples_split': 12, 'min_samples_leaf': 11, 'max_features': None}. Best is trial 32 with value: 0.6094992522647585.\n",
      "[Parallel(n_jobs=-1)]: Using backend LokyBackend with 64 concurrent workers.\n",
      "[Parallel(n_jobs=-1)]: Batch computation too fast (0.0507206916809082s.) Setting batch_size=2.\n",
      "[Parallel(n_jobs=-1)]: Done   3 out of   3 | elapsed:    0.1s finished\n",
      "[I 2024-09-30 18:27:07,884] Trial 64 finished with value: 0.6003001919868052 and parameters: {'max_depth': 5, 'min_samples_split': 15, 'min_samples_leaf': 9, 'max_features': None}. Best is trial 32 with value: 0.6094992522647585.\n"
     ]
    },
    {
     "name": "stdout",
     "output_type": "stream",
     "text": [
      "[CV] END ................................ score: (test=0.617) total time=   0.0s\n",
      "[CV] END ................................ score: (test=0.608) total time=   0.0s\n",
      "[CV] END ................................ score: (test=0.603) total time=   0.0s\n",
      "[CV] START .....................................................................\n",
      "[CV] START .....................................................................\n",
      "[CV] START .....................................................................\n",
      "[CV] END ................................ score: (test=0.604) total time=   0.0s\n",
      "[CV] END ................................ score: (test=0.594) total time=   0.0s\n",
      "[CV] END ................................ score: (test=0.597) total time=   0.0s\n",
      "[CV] START .....................................................................\n",
      "[CV] START .....................................................................\n",
      "[CV] START .....................................................................\n",
      "[CV] END ................................ score: (test=0.598) total time=   0.0s\n",
      "[CV] END ................................ score: (test=0.603) total time=   0.0s\n",
      "[CV] END ................................ score: (test=0.600) total time=   0.1s\n"
     ]
    },
    {
     "name": "stderr",
     "output_type": "stream",
     "text": [
      "[Parallel(n_jobs=-1)]: Using backend LokyBackend with 64 concurrent workers.\n",
      "[Parallel(n_jobs=-1)]: Batch computation too fast (0.03512263298034668s.) Setting batch_size=2.\n",
      "[Parallel(n_jobs=-1)]: Done   3 out of   3 | elapsed:    0.0s finished\n",
      "[I 2024-09-30 18:27:07,956] Trial 65 finished with value: 0.5845998217098255 and parameters: {'max_depth': 2, 'min_samples_split': 14, 'min_samples_leaf': 12, 'max_features': None}. Best is trial 32 with value: 0.6094992522647585.\n",
      "[Parallel(n_jobs=-1)]: Using backend LokyBackend with 64 concurrent workers.\n",
      "[Parallel(n_jobs=-1)]: Batch computation too fast (0.05409741401672363s.) Setting batch_size=2.\n",
      "[Parallel(n_jobs=-1)]: Done   3 out of   3 | elapsed:    0.1s finished\n",
      "[I 2024-09-30 18:27:08,077] Trial 66 finished with value: 0.6003001919868052 and parameters: {'max_depth': 5, 'min_samples_split': 11, 'min_samples_leaf': 10, 'max_features': None}. Best is trial 32 with value: 0.6094992522647585.\n",
      "[Parallel(n_jobs=-1)]: Using backend LokyBackend with 64 concurrent workers.\n"
     ]
    },
    {
     "name": "stdout",
     "output_type": "stream",
     "text": [
      "[CV] START .....................................................................\n",
      "[CV] START .....................................................................\n",
      "[CV] START .....................................................................\n",
      "[CV] END ................................ score: (test=0.586) total time=   0.0s\n",
      "[CV] END ................................ score: (test=0.590) total time=   0.0s\n",
      "[CV] END ................................ score: (test=0.578) total time=   0.0s\n",
      "[CV] START .....................................................................\n",
      "[CV] START .....................................................................\n",
      "[CV] START .....................................................................\n",
      "[CV] END ................................ score: (test=0.598) total time=   0.0s\n",
      "[CV] END ................................ score: (test=0.603) total time=   0.0s\n",
      "[CV] END ................................ score: (test=0.600) total time=   0.1s\n",
      "[CV] START .....................................................................\n",
      "[CV] START .....................................................................\n",
      "[CV] START .....................................................................\n"
     ]
    },
    {
     "name": "stderr",
     "output_type": "stream",
     "text": [
      "[Parallel(n_jobs=-1)]: Batch computation too fast (0.07518577575683594s.) Setting batch_size=2.\n",
      "[Parallel(n_jobs=-1)]: Done   3 out of   3 | elapsed:    0.1s finished\n",
      "[I 2024-09-30 18:27:08,186] Trial 67 finished with value: 0.6047999221037881 and parameters: {'max_depth': 6, 'min_samples_split': 13, 'min_samples_leaf': 11, 'max_features': None}. Best is trial 32 with value: 0.6094992522647585.\n",
      "[Parallel(n_jobs=-1)]: Using backend LokyBackend with 64 concurrent workers.\n",
      "[Parallel(n_jobs=-1)]: Batch computation too fast (0.05116868019104004s.) Setting batch_size=2.\n",
      "[Parallel(n_jobs=-1)]: Done   3 out of   3 | elapsed:    0.1s finished\n",
      "[I 2024-09-30 18:27:08,277] Trial 68 finished with value: 0.6082993422317636 and parameters: {'max_depth': 4, 'min_samples_split': 16, 'min_samples_leaf': 24, 'max_features': None}. Best is trial 32 with value: 0.6094992522647585.\n",
      "[Parallel(n_jobs=-1)]: Using backend LokyBackend with 64 concurrent workers.\n",
      "[Parallel(n_jobs=-1)]: Batch computation too fast (0.035452842712402344s.) Setting batch_size=2.\n",
      "[Parallel(n_jobs=-1)]: Done   3 out of   3 | elapsed:    0.1s finished\n",
      "[I 2024-09-30 18:27:08,366] Trial 69 finished with value: 0.5990991120707753 and parameters: {'max_depth': 7, 'min_samples_split': 9, 'min_samples_leaf': 12, 'max_features': 'log2'}. Best is trial 32 with value: 0.6094992522647585.\n"
     ]
    },
    {
     "name": "stdout",
     "output_type": "stream",
     "text": [
      "[CV] END ................................ score: (test=0.613) total time=   0.1s\n",
      "[CV] END ................................ score: (test=0.606) total time=   0.1s\n",
      "[CV] END ................................ score: (test=0.596) total time=   0.1s\n",
      "[CV] START .....................................................................\n",
      "[CV] START .....................................................................\n",
      "[CV] START .....................................................................\n",
      "[CV] END ................................ score: (test=0.615) total time=   0.0s\n",
      "[CV] END ................................ score: (test=0.607) total time=   0.0s\n",
      "[CV] END ................................ score: (test=0.603) total time=   0.0s\n",
      "[CV] START .....................................................................\n",
      "[CV] START .....................................................................\n",
      "[CV] START .....................................................................\n",
      "[CV] END ................................ score: (test=0.608) total time=   0.0s\n",
      "[CV] END ................................ score: (test=0.592) total time=   0.0s\n",
      "[CV] END ................................ score: (test=0.597) total time=   0.0s\n"
     ]
    },
    {
     "name": "stderr",
     "output_type": "stream",
     "text": [
      "[Parallel(n_jobs=-1)]: Using backend LokyBackend with 64 concurrent workers.\n",
      "[Parallel(n_jobs=-1)]: Batch computation too fast (0.02531266212463379s.) Setting batch_size=2.\n",
      "[Parallel(n_jobs=-1)]: Done   3 out of   3 | elapsed:    0.0s finished\n",
      "[I 2024-09-30 18:27:08,442] Trial 70 finished with value: 0.5702994714588435 and parameters: {'max_depth': 2, 'min_samples_split': 12, 'min_samples_leaf': 13, 'max_features': 'sqrt'}. Best is trial 32 with value: 0.6094992522647585.\n",
      "[Parallel(n_jobs=-1)]: Using backend LokyBackend with 64 concurrent workers.\n",
      "[Parallel(n_jobs=-1)]: Batch computation too fast (0.05054354667663574s.) Setting batch_size=2.\n",
      "[Parallel(n_jobs=-1)]: Done   3 out of   3 | elapsed:    0.1s finished\n",
      "[I 2024-09-30 18:27:08,533] Trial 71 finished with value: 0.6087993022457614 and parameters: {'max_depth': 4, 'min_samples_split': 11, 'min_samples_leaf': 14, 'max_features': None}. Best is trial 32 with value: 0.6094992522647585.\n",
      "[Parallel(n_jobs=-1)]: Using backend LokyBackend with 64 concurrent workers.\n"
     ]
    },
    {
     "name": "stdout",
     "output_type": "stream",
     "text": [
      "[CV] START .....................................................................\n",
      "[CV] START .....................................................................\n",
      "[CV] START .....................................................................\n",
      "[CV] END ................................ score: (test=0.576) total time=   0.0s\n",
      "[CV] END ................................ score: (test=0.557) total time=   0.0s\n",
      "[CV] END ................................ score: (test=0.579) total time=   0.0s\n",
      "[CV] START .....................................................................\n",
      "[CV] START .....................................................................\n",
      "[CV] START .....................................................................\n",
      "[CV] END ................................ score: (test=0.616) total time=   0.0s\n",
      "[CV] END ................................ score: (test=0.608) total time=   0.0s\n",
      "[CV] END ................................ score: (test=0.603) total time=   0.0s\n",
      "[CV] START .....................................................................\n",
      "[CV] START .....................................................................\n",
      "[CV] START .....................................................................\n",
      "[CV] END ................................ score: (test=0.604) total time=   0.0s\n",
      "[CV] END ................................ score: (test=0.594) total time=   0.0s\n",
      "[CV] END ................................ score: (test=0.597) total time=   0.0s\n"
     ]
    },
    {
     "name": "stderr",
     "output_type": "stream",
     "text": [
      "[Parallel(n_jobs=-1)]: Batch computation too fast (0.04157662391662598s.) Setting batch_size=2.\n",
      "[Parallel(n_jobs=-1)]: Done   3 out of   3 | elapsed:    0.1s finished\n",
      "[I 2024-09-30 18:27:08,614] Trial 72 finished with value: 0.598299452020787 and parameters: {'max_depth': 3, 'min_samples_split': 10, 'min_samples_leaf': 13, 'max_features': None}. Best is trial 32 with value: 0.6094992522647585.\n",
      "[Parallel(n_jobs=-1)]: Using backend LokyBackend with 64 concurrent workers.\n",
      "[Parallel(n_jobs=-1)]: Batch computation too fast (0.049840450286865234s.) Setting batch_size=2.\n",
      "[Parallel(n_jobs=-1)]: Done   3 out of   3 | elapsed:    0.1s finished\n",
      "[I 2024-09-30 18:27:08,724] Trial 73 finished with value: 0.6087993022457614 and parameters: {'max_depth': 4, 'min_samples_split': 3, 'min_samples_leaf': 15, 'max_features': None}. Best is trial 32 with value: 0.6094992522647585.\n",
      "[Parallel(n_jobs=-1)]: Using backend LokyBackend with 64 concurrent workers.\n",
      "[Parallel(n_jobs=-1)]: Batch computation too fast (0.05498909950256348s.) Setting batch_size=2.\n",
      "[Parallel(n_jobs=-1)]: Done   3 out of   3 | elapsed:    0.1s finished\n",
      "[I 2024-09-30 18:27:08,826] Trial 74 finished with value: 0.6001001719848049 and parameters: {'max_depth': 5, 'min_samples_split': 10, 'min_samples_leaf': 11, 'max_features': None}. Best is trial 32 with value: 0.6094992522647585.\n"
     ]
    },
    {
     "name": "stdout",
     "output_type": "stream",
     "text": [
      "[CV] START .....................................................................\n",
      "[CV] START .....................................................................\n",
      "[CV] START .....................................................................\n",
      "[CV] END ................................ score: (test=0.616) total time=   0.0s\n",
      "[CV] END ................................ score: (test=0.608) total time=   0.0s\n",
      "[CV] END ................................ score: (test=0.603) total time=   0.1s\n",
      "[CV] START .....................................................................\n",
      "[CV] START .....................................................................\n",
      "[CV] START .....................................................................\n",
      "[CV] END ................................ score: (test=0.598) total time=   0.0s\n",
      "[CV] END ................................ score: (test=0.603) total time=   0.0s\n",
      "[CV] END ................................ score: (test=0.599) total time=   0.1s\n"
     ]
    },
    {
     "name": "stderr",
     "output_type": "stream",
     "text": [
      "[Parallel(n_jobs=-1)]: Using backend LokyBackend with 64 concurrent workers.\n",
      "[Parallel(n_jobs=-1)]: Batch computation too fast (0.06367802619934082s.) Setting batch_size=2.\n",
      "[Parallel(n_jobs=-1)]: Done   3 out of   3 | elapsed:    0.1s finished\n",
      "[I 2024-09-30 18:27:08,932] Trial 75 finished with value: 0.6043998820997877 and parameters: {'max_depth': 6, 'min_samples_split': 13, 'min_samples_leaf': 10, 'max_features': None}. Best is trial 32 with value: 0.6094992522647585.\n",
      "[Parallel(n_jobs=-1)]: Using backend LokyBackend with 64 concurrent workers.\n",
      "[Parallel(n_jobs=-1)]: Batch computation too fast (0.04330563545227051s.) Setting batch_size=2.\n",
      "[Parallel(n_jobs=-1)]: Done   3 out of   3 | elapsed:    0.1s finished\n",
      "[I 2024-09-30 18:27:09,024] Trial 76 finished with value: 0.598299452020787 and parameters: {'max_depth': 3, 'min_samples_split': 12, 'min_samples_leaf': 9, 'max_features': None}. Best is trial 32 with value: 0.6094992522647585.\n",
      "[Parallel(n_jobs=-1)]: Using backend LokyBackend with 64 concurrent workers.\n"
     ]
    },
    {
     "name": "stdout",
     "output_type": "stream",
     "text": [
      "[CV] START .....................................................................\n",
      "[CV] START .....................................................................\n",
      "[CV] START .....................................................................\n",
      "[CV] END ................................ score: (test=0.606) total time=   0.1s\n",
      "[CV] END ................................ score: (test=0.613) total time=   0.1s\n",
      "[CV] END ................................ score: (test=0.595) total time=   0.1s\n",
      "[CV] START .....................................................................\n",
      "[CV] START .....................................................................\n",
      "[CV] START .....................................................................\n",
      "[CV] END ................................ score: (test=0.604) total time=   0.0s\n",
      "[CV] END ................................ score: (test=0.594) total time=   0.0s\n",
      "[CV] END ................................ score: (test=0.597) total time=   0.0s\n",
      "[CV] START .....................................................................\n"
     ]
    },
    {
     "name": "stderr",
     "output_type": "stream",
     "text": [
      "[Parallel(n_jobs=-1)]: Batch computation too fast (0.06064963340759277s.) Setting batch_size=2.\n",
      "[Parallel(n_jobs=-1)]: Done   3 out of   3 | elapsed:    0.1s finished\n",
      "[I 2024-09-30 18:27:09,129] Trial 77 finished with value: 0.5974001119368086 and parameters: {'max_depth': 5, 'min_samples_split': 17, 'min_samples_leaf': 16, 'max_features': None}. Best is trial 32 with value: 0.6094992522647585.\n",
      "[Parallel(n_jobs=-1)]: Using backend LokyBackend with 64 concurrent workers.\n",
      "[Parallel(n_jobs=-1)]: Batch computation too fast (0.0617983341217041s.) Setting batch_size=2.\n",
      "[Parallel(n_jobs=-1)]: Done   3 out of   3 | elapsed:    0.1s finished\n",
      "[I 2024-09-30 18:27:09,241] Trial 78 finished with value: 0.6028997320847861 and parameters: {'max_depth': 6, 'min_samples_split': 14, 'min_samples_leaf': 6, 'max_features': None}. Best is trial 32 with value: 0.6094992522647585.\n"
     ]
    },
    {
     "name": "stdout",
     "output_type": "stream",
     "text": [
      "[CV] START .....................................................................\n",
      "[CV] START .....................................................................\n",
      "[CV] END ................................ score: (test=0.596) total time=   0.0s\n",
      "[CV] END ................................ score: (test=0.602) total time=   0.0s\n",
      "[CV] END ................................ score: (test=0.594) total time=   0.0s\n",
      "[CV] START .....................................................................\n",
      "[CV] START .....................................................................\n",
      "[CV] START .....................................................................\n",
      "[CV] END ................................ score: (test=0.606) total time=   0.1s\n",
      "[CV] END ................................ score: (test=0.594) total time=   0.1s\n",
      "[CV] END ................................ score: (test=0.609) total time=   0.1s\n"
     ]
    },
    {
     "name": "stderr",
     "output_type": "stream",
     "text": [
      "[Parallel(n_jobs=-1)]: Using backend LokyBackend with 64 concurrent workers.\n",
      "[Parallel(n_jobs=-1)]: Batch computation too fast (0.05160021781921387s.) Setting batch_size=2.\n",
      "[Parallel(n_jobs=-1)]: Done   3 out of   3 | elapsed:    0.1s finished\n",
      "[I 2024-09-30 18:27:09,343] Trial 79 finished with value: 0.6087993022457614 and parameters: {'max_depth': 4, 'min_samples_split': 8, 'min_samples_leaf': 14, 'max_features': None}. Best is trial 32 with value: 0.6094992522647585.\n",
      "[Parallel(n_jobs=-1)]: Using backend LokyBackend with 64 concurrent workers.\n",
      "[Parallel(n_jobs=-1)]: Batch computation too fast (0.03670191764831543s.) Setting batch_size=2.\n",
      "[Parallel(n_jobs=-1)]: Done   3 out of   3 | elapsed:    0.0s finished\n",
      "[I 2024-09-30 18:27:09,423] Trial 80 finished with value: 0.5909999218278157 and parameters: {'max_depth': 9, 'min_samples_split': 10, 'min_samples_leaf': 17, 'max_features': 'log2'}. Best is trial 32 with value: 0.6094992522647585.\n",
      "[Parallel(n_jobs=-1)]: Using backend LokyBackend with 64 concurrent workers.\n"
     ]
    },
    {
     "name": "stdout",
     "output_type": "stream",
     "text": [
      "[CV] START .....................................................................\n",
      "[CV] START .....................................................................\n",
      "[CV] START .....................................................................\n",
      "[CV] END ................................ score: (test=0.616) total time=   0.0s\n",
      "[CV] END ................................ score: (test=0.608) total time=   0.0s\n",
      "[CV] END ................................ score: (test=0.603) total time=   0.0s\n",
      "[CV] START .....................................................................\n",
      "[CV] START .....................................................................\n",
      "[CV] START .....................................................................\n",
      "[CV] END ................................ score: (test=0.592) total time=   0.0s\n",
      "[CV] END ................................ score: (test=0.589) total time=   0.0s\n",
      "[CV] END ................................ score: (test=0.593) total time=   0.0s\n",
      "[CV] START .....................................................................\n",
      "[CV] START .....................................................................\n",
      "[CV] START .....................................................................\n"
     ]
    },
    {
     "name": "stderr",
     "output_type": "stream",
     "text": [
      "[Parallel(n_jobs=-1)]: Batch computation too fast (0.04646182060241699s.) Setting batch_size=2.\n",
      "[Parallel(n_jobs=-1)]: Done   3 out of   3 | elapsed:    0.1s finished\n",
      "[I 2024-09-30 18:27:09,513] Trial 81 finished with value: 0.6091992222617583 and parameters: {'max_depth': 4, 'min_samples_split': 11, 'min_samples_leaf': 12, 'max_features': None}. Best is trial 32 with value: 0.6094992522647585.\n",
      "[Parallel(n_jobs=-1)]: Using backend LokyBackend with 64 concurrent workers.\n",
      "[Parallel(n_jobs=-1)]: Batch computation too fast (0.04302811622619629s.) Setting batch_size=2.\n",
      "[Parallel(n_jobs=-1)]: Done   3 out of   3 | elapsed:    0.1s finished\n",
      "[I 2024-09-30 18:27:09,593] Trial 82 finished with value: 0.598299452020787 and parameters: {'max_depth': 3, 'min_samples_split': 11, 'min_samples_leaf': 12, 'max_features': None}. Best is trial 32 with value: 0.6094992522647585.\n",
      "[Parallel(n_jobs=-1)]: Using backend LokyBackend with 64 concurrent workers.\n",
      "[Parallel(n_jobs=-1)]: Batch computation too fast (0.05299258232116699s.) Setting batch_size=2.\n",
      "[Parallel(n_jobs=-1)]: Done   3 out of   3 | elapsed:    0.1s finished\n",
      "[I 2024-09-30 18:27:09,693] Trial 83 finished with value: 0.6092992022657574 and parameters: {'max_depth': 4, 'min_samples_split': 9, 'min_samples_leaf': 13, 'max_features': None}. Best is trial 32 with value: 0.6094992522647585.\n"
     ]
    },
    {
     "name": "stdout",
     "output_type": "stream",
     "text": [
      "[CV] END ................................ score: (test=0.617) total time=   0.0s\n",
      "[CV] END ................................ score: (test=0.608) total time=   0.0s\n",
      "[CV] END ................................ score: (test=0.603) total time=   0.0s\n",
      "[CV] START .....................................................................\n",
      "[CV] START .....................................................................\n",
      "[CV] START .....................................................................\n",
      "[CV] END ................................ score: (test=0.604) total time=   0.0s\n",
      "[CV] END ................................ score: (test=0.597) total time=   0.0s\n",
      "[CV] END ................................ score: (test=0.594) total time=   0.0s\n",
      "[CV] START .....................................................................\n",
      "[CV] START .....................................................................\n",
      "[CV] START .....................................................................\n",
      "[CV] END ................................ score: (test=0.608) total time=   0.0s\n",
      "[CV] END ................................ score: (test=0.603) total time=   0.0s\n",
      "[CV] END ................................ score: (test=0.617) total time=   0.1s\n"
     ]
    },
    {
     "name": "stderr",
     "output_type": "stream",
     "text": [
      "[Parallel(n_jobs=-1)]: Using backend LokyBackend with 64 concurrent workers.\n",
      "[Parallel(n_jobs=-1)]: Batch computation too fast (0.03493952751159668s.) Setting batch_size=2.\n",
      "[Parallel(n_jobs=-1)]: Done   3 out of   3 | elapsed:    0.0s finished\n",
      "[I 2024-09-30 18:27:09,776] Trial 84 finished with value: 0.5845998217098255 and parameters: {'max_depth': 2, 'min_samples_split': 9, 'min_samples_leaf': 11, 'max_features': None}. Best is trial 32 with value: 0.6094992522647585.\n",
      "[Parallel(n_jobs=-1)]: Using backend LokyBackend with 64 concurrent workers.\n",
      "[Parallel(n_jobs=-1)]: Batch computation too fast (0.055970191955566406s.) Setting batch_size=2.\n",
      "[Parallel(n_jobs=-1)]: Done   3 out of   3 | elapsed:    0.1s finished\n",
      "[I 2024-09-30 18:27:09,885] Trial 85 finished with value: 0.598099941967802 and parameters: {'max_depth': 5, 'min_samples_split': 7, 'min_samples_leaf': 13, 'max_features': None}. Best is trial 32 with value: 0.6094992522647585.\n",
      "[Parallel(n_jobs=-1)]: Using backend LokyBackend with 64 concurrent workers.\n"
     ]
    },
    {
     "name": "stdout",
     "output_type": "stream",
     "text": [
      "[CV] START .....................................................................\n",
      "[CV] START .....................................................................\n",
      "[CV] START .....................................................................\n",
      "[CV] END ................................ score: (test=0.586) total time=   0.0s\n",
      "[CV] END ................................ score: (test=0.590) total time=   0.0s\n",
      "[CV] END ................................ score: (test=0.578) total time=   0.0s\n",
      "[CV] START .....................................................................\n",
      "[CV] START .....................................................................\n",
      "[CV] START .....................................................................\n",
      "[CV] END ................................ score: (test=0.599) total time=   0.0s\n",
      "[CV] END ................................ score: (test=0.602) total time=   0.1s\n",
      "[CV] END ................................ score: (test=0.594) total time=   0.1s\n",
      "[CV] START .....................................................................\n",
      "[CV] START .....................................................................\n",
      "[CV] START .....................................................................\n"
     ]
    },
    {
     "name": "stderr",
     "output_type": "stream",
     "text": [
      "[Parallel(n_jobs=-1)]: Batch computation too fast (0.046437978744506836s.) Setting batch_size=2.\n",
      "[Parallel(n_jobs=-1)]: Done   3 out of   3 | elapsed:    0.1s finished\n",
      "[I 2024-09-30 18:27:09,965] Trial 86 finished with value: 0.598299452020787 and parameters: {'max_depth': 3, 'min_samples_split': 12, 'min_samples_leaf': 11, 'max_features': None}. Best is trial 32 with value: 0.6094992522647585.\n",
      "[Parallel(n_jobs=-1)]: Using backend LokyBackend with 64 concurrent workers.\n",
      "[Parallel(n_jobs=-1)]: Batch computation too fast (0.05005168914794922s.) Setting batch_size=2.\n",
      "[Parallel(n_jobs=-1)]: Done   3 out of   3 | elapsed:    0.1s finished\n",
      "[I 2024-09-30 18:27:10,071] Trial 87 finished with value: 0.6093992422637585 and parameters: {'max_depth': 4, 'min_samples_split': 19, 'min_samples_leaf': 10, 'max_features': None}. Best is trial 32 with value: 0.6094992522647585.\n",
      "[Parallel(n_jobs=-1)]: Using backend LokyBackend with 64 concurrent workers.\n"
     ]
    },
    {
     "name": "stdout",
     "output_type": "stream",
     "text": [
      "[CV] END ................................ score: (test=0.604) total time=   0.0s\n",
      "[CV] END ................................ score: (test=0.594) total time=   0.0s\n",
      "[CV] END ................................ score: (test=0.597) total time=   0.0s\n",
      "[CV] START .....................................................................\n",
      "[CV] START .....................................................................\n",
      "[CV] START .....................................................................\n",
      "[CV] END ................................ score: (test=0.617) total time=   0.0s\n",
      "[CV] END ................................ score: (test=0.608) total time=   0.0s\n",
      "[CV] END ................................ score: (test=0.603) total time=   0.0s\n",
      "[CV] START .....................................................................\n",
      "[CV] START .....................................................................\n",
      "[CV] START .....................................................................\n",
      "[CV] END ................................ score: (test=0.581) total time=   0.0s\n",
      "[CV] END ................................ score: (test=0.583) total time=   0.0s\n",
      "[CV] END ................................ score: (test=0.565) total time=   0.0s\n"
     ]
    },
    {
     "name": "stderr",
     "output_type": "stream",
     "text": [
      "[Parallel(n_jobs=-1)]: Batch computation too fast (0.043108463287353516s.) Setting batch_size=2.\n",
      "[Parallel(n_jobs=-1)]: Done   3 out of   3 | elapsed:    0.1s finished\n",
      "[I 2024-09-30 18:27:10,166] Trial 88 finished with value: 0.5763995715708344 and parameters: {'max_depth': 13, 'min_samples_split': 19, 'min_samples_leaf': 12, 'max_features': 'sqrt'}. Best is trial 32 with value: 0.6094992522647585.\n",
      "[Parallel(n_jobs=-1)]: Using backend LokyBackend with 64 concurrent workers.\n",
      "[Parallel(n_jobs=-1)]: Batch computation too fast (0.08213090896606445s.) Setting batch_size=2.\n",
      "[Parallel(n_jobs=-1)]: Done   3 out of   3 | elapsed:    0.1s finished\n",
      "[I 2024-09-30 18:27:10,289] Trial 89 finished with value: 0.5987994420317856 and parameters: {'max_depth': 7, 'min_samples_split': 20, 'min_samples_leaf': 9, 'max_features': None}. Best is trial 32 with value: 0.6094992522647585.\n",
      "[Parallel(n_jobs=-1)]: Using backend LokyBackend with 64 concurrent workers.\n",
      "[Parallel(n_jobs=-1)]: Batch computation too fast (0.06470870971679688s.) Setting batch_size=2.\n",
      "[Parallel(n_jobs=-1)]: Done   3 out of   3 | elapsed:    0.1s finished\n",
      "[I 2024-09-30 18:27:10,401] Trial 90 finished with value: 0.6003001919868052 and parameters: {'max_depth': 5, 'min_samples_split': 23, 'min_samples_leaf': 10, 'max_features': None}. Best is trial 32 with value: 0.6094992522647585.\n"
     ]
    },
    {
     "name": "stdout",
     "output_type": "stream",
     "text": [
      "[CV] START .....................................................................\n",
      "[CV] START .....................................................................\n",
      "[CV] START .....................................................................\n",
      "[CV] END ................................ score: (test=0.604) total time=   0.1s\n",
      "[CV] END ................................ score: (test=0.596) total time=   0.1s\n",
      "[CV] END ................................ score: (test=0.596) total time=   0.1s\n",
      "[CV] START .....................................................................\n",
      "[CV] START .....................................................................\n",
      "[CV] START .....................................................................\n",
      "[CV] END ................................ score: (test=0.603) total time=   0.1s\n",
      "[CV] END ................................ score: (test=0.600) total time=   0.1s\n",
      "[CV] END ................................ score: (test=0.598) total time=   0.1s\n"
     ]
    },
    {
     "name": "stderr",
     "output_type": "stream",
     "text": [
      "[Parallel(n_jobs=-1)]: Using backend LokyBackend with 64 concurrent workers.\n",
      "[Parallel(n_jobs=-1)]: Batch computation too fast (0.05797886848449707s.) Setting batch_size=2.\n",
      "[Parallel(n_jobs=-1)]: Done   3 out of   3 | elapsed:    0.1s finished\n",
      "[I 2024-09-30 18:27:10,501] Trial 91 finished with value: 0.6092992022657574 and parameters: {'max_depth': 4, 'min_samples_split': 16, 'min_samples_leaf': 13, 'max_features': None}. Best is trial 32 with value: 0.6094992522647585.\n",
      "[Parallel(n_jobs=-1)]: Using backend LokyBackend with 64 concurrent workers.\n",
      "[Parallel(n_jobs=-1)]: Batch computation too fast (0.06011366844177246s.) Setting batch_size=2.\n",
      "[Parallel(n_jobs=-1)]: Done   3 out of   3 | elapsed:    0.1s finished\n",
      "[I 2024-09-30 18:27:10,605] Trial 92 finished with value: 0.6092992022657574 and parameters: {'max_depth': 4, 'min_samples_split': 19, 'min_samples_leaf': 13, 'max_features': None}. Best is trial 32 with value: 0.6094992522647585.\n"
     ]
    },
    {
     "name": "stdout",
     "output_type": "stream",
     "text": [
      "[CV] START .....................................................................\n",
      "[CV] START .....................................................................\n",
      "[CV] START .....................................................................\n",
      "[CV] END ................................ score: (test=0.608) total time=   0.0s\n",
      "[CV] END ................................ score: (test=0.617) total time=   0.0s\n",
      "[CV] END ................................ score: (test=0.603) total time=   0.0s\n",
      "[CV] START .....................................................................\n",
      "[CV] START .....................................................................\n",
      "[CV] START .....................................................................\n",
      "[CV] END ................................ score: (test=0.608) total time=   0.0s\n",
      "[CV] END ................................ score: (test=0.617) total time=   0.1s\n",
      "[CV] END ................................ score: (test=0.603) total time=   0.0s\n",
      "[CV] START .....................................................................\n"
     ]
    },
    {
     "name": "stderr",
     "output_type": "stream",
     "text": [
      "[Parallel(n_jobs=-1)]: Using backend LokyBackend with 64 concurrent workers.\n",
      "[Parallel(n_jobs=-1)]: Batch computation too fast (0.06378722190856934s.) Setting batch_size=2.\n",
      "[Parallel(n_jobs=-1)]: Done   3 out of   3 | elapsed:    0.1s finished\n",
      "[I 2024-09-30 18:27:10,727] Trial 93 finished with value: 0.6017995620797832 and parameters: {'max_depth': 6, 'min_samples_split': 19, 'min_samples_leaf': 13, 'max_features': None}. Best is trial 32 with value: 0.6094992522647585.\n",
      "[Parallel(n_jobs=-1)]: Using backend LokyBackend with 64 concurrent workers.\n",
      "[Parallel(n_jobs=-1)]: Batch computation too fast (0.04380917549133301s.) Setting batch_size=2.\n",
      "[Parallel(n_jobs=-1)]: Done   3 out of   3 | elapsed:    0.1s finished\n",
      "[I 2024-09-30 18:27:10,821] Trial 94 finished with value: 0.598299452020787 and parameters: {'max_depth': 3, 'min_samples_split': 21, 'min_samples_leaf': 10, 'max_features': None}. Best is trial 32 with value: 0.6094992522647585.\n"
     ]
    },
    {
     "name": "stdout",
     "output_type": "stream",
     "text": [
      "[CV] START .....................................................................\n",
      "[CV] START .....................................................................\n",
      "[CV] END ................................ score: (test=0.606) total time=   0.1s\n",
      "[CV] END ................................ score: (test=0.605) total time=   0.1s\n",
      "[CV] END ................................ score: (test=0.594) total time=   0.1s\n",
      "[CV] START .....................................................................\n",
      "[CV] START .....................................................................\n",
      "[CV] START .....................................................................\n",
      "[CV] END ................................ score: (test=0.597) total time=   0.0s\n",
      "[CV] END ................................ score: (test=0.594) total time=   0.0s\n",
      "[CV] END ................................ score: (test=0.604) total time=   0.0s\n"
     ]
    },
    {
     "name": "stderr",
     "output_type": "stream",
     "text": [
      "[Parallel(n_jobs=-1)]: Using backend LokyBackend with 64 concurrent workers.\n",
      "[Parallel(n_jobs=-1)]: Batch computation too fast (0.06081247329711914s.) Setting batch_size=2.\n",
      "[Parallel(n_jobs=-1)]: Done   3 out of   3 | elapsed:    0.1s finished\n",
      "[I 2024-09-30 18:27:10,926] Trial 95 finished with value: 0.6094992522647585 and parameters: {'max_depth': 4, 'min_samples_split': 18, 'min_samples_leaf': 11, 'max_features': None}. Best is trial 32 with value: 0.6094992522647585.\n",
      "[Parallel(n_jobs=-1)]: Using backend LokyBackend with 64 concurrent workers.\n",
      "[Parallel(n_jobs=-1)]: Batch computation too fast (0.038709402084350586s.) Setting batch_size=2.\n",
      "[Parallel(n_jobs=-1)]: Done   3 out of   3 | elapsed:    0.0s finished\n",
      "[I 2024-09-30 18:27:11,008] Trial 96 finished with value: 0.5845998217098255 and parameters: {'max_depth': 2, 'min_samples_split': 18, 'min_samples_leaf': 8, 'max_features': None}. Best is trial 32 with value: 0.6094992522647585.\n",
      "[Parallel(n_jobs=-1)]: Using backend LokyBackend with 64 concurrent workers.\n"
     ]
    },
    {
     "name": "stdout",
     "output_type": "stream",
     "text": [
      "[CV] START .....................................................................\n",
      "[CV] START .....................................................................\n",
      "[CV] START .....................................................................\n",
      "[CV] END ................................ score: (test=0.617) total time=   0.0s\n",
      "[CV] END ................................ score: (test=0.608) total time=   0.0s\n",
      "[CV] END ................................ score: (test=0.604) total time=   0.0s\n",
      "[CV] START .....................................................................\n",
      "[CV] START .....................................................................\n",
      "[CV] START .....................................................................\n",
      "[CV] END ................................ score: (test=0.590) total time=   0.0s\n",
      "[CV] END ................................ score: (test=0.586) total time=   0.0s\n",
      "[CV] END ................................ score: (test=0.578) total time=   0.0s\n",
      "[CV] START .....................................................................\n",
      "[CV] START .....................................................................\n",
      "[CV] START .....................................................................\n"
     ]
    },
    {
     "name": "stderr",
     "output_type": "stream",
     "text": [
      "[Parallel(n_jobs=-1)]: Batch computation too fast (0.04509735107421875s.) Setting batch_size=2.\n",
      "[Parallel(n_jobs=-1)]: Done   3 out of   3 | elapsed:    0.1s finished\n",
      "[I 2024-09-30 18:27:11,100] Trial 97 finished with value: 0.598299452020787 and parameters: {'max_depth': 3, 'min_samples_split': 17, 'min_samples_leaf': 11, 'max_features': None}. Best is trial 32 with value: 0.6094992522647585.\n",
      "[Parallel(n_jobs=-1)]: Using backend LokyBackend with 64 concurrent workers.\n",
      "[Parallel(n_jobs=-1)]: Batch computation too fast (0.08342862129211426s.) Setting batch_size=2.\n",
      "[Parallel(n_jobs=-1)]: Done   3 out of   3 | elapsed:    0.1s finished\n",
      "[I 2024-09-30 18:27:11,241] Trial 98 finished with value: 0.5906990519087901 and parameters: {'max_depth': 8, 'min_samples_split': 18, 'min_samples_leaf': 10, 'max_features': None}. Best is trial 32 with value: 0.6094992522647585.\n"
     ]
    },
    {
     "name": "stdout",
     "output_type": "stream",
     "text": [
      "[CV] END ................................ score: (test=0.594) total time=   0.0s\n",
      "[CV] END ................................ score: (test=0.597) total time=   0.0s\n",
      "[CV] END ................................ score: (test=0.604) total time=   0.0s\n",
      "[CV] START .....................................................................\n",
      "[CV] START .....................................................................\n",
      "[CV] START .....................................................................\n",
      "[CV] END ................................ score: (test=0.592) total time=   0.1s\n",
      "[CV] END ................................ score: (test=0.600) total time=   0.1s\n",
      "[CV] END ................................ score: (test=0.580) total time=   0.1s\n",
      "[CV] START .....................................................................\n",
      "[CV] START .....................................................................\n"
     ]
    },
    {
     "name": "stderr",
     "output_type": "stream",
     "text": [
      "[Parallel(n_jobs=-1)]: Using backend LokyBackend with 64 concurrent workers.\n",
      "[Parallel(n_jobs=-1)]: Batch computation too fast (0.09012532234191895s.) Setting batch_size=2.\n",
      "[Parallel(n_jobs=-1)]: Done   3 out of   3 | elapsed:    0.1s finished\n",
      "[I 2024-09-30 18:27:11,377] Trial 99 finished with value: 0.5640990013818418 and parameters: {'max_depth': 17, 'min_samples_split': 19, 'min_samples_leaf': 13, 'max_features': None}. Best is trial 32 with value: 0.6094992522647585.\n"
     ]
    },
    {
     "name": "stdout",
     "output_type": "stream",
     "text": [
      "[CV] START .....................................................................\n",
      "[CV] END ................................ score: (test=0.574) total time=   0.1s\n",
      "[CV] END ................................ score: (test=0.555) total time=   0.1s\n",
      "[CV] END ................................ score: (test=0.563) total time=   0.1s\n"
     ]
    }
   ],
   "source": [
    "cart_model = train_decisiontree(X_train, y_train, scoring='accuracy', n_trials=100)"
   ]
  },
  {
   "cell_type": "code",
   "execution_count": 26,
   "metadata": {},
   "outputs": [
    {
     "data": {
      "text/html": [
       "<style>#sk-container-id-1 {\n",
       "  /* Definition of color scheme common for light and dark mode */\n",
       "  --sklearn-color-text: black;\n",
       "  --sklearn-color-line: gray;\n",
       "  /* Definition of color scheme for unfitted estimators */\n",
       "  --sklearn-color-unfitted-level-0: #fff5e6;\n",
       "  --sklearn-color-unfitted-level-1: #f6e4d2;\n",
       "  --sklearn-color-unfitted-level-2: #ffe0b3;\n",
       "  --sklearn-color-unfitted-level-3: chocolate;\n",
       "  /* Definition of color scheme for fitted estimators */\n",
       "  --sklearn-color-fitted-level-0: #f0f8ff;\n",
       "  --sklearn-color-fitted-level-1: #d4ebff;\n",
       "  --sklearn-color-fitted-level-2: #b3dbfd;\n",
       "  --sklearn-color-fitted-level-3: cornflowerblue;\n",
       "\n",
       "  /* Specific color for light theme */\n",
       "  --sklearn-color-text-on-default-background: var(--sg-text-color, var(--theme-code-foreground, var(--jp-content-font-color1, black)));\n",
       "  --sklearn-color-background: var(--sg-background-color, var(--theme-background, var(--jp-layout-color0, white)));\n",
       "  --sklearn-color-border-box: var(--sg-text-color, var(--theme-code-foreground, var(--jp-content-font-color1, black)));\n",
       "  --sklearn-color-icon: #696969;\n",
       "\n",
       "  @media (prefers-color-scheme: dark) {\n",
       "    /* Redefinition of color scheme for dark theme */\n",
       "    --sklearn-color-text-on-default-background: var(--sg-text-color, var(--theme-code-foreground, var(--jp-content-font-color1, white)));\n",
       "    --sklearn-color-background: var(--sg-background-color, var(--theme-background, var(--jp-layout-color0, #111)));\n",
       "    --sklearn-color-border-box: var(--sg-text-color, var(--theme-code-foreground, var(--jp-content-font-color1, white)));\n",
       "    --sklearn-color-icon: #878787;\n",
       "  }\n",
       "}\n",
       "\n",
       "#sk-container-id-1 {\n",
       "  color: var(--sklearn-color-text);\n",
       "}\n",
       "\n",
       "#sk-container-id-1 pre {\n",
       "  padding: 0;\n",
       "}\n",
       "\n",
       "#sk-container-id-1 input.sk-hidden--visually {\n",
       "  border: 0;\n",
       "  clip: rect(1px 1px 1px 1px);\n",
       "  clip: rect(1px, 1px, 1px, 1px);\n",
       "  height: 1px;\n",
       "  margin: -1px;\n",
       "  overflow: hidden;\n",
       "  padding: 0;\n",
       "  position: absolute;\n",
       "  width: 1px;\n",
       "}\n",
       "\n",
       "#sk-container-id-1 div.sk-dashed-wrapped {\n",
       "  border: 1px dashed var(--sklearn-color-line);\n",
       "  margin: 0 0.4em 0.5em 0.4em;\n",
       "  box-sizing: border-box;\n",
       "  padding-bottom: 0.4em;\n",
       "  background-color: var(--sklearn-color-background);\n",
       "}\n",
       "\n",
       "#sk-container-id-1 div.sk-container {\n",
       "  /* jupyter's `normalize.less` sets `[hidden] { display: none; }`\n",
       "     but bootstrap.min.css set `[hidden] { display: none !important; }`\n",
       "     so we also need the `!important` here to be able to override the\n",
       "     default hidden behavior on the sphinx rendered scikit-learn.org.\n",
       "     See: https://github.com/scikit-learn/scikit-learn/issues/21755 */\n",
       "  display: inline-block !important;\n",
       "  position: relative;\n",
       "}\n",
       "\n",
       "#sk-container-id-1 div.sk-text-repr-fallback {\n",
       "  display: none;\n",
       "}\n",
       "\n",
       "div.sk-parallel-item,\n",
       "div.sk-serial,\n",
       "div.sk-item {\n",
       "  /* draw centered vertical line to link estimators */\n",
       "  background-image: linear-gradient(var(--sklearn-color-text-on-default-background), var(--sklearn-color-text-on-default-background));\n",
       "  background-size: 2px 100%;\n",
       "  background-repeat: no-repeat;\n",
       "  background-position: center center;\n",
       "}\n",
       "\n",
       "/* Parallel-specific style estimator block */\n",
       "\n",
       "#sk-container-id-1 div.sk-parallel-item::after {\n",
       "  content: \"\";\n",
       "  width: 100%;\n",
       "  border-bottom: 2px solid var(--sklearn-color-text-on-default-background);\n",
       "  flex-grow: 1;\n",
       "}\n",
       "\n",
       "#sk-container-id-1 div.sk-parallel {\n",
       "  display: flex;\n",
       "  align-items: stretch;\n",
       "  justify-content: center;\n",
       "  background-color: var(--sklearn-color-background);\n",
       "  position: relative;\n",
       "}\n",
       "\n",
       "#sk-container-id-1 div.sk-parallel-item {\n",
       "  display: flex;\n",
       "  flex-direction: column;\n",
       "}\n",
       "\n",
       "#sk-container-id-1 div.sk-parallel-item:first-child::after {\n",
       "  align-self: flex-end;\n",
       "  width: 50%;\n",
       "}\n",
       "\n",
       "#sk-container-id-1 div.sk-parallel-item:last-child::after {\n",
       "  align-self: flex-start;\n",
       "  width: 50%;\n",
       "}\n",
       "\n",
       "#sk-container-id-1 div.sk-parallel-item:only-child::after {\n",
       "  width: 0;\n",
       "}\n",
       "\n",
       "/* Serial-specific style estimator block */\n",
       "\n",
       "#sk-container-id-1 div.sk-serial {\n",
       "  display: flex;\n",
       "  flex-direction: column;\n",
       "  align-items: center;\n",
       "  background-color: var(--sklearn-color-background);\n",
       "  padding-right: 1em;\n",
       "  padding-left: 1em;\n",
       "}\n",
       "\n",
       "\n",
       "/* Toggleable style: style used for estimator/Pipeline/ColumnTransformer box that is\n",
       "clickable and can be expanded/collapsed.\n",
       "- Pipeline and ColumnTransformer use this feature and define the default style\n",
       "- Estimators will overwrite some part of the style using the `sk-estimator` class\n",
       "*/\n",
       "\n",
       "/* Pipeline and ColumnTransformer style (default) */\n",
       "\n",
       "#sk-container-id-1 div.sk-toggleable {\n",
       "  /* Default theme specific background. It is overwritten whether we have a\n",
       "  specific estimator or a Pipeline/ColumnTransformer */\n",
       "  background-color: var(--sklearn-color-background);\n",
       "}\n",
       "\n",
       "/* Toggleable label */\n",
       "#sk-container-id-1 label.sk-toggleable__label {\n",
       "  cursor: pointer;\n",
       "  display: block;\n",
       "  width: 100%;\n",
       "  margin-bottom: 0;\n",
       "  padding: 0.5em;\n",
       "  box-sizing: border-box;\n",
       "  text-align: center;\n",
       "}\n",
       "\n",
       "#sk-container-id-1 label.sk-toggleable__label-arrow:before {\n",
       "  /* Arrow on the left of the label */\n",
       "  content: \"▸\";\n",
       "  float: left;\n",
       "  margin-right: 0.25em;\n",
       "  color: var(--sklearn-color-icon);\n",
       "}\n",
       "\n",
       "#sk-container-id-1 label.sk-toggleable__label-arrow:hover:before {\n",
       "  color: var(--sklearn-color-text);\n",
       "}\n",
       "\n",
       "/* Toggleable content - dropdown */\n",
       "\n",
       "#sk-container-id-1 div.sk-toggleable__content {\n",
       "  max-height: 0;\n",
       "  max-width: 0;\n",
       "  overflow: hidden;\n",
       "  text-align: left;\n",
       "  /* unfitted */\n",
       "  background-color: var(--sklearn-color-unfitted-level-0);\n",
       "}\n",
       "\n",
       "#sk-container-id-1 div.sk-toggleable__content.fitted {\n",
       "  /* fitted */\n",
       "  background-color: var(--sklearn-color-fitted-level-0);\n",
       "}\n",
       "\n",
       "#sk-container-id-1 div.sk-toggleable__content pre {\n",
       "  margin: 0.2em;\n",
       "  border-radius: 0.25em;\n",
       "  color: var(--sklearn-color-text);\n",
       "  /* unfitted */\n",
       "  background-color: var(--sklearn-color-unfitted-level-0);\n",
       "}\n",
       "\n",
       "#sk-container-id-1 div.sk-toggleable__content.fitted pre {\n",
       "  /* unfitted */\n",
       "  background-color: var(--sklearn-color-fitted-level-0);\n",
       "}\n",
       "\n",
       "#sk-container-id-1 input.sk-toggleable__control:checked~div.sk-toggleable__content {\n",
       "  /* Expand drop-down */\n",
       "  max-height: 200px;\n",
       "  max-width: 100%;\n",
       "  overflow: auto;\n",
       "}\n",
       "\n",
       "#sk-container-id-1 input.sk-toggleable__control:checked~label.sk-toggleable__label-arrow:before {\n",
       "  content: \"▾\";\n",
       "}\n",
       "\n",
       "/* Pipeline/ColumnTransformer-specific style */\n",
       "\n",
       "#sk-container-id-1 div.sk-label input.sk-toggleable__control:checked~label.sk-toggleable__label {\n",
       "  color: var(--sklearn-color-text);\n",
       "  background-color: var(--sklearn-color-unfitted-level-2);\n",
       "}\n",
       "\n",
       "#sk-container-id-1 div.sk-label.fitted input.sk-toggleable__control:checked~label.sk-toggleable__label {\n",
       "  background-color: var(--sklearn-color-fitted-level-2);\n",
       "}\n",
       "\n",
       "/* Estimator-specific style */\n",
       "\n",
       "/* Colorize estimator box */\n",
       "#sk-container-id-1 div.sk-estimator input.sk-toggleable__control:checked~label.sk-toggleable__label {\n",
       "  /* unfitted */\n",
       "  background-color: var(--sklearn-color-unfitted-level-2);\n",
       "}\n",
       "\n",
       "#sk-container-id-1 div.sk-estimator.fitted input.sk-toggleable__control:checked~label.sk-toggleable__label {\n",
       "  /* fitted */\n",
       "  background-color: var(--sklearn-color-fitted-level-2);\n",
       "}\n",
       "\n",
       "#sk-container-id-1 div.sk-label label.sk-toggleable__label,\n",
       "#sk-container-id-1 div.sk-label label {\n",
       "  /* The background is the default theme color */\n",
       "  color: var(--sklearn-color-text-on-default-background);\n",
       "}\n",
       "\n",
       "/* On hover, darken the color of the background */\n",
       "#sk-container-id-1 div.sk-label:hover label.sk-toggleable__label {\n",
       "  color: var(--sklearn-color-text);\n",
       "  background-color: var(--sklearn-color-unfitted-level-2);\n",
       "}\n",
       "\n",
       "/* Label box, darken color on hover, fitted */\n",
       "#sk-container-id-1 div.sk-label.fitted:hover label.sk-toggleable__label.fitted {\n",
       "  color: var(--sklearn-color-text);\n",
       "  background-color: var(--sklearn-color-fitted-level-2);\n",
       "}\n",
       "\n",
       "/* Estimator label */\n",
       "\n",
       "#sk-container-id-1 div.sk-label label {\n",
       "  font-family: monospace;\n",
       "  font-weight: bold;\n",
       "  display: inline-block;\n",
       "  line-height: 1.2em;\n",
       "}\n",
       "\n",
       "#sk-container-id-1 div.sk-label-container {\n",
       "  text-align: center;\n",
       "}\n",
       "\n",
       "/* Estimator-specific */\n",
       "#sk-container-id-1 div.sk-estimator {\n",
       "  font-family: monospace;\n",
       "  border: 1px dotted var(--sklearn-color-border-box);\n",
       "  border-radius: 0.25em;\n",
       "  box-sizing: border-box;\n",
       "  margin-bottom: 0.5em;\n",
       "  /* unfitted */\n",
       "  background-color: var(--sklearn-color-unfitted-level-0);\n",
       "}\n",
       "\n",
       "#sk-container-id-1 div.sk-estimator.fitted {\n",
       "  /* fitted */\n",
       "  background-color: var(--sklearn-color-fitted-level-0);\n",
       "}\n",
       "\n",
       "/* on hover */\n",
       "#sk-container-id-1 div.sk-estimator:hover {\n",
       "  /* unfitted */\n",
       "  background-color: var(--sklearn-color-unfitted-level-2);\n",
       "}\n",
       "\n",
       "#sk-container-id-1 div.sk-estimator.fitted:hover {\n",
       "  /* fitted */\n",
       "  background-color: var(--sklearn-color-fitted-level-2);\n",
       "}\n",
       "\n",
       "/* Specification for estimator info (e.g. \"i\" and \"?\") */\n",
       "\n",
       "/* Common style for \"i\" and \"?\" */\n",
       "\n",
       ".sk-estimator-doc-link,\n",
       "a:link.sk-estimator-doc-link,\n",
       "a:visited.sk-estimator-doc-link {\n",
       "  float: right;\n",
       "  font-size: smaller;\n",
       "  line-height: 1em;\n",
       "  font-family: monospace;\n",
       "  background-color: var(--sklearn-color-background);\n",
       "  border-radius: 1em;\n",
       "  height: 1em;\n",
       "  width: 1em;\n",
       "  text-decoration: none !important;\n",
       "  margin-left: 1ex;\n",
       "  /* unfitted */\n",
       "  border: var(--sklearn-color-unfitted-level-1) 1pt solid;\n",
       "  color: var(--sklearn-color-unfitted-level-1);\n",
       "}\n",
       "\n",
       ".sk-estimator-doc-link.fitted,\n",
       "a:link.sk-estimator-doc-link.fitted,\n",
       "a:visited.sk-estimator-doc-link.fitted {\n",
       "  /* fitted */\n",
       "  border: var(--sklearn-color-fitted-level-1) 1pt solid;\n",
       "  color: var(--sklearn-color-fitted-level-1);\n",
       "}\n",
       "\n",
       "/* On hover */\n",
       "div.sk-estimator:hover .sk-estimator-doc-link:hover,\n",
       ".sk-estimator-doc-link:hover,\n",
       "div.sk-label-container:hover .sk-estimator-doc-link:hover,\n",
       ".sk-estimator-doc-link:hover {\n",
       "  /* unfitted */\n",
       "  background-color: var(--sklearn-color-unfitted-level-3);\n",
       "  color: var(--sklearn-color-background);\n",
       "  text-decoration: none;\n",
       "}\n",
       "\n",
       "div.sk-estimator.fitted:hover .sk-estimator-doc-link.fitted:hover,\n",
       ".sk-estimator-doc-link.fitted:hover,\n",
       "div.sk-label-container:hover .sk-estimator-doc-link.fitted:hover,\n",
       ".sk-estimator-doc-link.fitted:hover {\n",
       "  /* fitted */\n",
       "  background-color: var(--sklearn-color-fitted-level-3);\n",
       "  color: var(--sklearn-color-background);\n",
       "  text-decoration: none;\n",
       "}\n",
       "\n",
       "/* Span, style for the box shown on hovering the info icon */\n",
       ".sk-estimator-doc-link span {\n",
       "  display: none;\n",
       "  z-index: 9999;\n",
       "  position: relative;\n",
       "  font-weight: normal;\n",
       "  right: .2ex;\n",
       "  padding: .5ex;\n",
       "  margin: .5ex;\n",
       "  width: min-content;\n",
       "  min-width: 20ex;\n",
       "  max-width: 50ex;\n",
       "  color: var(--sklearn-color-text);\n",
       "  box-shadow: 2pt 2pt 4pt #999;\n",
       "  /* unfitted */\n",
       "  background: var(--sklearn-color-unfitted-level-0);\n",
       "  border: .5pt solid var(--sklearn-color-unfitted-level-3);\n",
       "}\n",
       "\n",
       ".sk-estimator-doc-link.fitted span {\n",
       "  /* fitted */\n",
       "  background: var(--sklearn-color-fitted-level-0);\n",
       "  border: var(--sklearn-color-fitted-level-3);\n",
       "}\n",
       "\n",
       ".sk-estimator-doc-link:hover span {\n",
       "  display: block;\n",
       "}\n",
       "\n",
       "/* \"?\"-specific style due to the `<a>` HTML tag */\n",
       "\n",
       "#sk-container-id-1 a.estimator_doc_link {\n",
       "  float: right;\n",
       "  font-size: 1rem;\n",
       "  line-height: 1em;\n",
       "  font-family: monospace;\n",
       "  background-color: var(--sklearn-color-background);\n",
       "  border-radius: 1rem;\n",
       "  height: 1rem;\n",
       "  width: 1rem;\n",
       "  text-decoration: none;\n",
       "  /* unfitted */\n",
       "  color: var(--sklearn-color-unfitted-level-1);\n",
       "  border: var(--sklearn-color-unfitted-level-1) 1pt solid;\n",
       "}\n",
       "\n",
       "#sk-container-id-1 a.estimator_doc_link.fitted {\n",
       "  /* fitted */\n",
       "  border: var(--sklearn-color-fitted-level-1) 1pt solid;\n",
       "  color: var(--sklearn-color-fitted-level-1);\n",
       "}\n",
       "\n",
       "/* On hover */\n",
       "#sk-container-id-1 a.estimator_doc_link:hover {\n",
       "  /* unfitted */\n",
       "  background-color: var(--sklearn-color-unfitted-level-3);\n",
       "  color: var(--sklearn-color-background);\n",
       "  text-decoration: none;\n",
       "}\n",
       "\n",
       "#sk-container-id-1 a.estimator_doc_link.fitted:hover {\n",
       "  /* fitted */\n",
       "  background-color: var(--sklearn-color-fitted-level-3);\n",
       "}\n",
       "</style><div id=\"sk-container-id-1\" class=\"sk-top-container\"><div class=\"sk-text-repr-fallback\"><pre>DecisionTreeClassifier(max_depth=4, min_samples_leaf=11, min_samples_split=16)</pre><b>In a Jupyter environment, please rerun this cell to show the HTML representation or trust the notebook. <br />On GitHub, the HTML representation is unable to render, please try loading this page with nbviewer.org.</b></div><div class=\"sk-container\" hidden><div class=\"sk-item\"><div class=\"sk-estimator fitted sk-toggleable\"><input class=\"sk-toggleable__control sk-hidden--visually\" id=\"sk-estimator-id-1\" type=\"checkbox\" checked><label for=\"sk-estimator-id-1\" class=\"sk-toggleable__label fitted sk-toggleable__label-arrow fitted\">&nbsp;&nbsp;DecisionTreeClassifier<a class=\"sk-estimator-doc-link fitted\" rel=\"noreferrer\" target=\"_blank\" href=\"https://scikit-learn.org/1.5/modules/generated/sklearn.tree.DecisionTreeClassifier.html\">?<span>Documentation for DecisionTreeClassifier</span></a><span class=\"sk-estimator-doc-link fitted\">i<span>Fitted</span></span></label><div class=\"sk-toggleable__content fitted\"><pre>DecisionTreeClassifier(max_depth=4, min_samples_leaf=11, min_samples_split=16)</pre></div> </div></div></div></div>"
      ],
      "text/plain": [
       "DecisionTreeClassifier(max_depth=4, min_samples_leaf=11, min_samples_split=16)"
      ]
     },
     "execution_count": 26,
     "metadata": {},
     "output_type": "execute_result"
    }
   ],
   "source": [
    "cart_model"
   ]
  },
  {
   "cell_type": "code",
   "execution_count": 27,
   "metadata": {},
   "outputs": [
    {
     "name": "stdout",
     "output_type": "stream",
     "text": [
      "*** Evaluation on training set:\n",
      "Accuracy: 0.6312\n",
      "Precision: 0.6321\n",
      "Recall: 0.5205\n",
      "F1 score: 0.5709\n",
      "ROC AUC score: 0.6252\n",
      "MCC: 0.2565\n",
      "\n",
      "*** Evaluation on test set:\n",
      "Accuracy: 0.6075\n",
      "Precision: 0.6011\n",
      "Recall: 0.4972\n",
      "F1 score: 0.5442\n",
      "ROC AUC score: 0.6015\n",
      "MCC: 0.2078\n"
     ]
    }
   ],
   "source": [
    "# Evaluate model\n",
    "print('*** Evaluation on training set:')\n",
    "evaluate_sklearn(cart_model, X_train, y_train)\n",
    "\n",
    "print()\n",
    "\n",
    "print('*** Evaluation on test set:')\n",
    "evaluate_sklearn(cart_model, X_test, y_test)"
   ]
  },
  {
   "cell_type": "code",
   "execution_count": 28,
   "metadata": {},
   "outputs": [
    {
     "name": "stdout",
     "output_type": "stream",
     "text": [
      "Number of rules: 16\n"
     ]
    },
    {
     "data": {
      "text/plain": [
       "['if (XRI@nadh_c > 0.529) and (XRI@nad_c <= 0.888) and (ASN@pi_m <= 0.642) and (XRI@nadh_c <= 0.845) then class: 0 (proba: 65.53%) | based on 1,909 samples',\n",
       " 'if (XRI@nadh_c <= 0.529) and (ASN@pi_m <= 0.582) and (XRI@nad_c <= 0.565) and (PGK@dpg_c <= 0.933) then class: 0 (proba: 58.36%) | based on 1,753 samples',\n",
       " 'if (XRI@nadh_c > 0.529) and (XRI@nad_c <= 0.888) and (ASN@pi_m > 0.642) and (GND1@6pgl_c <= 0.866) then class: 0 (proba: 57.49%) | based on 1,075 samples',\n",
       " 'if (XRI@nadh_c <= 0.529) and (ASN@pi_m <= 0.582) and (XRI@nad_c > 0.565) and (TPI@t3p_c > 0.315) then class: 1 (proba: 59.81%) | based on 1,035 samples',\n",
       " 'if (XRI@nadh_c <= 0.529) and (ASN@pi_m > 0.582) and (TPI@t3p_c <= 0.479) and (ASN@pi_m <= 0.925) then class: 1 (proba: 55.4%) | based on 843 samples',\n",
       " 'if (XRI@nadh_c > 0.529) and (XRI@nad_c <= 0.888) and (ASN@pi_m <= 0.642) and (XRI@nadh_c > 0.845) then class: 0 (proba: 78.74%) | based on 823 samples',\n",
       " 'if (XRI@nadh_c <= 0.529) and (ASN@pi_m > 0.582) and (TPI@t3p_c > 0.479) and (XDH@xlt_c <= 0.728) then class: 1 (proba: 73.72%) | based on 803 samples',\n",
       " 'if (XRI@nadh_c <= 0.529) and (ASN@pi_m <= 0.582) and (XRI@nad_c > 0.565) and (TPI@t3p_c <= 0.315) then class: 0 (proba: 55.95%) | based on 479 samples',\n",
       " 'if (XRI@nadh_c <= 0.529) and (ASN@pi_m > 0.582) and (TPI@t3p_c > 0.479) and (XDH@xlt_c > 0.728) then class: 1 (proba: 59.14%) | based on 279 samples',\n",
       " 'if (XRI@nadh_c > 0.529) and (XRI@nad_c > 0.888) and (XK@adp_c > 0.391) and (ZWF@6pgl_c > 0.335) then class: 1 (proba: 58.37%) | based on 209 samples',\n",
       " 'if (XRI@nadh_c > 0.529) and (XRI@nad_c <= 0.888) and (ASN@pi_m > 0.642) and (GND1@6pgl_c > 0.866) then class: 1 (proba: 65.79%) | based on 190 samples',\n",
       " 'if (XRI@nadh_c <= 0.529) and (ASN@pi_m > 0.582) and (TPI@t3p_c <= 0.479) and (ASN@pi_m > 0.925) then class: 1 (proba: 74.05%) | based on 185 samples',\n",
       " 'if (XRI@nadh_c > 0.529) and (XRI@nad_c > 0.888) and (XK@adp_c <= 0.391) and (GND1@6pgl_c <= 0.747) then class: 1 (proba: 62.59%) | based on 147 samples',\n",
       " 'if (XRI@nadh_c <= 0.529) and (ASN@pi_m <= 0.582) and (XRI@nad_c <= 0.565) and (PGK@dpg_c > 0.933) then class: 1 (proba: 63.08%) | based on 130 samples',\n",
       " 'if (XRI@nadh_c > 0.529) and (XRI@nad_c > 0.888) and (XK@adp_c > 0.391) and (ZWF@6pgl_c <= 0.335) then class: 0 (proba: 63.75%) | based on 80 samples',\n",
       " 'if (XRI@nadh_c > 0.529) and (XRI@nad_c > 0.888) and (XK@adp_c <= 0.391) and (GND1@6pgl_c > 0.747) then class: 1 (proba: 86.67%) | based on 60 samples']"
      ]
     },
     "execution_count": 28,
     "metadata": {},
     "output_type": "execute_result"
    }
   ],
   "source": [
    "ruler = TreeRuler(df=train_df, tree_clf=cart_model, target=\"label\")\n",
    "ruler.get_rules()\n",
    "print(f'Number of rules: {len(ruler.rules)}')\n",
    "ruler.rules"
   ]
  },
  {
   "cell_type": "code",
   "execution_count": 32,
   "metadata": {},
   "outputs": [
    {
     "name": "stdout",
     "output_type": "stream",
     "text": [
      "['XRI@nadh_c<=0.529', 'ASN@pi_m>0.582', 'TPI@t3p_c>0.479', 'XDH@xlt_c<=0.728']\n",
      "Number of parameter sets following the rule: 15070\n"
     ]
    },
    {
     "data": {
      "text/html": [
       "<div>\n",
       "<style scoped>\n",
       "    .dataframe tbody tr th:only-of-type {\n",
       "        vertical-align: middle;\n",
       "    }\n",
       "\n",
       "    .dataframe tbody tr th {\n",
       "        vertical-align: top;\n",
       "    }\n",
       "\n",
       "    .dataframe thead th {\n",
       "        text-align: right;\n",
       "    }\n",
       "</style>\n",
       "<table border=\"1\" class=\"dataframe\">\n",
       "  <thead>\n",
       "    <tr style=\"text-align: right;\">\n",
       "      <th></th>\n",
       "      <th>percentage</th>\n",
       "      <th>absolute</th>\n",
       "    </tr>\n",
       "  </thead>\n",
       "  <tbody>\n",
       "    <tr>\n",
       "      <th>1</th>\n",
       "      <td>0.6934</td>\n",
       "      <td>10450.0</td>\n",
       "    </tr>\n",
       "    <tr>\n",
       "      <th>0</th>\n",
       "      <td>0.3066</td>\n",
       "      <td>4620.0</td>\n",
       "    </tr>\n",
       "  </tbody>\n",
       "</table>\n",
       "</div>"
      ],
      "text/plain": [
       "   percentage  absolute\n",
       "1      0.6934   10450.0\n",
       "0      0.3066    4620.0"
      ]
     },
     "metadata": {},
     "output_type": "display_data"
    }
   ],
   "source": [
    "rule = ruler.get_rule_constraints(6)\n",
    "print(rule)\n",
    "sampled_df = sample_from_df(test_df, rule)\n",
    "print(f'Number of parameter sets following the rule: {sampled_df.shape[0]}')\n",
    "get_value_counts(sampled_df)"
   ]
  },
  {
   "cell_type": "code",
   "execution_count": 36,
   "metadata": {},
   "outputs": [
    {
     "data": {
      "text/plain": [
       "count    15070.000000\n",
       "mean         0.511541\n",
       "std          0.291137\n",
       "min          0.001053\n",
       "25%          0.258070\n",
       "50%          0.518311\n",
       "75%          0.764239\n",
       "max          0.998977\n",
       "Name: GND1@6pgl_c, dtype: float64"
      ]
     },
     "execution_count": 36,
     "metadata": {},
     "output_type": "execute_result"
    }
   ],
   "source": [
    "sampled_df['GND1@6pgl_c'].describe()"
   ]
  },
  {
   "cell_type": "code",
   "execution_count": 39,
   "metadata": {},
   "outputs": [
    {
     "data": {
      "text/plain": [
       "1    0.7136\n",
       "0    0.2864\n",
       "Name: label, dtype: float64"
      ]
     },
     "execution_count": 39,
     "metadata": {},
     "output_type": "execute_result"
    }
   ],
   "source": [
    "sampled_df[sampled_df['GND1@6pgl_c'] > 0.60]['label'].value_counts(normalize=True).round(4)"
   ]
  },
  {
   "cell_type": "markdown",
   "metadata": {},
   "source": [
    "##### Skope - Rules"
   ]
  },
  {
   "cell_type": "code",
   "execution_count": 33,
   "metadata": {},
   "outputs": [],
   "source": [
    "skope_rules_clf = train_skoperules(X_train, y_train, scoring='precision', n_iter=100)"
   ]
  },
  {
   "cell_type": "code",
   "execution_count": null,
   "metadata": {},
   "outputs": [],
   "source": [
    "skope_rules_clf"
   ]
  },
  {
   "cell_type": "code",
   "execution_count": null,
   "metadata": {},
   "outputs": [],
   "source": [
    "# Evaluate model\n",
    "print('*** Evaluation on training set:')\n",
    "evaluate_sklearn(skope_rules_clf, X_train, y_train)\n",
    "\n",
    "print()\n",
    "\n",
    "print('*** Evaluation on test set:')\n",
    "evaluate_sklearn(skope_rules_clf, X_test, y_test)"
   ]
  },
  {
   "cell_type": "code",
   "execution_count": null,
   "metadata": {},
   "outputs": [],
   "source": [
    "# Print skope-rules rules\n",
    "print(f'*** Number of rules {len(skope_rules_clf.rules_)}')\n",
    "\n",
    "# Get rules\n",
    "for i in skope_rules_clf.rules_:\n",
    "    print(i)"
   ]
  },
  {
   "cell_type": "code",
   "execution_count": null,
   "metadata": {},
   "outputs": [],
   "source": [
    "_ = test_df[test_df['XRI@nadh_c'] <= 0.5797 ]\n",
    "_ = _[_['ASN@pi_m'] > 0.5426 ]\n",
    "_ = _[_['XDH@xlt_c'] <= 0.8568]\n",
    "\n",
    "get_value_counts(_)"
   ]
  },
  {
   "cell_type": "markdown",
   "metadata": {},
   "source": [
    "##### XGBoost"
   ]
  },
  {
   "cell_type": "code",
   "execution_count": 11,
   "metadata": {},
   "outputs": [
    {
     "name": "stdout",
     "output_type": "stream",
     "text": [
      "[CV] END ................................ score: (test=0.637) total time=   0.3s\n",
      "[CV] END ................................ score: (test=0.627) total time=   0.3s\n",
      "[CV] END ................................ score: (test=0.629) total time=   0.3s\n",
      "[CV] START .....................................................................\n",
      "[CV] START .....................................................................\n",
      "[CV] START .....................................................................\n"
     ]
    },
    {
     "name": "stderr",
     "output_type": "stream",
     "text": [
      "[Parallel(n_jobs=-1)]: Using backend LokyBackend with 64 concurrent workers.\n"
     ]
    },
    {
     "name": "stderr",
     "output_type": "stream",
     "text": [
      "[Parallel(n_jobs=-1)]: Done   3 out of   3 | elapsed:    0.3s finished\n",
      "[I 2024-09-30 18:19:45,109] Trial 89 finished with value: 0.6298993126667195 and parameters: {'learning_rate': 0.15674229445386875, 'n_estimators': 70, 'max_depth': 2, 'subsample': 0.7543127639145673, 'tree_method': 'exact', 'reg_alpha': 0.32990722826618457, 'reg_lambda': 0.5677683725411579}. Best is trial 66 with value: 0.6350997427277222.\n"
     ]
    },
    {
     "name": "stdout",
     "output_type": "stream",
     "text": [
      "[CV] END ................................ score: (test=0.637) total time=   0.2s\n",
      "[CV] END ................................ score: (test=0.626) total time=   0.3s\n",
      "[CV] END ................................ score: (test=0.627) total time=   0.2s\n",
      "[CV] START .....................................................................\n",
      "[CV] START .....................................................................\n",
      "[CV] START .....................................................................\n"
     ]
    },
    {
     "name": "stderr",
     "output_type": "stream",
     "text": [
      "[Parallel(n_jobs=-1)]: Using backend LokyBackend with 64 concurrent workers.\n",
      "[Parallel(n_jobs=-1)]: Done   3 out of   3 | elapsed:    0.4s finished\n",
      "[I 2024-09-30 18:19:45,563] Trial 90 finished with value: 0.6251994125627319 and parameters: {'learning_rate': 0.026733085661353254, 'n_estimators': 72, 'max_depth': 3, 'subsample': 0.9305645012522676, 'tree_method': 'exact', 'reg_alpha': 0.22643677453503044, 'reg_lambda': 0.5400568620208509}. Best is trial 66 with value: 0.6350997427277222.\n"
     ]
    },
    {
     "name": "stdout",
     "output_type": "stream",
     "text": [
      "[CV] END ................................ score: (test=0.631) total time=   0.4s\n",
      "[CV] END ................................ score: (test=0.625) total time=   0.4s\n",
      "[CV] END ................................ score: (test=0.620) total time=   0.4s\n",
      "[CV] START .....................................................................\n",
      "[CV] START .....................................................................\n",
      "[CV] START .....................................................................\n"
     ]
    },
    {
     "name": "stderr",
     "output_type": "stream",
     "text": [
      "[Parallel(n_jobs=-1)]: Using backend LokyBackend with 64 concurrent workers.\n",
      "[Parallel(n_jobs=-1)]: Done   3 out of   3 | elapsed:    0.2s finished\n",
      "[I 2024-09-30 18:19:45,845] Trial 91 finished with value: 0.6311995026737226 and parameters: {'learning_rate': 0.18289632657820368, 'n_estimators': 65, 'max_depth': 2, 'subsample': 0.8086003318179439, 'tree_method': 'exact', 'reg_alpha': 0.30535208162387334, 'reg_lambda': 0.6563941745970152}. Best is trial 66 with value: 0.6350997427277222.\n"
     ]
    },
    {
     "name": "stdout",
     "output_type": "stream",
     "text": [
      "[CV] END ................................ score: (test=0.636) total time=   0.2s\n",
      "[CV] END ................................ score: (test=0.635) total time=   0.2s\n",
      "[CV] END ................................ score: (test=0.622) total time=   0.2s\n",
      "[CV] START .....................................................................\n",
      "[CV] START .....................................................................\n",
      "[CV] START .....................................................................\n"
     ]
    },
    {
     "name": "stderr",
     "output_type": "stream",
     "text": [
      "[Parallel(n_jobs=-1)]: Using backend LokyBackend with 64 concurrent workers.\n",
      "[Parallel(n_jobs=-1)]: Done   3 out of   3 | elapsed:    0.2s finished\n",
      "[I 2024-09-30 18:19:46,128] Trial 92 finished with value: 0.6308992026977143 and parameters: {'learning_rate': 0.19446564998193316, 'n_estimators': 61, 'max_depth': 2, 'subsample': 0.8343499919135025, 'tree_method': 'exact', 'reg_alpha': 0.2767598588681661, 'reg_lambda': 0.7226014495982777}. Best is trial 66 with value: 0.6350997427277222.\n"
     ]
    },
    {
     "name": "stdout",
     "output_type": "stream",
     "text": [
      "[CV] END ................................ score: (test=0.631) total time=   0.2s\n",
      "[CV] END ................................ score: (test=0.639) total time=   0.2s\n",
      "[CV] END ................................ score: (test=0.623) total time=   0.2s\n",
      "[CV] START .....................................................................\n",
      "[CV] START .....................................................................\n",
      "[CV] START .....................................................................\n"
     ]
    },
    {
     "name": "stderr",
     "output_type": "stream",
     "text": [
      "[Parallel(n_jobs=-1)]: Using backend LokyBackend with 64 concurrent workers.\n",
      "[Parallel(n_jobs=-1)]: Done   3 out of   3 | elapsed:    0.2s finished\n",
      "[I 2024-09-30 18:19:46,399] Trial 93 finished with value: 0.6323997126767266 and parameters: {'learning_rate': 0.17429428202060823, 'n_estimators': 57, 'max_depth': 2, 'subsample': 0.8175375794343547, 'tree_method': 'exact', 'reg_alpha': 0.3549016680913893, 'reg_lambda': 0.6710327834974834}. Best is trial 66 with value: 0.6350997427277222.\n"
     ]
    },
    {
     "name": "stdout",
     "output_type": "stream",
     "text": [
      "[CV] END ................................ score: (test=0.635) total time=   0.2s\n",
      "[CV] END ................................ score: (test=0.633) total time=   0.2s\n",
      "[CV] END ................................ score: (test=0.629) total time=   0.2s\n",
      "[CV] START .....................................................................\n",
      "[CV] START .....................................................................\n",
      "[CV] START .....................................................................\n"
     ]
    },
    {
     "name": "stderr",
     "output_type": "stream",
     "text": [
      "[Parallel(n_jobs=-1)]: Using backend LokyBackend with 64 concurrent workers.\n",
      "[Parallel(n_jobs=-1)]: Done   3 out of   3 | elapsed:    0.3s finished\n",
      "[I 2024-09-30 18:19:46,705] Trial 94 finished with value: 0.629699412652723 and parameters: {'learning_rate': 0.16379607965441237, 'n_estimators': 66, 'max_depth': 2, 'subsample': 0.8965754009262131, 'tree_method': 'exact', 'reg_alpha': 0.3471116646228195, 'reg_lambda': 0.6445132208475722}. Best is trial 66 with value: 0.6350997427277222.\n"
     ]
    },
    {
     "name": "stdout",
     "output_type": "stream",
     "text": [
      "[CV] END ................................ score: (test=0.636) total time=   0.2s\n",
      "[CV] END ................................ score: (test=0.625) total time=   0.2s\n",
      "[CV] END ................................ score: (test=0.629) total time=   0.2s\n",
      "[CV] START .....................................................................\n",
      "[CV] START .....................................................................\n",
      "[CV] START .....................................................................\n"
     ]
    },
    {
     "name": "stderr",
     "output_type": "stream",
     "text": [
      "[Parallel(n_jobs=-1)]: Using backend LokyBackend with 64 concurrent workers.\n",
      "[Parallel(n_jobs=-1)]: Done   3 out of   3 | elapsed:    0.4s finished\n",
      "[I 2024-09-30 18:19:47,098] Trial 95 finished with value: 0.6270994825937303 and parameters: {'learning_rate': 0.1885644945516228, 'n_estimators': 63, 'max_depth': 3, 'subsample': 0.87135358844937, 'tree_method': 'exact', 'reg_alpha': 0.24848224989156809, 'reg_lambda': 0.7436246905919657}. Best is trial 66 with value: 0.6350997427277222.\n",
      "[Parallel(n_jobs=-1)]: Using backend LokyBackend with 64 concurrent workers.\n",
      "[Parallel(n_jobs=-1)]: Batch computation too fast (0.054503440856933594s.) Setting batch_size=2.\n",
      "[Parallel(n_jobs=-1)]: Done   3 out of   3 | elapsed:    0.1s finished\n",
      "[I 2024-09-30 18:19:47,212] Trial 96 finished with value: 0.6306986727466988 and parameters: {'learning_rate': 0.19499243024900453, 'n_estimators': 46, 'max_depth': 2, 'subsample': 0.852447549961073, 'tree_method': 'hist', 'reg_alpha': 0.3760356643794851, 'reg_lambda': 0.6995361692617524}. Best is trial 66 with value: 0.6350997427277222.\n"
     ]
    },
    {
     "name": "stdout",
     "output_type": "stream",
     "text": [
      "[CV] END ................................ score: (test=0.632) total time=   0.3s\n",
      "[CV] END ................................ score: (test=0.629) total time=   0.3s\n",
      "[CV] END ................................ score: (test=0.620) total time=   0.3s\n",
      "[CV] START .....................................................................\n",
      "[CV] START .....................................................................\n",
      "[CV] START .....................................................................\n",
      "[CV] END ................................ score: (test=0.644) total time=   0.0s\n",
      "[CV] END ................................ score: (test=0.626) total time=   0.0s\n",
      "[CV] END ................................ score: (test=0.623) total time=   0.0s\n",
      "[CV] START .....................................................................\n",
      "[CV] START .....................................................................\n",
      "[CV] START .....................................................................\n"
     ]
    },
    {
     "name": "stderr",
     "output_type": "stream",
     "text": [
      "[Parallel(n_jobs=-1)]: Using backend LokyBackend with 64 concurrent workers.\n",
      "[Parallel(n_jobs=-1)]: Done   3 out of   3 | elapsed:    1.4s finished\n",
      "[I 2024-09-30 18:19:48,639] Trial 97 finished with value: 0.6048991221857639 and parameters: {'learning_rate': 0.09571482032155336, 'n_estimators': 60, 'max_depth': 11, 'subsample': 0.8841069977346264, 'tree_method': 'exact', 'reg_alpha': 0.39213230178028985, 'reg_lambda': 0.6853237207039016}. Best is trial 66 with value: 0.6350997427277222.\n"
     ]
    },
    {
     "name": "stdout",
     "output_type": "stream",
     "text": [
      "[CV] END ................................ score: (test=0.614) total time=   1.3s\n",
      "[CV] END ................................ score: (test=0.608) total time=   1.3s\n",
      "[CV] END ................................ score: (test=0.593) total time=   1.4s\n",
      "[CV] START .....................................................................\n",
      "[CV] START .....................................................................\n",
      "[CV] START .....................................................................\n"
     ]
    },
    {
     "name": "stderr",
     "output_type": "stream",
     "text": [
      "[Parallel(n_jobs=-1)]: Using backend LokyBackend with 64 concurrent workers.\n",
      "[Parallel(n_jobs=-1)]: Done   3 out of   3 | elapsed:    0.4s finished\n",
      "[I 2024-09-30 18:19:49,087] Trial 98 finished with value: 0.6264992726027252 and parameters: {'learning_rate': 0.11182842284090963, 'n_estimators': 52, 'max_depth': 4, 'subsample': 0.8313020590808817, 'tree_method': 'auto', 'reg_alpha': 0.4559681705605744, 'reg_lambda': 0.6293078695094844}. Best is trial 66 with value: 0.6350997427277222.\n"
     ]
    },
    {
     "name": "stdout",
     "output_type": "stream",
     "text": [
      "[CV] END ................................ score: (test=0.634) total time=   0.4s\n",
      "[CV] END ................................ score: (test=0.626) total time=   0.4s\n",
      "[CV] END ................................ score: (test=0.620) total time=   0.4s\n",
      "[CV] START .....................................................................\n",
      "[CV] START .....................................................................\n",
      "[CV] START .....................................................................\n"
     ]
    },
    {
     "name": "stderr",
     "output_type": "stream",
     "text": [
      "[Parallel(n_jobs=-1)]: Using backend LokyBackend with 64 concurrent workers.\n",
      "[Parallel(n_jobs=-1)]: Done   3 out of   3 | elapsed:    0.3s finished\n",
      "[I 2024-09-30 18:19:49,412] Trial 99 finished with value: 0.6363997527527198 and parameters: {'learning_rate': 0.18119648643455633, 'n_estimators': 72, 'max_depth': 2, 'subsample': 0.7990532474376462, 'tree_method': 'exact', 'reg_alpha': 0.31697967836332724, 'reg_lambda': 0.7129855290087396}. Best is trial 99 with value: 0.6363997527527198.\n"
     ]
    },
    {
     "name": "stdout",
     "output_type": "stream",
     "text": [
      "[CV] END ................................ score: (test=0.639) total time=   0.2s\n",
      "[CV] END ................................ score: (test=0.637) total time=   0.2s\n",
      "[CV] END ................................ score: (test=0.634) total time=   0.3s\n"
     ]
    }
   ],
   "source": [
    "xgb_model = train_xgboost(X_train, y_train, scoring='accuracy', n_trials=100)"
   ]
  },
  {
   "cell_type": "code",
   "execution_count": null,
   "metadata": {},
   "outputs": [],
   "source": [
    "xgb_model"
   ]
  },
  {
   "cell_type": "code",
   "execution_count": null,
   "metadata": {},
   "outputs": [],
   "source": [
    "# Evaluate model\n",
    "print('*** Evaluation on training set:')\n",
    "evaluate_sklearn(xgb_model, X_train, y_train)\n",
    "\n",
    "print()\n",
    "\n",
    "print('*** Evaluation on test set:')\n",
    "evaluate_sklearn(xgb_model, X_test, y_test)"
   ]
  },
  {
   "cell_type": "code",
   "execution_count": null,
   "metadata": {},
   "outputs": [],
   "source": [
    "xgb_preds = xgb_model.predict(X_train)\n",
    "xgb2tree = ml2tree(X_train, xgb_preds, scoring='accuracy', n_trials=100)"
   ]
  },
  {
   "cell_type": "code",
   "execution_count": null,
   "metadata": {},
   "outputs": [],
   "source": [
    "xgb2tree"
   ]
  },
  {
   "cell_type": "code",
   "execution_count": null,
   "metadata": {},
   "outputs": [],
   "source": [
    "evaluate_sklearn(xgb2tree, X_test, y_test)"
   ]
  },
  {
   "cell_type": "code",
   "execution_count": null,
   "metadata": {},
   "outputs": [],
   "source": [
    "ruler = TreeRuler(df=train_df, tree_clf=xgb2tree, target=\"label\")\n",
    "ruler.get_rules()\n",
    "ruler.rules"
   ]
  },
  {
   "cell_type": "code",
   "execution_count": null,
   "metadata": {},
   "outputs": [],
   "source": [
    "rule = ruler.get_rule_constraints(1)\n",
    "print(rule)\n",
    "sampled_df = sample_from_df(test_df, rule)\n",
    "print(f'Number of parameter sets following the rule: {sampled_df.shape[0]}')\n",
    "get_value_counts(sampled_df)"
   ]
  },
  {
   "cell_type": "markdown",
   "metadata": {},
   "source": [
    "##### Neural Network"
   ]
  },
  {
   "cell_type": "code",
   "execution_count": null,
   "metadata": {},
   "outputs": [],
   "source": [
    "import torch\n",
    "\n",
    "device = torch.device(\"cuda\" if torch.cuda.is_available() else \"cpu\")\n",
    "\n",
    "net = ANNClassifier(input_dim=X_train.shape[1], hidden_dim=2048,\n",
    "                    output_dim=1, hidden_layers=4).to(device)\n",
    "\n",
    "net = train_ann(net, X_train, y_train, num_epochs=1000, learning_rate=0.001, batch_size=2048)"
   ]
  },
  {
   "cell_type": "code",
   "execution_count": null,
   "metadata": {},
   "outputs": [],
   "source": [
    "# Evaluate model\n",
    "print('*** Evaluation on training set:')\n",
    "evaluate_ann(net, X_train, y_train)\n",
    "print()\n",
    "\n",
    "print('*** Evaluation on test set:')\n",
    "evaluate_ann(net, X_test, y_test)"
   ]
  },
  {
   "cell_type": "code",
   "execution_count": null,
   "metadata": {},
   "outputs": [],
   "source": [
    "ann_preds = get_predictions(net, X_train)\n",
    "ann2tree = ml2tree(X_train, ann_preds, n_trials=25\n",
    "                   )"
   ]
  },
  {
   "cell_type": "code",
   "execution_count": null,
   "metadata": {},
   "outputs": [],
   "source": [
    "ann2tree"
   ]
  },
  {
   "cell_type": "code",
   "execution_count": null,
   "metadata": {},
   "outputs": [],
   "source": [
    "evaluate_sklearn(ann2tree, X_test, y_test)"
   ]
  },
  {
   "cell_type": "code",
   "execution_count": null,
   "metadata": {},
   "outputs": [],
   "source": [
    "ruler = TreeRuler(df=train_df, tree_clf=ann2tree, target=\"label\")\n",
    "ruler.get_rules()\n",
    "ruler.rules"
   ]
  },
  {
   "cell_type": "code",
   "execution_count": null,
   "metadata": {},
   "outputs": [],
   "source": [
    "rule = ruler.get_rule_constraints(2)\n",
    "print(rule)\n",
    "sampled_df = sample_from_df(test_df, rule)\n",
    "print(f'Number of parameter sets following the rule: {sampled_df.shape[0]}')\n",
    "get_value_counts(sampled_df)"
   ]
  },
  {
   "cell_type": "markdown",
   "metadata": {},
   "source": [
    "### Exlainable Machine Learning"
   ]
  },
  {
   "cell_type": "code",
   "execution_count": 12,
   "metadata": {},
   "outputs": [
    {
     "data": {
      "image/png": "[encoded data removed]",
      "text/plain": [
       "<Figure size 640x480 with 1 Axes>"
      ]
     },
     "metadata": {},
     "output_type": "display_data"
    }
   ],
   "source": [
    "xgb.plot_importance(xgb_model, importance_type='gain')\n",
    "plt.show()"
   ]
  },
  {
   "cell_type": "code",
   "execution_count": 20,
   "metadata": {},
   "outputs": [
    {
     "data": {
      "image/png": "[encoded data removed]",
      "text/plain": [
       "<Figure size 2000x1000 with 2 Axes>"
      ]
     },
     "metadata": {},
     "output_type": "display_data"
    }
   ],
   "source": [
    "import shap\n",
    "\n",
    "# Create a TreeExplainer for the xgb_model\n",
    "explainer = shap.TreeExplainer(xgb_model)\n",
    "# Calculate SHAP values for the training set\n",
    "shap_values = explainer.shap_values(X_train)\n",
    "# Display the SHAP summary plot\n",
    "\n",
    "fig = plt.figure()\n",
    "shap.summary_plot(shap_values, X_train, plot_type=\"dot\", show=False)\n",
    "plt.gcf().set_size_inches(20,10)\n",
    "plt.xlabel(\"SHAP value\")\n",
    "plt.show()"
   ]
  },
  {
   "cell_type": "code",
   "execution_count": 24,
   "metadata": {},
   "outputs": [
    {
     "data": {
      "image/png": "[encoded data removed]",
      "text/plain": [
       "<Figure size 640x480 with 2 Axes>"
      ]
     },
     "metadata": {},
     "output_type": "display_data"
    }
   ],
   "source": [
    "from sklearn.inspection import PartialDependenceDisplay\n",
    "\n",
    "PartialDependenceDisplay.from_estimator(xgb_model, X_train, features=['ASN@pi_m'])\n",
    "plt.show()"
   ]
  }
 ],
 "metadata": {
  "kernelspec": {
   "display_name": "main",
   "language": "python",
   "name": "python3"
  },
  "language_info": {
   "codemirror_mode": {
    "name": "ipython",
    "version": 3
   },
   "file_extension": ".py",
   "mimetype": "text/x-python",
   "name": "python",
   "nbconvert_exporter": "python",
   "pygments_lexer": "ipython3",
   "version": "3.10.12"
  }
 },
 "nbformat": 4,
 "nbformat_minor": 2
}
