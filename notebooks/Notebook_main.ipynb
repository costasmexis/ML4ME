{
 "cells": [
  {
   "cell_type": "code",
   "execution_count": 1,
   "metadata": {},
   "outputs": [],
   "source": [
    "%load_ext autoreload\n",
    "%autoreload 2"
   ]
  },
  {
   "cell_type": "code",
   "execution_count": 46,
   "metadata": {},
   "outputs": [],
   "source": [
    "import sys\n",
    "\n",
    "sys.path.append('..')\n",
    "\n",
    "import matplotlib.pyplot as plt\n",
    "import numpy as np\n",
    "import pandas as pd\n",
    "from mrmr import mrmr_classif\n",
    "\n",
    "from src.machinelearning import (\n",
    "    ANNClassifier,\n",
    "    evaluate_ann,\n",
    "    evaluate_sklearn,\n",
    "    get_predictions,\n",
    "    train_ann,\n",
    "    train_decisiontree,\n",
    "    train_skoperules,\n",
    "    train_xgboost\n",
    ")\n",
    "from src.ml2rules import TreeRuler, ml2tree, sample_from_df\n",
    "from src.utils import get_cc_mat, get_dataset, non_stratify_split, stratify_split"
   ]
  },
  {
   "cell_type": "code",
   "execution_count": 3,
   "metadata": {},
   "outputs": [],
   "source": [
    "def plot_cc_ranges(df: pd.DataFrame) -> None:\n",
    "    # Change plot style\n",
    "    plt.style.use(\"ggplot\")\n",
    "    # Calculate the 1st and 3rd quartiles of df values\n",
    "    q1 = df.quantile(0.25)\n",
    "    q3 = df.quantile(0.75)\n",
    "    # Plot the mean of df values\n",
    "    plt.figure(figsize=(10, 3))\n",
    "    plt.barh(df.columns[::-1], df.mean()[::-1])\n",
    "    plt.axvline(x=0, color=\"black\", linestyle=\"-\")\n",
    "    plt.plot(q1, df.columns, \"|\", color=\"black\", label=\"Q1\", alpha=1)\n",
    "    plt.plot(q3, df.columns, \"|\", color=\"black\", label=\"Q3\", alpha=1)\n",
    "    for i, enzyme in enumerate(df.columns):\n",
    "        plt.plot([q1[i], q3[i]], [enzyme, enzyme], color=\"black\")\n",
    "    plt.title(\"CC_XTR\")\n",
    "    plt.grid()\n",
    "    plt.show()\n",
    "    \n",
    "def get_value_counts(df: pd.DataFrame) -> None:\n",
    "    display(\n",
    "        pd.DataFrame(\n",
    "        data=[df['label'].value_counts(normalize=True).round(4), df['label'].value_counts()],\n",
    "        index=[\"percentage\", \"absolute\"]    \n",
    "    ).T\n",
    "    )\n"
   ]
  },
  {
   "cell_type": "markdown",
   "metadata": {},
   "source": [
    "### Data loading"
   ]
  },
  {
   "cell_type": "code",
   "execution_count": null,
   "metadata": {},
   "outputs": [],
   "source": [
    "df = get_dataset(\n",
    "    labels_file=\"../data/class_vector_train_ref.mat\",\n",
    "    params_file=\"../data/training_set_ref.mat\",\n",
    "    names_file=\"../data/paremeterNames.mat\",\n",
    ")\n",
    "\n",
    "print(f\"***Dataset shape: {df.shape}\\n\")\n",
    "\n",
    "# Load FCC data\n",
    "enzyme, commonEnz, allEnzymes, \\\n",
    "    commonConCoeff, allConCoeff = get_cc_mat(\"../data/ccXTR_ref.mat\")\n",
    "\n",
    "plot_cc_ranges(commonConCoeff)"
   ]
  },
  {
   "cell_type": "code",
   "execution_count": null,
   "metadata": {},
   "outputs": [],
   "source": [
    "# Create dataset for HXK enzyme; label 1 if CC < 0, 0 otherwise\n",
    "idx_HXK = commonConCoeff[commonConCoeff[\"HXK\"] < 0].index\n",
    "\n",
    "df_HXK = df.drop(\"label\", axis=1)\n",
    "df_HXK[\"label\"] = [1 if i in idx_HXK else 0 for i in df_HXK.index]\n",
    "df_HXK[\"label\"].value_counts(normalize=True).round(4)\n",
    "df = df_HXK.copy()\n",
    "\n",
    "# Create a dataframe with value_counts both percentage and absolute\n",
    "display(\n",
    "    pd.DataFrame(\n",
    "    data=[df['label'].value_counts(normalize=True).round(4), df['label'].value_counts()],\n",
    "    index=[\"percentage\", \"absolute\"]    \n",
    ").T\n",
    ")\n",
    "\n",
    "del df_HXK"
   ]
  },
  {
   "cell_type": "markdown",
   "metadata": {},
   "source": [
    "### Train - Test data split"
   ]
  },
  {
   "cell_type": "code",
   "execution_count": null,
   "metadata": {},
   "outputs": [],
   "source": [
    "# Split data\n",
    "# X_train, X_test, y_train, y_test = non_stratify_split(\n",
    "#     data=df, train_size=100000, target=\"label\", zero_class_pct=0.60\n",
    "# )\n",
    "\n",
    "X_train, X_test, y_train, y_test = stratify_split(\n",
    "    data=df, train_size=0.5, target=\"label\"\n",
    ")\n",
    "\n",
    "train_df = pd.concat([X_train, y_train], axis=1)\n",
    "test_df = pd.concat([X_test, y_test], axis=1)\n",
    "\n",
    "print('Training set value counts:')\n",
    "get_value_counts(train_df)\n",
    "\n",
    "print('Test set value counts:')\n",
    "get_value_counts(test_df)"
   ]
  },
  {
   "cell_type": "markdown",
   "metadata": {},
   "source": [
    "### Feature Selection"
   ]
  },
  {
   "cell_type": "code",
   "execution_count": null,
   "metadata": {},
   "outputs": [],
   "source": [
    "K = int(df.drop(\"label\", axis=1).shape[1] / 4)\n",
    "print(f\"***Number of features to select: {K}\")\n",
    "selected_features = mrmr_classif(X=df.drop(\"label\", axis=1), y=df[\"label\"], K=K)\n",
    "\n",
    "# keep only selected features\n",
    "X_train = X_train[selected_features]\n",
    "X_test = X_test[selected_features]\n",
    "train_df = pd.concat([X_train, y_train], axis=1)\n",
    "test_df = pd.concat([X_test, y_test], axis=1)\n",
    "\n",
    "print(f'Training set shape: {train_df.shape}')\n",
    "print(f'Test set shape: {test_df.shape}')"
   ]
  },
  {
   "cell_type": "markdown",
   "metadata": {},
   "source": [
    "### Machine Learning"
   ]
  },
  {
   "cell_type": "markdown",
   "metadata": {},
   "source": [
    "##### Decision Tree - iSHRUNCK"
   ]
  },
  {
   "cell_type": "code",
   "execution_count": null,
   "metadata": {},
   "outputs": [],
   "source": [
    "cart_model = train_decisiontree(X_train, y_train, scoring='accuracy', n_trials=1)"
   ]
  },
  {
   "cell_type": "code",
   "execution_count": null,
   "metadata": {},
   "outputs": [],
   "source": [
    "cart_model"
   ]
  },
  {
   "cell_type": "code",
   "execution_count": null,
   "metadata": {},
   "outputs": [],
   "source": [
    "# Evaluate model\n",
    "print('*** Evaluation on training set:')\n",
    "evaluate_sklearn(cart_model, X_train, y_train)\n",
    "\n",
    "print()\n",
    "\n",
    "print('*** Evaluation on test set:')\n",
    "evaluate_sklearn(cart_model, X_test, y_test)"
   ]
  },
  {
   "cell_type": "code",
   "execution_count": null,
   "metadata": {},
   "outputs": [],
   "source": [
    "ruler = TreeRuler(df=train_df, tree_clf=cart_model, target=\"label\")\n",
    "ruler.get_rules()\n",
    "ruler.rules"
   ]
  },
  {
   "cell_type": "code",
   "execution_count": null,
   "metadata": {},
   "outputs": [],
   "source": [
    "rule = ruler.get_rule_constraints(0)\n",
    "sampled_df = sample_from_df(test_df, rule)\n",
    "print(f'Number of parameter sets following the rule: {sampled_df.shape[0]}')\n",
    "get_value_counts(sampled_df)"
   ]
  },
  {
   "cell_type": "code",
   "execution_count": null,
   "metadata": {},
   "outputs": [],
   "source": [
    "_ = test_df[test_df['ASN@pi_m'] <= 0.63]\n",
    "_ = _[_['XRI@nadh_c'] <= 0.604]\n",
    "_ = _[_['TPI@t3p_c'] > 0.421]\n",
    "_ = _[_['XRI@nad_c'] > 0.611]\n",
    "_ = _[_['PGK@dpg_c'] <= 0.909]\n",
    "_ = _[_['XDH@xlt_c'] <= 0.691]\n",
    "_ = _[_['GLYCt@glyc_c'] <= 0.936]\n",
    "\n",
    "get_value_counts(_)"
   ]
  },
  {
   "cell_type": "markdown",
   "metadata": {},
   "source": [
    "##### Skope - Rules"
   ]
  },
  {
   "cell_type": "code",
   "execution_count": null,
   "metadata": {},
   "outputs": [],
   "source": [
    "skope_rules_clf = train_skoperules(X_train, y_train, scoring='matthews_corrcoef', n_iter=25)"
   ]
  },
  {
   "cell_type": "code",
   "execution_count": null,
   "metadata": {},
   "outputs": [],
   "source": [
    "skope_rules_clf"
   ]
  },
  {
   "cell_type": "code",
   "execution_count": null,
   "metadata": {},
   "outputs": [],
   "source": [
    "# Print skope-rules rules\n",
    "print(f'*** Number of rules {len(skope_rules_clf.rules_)}')\n",
    "\n",
    "# Get rules\n",
    "for i in skope_rules_clf.rules_:\n",
    "    print(i)"
   ]
  },
  {
   "cell_type": "code",
   "execution_count": null,
   "metadata": {},
   "outputs": [],
   "source": [
    "_ = test_df[test_df['XRI@nadh_c'] <= 0.7392323613166809]\n",
    "_ = _[_['ASN@pi_m'] > 0.632788211107254]\n",
    "_ = _[_['ASN@atp_m'] <= 0.8232964277267456]\n",
    "\n",
    "get_value_counts(_)"
   ]
  },
  {
   "cell_type": "markdown",
   "metadata": {},
   "source": [
    "##### XGBoost"
   ]
  },
  {
   "cell_type": "code",
   "execution_count": null,
   "metadata": {},
   "outputs": [],
   "source": [
    "xgb_model = train_xgboost(X_train, y_train, scoring='accuracy', n_trials=25)"
   ]
  },
  {
   "cell_type": "code",
   "execution_count": null,
   "metadata": {},
   "outputs": [],
   "source": [
    "xgb_model"
   ]
  },
  {
   "cell_type": "code",
   "execution_count": null,
   "metadata": {},
   "outputs": [],
   "source": [
    "# Evaluate model\n",
    "print('*** Evaluation on training set:')\n",
    "evaluate_sklearn(xgb_model, X_train, y_train)\n",
    "\n",
    "print()\n",
    "\n",
    "print('*** Evaluation on test set:')\n",
    "evaluate_sklearn(xgb_model, X_test, y_test)"
   ]
  },
  {
   "cell_type": "code",
   "execution_count": null,
   "metadata": {},
   "outputs": [],
   "source": [
    "xgb_preds = xgb_model.predict(X_train)\n",
    "xgb2tree = ml2tree(X_train, xgb_preds, n_trial=25)"
   ]
  },
  {
   "cell_type": "code",
   "execution_count": null,
   "metadata": {},
   "outputs": [],
   "source": [
    "xgb2tree"
   ]
  },
  {
   "cell_type": "code",
   "execution_count": null,
   "metadata": {},
   "outputs": [],
   "source": [
    "evaluate_sklearn(xgb2tree, X_test, y_test)"
   ]
  },
  {
   "cell_type": "code",
   "execution_count": null,
   "metadata": {},
   "outputs": [],
   "source": [
    "ruler = TreeRuler(df=train_df, tree_clf=xgb2tree, target=\"label\")\n",
    "ruler.get_rules()\n",
    "ruler.rules"
   ]
  },
  {
   "cell_type": "markdown",
   "metadata": {},
   "source": [
    "##### Neural Network"
   ]
  },
  {
   "cell_type": "code",
   "execution_count": null,
   "metadata": {},
   "outputs": [],
   "source": [
    "import torch\n",
    "\n",
    "device = torch.device(\"cuda\" if torch.cuda.is_available() else \"cpu\")\n",
    "\n",
    "net = ANNClassifier(input_dim=X_train.shape[1], hidden_dim=2048,\n",
    "                    output_dim=1, hidden_layers=4).to(device)\n",
    "net = train_ann(net, X_train, y_train, num_epochs=1000, learning_rate=0.001, batch_size=2048)"
   ]
  },
  {
   "cell_type": "code",
   "execution_count": null,
   "metadata": {},
   "outputs": [],
   "source": [
    "# Evaluate model\n",
    "evaluate_ann(net, X_test, y_test)"
   ]
  },
  {
   "cell_type": "code",
   "execution_count": null,
   "metadata": {},
   "outputs": [],
   "source": [
    "ann_preds = get_predictions(net, X_train)\n",
    "ann2tree = ml2tree(X_train, ann_preds, n_trials=200)"
   ]
  },
  {
   "cell_type": "code",
   "execution_count": null,
   "metadata": {},
   "outputs": [],
   "source": [
    "ann2tree"
   ]
  },
  {
   "cell_type": "code",
   "execution_count": null,
   "metadata": {},
   "outputs": [],
   "source": [
    "evaluate_sklearn(ann2tree, X_test, y_test)"
   ]
  },
  {
   "cell_type": "code",
   "execution_count": null,
   "metadata": {},
   "outputs": [],
   "source": [
    "ruler = TreeRuler(df=train_df, tree_clf=ann2tree, target=\"label\")\n",
    "ruler.get_rules()\n",
    "ruler.rules"
   ]
  },
  {
   "cell_type": "code",
   "execution_count": null,
   "metadata": {},
   "outputs": [],
   "source": [
    "_ = test_df[test_df['ASN@pi_m'] > 0.679]\n",
    "_ = _[_['XRI@nadh_c'] <= 0.633]\n",
    "_ = _[_['ASN@atp_m'] <= 0.573]\n",
    "\n",
    "get_value_counts(_)"
   ]
  },
  {
   "cell_type": "code",
   "execution_count": null,
   "metadata": {},
   "outputs": [],
   "source": []
  },
  {
   "cell_type": "markdown",
   "metadata": {},
   "source": [
    "### Exlainable Machine Learning"
   ]
  }
 ],
 "metadata": {
  "kernelspec": {
   "display_name": "main",
   "language": "python",
   "name": "python3"
  },
  "language_info": {
   "codemirror_mode": {
    "name": "ipython",
    "version": 3
   },
   "file_extension": ".py",
   "mimetype": "text/x-python",
   "name": "python",
   "nbconvert_exporter": "python",
   "pygments_lexer": "ipython3",
   "version": "3.10.12"
  }
 },
 "nbformat": 4,
 "nbformat_minor": 2
}
