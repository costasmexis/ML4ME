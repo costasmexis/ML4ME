{
 "cells": [
  {
   "cell_type": "code",
   "execution_count": 12,
   "metadata": {},
   "outputs": [
    {
     "name": "stdout",
     "output_type": "stream",
     "text": [
      "(372, 1411)\n",
      "(372, 1340)\n",
      "(372, 1279)\n"
     ]
    }
   ],
   "source": [
    "import pandas as pd\n",
    "\n",
    "df = pd.read_csv('../data/Parameters_90_stability.csv', index_col=0)\n",
    "df.reset_index(inplace=True, drop=True)\n",
    "print(df.shape)\n",
    "\n",
    "# Find columns with values > 1\n",
    "cols_to_drop = df.columns[(df > 1).any()]\n",
    "df.drop(cols_to_drop, axis=1, inplace=True)\n",
    "print(df.shape)\n",
    "\n",
    "# Find columns with mean value < 0.1\n",
    "cols_to_drop = df.columns[df.mean() < 0.1]\n",
    "df.drop(cols_to_drop, axis=1, inplace=True)\n",
    "print(df.shape)"
   ]
  }
 ],
 "metadata": {
  "kernelspec": {
   "display_name": "main",
   "language": "python",
   "name": "python3"
  },
  "language_info": {
   "codemirror_mode": {
    "name": "ipython",
    "version": 3
   },
   "file_extension": ".py",
   "mimetype": "text/x-python",
   "name": "python",
   "nbconvert_exporter": "python",
   "pygments_lexer": "ipython3",
   "version": "3.10.12"
  }
 },
 "nbformat": 4,
 "nbformat_minor": 2
}
