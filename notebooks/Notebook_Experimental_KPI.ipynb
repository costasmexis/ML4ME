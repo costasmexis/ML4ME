{
 "cells": [
  {
   "cell_type": "code",
   "execution_count": 31,
   "metadata": {},
   "outputs": [],
   "source": [
    "import sys\n",
    "import os\n",
    "\n",
    "sys.path.append('..')\n",
    "\n",
    "import pickle\n",
    "\n",
    "import matplotlib.pyplot as plt\n",
    "import numpy as np\n",
    "import pandas as pd\n",
    "import xgboost as xgb\n",
    "from mrmr import mrmr_classif\n",
    "\n",
    "from src.machinelearning import (\n",
    "    ANNClassifier,\n",
    "    cross_val_sklearn,\n",
    "    evaluate_ann,\n",
    "    evaluate_sklearn,\n",
    "    get_predictions,\n",
    "    train_ann,\n",
    "    train_decisiontree,\n",
    "    train_skoperules,\n",
    "    train_xgboost,\n",
    ")\n",
    "from src.ml2rules import TreeRuler, ml2tree, sample_from_df\n",
    "from src.mlexplain import *\n",
    "from src.utils import get_cc_mat, get_dataset, non_stratify_split, stratify_split"
   ]
  },
  {
   "cell_type": "code",
   "execution_count": 32,
   "metadata": {},
   "outputs": [],
   "source": [
    "def get_value_counts(df: pd.DataFrame) -> None:\n",
    "    display(\n",
    "        pd.DataFrame(\n",
    "        data=[df['label'].value_counts(normalize=True).round(4), df['label'].value_counts()],\n",
    "        index=[\"percentage\", \"absolute\"]    \n",
    "    ).T\n",
    "    )"
   ]
  },
  {
   "cell_type": "markdown",
   "metadata": {},
   "source": [
    "# Data preprocessing"
   ]
  },
  {
   "cell_type": "code",
   "execution_count": 33,
   "metadata": {},
   "outputs": [
    {
     "name": "stdout",
     "output_type": "stream",
     "text": [
      "Original shape: (492, 1242)\n",
      "New shape: (492, 1242)\n"
     ]
    },
    {
     "data": {
      "text/html": [
       "<div>\n",
       "<style scoped>\n",
       "    .dataframe tbody tr th:only-of-type {\n",
       "        vertical-align: middle;\n",
       "    }\n",
       "\n",
       "    .dataframe tbody tr th {\n",
       "        vertical-align: top;\n",
       "    }\n",
       "\n",
       "    .dataframe thead th {\n",
       "        text-align: right;\n",
       "    }\n",
       "</style>\n",
       "<table border=\"1\" class=\"dataframe\">\n",
       "  <thead>\n",
       "    <tr style=\"text-align: right;\">\n",
       "      <th></th>\n",
       "      <th>LnGamma_AATA</th>\n",
       "      <th>LnGamma_IPPS</th>\n",
       "      <th>LnGamma_IPPSm</th>\n",
       "      <th>LnGamma_DHQTi</th>\n",
       "      <th>LnGamma_ADCS</th>\n",
       "      <th>LnGamma_ABTA</th>\n",
       "      <th>LnGamma_PGL</th>\n",
       "      <th>LnGamma_ACACT1r</th>\n",
       "      <th>LnGamma_ACOAHim</th>\n",
       "      <th>LnGamma_ACOTAim</th>\n",
       "      <th>...</th>\n",
       "      <th>sigma_km_substrate1_TRPS1</th>\n",
       "      <th>sigma_km_product1_TRPS1</th>\n",
       "      <th>sigma_km_substrate2_TRPS1</th>\n",
       "      <th>sigma_km_product2_TRPS1</th>\n",
       "      <th>sigma_km_substrate1_TRPTA</th>\n",
       "      <th>sigma_km_product1_TRPTA</th>\n",
       "      <th>sigma_km_substrate2_TRPTA</th>\n",
       "      <th>sigma_km_product2_TRPTA</th>\n",
       "      <th>sigma_km_substrate_TRPt2r</th>\n",
       "      <th>sigma_km_product_TRPt2r</th>\n",
       "    </tr>\n",
       "  </thead>\n",
       "  <tbody>\n",
       "    <tr>\n",
       "      <th>0</th>\n",
       "      <td>0.1399</td>\n",
       "      <td>0.000172</td>\n",
       "      <td>9.453814e-13</td>\n",
       "      <td>0.00294</td>\n",
       "      <td>1.680451e-10</td>\n",
       "      <td>0.890265</td>\n",
       "      <td>0.131458</td>\n",
       "      <td>0.906463</td>\n",
       "      <td>3.363920e-09</td>\n",
       "      <td>0.154149</td>\n",
       "      <td>...</td>\n",
       "      <td>0.224102</td>\n",
       "      <td>0.268589</td>\n",
       "      <td>0.990159</td>\n",
       "      <td>0.159212</td>\n",
       "      <td>0.784170</td>\n",
       "      <td>0.442993</td>\n",
       "      <td>0.951108</td>\n",
       "      <td>0.976101</td>\n",
       "      <td>0.179614</td>\n",
       "      <td>0.228043</td>\n",
       "    </tr>\n",
       "    <tr>\n",
       "      <th>1</th>\n",
       "      <td>0.1399</td>\n",
       "      <td>0.000172</td>\n",
       "      <td>9.453814e-13</td>\n",
       "      <td>0.00294</td>\n",
       "      <td>1.680451e-10</td>\n",
       "      <td>0.890265</td>\n",
       "      <td>0.131458</td>\n",
       "      <td>0.906463</td>\n",
       "      <td>3.363920e-09</td>\n",
       "      <td>0.154149</td>\n",
       "      <td>...</td>\n",
       "      <td>0.224102</td>\n",
       "      <td>0.268589</td>\n",
       "      <td>0.990159</td>\n",
       "      <td>0.159212</td>\n",
       "      <td>0.784170</td>\n",
       "      <td>0.442993</td>\n",
       "      <td>0.951108</td>\n",
       "      <td>0.976101</td>\n",
       "      <td>0.179614</td>\n",
       "      <td>0.228043</td>\n",
       "    </tr>\n",
       "    <tr>\n",
       "      <th>2</th>\n",
       "      <td>0.1399</td>\n",
       "      <td>0.000172</td>\n",
       "      <td>9.453814e-13</td>\n",
       "      <td>0.00294</td>\n",
       "      <td>1.680451e-10</td>\n",
       "      <td>0.890265</td>\n",
       "      <td>0.131458</td>\n",
       "      <td>0.906463</td>\n",
       "      <td>3.363920e-09</td>\n",
       "      <td>0.154149</td>\n",
       "      <td>...</td>\n",
       "      <td>0.224102</td>\n",
       "      <td>0.268589</td>\n",
       "      <td>0.990159</td>\n",
       "      <td>0.159212</td>\n",
       "      <td>0.784170</td>\n",
       "      <td>0.442993</td>\n",
       "      <td>0.951108</td>\n",
       "      <td>0.976101</td>\n",
       "      <td>0.179614</td>\n",
       "      <td>0.228043</td>\n",
       "    </tr>\n",
       "    <tr>\n",
       "      <th>3</th>\n",
       "      <td>0.1399</td>\n",
       "      <td>0.000172</td>\n",
       "      <td>9.453814e-13</td>\n",
       "      <td>0.00294</td>\n",
       "      <td>1.680451e-10</td>\n",
       "      <td>0.890265</td>\n",
       "      <td>0.131458</td>\n",
       "      <td>0.906463</td>\n",
       "      <td>3.363920e-09</td>\n",
       "      <td>0.154149</td>\n",
       "      <td>...</td>\n",
       "      <td>0.590417</td>\n",
       "      <td>0.541713</td>\n",
       "      <td>0.461997</td>\n",
       "      <td>0.132996</td>\n",
       "      <td>0.521437</td>\n",
       "      <td>0.956180</td>\n",
       "      <td>0.800423</td>\n",
       "      <td>0.220943</td>\n",
       "      <td>0.723941</td>\n",
       "      <td>0.634397</td>\n",
       "    </tr>\n",
       "    <tr>\n",
       "      <th>4</th>\n",
       "      <td>0.1399</td>\n",
       "      <td>0.000172</td>\n",
       "      <td>9.453814e-13</td>\n",
       "      <td>0.00294</td>\n",
       "      <td>1.680451e-10</td>\n",
       "      <td>0.890265</td>\n",
       "      <td>0.131458</td>\n",
       "      <td>0.906463</td>\n",
       "      <td>3.363920e-09</td>\n",
       "      <td>0.154149</td>\n",
       "      <td>...</td>\n",
       "      <td>0.608850</td>\n",
       "      <td>0.094232</td>\n",
       "      <td>0.001948</td>\n",
       "      <td>0.696252</td>\n",
       "      <td>0.044552</td>\n",
       "      <td>0.489214</td>\n",
       "      <td>0.116618</td>\n",
       "      <td>0.386689</td>\n",
       "      <td>0.173001</td>\n",
       "      <td>0.637612</td>\n",
       "    </tr>\n",
       "  </tbody>\n",
       "</table>\n",
       "<p>5 rows × 1242 columns</p>\n",
       "</div>"
      ],
      "text/plain": [
       "   LnGamma_AATA  LnGamma_IPPS  LnGamma_IPPSm  LnGamma_DHQTi  LnGamma_ADCS  \\\n",
       "0        0.1399      0.000172   9.453814e-13        0.00294  1.680451e-10   \n",
       "1        0.1399      0.000172   9.453814e-13        0.00294  1.680451e-10   \n",
       "2        0.1399      0.000172   9.453814e-13        0.00294  1.680451e-10   \n",
       "3        0.1399      0.000172   9.453814e-13        0.00294  1.680451e-10   \n",
       "4        0.1399      0.000172   9.453814e-13        0.00294  1.680451e-10   \n",
       "\n",
       "   LnGamma_ABTA  LnGamma_PGL  LnGamma_ACACT1r  LnGamma_ACOAHim  \\\n",
       "0      0.890265     0.131458         0.906463     3.363920e-09   \n",
       "1      0.890265     0.131458         0.906463     3.363920e-09   \n",
       "2      0.890265     0.131458         0.906463     3.363920e-09   \n",
       "3      0.890265     0.131458         0.906463     3.363920e-09   \n",
       "4      0.890265     0.131458         0.906463     3.363920e-09   \n",
       "\n",
       "   LnGamma_ACOTAim  ...  sigma_km_substrate1_TRPS1  sigma_km_product1_TRPS1  \\\n",
       "0         0.154149  ...                   0.224102                 0.268589   \n",
       "1         0.154149  ...                   0.224102                 0.268589   \n",
       "2         0.154149  ...                   0.224102                 0.268589   \n",
       "3         0.154149  ...                   0.590417                 0.541713   \n",
       "4         0.154149  ...                   0.608850                 0.094232   \n",
       "\n",
       "   sigma_km_substrate2_TRPS1  sigma_km_product2_TRPS1  \\\n",
       "0                   0.990159                 0.159212   \n",
       "1                   0.990159                 0.159212   \n",
       "2                   0.990159                 0.159212   \n",
       "3                   0.461997                 0.132996   \n",
       "4                   0.001948                 0.696252   \n",
       "\n",
       "   sigma_km_substrate1_TRPTA  sigma_km_product1_TRPTA  \\\n",
       "0                   0.784170                 0.442993   \n",
       "1                   0.784170                 0.442993   \n",
       "2                   0.784170                 0.442993   \n",
       "3                   0.521437                 0.956180   \n",
       "4                   0.044552                 0.489214   \n",
       "\n",
       "   sigma_km_substrate2_TRPTA  sigma_km_product2_TRPTA  \\\n",
       "0                   0.951108                 0.976101   \n",
       "1                   0.951108                 0.976101   \n",
       "2                   0.951108                 0.976101   \n",
       "3                   0.800423                 0.220943   \n",
       "4                   0.116618                 0.386689   \n",
       "\n",
       "   sigma_km_substrate_TRPt2r  sigma_km_product_TRPt2r  \n",
       "0                   0.179614                 0.228043  \n",
       "1                   0.179614                 0.228043  \n",
       "2                   0.179614                 0.228043  \n",
       "3                   0.723941                 0.634397  \n",
       "4                   0.173001                 0.637612  \n",
       "\n",
       "[5 rows x 1242 columns]"
      ]
     },
     "execution_count": 33,
     "metadata": {},
     "output_type": "execute_result"
    }
   ],
   "source": [
    "params = pd.read_csv('../data/dataset_experimental_KPI_cleaned.csv')\n",
    "params.drop('label', axis=1, inplace=True)\n",
    "print(f'Original shape: {params.shape}')\n",
    "\n",
    "# Remove features with > 1 values\n",
    "params = params.loc[:, (params <= 1).all()]\n",
    "params = params.loc[:, (params >= 0).all()]\n",
    "\n",
    "# Remove transport reactions\n",
    "end_with_t = [col for col in params.columns if col.endswith('t')]\n",
    "non_capital_columns = [col for col in params.columns if col[-1].islower()]\n",
    "# params.drop(columns=end_with_t, inplace=True)\n",
    "\n",
    "print(f'New shape: {params.shape}')\n",
    "params.head()"
   ]
  },
  {
   "cell_type": "code",
   "execution_count": 34,
   "metadata": {},
   "outputs": [],
   "source": [
    "filename = '../data/new_KPI_old_models.csv'\n",
    "kpi = pd.read_csv(filename, index_col='sample')\n",
    "kpi.reset_index(drop=True, inplace=True)\n",
    "\n",
    "# Create a new column 'label' with values 1 if new_KPI >= 3, 0 otherwise\n",
    "kpi['label'] = kpi['new_KPI'].apply(lambda x: 1 if x >= 5.2 else 0)\n",
    "\n",
    "# Add new label to params\n",
    "df = params.copy()\n",
    "df['label'] = kpi['label'].values"
   ]
  },
  {
   "cell_type": "code",
   "execution_count": 35,
   "metadata": {},
   "outputs": [
    {
     "data": {
      "text/html": [
       "<div>\n",
       "<style scoped>\n",
       "    .dataframe tbody tr th:only-of-type {\n",
       "        vertical-align: middle;\n",
       "    }\n",
       "\n",
       "    .dataframe tbody tr th {\n",
       "        vertical-align: top;\n",
       "    }\n",
       "\n",
       "    .dataframe thead th {\n",
       "        text-align: right;\n",
       "    }\n",
       "</style>\n",
       "<table border=\"1\" class=\"dataframe\">\n",
       "  <thead>\n",
       "    <tr style=\"text-align: right;\">\n",
       "      <th></th>\n",
       "      <th>percentage</th>\n",
       "      <th>absolute</th>\n",
       "    </tr>\n",
       "  </thead>\n",
       "  <tbody>\n",
       "    <tr>\n",
       "      <th>0</th>\n",
       "      <td>0.6423</td>\n",
       "      <td>316.0</td>\n",
       "    </tr>\n",
       "    <tr>\n",
       "      <th>1</th>\n",
       "      <td>0.3577</td>\n",
       "      <td>176.0</td>\n",
       "    </tr>\n",
       "  </tbody>\n",
       "</table>\n",
       "</div>"
      ],
      "text/plain": [
       "   percentage  absolute\n",
       "0      0.6423     316.0\n",
       "1      0.3577     176.0"
      ]
     },
     "metadata": {},
     "output_type": "display_data"
    }
   ],
   "source": [
    "get_value_counts(df)"
   ]
  },
  {
   "cell_type": "markdown",
   "metadata": {},
   "source": [
    "# Machine Learning - Rule extraction pipeline"
   ]
  },
  {
   "cell_type": "code",
   "execution_count": 36,
   "metadata": {},
   "outputs": [
    {
     "name": "stdout",
     "output_type": "stream",
     "text": [
      "Training set shape: (492, 1242)\n",
      "Test set shape: (492, 1242)\n"
     ]
    }
   ],
   "source": [
    "# Train-test split\n",
    "train_test_split = False\n",
    "if train_test_split:\n",
    "    X_train, X_test, y_train, y_test = stratify_split(data=df, train_size=392, target=\"label\")\n",
    "else:\n",
    "    # Use all data\n",
    "    X_train = df.drop('label', axis=1)\n",
    "    y_train = df['label']\n",
    "\n",
    "    X_test = X_train.copy()\n",
    "    y_test = y_train.copy()\n",
    "\n",
    "    train_df = pd.concat([X_train, y_train], axis=1)\n",
    "    test_df = pd.concat([X_test, y_test], axis=1)\n",
    "    \n",
    "print(f'Training set shape: {X_train.shape}')\n",
    "print(f'Test set shape: {X_test.shape}')"
   ]
  },
  {
   "cell_type": "code",
   "execution_count": null,
   "metadata": {},
   "outputs": [],
   "source": [
    "if os.path.exists('../models/yeast_exp/xgboost_model_full.pkl'):\n",
    "    with open('../models/yeast_exp/xgboost_model_full.pkl', 'rb') as f:\n",
    "        xgb_model = pickle.load(f)\n",
    "else:\n",
    "    xgb_model = train_xgboost(X_train, y_train, scoring='matthews_corrcoef', n_trials=100)\n",
    "    with open('../models/yeast_exp/xgboost_model_full.pkl', 'wb') as f:\n",
    "        pickle.dump(xgb_model, f)"
   ]
  },
  {
   "cell_type": "code",
   "execution_count": 38,
   "metadata": {},
   "outputs": [
    {
     "name": "stdout",
     "output_type": "stream",
     "text": [
      "Cross validation:\n",
      "Accuracy: 0.8557\n",
      "Precision: 1.0\n",
      "Recall: 0.5957\n",
      "F1: 0.7394\n",
      "ROC AUC: 0.9333\n",
      "MCC: 0.6962\n"
     ]
    }
   ],
   "source": [
    "print('Cross validation:')\n",
    "cross_val_sklearn(xgb_model, X_train, y_train)"
   ]
  },
  {
   "cell_type": "code",
   "execution_count": 39,
   "metadata": {},
   "outputs": [
    {
     "data": {
      "image/png": "[encoded data removed]",
      "text/plain": [
       "<Figure size 800x550 with 2 Axes>"
      ]
     },
     "metadata": {},
     "output_type": "display_data"
    }
   ],
   "source": [
    "# Get shap values\n",
    "shap_values_df = get_shap_values(xgb_model, X_train)\n",
    "\n",
    "# Plot shap values\n",
    "plt.figure(figsize=(10, 4))\n",
    "shap.summary_plot(shap_values_df.values, X_train, plot_type='dot', max_display=10)\n",
    "plt.show()"
   ]
  },
  {
   "cell_type": "markdown",
   "metadata": {},
   "source": [
    "### Decision Tree - iSHRUNCK"
   ]
  },
  {
   "cell_type": "code",
   "execution_count": null,
   "metadata": {},
   "outputs": [],
   "source": [
    "cart_model = train_decisiontree(X_train, y_train, scoring='matthews_corrcoef', n_trials=200)"
   ]
  },
  {
   "cell_type": "code",
   "execution_count": 41,
   "metadata": {},
   "outputs": [
    {
     "name": "stdout",
     "output_type": "stream",
     "text": [
      "Accuracy: 0.8171\n",
      "Precision: 0.8792\n",
      "Recall: 0.6522\n",
      "F1: 0.7107\n",
      "ROC AUC: 0.9333\n",
      "MCC: 0.6278\n"
     ]
    }
   ],
   "source": [
    "# Cross-validated performance\n",
    "cross_val_sklearn(cart_model, X_train, y_train)"
   ]
  },
  {
   "cell_type": "code",
   "execution_count": 42,
   "metadata": {},
   "outputs": [
    {
     "name": "stdout",
     "output_type": "stream",
     "text": [
      "Number of rules: 4\n"
     ]
    },
    {
     "data": {
      "text/plain": [
       "['if (sigma_km_substrate1_SUCD2_u6m <= 0.831) and (sigma_km_substrate59_LMPD_s_0450_c_1_256 <= 0.78) then class: 1 (proba: 100.0%) | based on 209 samples',\n",
       " 'if (sigma_km_substrate1_SUCD2_u6m > 0.831) then class: 0 (proba: 100.0%) | based on 105 samples',\n",
       " 'if (sigma_km_substrate1_SUCD2_u6m <= 0.831) and (sigma_km_substrate59_LMPD_s_0450_c_1_256 > 0.78) and (sigma_km_substrate_PaAroZ <= 0.867) then class: 1 (proba: 58.25%) | based on 103 samples',\n",
       " 'if (sigma_km_substrate1_SUCD2_u6m <= 0.831) and (sigma_km_substrate59_LMPD_s_0450_c_1_256 > 0.78) and (sigma_km_substrate_PaAroZ > 0.867) then class: 1 (proba: 62.67%) | based on 75 samples']"
      ]
     },
     "execution_count": 42,
     "metadata": {},
     "output_type": "execute_result"
    }
   ],
   "source": [
    "ruler = TreeRuler(df=train_df, tree_clf=cart_model, target=\"label\")\n",
    "ruler.get_rules()\n",
    "print(f'Number of rules: {len(ruler.rules)}')\n",
    "ruler.rules"
   ]
  },
  {
   "cell_type": "code",
   "execution_count": 47,
   "metadata": {},
   "outputs": [
    {
     "name": "stdout",
     "output_type": "stream",
     "text": [
      "['sigma_km_substrate1_SUCD2_u6m>0.831']\n",
      "Number of parameter sets following the rule: 105\n"
     ]
    },
    {
     "data": {
      "text/html": [
       "<div>\n",
       "<style scoped>\n",
       "    .dataframe tbody tr th:only-of-type {\n",
       "        vertical-align: middle;\n",
       "    }\n",
       "\n",
       "    .dataframe tbody tr th {\n",
       "        vertical-align: top;\n",
       "    }\n",
       "\n",
       "    .dataframe thead th {\n",
       "        text-align: right;\n",
       "    }\n",
       "</style>\n",
       "<table border=\"1\" class=\"dataframe\">\n",
       "  <thead>\n",
       "    <tr style=\"text-align: right;\">\n",
       "      <th></th>\n",
       "      <th>percentage</th>\n",
       "      <th>absolute</th>\n",
       "    </tr>\n",
       "  </thead>\n",
       "  <tbody>\n",
       "    <tr>\n",
       "      <th>1</th>\n",
       "      <td>1.0</td>\n",
       "      <td>105.0</td>\n",
       "    </tr>\n",
       "  </tbody>\n",
       "</table>\n",
       "</div>"
      ],
      "text/plain": [
       "   percentage  absolute\n",
       "1         1.0     105.0"
      ]
     },
     "metadata": {},
     "output_type": "display_data"
    }
   ],
   "source": [
    "rule = ruler.get_rule_constraints(1)\n",
    "print(rule)\n",
    "sampled_df = sample_from_df(train_df, rule)\n",
    "print(f'Number of parameter sets following the rule: {sampled_df.shape[0]}')\n",
    "get_value_counts(sampled_df)"
   ]
  },
  {
   "cell_type": "markdown",
   "metadata": {},
   "source": [
    "### Skope - Rules"
   ]
  },
  {
   "cell_type": "code",
   "execution_count": 50,
   "metadata": {},
   "outputs": [],
   "source": [
    "skope_rules_clf = train_skoperules(X_train, y_train, n_iter=100, scoring='f1')"
   ]
  },
  {
   "cell_type": "code",
   "execution_count": 51,
   "metadata": {},
   "outputs": [
    {
     "name": "stdout",
     "output_type": "stream",
     "text": [
      "*** Number of rules 5\n",
      "('sigma_km_substrate1_ACS > 0.7776683568954468', (1.0, 0.6056338028169014, 2))\n",
      "('sigma_km_product2_ACACT1r > 0.03748328285291791 and sigma_km_product2_CBPS > 0.6794790625572205 and sigma_km_product2_IMPD > 0.5016605630517006', (0.41379310344827586, 0.26865671641791045, 2))\n",
      "('sigma_km_product2_CITtbm <= 0.5084617137908936 and sigma_km_substrate_E4Ptm <= 0.6500734984874725 and sigma_km_substrate17_LMPD_s_0450_c_1_256 > 0.3877897784113884', (0.42045454545454547, 0.2569444444444444, 2))\n",
      "('sigma_km_substrate_E4Ptm <= 0.6500734984874725 and sigma_km_product_Kt2r <= 0.45622797682881355 and sigma_km_substrate2_ME2m > 0.01983820367604494', (0.4024390243902439, 0.2357142857142857, 2))\n",
      "('sigma_km_product2_CITtbm > 0.5084617137908936 and sigma_km_substrate_E4Ptm <= 0.6500734984874725 and sigma_km_substrate17_LMPD_s_0450_c_1_256 > 0.3877897784113884', (0.38596491228070173, 0.1527777777777778, 2))\n"
     ]
    }
   ],
   "source": [
    "# Print skope-rules rules\n",
    "print(f'*** Number of rules {len(skope_rules_clf.rules_)}')\n",
    "\n",
    "# Get rules\n",
    "for i in skope_rules_clf.rules_[:10]:\n",
    "    print(i)"
   ]
  },
  {
   "cell_type": "code",
   "execution_count": 52,
   "metadata": {},
   "outputs": [
    {
     "name": "stdout",
     "output_type": "stream",
     "text": [
      "sigma_km_substrate1_ACS > 0.7776683568954468\n",
      "Number of parameter sets following the rule: 105\n"
     ]
    },
    {
     "data": {
      "text/html": [
       "<div>\n",
       "<style scoped>\n",
       "    .dataframe tbody tr th:only-of-type {\n",
       "        vertical-align: middle;\n",
       "    }\n",
       "\n",
       "    .dataframe tbody tr th {\n",
       "        vertical-align: top;\n",
       "    }\n",
       "\n",
       "    .dataframe thead th {\n",
       "        text-align: right;\n",
       "    }\n",
       "</style>\n",
       "<table border=\"1\" class=\"dataframe\">\n",
       "  <thead>\n",
       "    <tr style=\"text-align: right;\">\n",
       "      <th></th>\n",
       "      <th>percentage</th>\n",
       "      <th>absolute</th>\n",
       "    </tr>\n",
       "  </thead>\n",
       "  <tbody>\n",
       "    <tr>\n",
       "      <th>1</th>\n",
       "      <td>1.0</td>\n",
       "      <td>105.0</td>\n",
       "    </tr>\n",
       "  </tbody>\n",
       "</table>\n",
       "</div>"
      ],
      "text/plain": [
       "   percentage  absolute\n",
       "1         1.0     105.0"
      ]
     },
     "metadata": {},
     "output_type": "display_data"
    }
   ],
   "source": [
    "rule = skope_rules_clf.rules_[0][0]\n",
    "print(rule)\n",
    "sampled_df = sample_from_df(test_df, rule, skope_rules=True)\n",
    "print(f'Number of parameter sets following the rule: {sampled_df.shape[0]}')\n",
    "get_value_counts(sampled_df)"
   ]
  },
  {
   "cell_type": "markdown",
   "metadata": {},
   "source": [
    "### XGBoost"
   ]
  },
  {
   "cell_type": "code",
   "execution_count": null,
   "metadata": {},
   "outputs": [],
   "source": [
    "xgb_preds = xgb_model.predict(X_train)\n",
    "xgb2tree = ml2tree(X_train, xgb_preds, cv=10, scoring='f1', n_trials=100)"
   ]
  },
  {
   "cell_type": "code",
   "execution_count": 54,
   "metadata": {},
   "outputs": [
    {
     "name": "stdout",
     "output_type": "stream",
     "text": [
      "Accuracy: 0.8171\n",
      "Precision: 0.8792\n",
      "Recall: 0.6522\n",
      "F1: 0.7107\n",
      "ROC AUC: 0.9333\n",
      "MCC: 0.6278\n"
     ]
    }
   ],
   "source": [
    "cross_val_sklearn(xgb2tree, X_train, y_train)"
   ]
  },
  {
   "cell_type": "code",
   "execution_count": 55,
   "metadata": {},
   "outputs": [
    {
     "data": {
      "text/plain": [
       "['if (sigma_km_substrate_Htgm <= 0.796) then class: 1 (proba: 100.0%) | based on 387 samples',\n",
       " 'if (sigma_km_substrate_Htgm > 0.796) then class: 0 (proba: 100.0%) | based on 105 samples']"
      ]
     },
     "execution_count": 55,
     "metadata": {},
     "output_type": "execute_result"
    }
   ],
   "source": [
    "ruler = TreeRuler(df=train_df, tree_clf=xgb2tree, target=\"label\")\n",
    "ruler.get_rules()\n",
    "ruler.rules"
   ]
  },
  {
   "cell_type": "code",
   "execution_count": 56,
   "metadata": {},
   "outputs": [
    {
     "name": "stdout",
     "output_type": "stream",
     "text": [
      "['sigma_km_substrate_Htgm>0.796']\n",
      "Number of parameter sets following the rule: 105\n"
     ]
    },
    {
     "data": {
      "text/html": [
       "<div>\n",
       "<style scoped>\n",
       "    .dataframe tbody tr th:only-of-type {\n",
       "        vertical-align: middle;\n",
       "    }\n",
       "\n",
       "    .dataframe tbody tr th {\n",
       "        vertical-align: top;\n",
       "    }\n",
       "\n",
       "    .dataframe thead th {\n",
       "        text-align: right;\n",
       "    }\n",
       "</style>\n",
       "<table border=\"1\" class=\"dataframe\">\n",
       "  <thead>\n",
       "    <tr style=\"text-align: right;\">\n",
       "      <th></th>\n",
       "      <th>percentage</th>\n",
       "      <th>absolute</th>\n",
       "    </tr>\n",
       "  </thead>\n",
       "  <tbody>\n",
       "    <tr>\n",
       "      <th>1</th>\n",
       "      <td>1.0</td>\n",
       "      <td>105.0</td>\n",
       "    </tr>\n",
       "  </tbody>\n",
       "</table>\n",
       "</div>"
      ],
      "text/plain": [
       "   percentage  absolute\n",
       "1         1.0     105.0"
      ]
     },
     "metadata": {},
     "output_type": "display_data"
    }
   ],
   "source": [
    "rule = ruler.get_rule_constraints(1)\n",
    "print(rule)\n",
    "sampled_df = sample_from_df(test_df, rule)\n",
    "print(f'Number of parameter sets following the rule: {sampled_df.shape[0]}')\n",
    "get_value_counts(sampled_df)"
   ]
  }
 ],
 "metadata": {
  "kernelspec": {
   "display_name": "main",
   "language": "python",
   "name": "python3"
  },
  "language_info": {
   "codemirror_mode": {
    "name": "ipython",
    "version": 3
   },
   "file_extension": ".py",
   "mimetype": "text/x-python",
   "name": "python",
   "nbconvert_exporter": "python",
   "pygments_lexer": "ipython3",
   "version": "3.10.12"
  }
 },
 "nbformat": 4,
 "nbformat_minor": 2
}
