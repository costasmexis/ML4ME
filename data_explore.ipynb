{
 "cells": [
  {
   "cell_type": "code",
   "execution_count": 1,
   "metadata": {},
   "outputs": [],
   "source": [
    "%load_ext autoreload\n",
    "%autoreload 2"
   ]
  },
  {
   "cell_type": "code",
   "execution_count": 2,
   "metadata": {},
   "outputs": [],
   "source": [
    "import matplotlib.pyplot as plt\n",
    "import numpy as np\n",
    "import pandas as pd\n",
    "from scipy.io import loadmat\n",
    "\n",
    "from src.utils import get_cc_mat, get_dataset, non_stratify_split"
   ]
  },
  {
   "cell_type": "markdown",
   "metadata": {},
   "source": [
    "### Get data"
   ]
  },
  {
   "cell_type": "code",
   "execution_count": 3,
   "metadata": {},
   "outputs": [
    {
     "name": "stdout",
     "output_type": "stream",
     "text": [
      "***Dataset shape: (200000, 259)\n",
      "***Value counts of the stability label:\n",
      "0    0.5287\n",
      "1    0.4713\n",
      "Name: label, dtype: float64\n"
     ]
    },
    {
     "data": {
      "text/html": [
       "<div>\n",
       "<style scoped>\n",
       "    .dataframe tbody tr th:only-of-type {\n",
       "        vertical-align: middle;\n",
       "    }\n",
       "\n",
       "    .dataframe tbody tr th {\n",
       "        vertical-align: top;\n",
       "    }\n",
       "\n",
       "    .dataframe thead th {\n",
       "        text-align: right;\n",
       "    }\n",
       "</style>\n",
       "<table border=\"1\" class=\"dataframe\">\n",
       "  <thead>\n",
       "    <tr style=\"text-align: right;\">\n",
       "      <th></th>\n",
       "      <th>BIO@atp_c</th>\n",
       "      <th>BIO@pyr_c</th>\n",
       "      <th>BIO@nad_c</th>\n",
       "      <th>BIO@g6p_c</th>\n",
       "      <th>BIO@oaa_c</th>\n",
       "      <th>BIO@f6p_c</th>\n",
       "      <th>BIO@nadph_c</th>\n",
       "      <th>BIO@nh4_c</th>\n",
       "      <th>BIO@o2_c</th>\n",
       "      <th>BIO@r5p_c</th>\n",
       "      <th>BIO@3pg_c</th>\n",
       "      <th>BIO@akg_m</th>\n",
       "      <th>BIO@accoa_c</th>\n",
       "      <th>BIO@pep_c</th>\n",
       "      <th>BIO@e4p_c</th>\n",
       "      <th>BIO@so4_c</th>\n",
       "      <th>HXT@glc_c</th>\n",
       "      <th>HXK@atp_c</th>\n",
       "      <th>HXK@glc_c</th>\n",
       "      <th>HXK@adp_c</th>\n",
       "      <th>HXK@g6p_c</th>\n",
       "      <th>PGI@g6p_c</th>\n",
       "      <th>PGI@f6p_c</th>\n",
       "      <th>PFK@f6p_c</th>\n",
       "      <th>PFK@atp_c</th>\n",
       "      <th>PFK@fbp_c</th>\n",
       "      <th>PFK@adp_c</th>\n",
       "      <th>FBA@fbp_c</th>\n",
       "      <th>FBA@t3p_c</th>\n",
       "      <th>FBA@dhap_c</th>\n",
       "      <th>TPI@dhap_c</th>\n",
       "      <th>TPI@t3p_c</th>\n",
       "      <th>ZWF@g6p_c</th>\n",
       "      <th>ZWF@nadp_c</th>\n",
       "      <th>ZWF@6pgl_c</th>\n",
       "      <th>ZWF@nadph_c</th>\n",
       "      <th>GND1@6pgl_c</th>\n",
       "      <th>GND1@6pgc_c</th>\n",
       "      <th>GND2@nadp_c</th>\n",
       "      <th>GND2@6pgc_c</th>\n",
       "      <th>...</th>\n",
       "      <th>ICL@icit_c</th>\n",
       "      <th>ICL@suc_c</th>\n",
       "      <th>ICL@glyx_c</th>\n",
       "      <th>MLS@accoa_c</th>\n",
       "      <th>MLS@glyx_c</th>\n",
       "      <th>MLS@coa_c</th>\n",
       "      <th>MLS@mal_c</th>\n",
       "      <th>XTR@xyl_c</th>\n",
       "      <th>XDH@nad_c</th>\n",
       "      <th>XDH@xlt_c</th>\n",
       "      <th>XDH@nadh_c</th>\n",
       "      <th>XDH@xyll_c</th>\n",
       "      <th>XRI@nadh_c</th>\n",
       "      <th>XRI@xyl_c</th>\n",
       "      <th>XRI@nad_c</th>\n",
       "      <th>XRI@xlt_c</th>\n",
       "      <th>XRII@nadph_c</th>\n",
       "      <th>XRII@xyl_c</th>\n",
       "      <th>XRII@nadp_c</th>\n",
       "      <th>XRII@xlt_c</th>\n",
       "      <th>XK@atp_c</th>\n",
       "      <th>XK@xyll_c</th>\n",
       "      <th>XK@adp_c</th>\n",
       "      <th>XK@x5p_c</th>\n",
       "      <th>XLT@xlt_c</th>\n",
       "      <th>D_LACt2r@lac_c</th>\n",
       "      <th>D_LACm2r@lac_m</th>\n",
       "      <th>D_LACm2r@lac_c</th>\n",
       "      <th>D_LAC@fero_m</th>\n",
       "      <th>D_LAC@pyr_m</th>\n",
       "      <th>D_LAC@feri_m</th>\n",
       "      <th>D_LAC@lac_m</th>\n",
       "      <th>SUCCt2r@suc_c</th>\n",
       "      <th>MALt2r@mal_c</th>\n",
       "      <th>CITt2m@mal_c</th>\n",
       "      <th>CITt2m@cit_m</th>\n",
       "      <th>CITt2m@mal_m</th>\n",
       "      <th>CITt2m@cit_c</th>\n",
       "      <th>PFK@amp_c</th>\n",
       "      <th>label</th>\n",
       "    </tr>\n",
       "  </thead>\n",
       "  <tbody>\n",
       "    <tr>\n",
       "      <th>0</th>\n",
       "      <td>0.457634</td>\n",
       "      <td>0.014440</td>\n",
       "      <td>0.058212</td>\n",
       "      <td>0.676883</td>\n",
       "      <td>0.341359</td>\n",
       "      <td>0.662601</td>\n",
       "      <td>0.558494</td>\n",
       "      <td>0.469465</td>\n",
       "      <td>0.379688</td>\n",
       "      <td>0.031882</td>\n",
       "      <td>0.099014</td>\n",
       "      <td>0.917409</td>\n",
       "      <td>0.843736</td>\n",
       "      <td>0.646167</td>\n",
       "      <td>0.794358</td>\n",
       "      <td>0.683359</td>\n",
       "      <td>0.736572</td>\n",
       "      <td>0.146874</td>\n",
       "      <td>0.641442</td>\n",
       "      <td>0.629566</td>\n",
       "      <td>0.695658</td>\n",
       "      <td>0.805839</td>\n",
       "      <td>0.806237</td>\n",
       "      <td>0.875210</td>\n",
       "      <td>0.864747</td>\n",
       "      <td>0.966937</td>\n",
       "      <td>0.567908</td>\n",
       "      <td>0.977325</td>\n",
       "      <td>0.600069</td>\n",
       "      <td>0.502606</td>\n",
       "      <td>0.146862</td>\n",
       "      <td>0.946764</td>\n",
       "      <td>0.795935</td>\n",
       "      <td>0.427475</td>\n",
       "      <td>0.552705</td>\n",
       "      <td>0.485171</td>\n",
       "      <td>0.252212</td>\n",
       "      <td>0.997275</td>\n",
       "      <td>0.864418</td>\n",
       "      <td>0.959533</td>\n",
       "      <td>...</td>\n",
       "      <td>0.924751</td>\n",
       "      <td>0.437875</td>\n",
       "      <td>0.621754</td>\n",
       "      <td>0.831827</td>\n",
       "      <td>0.303100</td>\n",
       "      <td>0.720146</td>\n",
       "      <td>0.657864</td>\n",
       "      <td>0.613027</td>\n",
       "      <td>0.321156</td>\n",
       "      <td>0.522470</td>\n",
       "      <td>0.943940</td>\n",
       "      <td>0.883506</td>\n",
       "      <td>0.262150</td>\n",
       "      <td>0.412281</td>\n",
       "      <td>0.837449</td>\n",
       "      <td>0.830384</td>\n",
       "      <td>0.929544</td>\n",
       "      <td>0.216103</td>\n",
       "      <td>0.715890</td>\n",
       "      <td>0.819011</td>\n",
       "      <td>0.626448</td>\n",
       "      <td>0.805179</td>\n",
       "      <td>0.534479</td>\n",
       "      <td>0.232007</td>\n",
       "      <td>0.421447</td>\n",
       "      <td>0.012541</td>\n",
       "      <td>0.701124</td>\n",
       "      <td>0.778910</td>\n",
       "      <td>0.744105</td>\n",
       "      <td>0.406664</td>\n",
       "      <td>0.310612</td>\n",
       "      <td>0.176318</td>\n",
       "      <td>0.750574</td>\n",
       "      <td>0.835077</td>\n",
       "      <td>0.636952</td>\n",
       "      <td>0.805681</td>\n",
       "      <td>0.314653</td>\n",
       "      <td>0.601644</td>\n",
       "      <td>0.442062</td>\n",
       "      <td>1</td>\n",
       "    </tr>\n",
       "    <tr>\n",
       "      <th>1</th>\n",
       "      <td>0.011809</td>\n",
       "      <td>0.879388</td>\n",
       "      <td>0.003459</td>\n",
       "      <td>0.746891</td>\n",
       "      <td>0.306732</td>\n",
       "      <td>0.324433</td>\n",
       "      <td>0.790872</td>\n",
       "      <td>0.561433</td>\n",
       "      <td>0.601143</td>\n",
       "      <td>0.729455</td>\n",
       "      <td>0.210557</td>\n",
       "      <td>0.549802</td>\n",
       "      <td>0.200915</td>\n",
       "      <td>0.901595</td>\n",
       "      <td>0.453948</td>\n",
       "      <td>0.997632</td>\n",
       "      <td>0.490716</td>\n",
       "      <td>0.278574</td>\n",
       "      <td>0.344656</td>\n",
       "      <td>0.251129</td>\n",
       "      <td>0.788420</td>\n",
       "      <td>0.606969</td>\n",
       "      <td>0.904826</td>\n",
       "      <td>0.207650</td>\n",
       "      <td>0.894433</td>\n",
       "      <td>0.835846</td>\n",
       "      <td>0.866860</td>\n",
       "      <td>0.283239</td>\n",
       "      <td>0.566340</td>\n",
       "      <td>0.563007</td>\n",
       "      <td>0.013364</td>\n",
       "      <td>0.534063</td>\n",
       "      <td>0.951530</td>\n",
       "      <td>0.571236</td>\n",
       "      <td>0.481585</td>\n",
       "      <td>0.272074</td>\n",
       "      <td>0.593773</td>\n",
       "      <td>0.674854</td>\n",
       "      <td>0.404115</td>\n",
       "      <td>0.811138</td>\n",
       "      <td>...</td>\n",
       "      <td>0.821184</td>\n",
       "      <td>0.820805</td>\n",
       "      <td>0.258968</td>\n",
       "      <td>0.268113</td>\n",
       "      <td>0.633285</td>\n",
       "      <td>0.799704</td>\n",
       "      <td>0.089733</td>\n",
       "      <td>0.955897</td>\n",
       "      <td>0.572365</td>\n",
       "      <td>0.296768</td>\n",
       "      <td>0.776485</td>\n",
       "      <td>0.907100</td>\n",
       "      <td>0.134346</td>\n",
       "      <td>0.130297</td>\n",
       "      <td>0.447560</td>\n",
       "      <td>0.369458</td>\n",
       "      <td>0.986246</td>\n",
       "      <td>0.958851</td>\n",
       "      <td>0.674634</td>\n",
       "      <td>0.873138</td>\n",
       "      <td>0.328043</td>\n",
       "      <td>0.258325</td>\n",
       "      <td>0.496081</td>\n",
       "      <td>0.394231</td>\n",
       "      <td>0.126339</td>\n",
       "      <td>0.518405</td>\n",
       "      <td>0.074353</td>\n",
       "      <td>0.343389</td>\n",
       "      <td>0.261749</td>\n",
       "      <td>0.552473</td>\n",
       "      <td>0.260641</td>\n",
       "      <td>0.480122</td>\n",
       "      <td>0.828887</td>\n",
       "      <td>0.774984</td>\n",
       "      <td>0.793254</td>\n",
       "      <td>0.111233</td>\n",
       "      <td>0.174306</td>\n",
       "      <td>0.035144</td>\n",
       "      <td>0.432545</td>\n",
       "      <td>1</td>\n",
       "    </tr>\n",
       "    <tr>\n",
       "      <th>2</th>\n",
       "      <td>0.150170</td>\n",
       "      <td>0.442691</td>\n",
       "      <td>0.029388</td>\n",
       "      <td>0.930178</td>\n",
       "      <td>0.904467</td>\n",
       "      <td>0.690296</td>\n",
       "      <td>0.083225</td>\n",
       "      <td>0.292097</td>\n",
       "      <td>0.122153</td>\n",
       "      <td>0.097039</td>\n",
       "      <td>0.198740</td>\n",
       "      <td>0.371718</td>\n",
       "      <td>0.727785</td>\n",
       "      <td>0.520097</td>\n",
       "      <td>0.515522</td>\n",
       "      <td>0.862993</td>\n",
       "      <td>0.733933</td>\n",
       "      <td>0.725326</td>\n",
       "      <td>0.602793</td>\n",
       "      <td>0.493402</td>\n",
       "      <td>0.461824</td>\n",
       "      <td>0.016081</td>\n",
       "      <td>0.677892</td>\n",
       "      <td>0.880626</td>\n",
       "      <td>0.283048</td>\n",
       "      <td>0.024288</td>\n",
       "      <td>0.591687</td>\n",
       "      <td>0.095995</td>\n",
       "      <td>0.272931</td>\n",
       "      <td>0.507377</td>\n",
       "      <td>0.447012</td>\n",
       "      <td>0.309567</td>\n",
       "      <td>0.062153</td>\n",
       "      <td>0.074500</td>\n",
       "      <td>0.636656</td>\n",
       "      <td>0.968372</td>\n",
       "      <td>0.650881</td>\n",
       "      <td>0.592212</td>\n",
       "      <td>0.181818</td>\n",
       "      <td>0.427867</td>\n",
       "      <td>...</td>\n",
       "      <td>0.294319</td>\n",
       "      <td>0.114383</td>\n",
       "      <td>0.397159</td>\n",
       "      <td>0.813008</td>\n",
       "      <td>0.410090</td>\n",
       "      <td>0.233548</td>\n",
       "      <td>0.643357</td>\n",
       "      <td>0.087580</td>\n",
       "      <td>0.437366</td>\n",
       "      <td>0.435850</td>\n",
       "      <td>0.536274</td>\n",
       "      <td>0.652505</td>\n",
       "      <td>0.641738</td>\n",
       "      <td>0.516002</td>\n",
       "      <td>0.936964</td>\n",
       "      <td>0.989159</td>\n",
       "      <td>0.495483</td>\n",
       "      <td>0.267238</td>\n",
       "      <td>0.468767</td>\n",
       "      <td>0.203659</td>\n",
       "      <td>0.151049</td>\n",
       "      <td>0.162482</td>\n",
       "      <td>0.120060</td>\n",
       "      <td>0.569019</td>\n",
       "      <td>0.134233</td>\n",
       "      <td>0.229017</td>\n",
       "      <td>0.894372</td>\n",
       "      <td>0.499494</td>\n",
       "      <td>0.084862</td>\n",
       "      <td>0.962005</td>\n",
       "      <td>0.780362</td>\n",
       "      <td>0.548510</td>\n",
       "      <td>0.591525</td>\n",
       "      <td>0.579699</td>\n",
       "      <td>0.168482</td>\n",
       "      <td>0.214867</td>\n",
       "      <td>0.430102</td>\n",
       "      <td>0.757192</td>\n",
       "      <td>0.281138</td>\n",
       "      <td>1</td>\n",
       "    </tr>\n",
       "    <tr>\n",
       "      <th>3</th>\n",
       "      <td>0.241337</td>\n",
       "      <td>0.108236</td>\n",
       "      <td>0.874900</td>\n",
       "      <td>0.908554</td>\n",
       "      <td>0.945598</td>\n",
       "      <td>0.204189</td>\n",
       "      <td>0.396873</td>\n",
       "      <td>0.474224</td>\n",
       "      <td>0.738103</td>\n",
       "      <td>0.958655</td>\n",
       "      <td>0.012677</td>\n",
       "      <td>0.705030</td>\n",
       "      <td>0.637421</td>\n",
       "      <td>0.426836</td>\n",
       "      <td>0.553545</td>\n",
       "      <td>0.056516</td>\n",
       "      <td>0.166585</td>\n",
       "      <td>0.992412</td>\n",
       "      <td>0.350366</td>\n",
       "      <td>0.688583</td>\n",
       "      <td>0.600025</td>\n",
       "      <td>0.416167</td>\n",
       "      <td>0.797132</td>\n",
       "      <td>0.276558</td>\n",
       "      <td>0.395847</td>\n",
       "      <td>0.287797</td>\n",
       "      <td>0.026588</td>\n",
       "      <td>0.623333</td>\n",
       "      <td>0.483995</td>\n",
       "      <td>0.709361</td>\n",
       "      <td>0.691944</td>\n",
       "      <td>0.432705</td>\n",
       "      <td>0.550024</td>\n",
       "      <td>0.615881</td>\n",
       "      <td>0.854155</td>\n",
       "      <td>0.041522</td>\n",
       "      <td>0.550175</td>\n",
       "      <td>0.879892</td>\n",
       "      <td>0.771858</td>\n",
       "      <td>0.587855</td>\n",
       "      <td>...</td>\n",
       "      <td>0.050599</td>\n",
       "      <td>0.978312</td>\n",
       "      <td>0.361124</td>\n",
       "      <td>0.060349</td>\n",
       "      <td>0.454177</td>\n",
       "      <td>0.592409</td>\n",
       "      <td>0.194631</td>\n",
       "      <td>0.286367</td>\n",
       "      <td>0.714915</td>\n",
       "      <td>0.917447</td>\n",
       "      <td>0.385828</td>\n",
       "      <td>0.978640</td>\n",
       "      <td>0.226889</td>\n",
       "      <td>0.437499</td>\n",
       "      <td>0.570366</td>\n",
       "      <td>0.723278</td>\n",
       "      <td>0.635307</td>\n",
       "      <td>0.986755</td>\n",
       "      <td>0.186288</td>\n",
       "      <td>0.777968</td>\n",
       "      <td>0.397245</td>\n",
       "      <td>0.706944</td>\n",
       "      <td>0.341994</td>\n",
       "      <td>0.385962</td>\n",
       "      <td>0.336215</td>\n",
       "      <td>0.335343</td>\n",
       "      <td>0.301915</td>\n",
       "      <td>0.734281</td>\n",
       "      <td>0.667319</td>\n",
       "      <td>0.697372</td>\n",
       "      <td>0.998683</td>\n",
       "      <td>0.015408</td>\n",
       "      <td>0.362024</td>\n",
       "      <td>0.127115</td>\n",
       "      <td>0.230577</td>\n",
       "      <td>0.996991</td>\n",
       "      <td>0.195371</td>\n",
       "      <td>0.013773</td>\n",
       "      <td>0.316083</td>\n",
       "      <td>1</td>\n",
       "    </tr>\n",
       "    <tr>\n",
       "      <th>4</th>\n",
       "      <td>0.357361</td>\n",
       "      <td>0.179095</td>\n",
       "      <td>0.737178</td>\n",
       "      <td>0.371373</td>\n",
       "      <td>0.562450</td>\n",
       "      <td>0.809965</td>\n",
       "      <td>0.920162</td>\n",
       "      <td>0.750900</td>\n",
       "      <td>0.623332</td>\n",
       "      <td>0.356794</td>\n",
       "      <td>0.591810</td>\n",
       "      <td>0.046342</td>\n",
       "      <td>0.876380</td>\n",
       "      <td>0.092701</td>\n",
       "      <td>0.737494</td>\n",
       "      <td>0.650255</td>\n",
       "      <td>0.688438</td>\n",
       "      <td>0.697684</td>\n",
       "      <td>0.820405</td>\n",
       "      <td>0.603259</td>\n",
       "      <td>0.627316</td>\n",
       "      <td>0.742949</td>\n",
       "      <td>0.580344</td>\n",
       "      <td>0.944828</td>\n",
       "      <td>0.903211</td>\n",
       "      <td>0.957172</td>\n",
       "      <td>0.691398</td>\n",
       "      <td>0.438175</td>\n",
       "      <td>0.219536</td>\n",
       "      <td>0.300940</td>\n",
       "      <td>0.338036</td>\n",
       "      <td>0.539327</td>\n",
       "      <td>0.871464</td>\n",
       "      <td>0.595355</td>\n",
       "      <td>0.228517</td>\n",
       "      <td>0.110849</td>\n",
       "      <td>0.471441</td>\n",
       "      <td>0.213510</td>\n",
       "      <td>0.771429</td>\n",
       "      <td>0.976244</td>\n",
       "      <td>...</td>\n",
       "      <td>0.190093</td>\n",
       "      <td>0.284944</td>\n",
       "      <td>0.233913</td>\n",
       "      <td>0.603989</td>\n",
       "      <td>0.796453</td>\n",
       "      <td>0.772376</td>\n",
       "      <td>0.437119</td>\n",
       "      <td>0.530636</td>\n",
       "      <td>0.018667</td>\n",
       "      <td>0.331260</td>\n",
       "      <td>0.851955</td>\n",
       "      <td>0.501186</td>\n",
       "      <td>0.460243</td>\n",
       "      <td>0.347887</td>\n",
       "      <td>0.536237</td>\n",
       "      <td>0.278104</td>\n",
       "      <td>0.469068</td>\n",
       "      <td>0.992131</td>\n",
       "      <td>0.422568</td>\n",
       "      <td>0.816317</td>\n",
       "      <td>0.439065</td>\n",
       "      <td>0.044090</td>\n",
       "      <td>0.637888</td>\n",
       "      <td>0.726757</td>\n",
       "      <td>0.434316</td>\n",
       "      <td>0.649638</td>\n",
       "      <td>0.100376</td>\n",
       "      <td>0.161165</td>\n",
       "      <td>0.596289</td>\n",
       "      <td>0.087842</td>\n",
       "      <td>0.298213</td>\n",
       "      <td>0.555471</td>\n",
       "      <td>0.611591</td>\n",
       "      <td>0.020826</td>\n",
       "      <td>0.543747</td>\n",
       "      <td>0.459455</td>\n",
       "      <td>0.110901</td>\n",
       "      <td>0.838803</td>\n",
       "      <td>0.561902</td>\n",
       "      <td>1</td>\n",
       "    </tr>\n",
       "  </tbody>\n",
       "</table>\n",
       "<p>5 rows × 259 columns</p>\n",
       "</div>"
      ],
      "text/plain": [
       "   BIO@atp_c  BIO@pyr_c  BIO@nad_c  ...  CITt2m@cit_c  PFK@amp_c  label\n",
       "0   0.457634   0.014440   0.058212  ...      0.601644   0.442062      1\n",
       "1   0.011809   0.879388   0.003459  ...      0.035144   0.432545      1\n",
       "2   0.150170   0.442691   0.029388  ...      0.757192   0.281138      1\n",
       "3   0.241337   0.108236   0.874900  ...      0.013773   0.316083      1\n",
       "4   0.357361   0.179095   0.737178  ...      0.838803   0.561902      1\n",
       "\n",
       "[5 rows x 259 columns]"
      ]
     },
     "execution_count": 3,
     "metadata": {},
     "output_type": "execute_result"
    }
   ],
   "source": [
    "df = get_dataset(\n",
    "    labels_file=\"./data/class_vector_train_ref.mat\",\n",
    "    params_file=\"./data/training_set_ref.mat\",\n",
    "    names_file=\"./data/paremeterNames.mat\",\n",
    ")\n",
    "\n",
    "print(f\"***Dataset shape: {df.shape}\")\n",
    "\n",
    "# Value counts of the stability label\n",
    "print(\"***Value counts of the stability label:\")\n",
    "print(df[\"label\"].value_counts(normalize=True).round(4))\n",
    "\n",
    "df.head()"
   ]
  },
  {
   "cell_type": "markdown",
   "metadata": {},
   "source": [
    "### Feature Selection"
   ]
  },
  {
   "cell_type": "code",
   "execution_count": 4,
   "metadata": {},
   "outputs": [],
   "source": [
    "# from mrmr import mrmr_classif\n",
    "\n",
    "# K = int(df.drop(\"label\", axis=1).shape[1] / 3)\n",
    "# print(f\"***Number of features to select: {K}\")\n",
    "# selected_features = mrmr_classif(X=df.drop(\"label\", axis=1), y=df[\"label\"], K=K)"
   ]
  },
  {
   "cell_type": "markdown",
   "metadata": {},
   "source": [
    "### FFC"
   ]
  },
  {
   "cell_type": "code",
   "execution_count": 5,
   "metadata": {},
   "outputs": [
    {
     "name": "stdout",
     "output_type": "stream",
     "text": [
      "Enzyme: XTR\n",
      "Common enzymes: ['HXK', 'PGI', 'TPI', 'ZWF', 'ATPM', 'ADK', 'NDR', 'PDA', 'XTR', 'XRI', 'XDH', 'XK']\n",
      "Number of all enzymes: 86\n"
     ]
    }
   ],
   "source": [
    "enzyme, commonEnz, allEnzymes, commonConCoeff, allConCoeff = get_cc_mat(\"./data/ccXTR_ref.mat\")\n"
   ]
  },
  {
   "cell_type": "code",
   "execution_count": 6,
   "metadata": {},
   "outputs": [
    {
     "data": {
      "image/png": "[encoded data removed]",
      "text/plain": [
       "<Figure size 1000x300 with 1 Axes>"
      ]
     },
     "metadata": {},
     "output_type": "display_data"
    }
   ],
   "source": [
    "# Change plot style\n",
    "plt.style.use(\"ggplot\")\n",
    "\n",
    "# Calculate the 1st and 3rd quartiles of commonConCoeff values\n",
    "q1 = commonConCoeff.quantile(0.25)\n",
    "q3 = commonConCoeff.quantile(0.75)\n",
    "\n",
    "# Plot the mean of commonConCoeff values\n",
    "plt.figure(figsize=(10, 3))\n",
    "plt.barh(commonConCoeff.columns[::-1], commonConCoeff.mean()[::-1])\n",
    "plt.axvline(x=0, color=\"black\", linestyle=\"-\")\n",
    "plt.plot(q1, commonConCoeff.columns, \"|\", color=\"black\", label=\"Q1\", alpha=1)\n",
    "plt.plot(q3, commonConCoeff.columns, \"|\", color=\"black\", label=\"Q3\", alpha=1)\n",
    "for i, enzyme in enumerate(commonConCoeff.columns):\n",
    "    plt.plot([q1[i], q3[i]], [enzyme, enzyme], color=\"black\")\n",
    "plt.title(\"CC_XTR\")\n",
    "plt.grid()\n",
    "plt.show()"
   ]
  },
  {
   "cell_type": "markdown",
   "metadata": {},
   "source": [
    "### Dataset formulation"
   ]
  },
  {
   "cell_type": "code",
   "execution_count": 7,
   "metadata": {},
   "outputs": [
    {
     "data": {
      "text/plain": [
       "0    0.5287\n",
       "1    0.4713\n",
       "Name: label, dtype: float64"
      ]
     },
     "execution_count": 7,
     "metadata": {},
     "output_type": "execute_result"
    }
   ],
   "source": [
    "idx_HXK = commonConCoeff[commonConCoeff[\"HXK\"] < 0].index\n",
    "df_HXK = df.drop(\"label\", axis=1)\n",
    "df_HXK[\"label\"] = [1 if i in idx_HXK else 0 for i in df_HXK.index]\n",
    "df_HXK[\"label\"].value_counts(normalize=True).round(4)"
   ]
  },
  {
   "cell_type": "code",
   "execution_count": 8,
   "metadata": {},
   "outputs": [],
   "source": [
    "# # Keep only the features selected by mRMR\n",
    "# df_HXK = df_HXK[selected_features + [\"label\"]]\n",
    "# print(f\"***Dataset shape: {df_HXK.shape}\")"
   ]
  },
  {
   "cell_type": "code",
   "execution_count": 9,
   "metadata": {},
   "outputs": [
    {
     "name": "stdout",
     "output_type": "stream",
     "text": [
      "Traininig set shape: (10000, 258)\n",
      "Test set shape: (190000, 258)\n"
     ]
    }
   ],
   "source": [
    "# Split data\n",
    "X_train, X_test, y_train, y_test = non_stratify_split(\n",
    "    data=df_HXK, train_size=10000, target=\"label\"\n",
    ")\n",
    "\n",
    "train = pd.concat([X_train, y_train], axis=1)\n",
    "test = pd.concat([X_test, y_test], axis=1)"
   ]
  },
  {
   "cell_type": "code",
   "execution_count": 42,
   "metadata": {},
   "outputs": [
    {
     "name": "stdout",
     "output_type": "stream",
     "text": [
      "Fitting 3 folds for each of 50 candidates, totalling 150 fits\n",
      "[CV 1/3; 1/50] START max_depth_duplication=2, max_samples=0.5, n_estimators=20, precision_min=0.1, recall_min=0.15\n",
      "[CV 2/3; 1/50] START max_depth_duplication=2, max_samples=0.5, n_estimators=20, precision_min=0.1, recall_min=0.15\n",
      "[CV 3/3; 1/50] START max_depth_duplication=2, max_samples=0.5, n_estimators=20, precision_min=0.1, recall_min=0.15\n",
      "[CV 1/3; 2/50] START max_depth_duplication=2, max_samples=0.2, n_estimators=30, precision_min=0.1, recall_min=0.1\n",
      "[CV 2/3; 2/50] START max_depth_duplication=2, max_samples=0.2, n_estimators=30, precision_min=0.1, recall_min=0.1\n",
      "[CV 3/3; 2/50] START max_depth_duplication=2, max_samples=0.2, n_estimators=30, precision_min=0.1, recall_min=0.1\n",
      "[CV 1/3; 3/50] START max_depth_duplication=None, max_samples=0.2, n_estimators=20, precision_min=0.25, recall_min=0.25\n",
      "[CV 2/3; 3/50] START max_depth_duplication=None, max_samples=0.2, n_estimators=20, precision_min=0.25, recall_min=0.25\n",
      "[CV 3/3; 3/50] START max_depth_duplication=None, max_samples=0.2, n_estimators=20, precision_min=0.25, recall_min=0.25\n",
      "[CV 1/3; 4/50] START max_depth_duplication=2, max_samples=0.5, n_estimators=100, precision_min=0.1, recall_min=0.1\n",
      "[CV 2/3; 4/50] START max_depth_duplication=2, max_samples=0.5, n_estimators=100, precision_min=0.1, recall_min=0.1\n",
      "[CV 3/3; 4/50] START max_depth_duplication=2, max_samples=0.5, n_estimators=100, precision_min=0.1, recall_min=0.1\n",
      "[CV 1/3; 5/50] START max_depth_duplication=3, max_samples=0.5, n_estimators=100, precision_min=0.25, recall_min=0.25\n",
      "[CV 2/3; 5/50] START max_depth_duplication=3, max_samples=0.5, n_estimators=100, precision_min=0.25, recall_min=0.25\n",
      "[CV 3/3; 5/50] START max_depth_duplication=3, max_samples=0.5, n_estimators=100, precision_min=0.25, recall_min=0.25\n",
      "[CV 1/3; 6/50] START max_depth_duplication=3, max_samples=0.25, n_estimators=20, precision_min=0.1, recall_min=0.2\n",
      "[CV 2/3; 6/50] START max_depth_duplication=3, max_samples=0.25, n_estimators=20, precision_min=0.1, recall_min=0.2\n",
      "[CV 3/3; 6/50] START max_depth_duplication=3, max_samples=0.25, n_estimators=20, precision_min=0.1, recall_min=0.2\n",
      "[CV 1/3; 7/50] START max_depth_duplication=2, max_samples=0.8, n_estimators=100, precision_min=0.3, recall_min=0.3\n",
      "[CV 2/3; 7/50] START max_depth_duplication=2, max_samples=0.8, n_estimators=100, precision_min=0.3, recall_min=0.3\n",
      "[CV 3/3; 7/50] START max_depth_duplication=2, max_samples=0.8, n_estimators=100, precision_min=0.3, recall_min=0.3\n",
      "[CV 1/3; 8/50] START max_depth_duplication=3, max_samples=0.2, n_estimators=20, precision_min=0.25, recall_min=0.25\n",
      "[CV 2/3; 8/50] START max_depth_duplication=3, max_samples=0.2, n_estimators=20, precision_min=0.25, recall_min=0.25\n",
      "[CV 3/3; 8/50] START max_depth_duplication=3, max_samples=0.2, n_estimators=20, precision_min=0.25, recall_min=0.25\n",
      "[CV 1/3; 9/50] START max_depth_duplication=None, max_samples=0.2, n_estimators=50, precision_min=0.2, recall_min=0.15\n",
      "[CV 2/3; 9/50] START max_depth_duplication=None, max_samples=0.2, n_estimators=50, precision_min=0.2, recall_min=0.15\n",
      "[CV 3/3; 9/50] START max_depth_duplication=None, max_samples=0.2, n_estimators=50, precision_min=0.2, recall_min=0.15\n",
      "[CV 1/3; 10/50] START max_depth_duplication=2, max_samples=0.5, n_estimators=20, precision_min=0.3, recall_min=0.05\n",
      "[CV 2/3; 10/50] START max_depth_duplication=2, max_samples=0.5, n_estimators=20, precision_min=0.3, recall_min=0.05\n",
      "[CV 3/3; 10/50] START max_depth_duplication=2, max_samples=0.5, n_estimators=20, precision_min=0.3, recall_min=0.05\n",
      "[CV 1/3; 11/50] START max_depth_duplication=None, max_samples=0.25, n_estimators=50, precision_min=0.25, recall_min=0.25\n",
      "[CV 2/3; 11/50] START max_depth_duplication=None, max_samples=0.25, n_estimators=50, precision_min=0.25, recall_min=0.25\n",
      "[CV 3/3; 11/50] START max_depth_duplication=None, max_samples=0.25, n_estimators=50, precision_min=0.25, recall_min=0.25\n",
      "[CV 1/3; 12/50] START max_depth_duplication=None, max_samples=0.5, n_estimators=100, precision_min=0.15, recall_min=0.1\n",
      "[CV 2/3; 12/50] START max_depth_duplication=None, max_samples=0.5, n_estimators=100, precision_min=0.15, recall_min=0.1\n",
      "[CV 3/3; 12/50] START max_depth_duplication=None, max_samples=0.5, n_estimators=100, precision_min=0.15, recall_min=0.1\n",
      "[CV 1/3; 13/50] START max_depth_duplication=3, max_samples=0.8, n_estimators=50, precision_min=0.2, recall_min=0.01\n",
      "[CV 2/3; 13/50] START max_depth_duplication=3, max_samples=0.8, n_estimators=50, precision_min=0.2, recall_min=0.01\n",
      "[CV 3/3; 13/50] START max_depth_duplication=3, max_samples=0.8, n_estimators=50, precision_min=0.2, recall_min=0.01\n",
      "[CV 1/3; 14/50] START max_depth_duplication=2, max_samples=0.25, n_estimators=50, precision_min=0.3, recall_min=0.15\n",
      "[CV 2/3; 14/50] START max_depth_duplication=2, max_samples=0.25, n_estimators=50, precision_min=0.3, recall_min=0.15\n",
      "[CV 3/3; 14/50] START max_depth_duplication=2, max_samples=0.25, n_estimators=50, precision_min=0.3, recall_min=0.15\n",
      "[CV 1/3; 15/50] START max_depth_duplication=None, max_samples=0.2, n_estimators=10, precision_min=0.15, recall_min=0.05\n",
      "[CV 2/3; 15/50] START max_depth_duplication=None, max_samples=0.2, n_estimators=10, precision_min=0.15, recall_min=0.05\n",
      "[CV 3/3; 15/50] START max_depth_duplication=None, max_samples=0.2, n_estimators=10, precision_min=0.15, recall_min=0.05\n",
      "[CV 1/3; 16/50] START max_depth_duplication=1, max_samples=0.5, n_estimators=50, precision_min=0.1, recall_min=0.1\n",
      "[CV 2/3; 16/50] START max_depth_duplication=1, max_samples=0.5, n_estimators=50, precision_min=0.1, recall_min=0.1\n",
      "[CV 3/3; 16/50] START max_depth_duplication=1, max_samples=0.5, n_estimators=50, precision_min=0.1, recall_min=0.1\n",
      "[CV 1/3; 17/50] START max_depth_duplication=1, max_samples=0.8, n_estimators=100, precision_min=0.2, recall_min=0.01\n",
      "[CV 2/3; 17/50] START max_depth_duplication=1, max_samples=0.8, n_estimators=100, precision_min=0.2, recall_min=0.01\n",
      "[CV 2/3; 21/50] START max_depth_duplication=2, max_samples=0.8, n_estimators=100, precision_min=0.1, recall_min=0.25\n",
      "[CV 3/3; 21/50] START max_depth_duplication=2, max_samples=0.8, n_estimators=100, precision_min=0.1, recall_min=0.25\n",
      "[CV 3/3; 19/50] START max_depth_duplication=1, max_samples=0.25, n_estimators=100, precision_min=0.1, recall_min=0.3\n",
      "[CV 3/3; 20/50] START max_depth_duplication=2, max_samples=0.5, n_estimators=20, precision_min=0.2, recall_min=0.01\n",
      "[CV 1/3; 21/50] START max_depth_duplication=2, max_samples=0.8, n_estimators=100, precision_min=0.1, recall_min=0.25\n",
      "[CV 1/3; 22/50] START max_depth_duplication=3, max_samples=0.2, n_estimators=50, precision_min=0.25, recall_min=0.3\n",
      "[CV 1/3; 20/50] START max_depth_duplication=2, max_samples=0.5, n_estimators=20, precision_min=0.2, recall_min=0.01\n",
      "[CV 2/3; 20/50] START max_depth_duplication=2, max_samples=0.5, n_estimators=20, precision_min=0.2, recall_min=0.01\n",
      "[CV 2/3; 19/50] START max_depth_duplication=1, max_samples=0.25, n_estimators=100, precision_min=0.1, recall_min=0.3\n",
      "[CV 1/3; 18/50] START max_depth_duplication=None, max_samples=0.8, n_estimators=10, precision_min=0.15, recall_min=0.05\n",
      "[CV 3/3; 17/50] START max_depth_duplication=1, max_samples=0.8, n_estimators=100, precision_min=0.2, recall_min=0.01\n",
      "[CV 2/3; 18/50] START max_depth_duplication=None, max_samples=0.8, n_estimators=10, precision_min=0.15, recall_min=0.05\n",
      "[CV 3/3; 18/50] START max_depth_duplication=None, max_samples=0.8, n_estimators=10, precision_min=0.15, recall_min=0.05\n",
      "[CV 1/3; 19/50] START max_depth_duplication=1, max_samples=0.25, n_estimators=100, precision_min=0.1, recall_min=0.3\n",
      "[CV 3/3; 15/50] END max_depth_duplication=None, max_samples=0.2, n_estimators=10, precision_min=0.15, recall_min=0.05;, score=0.000 total time=  27.5s\n",
      "[CV 2/3; 22/50] START max_depth_duplication=3, max_samples=0.2, n_estimators=50, precision_min=0.25, recall_min=0.3\n",
      "[CV 3/3; 6/50] END max_depth_duplication=3, max_samples=0.25, n_estimators=20, precision_min=0.1, recall_min=0.2;, score=-0.006 total time=  31.5s\n",
      "[CV 3/3; 22/50] START max_depth_duplication=3, max_samples=0.2, n_estimators=50, precision_min=0.25, recall_min=0.3\n",
      "[CV 1/3; 3/50] END max_depth_duplication=None, max_samples=0.2, n_estimators=20, precision_min=0.25, recall_min=0.25;, score=0.100 total time=  32.0s\n",
      "[CV 1/3; 23/50] START max_depth_duplication=1, max_samples=0.5, n_estimators=20, precision_min=0.2, recall_min=0.15\n",
      "[CV 2/3; 8/50] END max_depth_duplication=3, max_samples=0.2, n_estimators=20, precision_min=0.25, recall_min=0.25;, score=-0.002 total time=  33.5s\n",
      "[CV 2/3; 23/50] START max_depth_duplication=1, max_samples=0.5, n_estimators=20, precision_min=0.2, recall_min=0.15\n",
      "[CV 3/3; 8/50] END max_depth_duplication=3, max_samples=0.2, n_estimators=20, precision_min=0.25, recall_min=0.25;, score=0.013 total time=  35.2s\n",
      "[CV 3/3; 23/50] START max_depth_duplication=1, max_samples=0.5, n_estimators=20, precision_min=0.2, recall_min=0.15\n",
      "[CV 1/3; 8/50] END max_depth_duplication=3, max_samples=0.2, n_estimators=20, precision_min=0.25, recall_min=0.25;, score=0.154 total time=  35.4s\n",
      "[CV 1/3; 24/50] START max_depth_duplication=2, max_samples=0.8, n_estimators=50, precision_min=0.2, recall_min=0.25\n",
      "[CV 2/3; 3/50] END max_depth_duplication=None, max_samples=0.2, n_estimators=20, precision_min=0.25, recall_min=0.25;, score=0.007 total time=  36.5s\n",
      "[CV 2/3; 24/50] START max_depth_duplication=2, max_samples=0.8, n_estimators=50, precision_min=0.2, recall_min=0.25\n",
      "[CV 1/3; 15/50] END max_depth_duplication=None, max_samples=0.2, n_estimators=10, precision_min=0.15, recall_min=0.05;, score=0.000 total time=  35.9s\n",
      "[CV 3/3; 24/50] START max_depth_duplication=2, max_samples=0.8, n_estimators=50, precision_min=0.2, recall_min=0.25\n",
      "[CV 3/3; 2/50] END max_depth_duplication=2, max_samples=0.2, n_estimators=30, precision_min=0.1, recall_min=0.1;, score=0.016 total time=  40.0s\n",
      "[CV 1/3; 25/50] START max_depth_duplication=2, max_samples=0.2, n_estimators=10, precision_min=0.1, recall_min=0.01\n",
      "[CV 2/3; 2/50] END max_depth_duplication=2, max_samples=0.2, n_estimators=30, precision_min=0.1, recall_min=0.1;, score=-0.015 total time=  43.2s\n",
      "[CV 2/3; 25/50] START max_depth_duplication=2, max_samples=0.2, n_estimators=10, precision_min=0.1, recall_min=0.01\n",
      "[CV 2/3; 15/50] END max_depth_duplication=None, max_samples=0.2, n_estimators=10, precision_min=0.15, recall_min=0.05;, score=0.000 total time=  43.9s\n",
      "[CV 3/3; 25/50] START max_depth_duplication=2, max_samples=0.2, n_estimators=10, precision_min=0.1, recall_min=0.01\n",
      "[CV 1/3; 2/50] END max_depth_duplication=2, max_samples=0.2, n_estimators=30, precision_min=0.1, recall_min=0.1;, score=-0.021 total time=  45.5s\n",
      "[CV 1/3; 26/50] START max_depth_duplication=1, max_samples=0.5, n_estimators=30, precision_min=0.15, recall_min=0.3\n",
      "[CV 1/3; 25/50] END max_depth_duplication=2, max_samples=0.2, n_estimators=10, precision_min=0.1, recall_min=0.01;, score=-0.036 total time=   9.4s\n",
      "[CV 2/3; 26/50] START max_depth_duplication=1, max_samples=0.5, n_estimators=30, precision_min=0.15, recall_min=0.3\n",
      "[CV 2/3; 20/50] END max_depth_duplication=2, max_samples=0.5, n_estimators=20, precision_min=0.2, recall_min=0.01;, score=0.076 total time=  28.2s\n",
      "[CV 3/3; 26/50] START max_depth_duplication=1, max_samples=0.5, n_estimators=30, precision_min=0.15, recall_min=0.3\n",
      "[CV 3/3; 20/50] END max_depth_duplication=2, max_samples=0.5, n_estimators=20, precision_min=0.2, recall_min=0.01;, score=-0.026 total time=  37.1s\n",
      "[CV 3/3; 9/50] END max_depth_duplication=None, max_samples=0.2, n_estimators=50, precision_min=0.2, recall_min=0.15;, score=0.000 total time=  52.5s\n",
      "[CV 1/3; 27/50] START max_depth_duplication=None, max_samples=0.5, n_estimators=20, precision_min=0.2, recall_min=0.01\n",
      "[CV 2/3; 27/50] START max_depth_duplication=None, max_samples=0.5, n_estimators=20, precision_min=0.2, recall_min=0.01\n",
      "[CV 2/3; 25/50] END max_depth_duplication=2, max_samples=0.2, n_estimators=10, precision_min=0.1, recall_min=0.01;, score=-0.039 total time=  10.1s\n",
      "[CV 3/3; 27/50] START max_depth_duplication=None, max_samples=0.5, n_estimators=20, precision_min=0.2, recall_min=0.01\n",
      "[CV 2/3; 11/50] END max_depth_duplication=None, max_samples=0.25, n_estimators=50, precision_min=0.25, recall_min=0.25;, score=0.055 total time=  53.0s\n"
     ]
    },
    {
     "name": "stderr",
     "output_type": "stream",
     "text": [
      "/home/WUR/g0012069/env/main/lib/python3.10/site-packages/joblib/externals/loky/process_executor.py:752: UserWarning: A worker stopped while some jobs were given to the executor. This can be caused by a too short worker timeout or by a memory leak.\n",
      "  warnings.warn(\n"
     ]
    },
    {
     "name": "stdout",
     "output_type": "stream",
     "text": [
      "[CV 3/3; 3/50] END max_depth_duplication=None, max_samples=0.2, n_estimators=20, precision_min=0.25, recall_min=0.25;, score=0.013 total time=  54.3s\n",
      "[CV 1/3; 28/50] START max_depth_duplication=2, max_samples=0.2, n_estimators=50, precision_min=0.25, recall_min=0.25\n",
      "[CV 1/3; 16/50] END max_depth_duplication=1, max_samples=0.5, n_estimators=50, precision_min=0.1, recall_min=0.1;, score=0.127 total time=  53.0s\n",
      "[CV 2/3; 28/50] START max_depth_duplication=2, max_samples=0.2, n_estimators=50, precision_min=0.25, recall_min=0.25\n",
      "[CV 1/3; 6/50] END max_depth_duplication=3, max_samples=0.25, n_estimators=20, precision_min=0.1, recall_min=0.2;, score=-0.019 total time=  55.3s\n",
      "[CV 1/3; 29/50] START max_depth_duplication=3, max_samples=0.2, n_estimators=10, precision_min=0.1, recall_min=0.25\n",
      "[CV 1/3; 23/50] END max_depth_duplication=1, max_samples=0.5, n_estimators=20, precision_min=0.2, recall_min=0.15;, score=0.114 total time=  23.5s\n",
      "[CV 2/3; 29/50] START max_depth_duplication=3, max_samples=0.2, n_estimators=10, precision_min=0.1, recall_min=0.25\n",
      "[CV 1/3; 20/50] END max_depth_duplication=2, max_samples=0.5, n_estimators=20, precision_min=0.2, recall_min=0.01;, score=0.118 total time=  34.7s\n",
      "[CV 3/3; 29/50] START max_depth_duplication=3, max_samples=0.2, n_estimators=10, precision_min=0.1, recall_min=0.25\n",
      "[CV 1/3; 18/50] END max_depth_duplication=None, max_samples=0.8, n_estimators=10, precision_min=0.15, recall_min=0.05;, score=0.000 total time=  30.4s\n",
      "[CV 2/3; 6/50] END max_depth_duplication=3, max_samples=0.25, n_estimators=20, precision_min=0.1, recall_min=0.2;, score=-0.012 total time=  56.5s\n",
      "[CV 1/3; 30/50] START max_depth_duplication=2, max_samples=0.8, n_estimators=10, precision_min=0.2, recall_min=0.15\n",
      "[CV 1/3; 22/50] END max_depth_duplication=3, max_samples=0.2, n_estimators=50, precision_min=0.25, recall_min=0.3;, score=0.024 total time=  37.3s\n",
      "[CV 2/3; 30/50] START max_depth_duplication=2, max_samples=0.8, n_estimators=10, precision_min=0.2, recall_min=0.15\n",
      "[CV 2/3; 23/50] END max_depth_duplication=1, max_samples=0.5, n_estimators=20, precision_min=0.2, recall_min=0.15;, score=0.164 total time=  23.2s\n",
      "[CV 3/3; 30/50] START max_depth_duplication=2, max_samples=0.8, n_estimators=10, precision_min=0.2, recall_min=0.15\n",
      "[CV 1/3; 31/50] START max_depth_duplication=2, max_samples=0.2, n_estimators=100, precision_min=0.1, recall_min=0.25\n",
      "[CV 3/3; 28/50] START max_depth_duplication=2, max_samples=0.2, n_estimators=50, precision_min=0.25, recall_min=0.25\n",
      "[CV 3/3; 22/50] END max_depth_duplication=3, max_samples=0.2, n_estimators=50, precision_min=0.25, recall_min=0.3;, score=0.000 total time=  26.4s\n",
      "[CV 2/3; 31/50] START max_depth_duplication=2, max_samples=0.2, n_estimators=100, precision_min=0.1, recall_min=0.25\n",
      "[CV 3/3; 23/50] END max_depth_duplication=1, max_samples=0.5, n_estimators=20, precision_min=0.2, recall_min=0.15;, score=0.067 total time=  23.7s\n",
      "[CV 3/3; 31/50] START max_depth_duplication=2, max_samples=0.2, n_estimators=100, precision_min=0.1, recall_min=0.25\n",
      "[CV 1/3; 1/50] END max_depth_duplication=2, max_samples=0.5, n_estimators=20, precision_min=0.1, recall_min=0.15;, score=0.009 total time=  59.6s\n",
      "[CV 1/3; 32/50] START max_depth_duplication=1, max_samples=0.5, n_estimators=20, precision_min=0.25, recall_min=0.1\n",
      "[CV 2/3; 1/50] END max_depth_duplication=2, max_samples=0.5, n_estimators=20, precision_min=0.1, recall_min=0.15;, score=0.026 total time= 1.0min\n",
      "[CV 2/3; 22/50] END max_depth_duplication=3, max_samples=0.2, n_estimators=50, precision_min=0.25, recall_min=0.3;, score=-0.008 total time=  31.9s[CV 2/3; 32/50] START max_depth_duplication=1, max_samples=0.5, n_estimators=20, precision_min=0.25, recall_min=0.1\n",
      "\n",
      "[CV 3/3; 32/50] START max_depth_duplication=1, max_samples=0.5, n_estimators=20, precision_min=0.25, recall_min=0.1\n",
      "[CV 3/3; 1/50] END max_depth_duplication=2, max_samples=0.5, n_estimators=20, precision_min=0.1, recall_min=0.15;, score=-0.026 total time= 1.0min\n",
      "[CV 1/3; 33/50] START max_depth_duplication=3, max_samples=0.2, n_estimators=10, precision_min=0.25, recall_min=0.1\n",
      "[CV 3/3; 25/50] END max_depth_duplication=2, max_samples=0.2, n_estimators=10, precision_min=0.1, recall_min=0.01;, score=0.009 total time=  16.1s\n",
      "[CV 3/3; 10/50] END max_depth_duplication=2, max_samples=0.5, n_estimators=20, precision_min=0.3, recall_min=0.05;, score=-0.026 total time= 1.0min\n",
      "[CV 3/3; 33/50] START max_depth_duplication=3, max_samples=0.2, n_estimators=10, precision_min=0.25, recall_min=0.1[CV 2/3; 33/50] START max_depth_duplication=3, max_samples=0.2, n_estimators=10, precision_min=0.25, recall_min=0.1\n",
      "\n",
      "[CV 2/3; 29/50] END max_depth_duplication=3, max_samples=0.2, n_estimators=10, precision_min=0.1, recall_min=0.25;, score=-0.008 total time=   5.9s\n",
      "[CV 1/3; 34/50] START max_depth_duplication=1, max_samples=0.8, n_estimators=30, precision_min=0.15, recall_min=0.15\n",
      "[CV 3/3; 29/50] END max_depth_duplication=3, max_samples=0.2, n_estimators=10, precision_min=0.1, recall_min=0.25;, score=0.095 total time=   5.7s\n",
      "[CV 2/3; 34/50] START max_depth_duplication=1, max_samples=0.8, n_estimators=30, precision_min=0.15, recall_min=0.15\n",
      "[CV 2/3; 10/50] END max_depth_duplication=2, max_samples=0.5, n_estimators=20, precision_min=0.3, recall_min=0.05;, score=0.185 total time= 1.0min\n",
      "[CV 3/3; 34/50] START max_depth_duplication=1, max_samples=0.8, n_estimators=30, precision_min=0.15, recall_min=0.15\n",
      "[CV 1/3; 10/50] END max_depth_duplication=2, max_samples=0.5, n_estimators=20, precision_min=0.3, recall_min=0.05;, score=0.172 total time= 1.0min\n",
      "[CV 1/3; 35/50] START max_depth_duplication=None, max_samples=0.2, n_estimators=10, precision_min=0.15, recall_min=0.3\n",
      "[CV 2/3; 18/50] END max_depth_duplication=None, max_samples=0.8, n_estimators=10, precision_min=0.15, recall_min=0.05;, score=0.000 total time=  37.9s\n",
      "[CV 2/3; 35/50] START max_depth_duplication=None, max_samples=0.2, n_estimators=10, precision_min=0.15, recall_min=0.3\n",
      "[CV 1/3; 29/50] END max_depth_duplication=3, max_samples=0.2, n_estimators=10, precision_min=0.1, recall_min=0.25;, score=-0.030 total time=   9.6s\n",
      "[CV 3/3; 35/50] START max_depth_duplication=None, max_samples=0.2, n_estimators=10, precision_min=0.15, recall_min=0.3\n",
      "[CV 3/3; 18/50] END max_depth_duplication=None, max_samples=0.8, n_estimators=10, precision_min=0.15, recall_min=0.05;, score=-0.033 total time=  38.3s\n",
      "[CV 1/3; 26/50] END max_depth_duplication=1, max_samples=0.5, n_estimators=30, precision_min=0.15, recall_min=0.3;, score=0.182 total time=  20.0s\n",
      "[CV 1/3; 36/50] START max_depth_duplication=1, max_samples=0.5, n_estimators=100, precision_min=0.1, recall_min=0.25\n",
      "[CV 2/3; 36/50] START max_depth_duplication=1, max_samples=0.5, n_estimators=100, precision_min=0.1, recall_min=0.25\n",
      "[CV 1/3; 13/50] END max_depth_duplication=3, max_samples=0.8, n_estimators=50, precision_min=0.2, recall_min=0.01;, score=0.142 total time= 1.1min\n",
      "[CV 3/3; 36/50] START max_depth_duplication=1, max_samples=0.5, n_estimators=100, precision_min=0.1, recall_min=0.25\n",
      "[CV 3/3; 33/50] END max_depth_duplication=3, max_samples=0.2, n_estimators=10, precision_min=0.25, recall_min=0.1;, score=0.000 total time=   5.5s\n",
      "[CV 1/3; 37/50] START max_depth_duplication=1, max_samples=0.25, n_estimators=20, precision_min=0.1, recall_min=0.05\n",
      "[CV 1/3; 27/50] END max_depth_duplication=None, max_samples=0.5, n_estimators=20, precision_min=0.2, recall_min=0.01;, score=0.065 total time=  14.8s\n",
      "[CV 2/3; 37/50] START max_depth_duplication=1, max_samples=0.25, n_estimators=20, precision_min=0.1, recall_min=0.05\n",
      "[CV 3/3; 30/50] END max_depth_duplication=2, max_samples=0.8, n_estimators=10, precision_min=0.2, recall_min=0.15;, score=0.059 total time=  10.7s\n",
      "[CV 3/3; 37/50] START max_depth_duplication=1, max_samples=0.25, n_estimators=20, precision_min=0.1, recall_min=0.05\n",
      "[CV 1/3; 35/50] END max_depth_duplication=None, max_samples=0.2, n_estimators=10, precision_min=0.15, recall_min=0.3;, score=-0.058 total time=   5.8s\n",
      "[CV 1/3; 38/50] START max_depth_duplication=2, max_samples=0.25, n_estimators=20, precision_min=0.3, recall_min=0.15\n",
      "[CV 1/3; 33/50] END max_depth_duplication=3, max_samples=0.2, n_estimators=10, precision_min=0.25, recall_min=0.1;, score=0.155 total time=   7.0s\n",
      "[CV 2/3; 38/50] START max_depth_duplication=2, max_samples=0.25, n_estimators=20, precision_min=0.3, recall_min=0.15\n",
      "[CV 2/3; 26/50] END max_depth_duplication=1, max_samples=0.5, n_estimators=30, precision_min=0.15, recall_min=0.3;, score=0.152 total time=  19.2s\n",
      "[CV 3/3; 38/50] START max_depth_duplication=2, max_samples=0.25, n_estimators=20, precision_min=0.3, recall_min=0.15\n",
      "[CV 2/3; 33/50] END max_depth_duplication=3, max_samples=0.2, n_estimators=10, precision_min=0.25, recall_min=0.1;, score=0.015 total time=   7.8s\n",
      "[CV 1/3; 39/50] START max_depth_duplication=3, max_samples=0.2, n_estimators=10, precision_min=0.25, recall_min=0.01\n",
      "[CV 1/3; 9/50] END max_depth_duplication=None, max_samples=0.2, n_estimators=50, precision_min=0.2, recall_min=0.15;, score=0.000 total time= 1.2min\n",
      "[CV 3/3; 27/50] END max_depth_duplication=None, max_samples=0.5, n_estimators=20, precision_min=0.2, recall_min=0.01;, score=0.000 total time=  17.8s\n",
      "[CV 2/3; 14/50] END max_depth_duplication=2, max_samples=0.25, n_estimators=50, precision_min=0.3, recall_min=0.15;, score=0.166 total time= 1.2min\n",
      "[CV 2/3; 39/50] START max_depth_duplication=3, max_samples=0.2, n_estimators=10, precision_min=0.25, recall_min=0.01\n",
      "[CV 3/3; 39/50] START max_depth_duplication=3, max_samples=0.2, n_estimators=10, precision_min=0.25, recall_min=0.01\n",
      "[CV 2/3; 35/50] END max_depth_duplication=None, max_samples=0.2, n_estimators=10, precision_min=0.15, recall_min=0.3;, score=-0.087 total time=   6.5s\n",
      "[CV 1/3; 40/50] START max_depth_duplication=None, max_samples=0.8, n_estimators=100, precision_min=0.25, recall_min=0.05\n",
      "[CV 2/3; 9/50] END max_depth_duplication=None, max_samples=0.2, n_estimators=50, precision_min=0.2, recall_min=0.15;, score=0.000 total time= 1.2min\n",
      "[CV 2/3; 40/50] START max_depth_duplication=None, max_samples=0.8, n_estimators=100, precision_min=0.25, recall_min=0.05\n",
      "[CV 2/3; 30/50] END max_depth_duplication=2, max_samples=0.8, n_estimators=10, precision_min=0.2, recall_min=0.15;, score=0.185 total time=  14.9s\n",
      "[CV 1/3; 30/50] END max_depth_duplication=2, max_samples=0.8, n_estimators=10, precision_min=0.2, recall_min=0.15;, score=0.162 total time=  15.1s\n",
      "[CV 3/3; 40/50] START max_depth_duplication=None, max_samples=0.8, n_estimators=100, precision_min=0.25, recall_min=0.05\n",
      "[CV 1/3; 41/50] START max_depth_duplication=3, max_samples=0.8, n_estimators=20, precision_min=0.3, recall_min=0.2\n",
      "[CV 3/3; 35/50] END max_depth_duplication=None, max_samples=0.2, n_estimators=10, precision_min=0.15, recall_min=0.3;, score=0.056 total time=   6.7s\n",
      "[CV 2/3; 41/50] START max_depth_duplication=3, max_samples=0.8, n_estimators=20, precision_min=0.3, recall_min=0.2\n",
      "[CV 3/3; 26/50] END max_depth_duplication=1, max_samples=0.5, n_estimators=30, precision_min=0.15, recall_min=0.3;, score=0.109 total time=  19.1s\n",
      "[CV 3/3; 41/50] START max_depth_duplication=3, max_samples=0.8, n_estimators=20, precision_min=0.3, recall_min=0.2\n",
      "[CV 3/3; 16/50] END max_depth_duplication=1, max_samples=0.5, n_estimators=50, precision_min=0.1, recall_min=0.1;, score=0.064 total time= 1.2min\n",
      "[CV 2/3; 27/50] END max_depth_duplication=None, max_samples=0.5, n_estimators=20, precision_min=0.2, recall_min=0.01;, score=0.075 total time=  19.0s\n",
      "[CV 1/3; 42/50] START max_depth_duplication=3, max_samples=0.2, n_estimators=20, precision_min=0.2, recall_min=0.05\n",
      "[CV 2/3; 42/50] START max_depth_duplication=3, max_samples=0.2, n_estimators=20, precision_min=0.2, recall_min=0.05\n",
      "[CV 3/3; 32/50] END max_depth_duplication=1, max_samples=0.5, n_estimators=20, precision_min=0.25, recall_min=0.1;, score=0.067 total time=  13.6s\n",
      "[CV 1/3; 43/50] START max_depth_duplication=3, max_samples=0.8, n_estimators=100, precision_min=0.1, recall_min=0.1\n",
      "[CV 3/3; 14/50] END max_depth_duplication=2, max_samples=0.25, n_estimators=50, precision_min=0.3, recall_min=0.15;, score=-0.008 total time= 1.2min\n",
      "[CV 2/3; 43/50] START max_depth_duplication=3, max_samples=0.8, n_estimators=100, precision_min=0.1, recall_min=0.1\n",
      "[CV 1/3; 11/50] END max_depth_duplication=None, max_samples=0.25, n_estimators=50, precision_min=0.25, recall_min=0.25;, score=0.158 total time= 1.2min\n",
      "[CV 3/3; 43/50] START max_depth_duplication=3, max_samples=0.8, n_estimators=100, precision_min=0.1, recall_min=0.1\n",
      "[CV 3/3; 11/50] END max_depth_duplication=None, max_samples=0.25, n_estimators=50, precision_min=0.25, recall_min=0.25;, score=0.000 total time= 1.3min\n",
      "[CV 1/3; 44/50] START max_depth_duplication=1, max_samples=0.25, n_estimators=50, precision_min=0.2, recall_min=0.1\n",
      "[CV 1/3; 14/50] END max_depth_duplication=2, max_samples=0.25, n_estimators=50, precision_min=0.3, recall_min=0.15;, score=0.169 total time= 1.3min\n",
      "[CV 2/3; 44/50] START max_depth_duplication=1, max_samples=0.25, n_estimators=50, precision_min=0.2, recall_min=0.1\n",
      "[CV 3/3; 19/50] END max_depth_duplication=1, max_samples=0.25, n_estimators=100, precision_min=0.1, recall_min=0.3;, score=0.102 total time= 1.1min\n",
      "[CV 3/3; 44/50] START max_depth_duplication=1, max_samples=0.25, n_estimators=50, precision_min=0.2, recall_min=0.1[CV 2/3; 24/50] END max_depth_duplication=2, max_samples=0.8, n_estimators=50, precision_min=0.2, recall_min=0.25;, score=0.184 total time=  41.4s\n",
      "\n",
      "[CV 1/3; 45/50] START max_depth_duplication=None, max_samples=0.8, n_estimators=50, precision_min=0.15, recall_min=0.1\n",
      "[CV 3/3; 42/50] START max_depth_duplication=3, max_samples=0.2, n_estimators=20, precision_min=0.2, recall_min=0.05\n",
      "[CV 3/3; 37/50] END max_depth_duplication=1, max_samples=0.25, n_estimators=20, precision_min=0.1, recall_min=0.05;, score=0.120 total time=  11.3s\n",
      "[CV 2/3; 45/50] START max_depth_duplication=None, max_samples=0.8, n_estimators=50, precision_min=0.15, recall_min=0.1\n",
      "[CV 1/3; 32/50] END max_depth_duplication=1, max_samples=0.5, n_estimators=20, precision_min=0.25, recall_min=0.1;, score=0.182 total time=  21.2s\n",
      "[CV 3/3; 45/50] START max_depth_duplication=None, max_samples=0.8, n_estimators=50, precision_min=0.15, recall_min=0.1\n",
      "[CV 2/3; 37/50] END max_depth_duplication=1, max_samples=0.25, n_estimators=20, precision_min=0.1, recall_min=0.05;, score=0.122 total time=  13.4s\n",
      "[CV 1/3; 46/50] START max_depth_duplication=1, max_samples=0.8, n_estimators=20, precision_min=0.15, recall_min=0.25\n",
      "[CV 3/3; 38/50] END max_depth_duplication=2, max_samples=0.25, n_estimators=20, precision_min=0.3, recall_min=0.15;, score=0.075 total time=  12.8s\n",
      "[CV 2/3; 46/50] START max_depth_duplication=1, max_samples=0.8, n_estimators=20, precision_min=0.15, recall_min=0.25\n",
      "[CV 1/3; 24/50] END max_depth_duplication=2, max_samples=0.8, n_estimators=50, precision_min=0.2, recall_min=0.25;, score=0.163 total time=  46.4s\n",
      "[CV 3/3; 46/50] START max_depth_duplication=1, max_samples=0.8, n_estimators=20, precision_min=0.15, recall_min=0.25\n",
      "[CV 2/3; 28/50] END max_depth_duplication=2, max_samples=0.2, n_estimators=50, precision_min=0.25, recall_min=0.25;, score=-0.011 total time=  27.7s\n",
      "[CV 1/3; 47/50] START max_depth_duplication=3, max_samples=0.25, n_estimators=10, precision_min=0.2, recall_min=0.2\n",
      "[CV 1/3; 39/50] END max_depth_duplication=3, max_samples=0.2, n_estimators=10, precision_min=0.25, recall_min=0.01;, score=0.163 total time=  13.8s\n",
      "[CV 2/3; 47/50] START max_depth_duplication=3, max_samples=0.25, n_estimators=10, precision_min=0.2, recall_min=0.2\n",
      "[CV 3/3; 39/50] END max_depth_duplication=3, max_samples=0.2, n_estimators=10, precision_min=0.25, recall_min=0.01;, score=0.000 total time=  11.9s\n",
      "[CV 3/3; 47/50] START max_depth_duplication=3, max_samples=0.25, n_estimators=10, precision_min=0.2, recall_min=0.2\n",
      "[CV 2/3; 32/50] END max_depth_duplication=1, max_samples=0.5, n_estimators=20, precision_min=0.25, recall_min=0.1;, score=0.164 total time=  22.8s\n",
      "[CV 1/3; 48/50] START max_depth_duplication=None, max_samples=0.25, n_estimators=30, precision_min=0.25, recall_min=0.25\n",
      "[CV 2/3; 4/50] END max_depth_duplication=2, max_samples=0.5, n_estimators=100, precision_min=0.1, recall_min=0.1;, score=-0.019 total time= 1.4min\n",
      "[CV 2/3; 34/50] END max_depth_duplication=1, max_samples=0.8, n_estimators=30, precision_min=0.15, recall_min=0.15;, score=0.186 total time=  24.8s\n",
      "[CV 2/3; 48/50] START max_depth_duplication=None, max_samples=0.25, n_estimators=30, precision_min=0.25, recall_min=0.25\n",
      "[CV 2/3; 39/50] END max_depth_duplication=3, max_samples=0.2, n_estimators=10, precision_min=0.25, recall_min=0.01;, score=-0.009 total time=  16.8s\n",
      "[CV 3/3; 48/50] START max_depth_duplication=None, max_samples=0.25, n_estimators=30, precision_min=0.25, recall_min=0.25\n",
      "[CV 1/3; 37/50] END max_depth_duplication=1, max_samples=0.25, n_estimators=20, precision_min=0.1, recall_min=0.05;, score=0.159 total time=  21.1s\n",
      "[CV 1/3; 49/50] START max_depth_duplication=2, max_samples=0.8, n_estimators=100, precision_min=0.15, recall_min=0.15\n",
      "[CV 2/3; 16/50] END max_depth_duplication=1, max_samples=0.5, n_estimators=50, precision_min=0.1, recall_min=0.1;, score=0.204 total time= 1.4min\n",
      "[CV 3/3; 49/50] START max_depth_duplication=2, max_samples=0.8, n_estimators=100, precision_min=0.15, recall_min=0.15\n",
      "[CV 2/3; 38/50] END max_depth_duplication=2, max_samples=0.25, n_estimators=20, precision_min=0.3, recall_min=0.15;, score=0.153 total time=  21.0s\n",
      "[CV 1/3; 38/50] END max_depth_duplication=2, max_samples=0.25, n_estimators=20, precision_min=0.3, recall_min=0.15;, score=0.168 total time=  21.2s\n",
      "[CV 1/3; 50/50] START max_depth_duplication=1, max_samples=0.8, n_estimators=100, precision_min=0.15, recall_min=0.25\n",
      "[CV 2/3; 50/50] START max_depth_duplication=1, max_samples=0.8, n_estimators=100, precision_min=0.15, recall_min=0.25\n",
      "[CV 3/3; 5/50] END max_depth_duplication=3, max_samples=0.5, n_estimators=100, precision_min=0.25, recall_min=0.25;, score=0.021 total time= 1.5min\n",
      "[CV 3/3; 50/50] START max_depth_duplication=1, max_samples=0.8, n_estimators=100, precision_min=0.15, recall_min=0.25[CV 2/3; 42/50] END max_depth_duplication=3, max_samples=0.2, n_estimators=20, precision_min=0.2, recall_min=0.05;, score=0.000 total time=  18.3s\n",
      "\n",
      "[CV 2/3; 13/50] END max_depth_duplication=3, max_samples=0.8, n_estimators=50, precision_min=0.2, recall_min=0.01;, score=0.124 total time= 1.5min\n",
      "[CV 1/3; 47/50] END max_depth_duplication=3, max_samples=0.25, n_estimators=10, precision_min=0.2, recall_min=0.2;, score=-0.020 total time=  11.3s\n",
      "[CV 2/3; 49/50] START max_depth_duplication=2, max_samples=0.8, n_estimators=100, precision_min=0.15, recall_min=0.15\n",
      "[CV 1/3; 28/50] END max_depth_duplication=2, max_samples=0.2, n_estimators=50, precision_min=0.25, recall_min=0.25;, score=0.100 total time=  40.5s\n",
      "[CV 3/3; 47/50] END max_depth_duplication=3, max_samples=0.25, n_estimators=10, precision_min=0.2, recall_min=0.2;, score=0.006 total time=  12.6s\n",
      "[CV 3/3; 13/50] END max_depth_duplication=3, max_samples=0.8, n_estimators=50, precision_min=0.2, recall_min=0.01;, score=0.000 total time= 1.6min\n",
      "[CV 1/3; 34/50] END max_depth_duplication=1, max_samples=0.8, n_estimators=30, precision_min=0.15, recall_min=0.15;, score=0.157 total time=  35.5s\n",
      "[CV 3/3; 41/50] END max_depth_duplication=3, max_samples=0.8, n_estimators=20, precision_min=0.3, recall_min=0.2;, score=0.126 total time=  26.2s\n",
      "[CV 1/3; 46/50] END max_depth_duplication=1, max_samples=0.8, n_estimators=20, precision_min=0.15, recall_min=0.25;, score=0.062 total time=  20.8s\n",
      "[CV 3/3; 21/50] END max_depth_duplication=2, max_samples=0.8, n_estimators=100, precision_min=0.1, recall_min=0.25;, score=-0.011 total time= 1.6min\n",
      "[CV 2/3; 46/50] END max_depth_duplication=1, max_samples=0.8, n_estimators=20, precision_min=0.15, recall_min=0.25;, score=0.134 total time=  22.3s\n",
      "[CV 2/3; 48/50] END max_depth_duplication=None, max_samples=0.25, n_estimators=30, precision_min=0.25, recall_min=0.25;, score=0.055 total time=  17.8s\n",
      "[CV 3/3; 46/50] END max_depth_duplication=1, max_samples=0.8, n_estimators=20, precision_min=0.15, recall_min=0.25;, score=0.121 total time=  22.5s\n",
      "[CV 1/3; 17/50] END max_depth_duplication=1, max_samples=0.8, n_estimators=100, precision_min=0.2, recall_min=0.01;, score=0.165 total time= 1.7min\n",
      "[CV 2/3; 47/50] END max_depth_duplication=3, max_samples=0.25, n_estimators=10, precision_min=0.2, recall_min=0.2;, score=-0.002 total time=  22.7s\n",
      "[CV 1/3; 42/50] END max_depth_duplication=3, max_samples=0.2, n_estimators=20, precision_min=0.2, recall_min=0.05;, score=0.000 total time=  35.1s\n",
      "[CV 1/3; 31/50] END max_depth_duplication=2, max_samples=0.2, n_estimators=100, precision_min=0.1, recall_min=0.25;, score=0.002 total time=  49.7s\n",
      "[CV 1/3; 21/50] END max_depth_duplication=2, max_samples=0.8, n_estimators=100, precision_min=0.1, recall_min=0.25;, score=-0.010 total time= 1.5min\n",
      "[CV 2/3; 31/50] END max_depth_duplication=2, max_samples=0.2, n_estimators=100, precision_min=0.1, recall_min=0.25;, score=-0.002 total time=  49.9s\n",
      "[CV 1/3; 7/50] END max_depth_duplication=2, max_samples=0.8, n_estimators=100, precision_min=0.3, recall_min=0.3;, score=0.062 total time= 1.8min\n",
      "[CV 3/3; 44/50] END max_depth_duplication=1, max_samples=0.25, n_estimators=50, precision_min=0.2, recall_min=0.1;, score=0.104 total time=  30.3s\n",
      "[CV 3/3; 28/50] END max_depth_duplication=2, max_samples=0.2, n_estimators=50, precision_min=0.25, recall_min=0.25;, score=0.007 total time=  51.3s\n",
      "[CV 3/3; 42/50] END max_depth_duplication=3, max_samples=0.2, n_estimators=20, precision_min=0.2, recall_min=0.05;, score=0.000 total time=  31.3s\n",
      "[CV 3/3; 34/50] END max_depth_duplication=1, max_samples=0.8, n_estimators=30, precision_min=0.15, recall_min=0.15;, score=0.121 total time=  47.7s\n",
      "[CV 3/3; 31/50] END max_depth_duplication=2, max_samples=0.2, n_estimators=100, precision_min=0.1, recall_min=0.25;, score=-0.038 total time=  50.6s\n",
      "[CV 2/3; 41/50] END max_depth_duplication=3, max_samples=0.8, n_estimators=20, precision_min=0.3, recall_min=0.2;, score=0.186 total time=  38.0s\n",
      "[CV 1/3; 41/50] END max_depth_duplication=3, max_samples=0.8, n_estimators=20, precision_min=0.3, recall_min=0.2;, score=0.150 total time=  39.0s\n",
      "[CV 3/3; 24/50] END max_depth_duplication=2, max_samples=0.8, n_estimators=50, precision_min=0.2, recall_min=0.25;, score=0.079 total time= 1.2min\n",
      "[CV 2/3; 45/50] END max_depth_duplication=None, max_samples=0.8, n_estimators=50, precision_min=0.15, recall_min=0.1;, score=0.000 total time=  34.9s\n",
      "[CV 1/3; 45/50] END max_depth_duplication=None, max_samples=0.8, n_estimators=50, precision_min=0.15, recall_min=0.1;, score=-0.019 total time=  36.1s\n",
      "[CV 1/3; 19/50] END max_depth_duplication=1, max_samples=0.25, n_estimators=100, precision_min=0.1, recall_min=0.3;, score=0.164 total time= 1.5min\n",
      "[CV 1/3; 48/50] END max_depth_duplication=None, max_samples=0.25, n_estimators=30, precision_min=0.25, recall_min=0.25;, score=0.156 total time=  31.6s\n",
      "[CV 3/3; 48/50] END max_depth_duplication=None, max_samples=0.25, n_estimators=30, precision_min=0.25, recall_min=0.25;, score=0.011 total time=  27.7s\n",
      "[CV 1/3; 4/50] END max_depth_duplication=2, max_samples=0.5, n_estimators=100, precision_min=0.1, recall_min=0.1;, score=-0.057 total time= 1.9min\n",
      "[CV 2/3; 19/50] END max_depth_duplication=1, max_samples=0.25, n_estimators=100, precision_min=0.1, recall_min=0.3;, score=0.119 total time= 1.5min\n",
      "[CV 1/3; 44/50] END max_depth_duplication=1, max_samples=0.25, n_estimators=50, precision_min=0.2, recall_min=0.1;, score=0.162 total time=  40.4s\n",
      "[CV 2/3; 44/50] END max_depth_duplication=1, max_samples=0.25, n_estimators=50, precision_min=0.2, recall_min=0.1;, score=0.166 total time=  40.1s\n",
      "[CV 3/3; 36/50] END max_depth_duplication=1, max_samples=0.5, n_estimators=100, precision_min=0.1, recall_min=0.25;, score=0.111 total time=  50.9s\n",
      "[CV 1/3; 5/50] END max_depth_duplication=3, max_samples=0.5, n_estimators=100, precision_min=0.25, recall_min=0.25;, score=0.158 total time= 2.0min\n",
      "[CV 3/3; 4/50] END max_depth_duplication=2, max_samples=0.5, n_estimators=100, precision_min=0.1, recall_min=0.1;, score=0.004 total time= 2.0min\n",
      "[CV 2/3; 5/50] END max_depth_duplication=3, max_samples=0.5, n_estimators=100, precision_min=0.25, recall_min=0.25;, score=0.129 total time= 2.0min\n",
      "[CV 1/3; 36/50] END max_depth_duplication=1, max_samples=0.5, n_estimators=100, precision_min=0.1, recall_min=0.25;, score=-0.160 total time=  52.3s\n",
      "[CV 3/3; 45/50] END max_depth_duplication=None, max_samples=0.8, n_estimators=50, precision_min=0.15, recall_min=0.1;, score=0.000 total time=  37.3s\n",
      "[CV 2/3; 12/50] END max_depth_duplication=None, max_samples=0.5, n_estimators=100, precision_min=0.15, recall_min=0.1;, score=0.000 total time= 2.0min\n",
      "[CV 2/3; 17/50] END max_depth_duplication=1, max_samples=0.8, n_estimators=100, precision_min=0.2, recall_min=0.01;, score=0.186 total time= 1.9min\n",
      "[CV 3/3; 12/50] END max_depth_duplication=None, max_samples=0.5, n_estimators=100, precision_min=0.15, recall_min=0.1;, score=0.000 total time= 2.0min\n",
      "[CV 1/3; 12/50] END max_depth_duplication=None, max_samples=0.5, n_estimators=100, precision_min=0.15, recall_min=0.1;, score=0.000 total time= 2.0min\n",
      "[CV 3/3; 7/50] END max_depth_duplication=2, max_samples=0.8, n_estimators=100, precision_min=0.3, recall_min=0.3;, score=0.100 total time= 2.0min\n",
      "[CV 2/3; 21/50] END max_depth_duplication=2, max_samples=0.8, n_estimators=100, precision_min=0.1, recall_min=0.25;, score=0.193 total time= 1.9min\n",
      "[CV 3/3; 17/50] END max_depth_duplication=1, max_samples=0.8, n_estimators=100, precision_min=0.2, recall_min=0.01;, score=0.100 total time= 1.6min\n",
      "[CV 2/3; 7/50] END max_depth_duplication=2, max_samples=0.8, n_estimators=100, precision_min=0.3, recall_min=0.3;, score=0.186 total time= 2.0min\n",
      "[CV 2/3; 36/50] END max_depth_duplication=1, max_samples=0.5, n_estimators=100, precision_min=0.1, recall_min=0.25;, score=0.166 total time=  54.3s\n",
      "[CV 3/3; 50/50] END max_depth_duplication=1, max_samples=0.8, n_estimators=100, precision_min=0.15, recall_min=0.25;, score=0.100 total time=  32.1s\n",
      "[CV 1/3; 43/50] END max_depth_duplication=3, max_samples=0.8, n_estimators=100, precision_min=0.1, recall_min=0.1;, score=-0.047 total time=  48.0s\n",
      "[CV 2/3; 49/50] END max_depth_duplication=2, max_samples=0.8, n_estimators=100, precision_min=0.15, recall_min=0.15;, score=0.180 total time=  28.5s\n",
      "[CV 2/3; 43/50] END max_depth_duplication=3, max_samples=0.8, n_estimators=100, precision_min=0.1, recall_min=0.1;, score=0.000 total time=  49.0s\n",
      "[CV 3/3; 43/50] END max_depth_duplication=3, max_samples=0.8, n_estimators=100, precision_min=0.1, recall_min=0.1;, score=-0.008 total time=  48.5s\n",
      "[CV 1/3; 50/50] END max_depth_duplication=1, max_samples=0.8, n_estimators=100, precision_min=0.15, recall_min=0.25;, score=0.165 total time=  35.5s\n",
      "[CV 1/3; 49/50] END max_depth_duplication=2, max_samples=0.8, n_estimators=100, precision_min=0.15, recall_min=0.15;, score=0.022 total time=  36.8s\n",
      "[CV 3/3; 49/50] END max_depth_duplication=2, max_samples=0.8, n_estimators=100, precision_min=0.15, recall_min=0.15;, score=-0.040 total time=  36.4s\n",
      "[CV 1/3; 40/50] END max_depth_duplication=None, max_samples=0.8, n_estimators=100, precision_min=0.25, recall_min=0.05;, score=0.154 total time=  53.6s\n",
      "[CV 2/3; 50/50] END max_depth_duplication=1, max_samples=0.8, n_estimators=100, precision_min=0.15, recall_min=0.25;, score=0.186 total time=  35.7s\n",
      "[CV 3/3; 40/50] END max_depth_duplication=None, max_samples=0.8, n_estimators=100, precision_min=0.25, recall_min=0.05;, score=0.000 total time=  53.4s\n",
      "[CV 2/3; 40/50] END max_depth_duplication=None, max_samples=0.8, n_estimators=100, precision_min=0.25, recall_min=0.05;, score=0.124 total time=  53.7s\n"
     ]
    }
   ],
   "source": [
    "from src.machinelearning import train_skoperules\n",
    "\n",
    "skope_rules_clf = train_skoperules(X_train, y_train, scoring='matthews_corrcoef')"
   ]
  },
  {
   "cell_type": "code",
   "execution_count": 43,
   "metadata": {},
   "outputs": [
    {
     "name": "stdout",
     "output_type": "stream",
     "text": [
      "Accuracy: 0.5621315789473684\n",
      "Precision: 0.5318738035200755\n",
      "Recall: 0.6949335566476409\n",
      "F1 score: 0.6025672260678064\n",
      "ROC AUC score: 0.5678131902698939\n",
      "Matthews correlation coefficient: 0.1398666884758641\n"
     ]
    }
   ],
   "source": [
    "from src.machinelearning import evaluate_sklearn\n",
    "\n",
    "evaluate_sklearn(skope_rules_clf, X_test, y_test)"
   ]
  },
  {
   "cell_type": "code",
   "execution_count": 45,
   "metadata": {},
   "outputs": [
    {
     "data": {
      "text/plain": [
       "[('ASN@pi_m <= 0.6622629165649414 and XRI@nadh_c <= 0.6211623549461365 and GND1@6pgl_c <= 0.9577304422855377',\n",
       "  (0.3439306358381503, 0.4271356783919598, 2)),\n",
       " ('ASN@pi_m > 0.6795818507671356 and ASN@atp_m <= 0.9435464441776276 and XRI@nadh_c <= 0.7111899256706238',\n",
       "  (0.5463552724699221, 0.2761087267525036, 2))]"
      ]
     },
     "execution_count": 45,
     "metadata": {},
     "output_type": "execute_result"
    }
   ],
   "source": [
    "skope_rules_clf.rules_"
   ]
  },
  {
   "cell_type": "code",
   "execution_count": 10,
   "metadata": {},
   "outputs": [],
   "source": [
    "# from src.machinelearning import train_decisiontree, evaluate_sklean\n",
    "\n",
    "# cart_model = train_decisiontree(X_train, y_train, n_trials=200)"
   ]
  },
  {
   "cell_type": "code",
   "execution_count": 11,
   "metadata": {},
   "outputs": [],
   "source": [
    "# display(cart_model)\n",
    "# evaluate_sklean(cart_model, X_test, y_test)"
   ]
  },
  {
   "cell_type": "code",
   "execution_count": 12,
   "metadata": {},
   "outputs": [],
   "source": [
    "# from src.ml2rules import TreeRuler, ml2tree\n",
    "\n",
    "# ruler = TreeRuler(df=train, tree_clf=cart_model, target=\"label\")\n",
    "# ruler.get_rules()\n",
    "# ruler.rules"
   ]
  },
  {
   "cell_type": "code",
   "execution_count": 13,
   "metadata": {},
   "outputs": [],
   "source": [
    "# r = ruler.get_rule_constraints(1)\n",
    "# print(r)\n",
    "# print()\n",
    "\n",
    "# _ = test[test[\"ASN@pi_m\"] > 0.679]\n",
    "# _ = _[_[\"XRI@nadh_c\"] <= 0.633]\n",
    "# _ = _[_[\"ASN@atp_m\"] <= 0.573]\n",
    "\n",
    "# print(f\"Number of samples: {_.shape[0]}\")\n",
    "# print(_[\"label\"].value_counts(normalize=True).round(4))\n",
    "# print(_[\"label\"].value_counts())"
   ]
  },
  {
   "cell_type": "code",
   "execution_count": 91,
   "metadata": {},
   "outputs": [
    {
     "data": {
      "text/plain": [
       "1    0.6548\n",
       "0    0.3452\n",
       "Name: label, dtype: float64"
      ]
     },
     "execution_count": 91,
     "metadata": {},
     "output_type": "execute_result"
    }
   ],
   "source": [
    "_ = test[test[\"ASN@pi_m\"] > 0.679]\n",
    "_ = _[_[\"XRI@nadh_c\"] <= 0.748]\n",
    "_ = _[_[\"ASN@atp_m\"] <= 0.944]\n",
    "_[\"label\"].value_counts(normalize=True).round(4)"
   ]
  },
  {
   "cell_type": "code",
   "execution_count": 15,
   "metadata": {},
   "outputs": [
    {
     "name": "stdout",
     "output_type": "stream",
     "text": [
      "Epoch 0, Loss: 0.680859\n",
      "Epoch 10, Loss: 0.529382\n",
      "Epoch 20, Loss: 0.378249\n",
      "Epoch 30, Loss: 0.431200\n",
      "Epoch 40, Loss: 0.126426\n",
      "Epoch 50, Loss: 0.000825\n",
      "Epoch 60, Loss: 0.000096\n",
      "Epoch 70, Loss: 0.000040\n",
      "Epoch 80, Loss: 0.000021\n",
      "Epoch 90, Loss: 0.000013\n",
      "Epoch 100, Loss: 0.000008\n",
      "Epoch 110, Loss: 0.000005\n",
      "Epoch 120, Loss: 0.000005\n",
      "Epoch 130, Loss: 0.000004\n",
      "Epoch 140, Loss: 0.000003\n",
      "Epoch 150, Loss: 0.000002\n",
      "Epoch 160, Loss: 0.000002\n",
      "Epoch 170, Loss: 0.000002\n",
      "Epoch 180, Loss: 0.000002\n",
      "Epoch 190, Loss: 0.000001\n",
      "Epoch 200, Loss: 0.000001\n",
      "Epoch 210, Loss: 0.000001\n",
      "Epoch 220, Loss: 0.000001\n",
      "Epoch 230, Loss: 0.000001\n",
      "Epoch 240, Loss: 0.000001\n",
      "Epoch 250, Loss: 0.000001\n",
      "Epoch 260, Loss: 0.000001\n",
      "Epoch 270, Loss: 0.000001\n",
      "Epoch 280, Loss: 0.000001\n",
      "Epoch 290, Loss: 0.000001\n",
      "Early stopping on epoch 294\n",
      "Accuracy: 0.6254157894736843\n",
      "Precision: 0.6455271019425413\n",
      "Recall: 0.4785794565528792\n",
      "F1: 0.5496560931933661\n",
      "MCC: 0.24885660465616025\n"
     ]
    }
   ],
   "source": [
    "# Train ANNClassifier\n",
    "import torch\n",
    "from src.machinelearning import ANNClassifier, train, evaluate, get_predictions\n",
    "\n",
    "device = torch.device(\"cuda\" if torch.cuda.is_available() else \"cpu\")\n",
    "\n",
    "input_dim = X_train.shape[1]\n",
    "hidden_dim = 2048\n",
    "output_dim = 1\n",
    "hidden_layers = 4\n",
    "\n",
    "model = ANNClassifier(input_dim, hidden_dim, output_dim, hidden_layers).to(device)\n",
    "\n",
    "model = train(\n",
    "    model, X_train, y_train, num_epochs=1000, learning_rate=0.001, batch_size=2048\n",
    ")\n",
    "\n",
    "# Evaluate model\n",
    "evaluate(model, X_test, y_test)"
   ]
  },
  {
   "cell_type": "code",
   "execution_count": 16,
   "metadata": {},
   "outputs": [],
   "source": [
    "ann_preds = get_predictions(model, X_train)"
   ]
  },
  {
   "cell_type": "code",
   "execution_count": 17,
   "metadata": {},
   "outputs": [
    {
     "name": "stderr",
     "output_type": "stream",
     "text": [
      "[I 2024-09-30 13:10:05,369] A new study created in memory with name: no-name-c9730b68-c107-4e71-9da8-0f8ad2f865b2\n",
      "[Parallel(n_jobs=-1)]: Using backend LokyBackend with 64 concurrent workers.\n",
      "[Parallel(n_jobs=-1)]: Batch computation too fast (0.07512092590332031s.) Setting batch_size=2.\n",
      "[Parallel(n_jobs=-1)]: Done   3 out of   3 | elapsed:    0.1s finished\n",
      "[I 2024-09-30 13:10:05,559] Trial 0 finished with value: 0.6023005419918116 and parameters: {'max_depth': 13, 'min_samples_split': 23, 'min_samples_leaf': 10, 'max_features': 'log2'}. Best is trial 0 with value: 0.6023005419918116.\n",
      "[Parallel(n_jobs=-1)]: Using backend LokyBackend with 64 concurrent workers.\n"
     ]
    },
    {
     "name": "stdout",
     "output_type": "stream",
     "text": [
      "[CV] START .....................................................................\n",
      "[CV] START .....................................................................\n",
      "[CV] START .....................................................................\n",
      "[CV] END ................................ score: (test=0.605) total time=   0.1s\n",
      "[CV] END ................................ score: (test=0.597) total time=   0.1s\n",
      "[CV] END ................................ score: (test=0.605) total time=   0.1s\n",
      "[CV] START .....................................................................\n",
      "[CV] START .....................................................................\n",
      "[CV] START .....................................................................\n"
     ]
    },
    {
     "name": "stderr",
     "output_type": "stream",
     "text": [
      "[Parallel(n_jobs=-1)]: Batch computation too fast (0.10758757591247559s.) Setting batch_size=2.\n",
      "[Parallel(n_jobs=-1)]: Done   3 out of   3 | elapsed:    0.1s finished\n",
      "[I 2024-09-30 13:10:05,794] Trial 1 finished with value: 0.5925993319187948 and parameters: {'max_depth': 22, 'min_samples_split': 16, 'min_samples_leaf': 12, 'max_features': 'sqrt'}. Best is trial 0 with value: 0.6023005419918116.\n"
     ]
    },
    {
     "name": "stdout",
     "output_type": "stream",
     "text": [
      "[CV] END ................................ score: (test=0.599) total time=   0.1s\n",
      "[CV] END ................................ score: (test=0.599) total time=   0.1s\n",
      "[CV] END ................................ score: (test=0.580) total time=   0.1s\n",
      "[CV] START .....................................................................\n",
      "[CV] START .....................................................................\n",
      "[CV] START .....................................................................\n"
     ]
    },
    {
     "name": "stderr",
     "output_type": "stream",
     "text": [
      "[Parallel(n_jobs=-1)]: Using backend LokyBackend with 64 concurrent workers.\n",
      "[Parallel(n_jobs=-1)]: Done   3 out of   3 | elapsed:    0.6s finished\n",
      "[I 2024-09-30 13:10:06,552] Trial 2 finished with value: 0.6177996923867551 and parameters: {'max_depth': 11, 'min_samples_split': 8, 'min_samples_leaf': 3, 'max_features': None}. Best is trial 2 with value: 0.6177996923867551.\n"
     ]
    },
    {
     "name": "stdout",
     "output_type": "stream",
     "text": [
      "[CV] END ................................ score: (test=0.621) total time=   0.6s\n",
      "[CV] END ................................ score: (test=0.611) total time=   0.6s\n",
      "[CV] END ................................ score: (test=0.622) total time=   0.6s\n",
      "[CV] START .....................................................................\n",
      "[CV] START .....................................................................\n",
      "[CV] START .....................................................................\n"
     ]
    },
    {
     "name": "stderr",
     "output_type": "stream",
     "text": [
      "[Parallel(n_jobs=-1)]: Using backend LokyBackend with 64 concurrent workers.\n",
      "[Parallel(n_jobs=-1)]: Batch computation too fast (0.0783073902130127s.) Setting batch_size=2.\n",
      "[Parallel(n_jobs=-1)]: Done   3 out of   3 | elapsed:    0.1s finished\n",
      "[I 2024-09-30 13:10:06,756] Trial 3 finished with value: 0.5871996317808146 and parameters: {'max_depth': 23, 'min_samples_split': 16, 'min_samples_leaf': 10, 'max_features': 'log2'}. Best is trial 2 with value: 0.6177996923867551.\n"
     ]
    },
    {
     "name": "stdout",
     "output_type": "stream",
     "text": [
      "[CV] END ................................ score: (test=0.591) total time=   0.1s\n",
      "[CV] END ................................ score: (test=0.578) total time=   0.1s\n",
      "[CV] END ................................ score: (test=0.593) total time=   0.1s\n",
      "[CV] START .....................................................................\n",
      "[CV] START .....................................................................\n",
      "[CV] START .....................................................................\n"
     ]
    },
    {
     "name": "stderr",
     "output_type": "stream",
     "text": [
      "[Parallel(n_jobs=-1)]: Using backend LokyBackend with 64 concurrent workers.\n",
      "[Parallel(n_jobs=-1)]: Done   3 out of   3 | elapsed:    0.6s finished\n",
      "[I 2024-09-30 13:10:07,465] Trial 4 finished with value: 0.6134996523047626 and parameters: {'max_depth': 21, 'min_samples_split': 6, 'min_samples_leaf': 21, 'max_features': None}. Best is trial 2 with value: 0.6177996923867551.\n"
     ]
    },
    {
     "name": "stdout",
     "output_type": "stream",
     "text": [
      "[CV] END ................................ score: (test=0.617) total time=   0.5s\n",
      "[CV] END ................................ score: (test=0.602) total time=   0.6s\n",
      "[CV] END ................................ score: (test=0.621) total time=   0.6s\n",
      "[CV] START .....................................................................\n",
      "[CV] START .....................................................................\n",
      "[CV] START .....................................................................\n"
     ]
    },
    {
     "name": "stderr",
     "output_type": "stream",
     "text": [
      "[Parallel(n_jobs=-1)]: Using backend LokyBackend with 64 concurrent workers.\n",
      "[Parallel(n_jobs=-1)]: Batch computation too fast (0.06898379325866699s.) Setting batch_size=2.\n",
      "[Parallel(n_jobs=-1)]: Done   3 out of   3 | elapsed:    0.1s finished\n",
      "[I 2024-09-30 13:10:07,660] Trial 5 finished with value: 0.6125985723947319 and parameters: {'max_depth': 10, 'min_samples_split': 21, 'min_samples_leaf': 6, 'max_features': 'log2'}. Best is trial 2 with value: 0.6177996923867551.\n",
      "[Parallel(n_jobs=-1)]: Using backend LokyBackend with 64 concurrent workers.\n"
     ]
    },
    {
     "name": "stdout",
     "output_type": "stream",
     "text": [
      "[CV] END ................................ score: (test=0.592) total time=   0.1s\n",
      "[CV] END ................................ score: (test=0.627) total time=   0.1s\n",
      "[CV] END ................................ score: (test=0.619) total time=   0.1s\n",
      "[CV] START .....................................................................\n",
      "[CV] START .....................................................................\n",
      "[CV] START .....................................................................\n",
      "[CV] END ................................ score: (test=0.651) total time=   0.0s\n",
      "[CV] END ................................ score: (test=0.650) total time=   0.0s\n",
      "[CV] END ................................ score: (test=0.651) total time=   0.0s\n"
     ]
    },
    {
     "name": "stderr",
     "output_type": "stream",
     "text": [
      "[Parallel(n_jobs=-1)]: Batch computation too fast (0.05242276191711426s.) Setting batch_size=2.\n",
      "[Parallel(n_jobs=-1)]: Done   3 out of   3 | elapsed:    0.1s finished\n",
      "[I 2024-09-30 13:10:07,834] Trial 6 finished with value: 0.6507999630196973 and parameters: {'max_depth': 3, 'min_samples_split': 6, 'min_samples_leaf': 23, 'max_features': 'sqrt'}. Best is trial 6 with value: 0.6507999630196973.\n",
      "[Parallel(n_jobs=-1)]: Using backend LokyBackend with 64 concurrent workers.\n",
      "[Parallel(n_jobs=-1)]: Batch computation too fast (0.07733583450317383s.) Setting batch_size=2.\n",
      "[Parallel(n_jobs=-1)]: Done   3 out of   3 | elapsed:    0.1s finished\n",
      "[I 2024-09-30 13:10:08,030] Trial 7 finished with value: 0.588100771684847 and parameters: {'max_depth': 23, 'min_samples_split': 25, 'min_samples_leaf': 9, 'max_features': 'log2'}. Best is trial 6 with value: 0.6507999630196973.\n",
      "[Parallel(n_jobs=-1)]: Using backend LokyBackend with 64 concurrent workers.\n"
     ]
    },
    {
     "name": "stdout",
     "output_type": "stream",
     "text": [
      "[CV] START .....................................................................\n",
      "[CV] START .....................................................................\n",
      "[CV] START .....................................................................\n",
      "[CV] END ................................ score: (test=0.580) total time=   0.1s\n",
      "[CV] END ................................ score: (test=0.592) total time=   0.1s\n",
      "[CV] END ................................ score: (test=0.592) total time=   0.1s\n",
      "[CV] START .....................................................................\n",
      "[CV] START .....................................................................\n",
      "[CV] START .....................................................................\n"
     ]
    },
    {
     "name": "stderr",
     "output_type": "stream",
     "text": [
      "[Parallel(n_jobs=-1)]: Done   3 out of   3 | elapsed:    0.6s finished\n",
      "[I 2024-09-30 13:10:08,720] Trial 8 finished with value: 0.6185998023917568 and parameters: {'max_depth': 16, 'min_samples_split': 21, 'min_samples_leaf': 25, 'max_features': None}. Best is trial 6 with value: 0.6507999630196973.\n"
     ]
    },
    {
     "name": "stdout",
     "output_type": "stream",
     "text": [
      "[CV] END ................................ score: (test=0.621) total time=   0.5s\n",
      "[CV] END ................................ score: (test=0.607) total time=   0.5s\n",
      "[CV] END ................................ score: (test=0.629) total time=   0.6s\n",
      "[CV] START .....................................................................\n",
      "[CV] START .....................................................................\n",
      "[CV] START .....................................................................\n"
     ]
    },
    {
     "name": "stderr",
     "output_type": "stream",
     "text": [
      "[Parallel(n_jobs=-1)]: Using backend LokyBackend with 64 concurrent workers.\n",
      "[Parallel(n_jobs=-1)]: Done   3 out of   3 | elapsed:    0.6s finished\n",
      "[I 2024-09-30 13:10:09,410] Trial 9 finished with value: 0.6112997022557684 and parameters: {'max_depth': 21, 'min_samples_split': 21, 'min_samples_leaf': 23, 'max_features': None}. Best is trial 6 with value: 0.6507999630196973.\n"
     ]
    },
    {
     "name": "stdout",
     "output_type": "stream",
     "text": [
      "[CV] END ................................ score: (test=0.614) total time=   0.5s\n",
      "[CV] END ................................ score: (test=0.603) total time=   0.5s\n",
      "[CV] END ................................ score: (test=0.617) total time=   0.6s\n",
      "[CV] START .....................................................................\n",
      "[CV] START .....................................................................\n",
      "[CV] START .....................................................................\n"
     ]
    },
    {
     "name": "stderr",
     "output_type": "stream",
     "text": [
      "[Parallel(n_jobs=-1)]: Using backend LokyBackend with 64 concurrent workers.\n",
      "[Parallel(n_jobs=-1)]: Batch computation too fast (0.054480791091918945s.) Setting batch_size=2.\n",
      "[Parallel(n_jobs=-1)]: Done   3 out of   3 | elapsed:    0.1s finished\n",
      "[I 2024-09-30 13:10:09,598] Trial 10 finished with value: 0.6510995430676841 and parameters: {'max_depth': 3, 'min_samples_split': 3, 'min_samples_leaf': 17, 'max_features': 'sqrt'}. Best is trial 10 with value: 0.6510995430676841.\n",
      "[Parallel(n_jobs=-1)]: Using backend LokyBackend with 64 concurrent workers.\n"
     ]
    },
    {
     "name": "stdout",
     "output_type": "stream",
     "text": [
      "[CV] END ................................ score: (test=0.656) total time=   0.0s\n",
      "[CV] END ................................ score: (test=0.653) total time=   0.0s\n",
      "[CV] END ................................ score: (test=0.644) total time=   0.0s\n",
      "[CV] START .....................................................................\n",
      "[CV] START .....................................................................\n",
      "[CV] START .....................................................................\n",
      "[CV] END ................................ score: (test=0.636) total time=   0.0s\n",
      "[CV] END ................................ score: (test=0.650) total time=   0.0s\n",
      "[CV] END ................................ score: (test=0.650) total time=   0.0s\n"
     ]
    },
    {
     "name": "stderr",
     "output_type": "stream",
     "text": [
      "[Parallel(n_jobs=-1)]: Batch computation too fast (0.04613041877746582s.) Setting batch_size=2.\n",
      "[Parallel(n_jobs=-1)]: Done   3 out of   3 | elapsed:    0.1s finished\n",
      "[I 2024-09-30 13:10:09,775] Trial 11 finished with value: 0.6453008828177359 and parameters: {'max_depth': 2, 'min_samples_split': 2, 'min_samples_leaf': 17, 'max_features': 'sqrt'}. Best is trial 10 with value: 0.6510995430676841.\n",
      "[Parallel(n_jobs=-1)]: Using backend LokyBackend with 64 concurrent workers.\n",
      "[Parallel(n_jobs=-1)]: Batch computation too fast (0.04768252372741699s.) Setting batch_size=2.\n",
      "[Parallel(n_jobs=-1)]: Done   3 out of   3 | elapsed:    0.1s finished\n",
      "[I 2024-09-30 13:10:09,951] Trial 12 finished with value: 0.6485998629856987 and parameters: {'max_depth': 2, 'min_samples_split': 2, 'min_samples_leaf': 17, 'max_features': 'sqrt'}. Best is trial 10 with value: 0.6510995430676841.\n",
      "[Parallel(n_jobs=-1)]: Using backend LokyBackend with 64 concurrent workers.\n"
     ]
    },
    {
     "name": "stdout",
     "output_type": "stream",
     "text": [
      "[CV] START .....................................................................\n",
      "[CV] START .....................................................................\n",
      "[CV] START .....................................................................\n",
      "[CV] END ................................ score: (test=0.650) total time=   0.0s\n",
      "[CV] END ................................ score: (test=0.650) total time=   0.0s\n",
      "[CV] END ................................ score: (test=0.646) total time=   0.0s\n",
      "[CV] START .....................................................................\n",
      "[CV] START .....................................................................\n",
      "[CV] START .....................................................................\n"
     ]
    },
    {
     "name": "stderr",
     "output_type": "stream",
     "text": [
      "[Parallel(n_jobs=-1)]: Batch computation too fast (0.07746076583862305s.) Setting batch_size=2.\n",
      "[Parallel(n_jobs=-1)]: Done   3 out of   3 | elapsed:    0.1s finished\n",
      "[I 2024-09-30 13:10:10,159] Trial 13 finished with value: 0.6275015323967909 and parameters: {'max_depth': 7, 'min_samples_split': 9, 'min_samples_leaf': 18, 'max_features': 'sqrt'}. Best is trial 10 with value: 0.6510995430676841.\n"
     ]
    },
    {
     "name": "stdout",
     "output_type": "stream",
     "text": [
      "[CV] END ................................ score: (test=0.612) total time=   0.1s\n",
      "[CV] END ................................ score: (test=0.634) total time=   0.1s\n",
      "[CV] END ................................ score: (test=0.636) total time=   0.1s\n",
      "[CV] START .....................................................................\n",
      "[CV] START .....................................................................\n",
      "[CV] START .....................................................................\n",
      "[CV] END ................................ score: (test=0.641) total time=   0.1s\n"
     ]
    },
    {
     "name": "stderr",
     "output_type": "stream",
     "text": [
      "[Parallel(n_jobs=-1)]: Using backend LokyBackend with 64 concurrent workers.\n",
      "[Parallel(n_jobs=-1)]: Batch computation too fast (0.0708765983581543s.) Setting batch_size=2.\n",
      "[Parallel(n_jobs=-1)]: Done   3 out of   3 | elapsed:    0.1s finished\n",
      "[I 2024-09-30 13:10:10,368] Trial 14 finished with value: 0.6402999628097182 and parameters: {'max_depth': 6, 'min_samples_split': 5, 'min_samples_leaf': 20, 'max_features': 'sqrt'}. Best is trial 10 with value: 0.6510995430676841.\n"
     ]
    },
    {
     "name": "stdout",
     "output_type": "stream",
     "text": [
      "[CV] END ................................ score: (test=0.638) total time=   0.1s\n",
      "[CV] END ................................ score: (test=0.642) total time=   0.1s\n",
      "[CV] START .....................................................................\n",
      "[CV] START .....................................................................\n",
      "[CV] START .....................................................................\n"
     ]
    },
    {
     "name": "stderr",
     "output_type": "stream",
     "text": [
      "[Parallel(n_jobs=-1)]: Using backend LokyBackend with 64 concurrent workers.\n",
      "[Parallel(n_jobs=-1)]: Batch computation too fast (0.07190942764282227s.) Setting batch_size=2.\n",
      "[Parallel(n_jobs=-1)]: Done   3 out of   3 | elapsed:    0.1s finished\n",
      "[I 2024-09-30 13:10:10,577] Trial 15 finished with value: 0.637300052740727 and parameters: {'max_depth': 6, 'min_samples_split': 12, 'min_samples_leaf': 15, 'max_features': 'sqrt'}. Best is trial 10 with value: 0.6510995430676841.\n"
     ]
    },
    {
     "name": "stdout",
     "output_type": "stream",
     "text": [
      "[CV] END ................................ score: (test=0.637) total time=   0.1s\n",
      "[CV] END ................................ score: (test=0.647) total time=   0.1s\n",
      "[CV] END ................................ score: (test=0.629) total time=   0.1s\n",
      "[CV] START .....................................................................\n",
      "[CV] START .....................................................................\n",
      "[CV] START .....................................................................\n",
      "[CV] END ................................ score: (test=0.646) total time=   0.0s\n",
      "[CV] END ................................ score: (test=0.655) total time=   0.0s\n",
      "[CV] END ................................ score: (test=0.646) total time=   0.0s\n"
     ]
    },
    {
     "name": "stderr",
     "output_type": "stream",
     "text": [
      "[Parallel(n_jobs=-1)]: Using backend LokyBackend with 64 concurrent workers.\n",
      "[Parallel(n_jobs=-1)]: Batch computation too fast (0.05923032760620117s.) Setting batch_size=2.\n",
      "[Parallel(n_jobs=-1)]: Done   3 out of   3 | elapsed:    0.1s finished\n",
      "[I 2024-09-30 13:10:10,774] Trial 16 finished with value: 0.6489993930406838 and parameters: {'max_depth': 4, 'min_samples_split': 11, 'min_samples_leaf': 24, 'max_features': 'sqrt'}. Best is trial 10 with value: 0.6510995430676841.\n",
      "[Parallel(n_jobs=-1)]: Using backend LokyBackend with 64 concurrent workers.\n",
      "[Parallel(n_jobs=-1)]: Batch computation too fast (0.09372472763061523s.) Setting batch_size=2.\n",
      "[Parallel(n_jobs=-1)]: Done   3 out of   3 | elapsed:    0.1s finished\n",
      "[I 2024-09-30 13:10:11,012] Trial 17 finished with value: 0.6149994123587524 and parameters: {'max_depth': 16, 'min_samples_split': 4, 'min_samples_leaf': 21, 'max_features': 'sqrt'}. Best is trial 10 with value: 0.6510995430676841.\n"
     ]
    },
    {
     "name": "stdout",
     "output_type": "stream",
     "text": [
      "[CV] START .....................................................................\n",
      "[CV] START .....................................................................\n",
      "[CV] START .....................................................................\n",
      "[CV] END ................................ score: (test=0.621) total time=   0.1s\n",
      "[CV] END ................................ score: (test=0.616) total time=   0.1s\n",
      "[CV] END ................................ score: (test=0.608) total time=   0.1s\n"
     ]
    },
    {
     "name": "stderr",
     "output_type": "stream",
     "text": [
      "[Parallel(n_jobs=-1)]: Using backend LokyBackend with 64 concurrent workers.\n",
      "[Parallel(n_jobs=-1)]: Batch computation too fast (0.08854341506958008s.) Setting batch_size=2.\n",
      "[Parallel(n_jobs=-1)]: Done   3 out of   3 | elapsed:    0.1s finished\n",
      "[I 2024-09-30 13:10:11,243] Trial 18 finished with value: 0.6265009524347755 and parameters: {'max_depth': 9, 'min_samples_split': 8, 'min_samples_leaf': 14, 'max_features': 'sqrt'}. Best is trial 10 with value: 0.6510995430676841.\n"
     ]
    },
    {
     "name": "stdout",
     "output_type": "stream",
     "text": [
      "[CV] START .....................................................................\n",
      "[CV] START .....................................................................\n",
      "[CV] START .....................................................................\n",
      "[CV] END ................................ score: (test=0.617) total time=   0.1s\n",
      "[CV] END ................................ score: (test=0.629) total time=   0.1s\n",
      "[CV] END ................................ score: (test=0.633) total time=   0.1s\n"
     ]
    },
    {
     "name": "stderr",
     "output_type": "stream",
     "text": [
      "[Parallel(n_jobs=-1)]: Using backend LokyBackend with 64 concurrent workers.\n",
      "[Parallel(n_jobs=-1)]: Batch computation too fast (0.0608983039855957s.) Setting batch_size=2.\n",
      "[Parallel(n_jobs=-1)]: Done   3 out of   3 | elapsed:    0.1s finished\n",
      "[I 2024-09-30 13:10:11,442] Trial 19 finished with value: 0.6465005528747235 and parameters: {'max_depth': 4, 'min_samples_split': 15, 'min_samples_leaf': 20, 'max_features': 'sqrt'}. Best is trial 10 with value: 0.6510995430676841.\n",
      "[Parallel(n_jobs=-1)]: Using backend LokyBackend with 64 concurrent workers.\n"
     ]
    },
    {
     "name": "stdout",
     "output_type": "stream",
     "text": [
      "[CV] START .....................................................................\n",
      "[CV] START .....................................................................\n",
      "[CV] START .....................................................................\n",
      "[CV] END ................................ score: (test=0.653) total time=   0.0s\n",
      "[CV] END ................................ score: (test=0.641) total time=   0.0s\n",
      "[CV] END ................................ score: (test=0.645) total time=   0.0s\n"
     ]
    },
    {
     "name": "stderr",
     "output_type": "stream",
     "text": [
      "[Parallel(n_jobs=-1)]: Batch computation too fast (0.0879218578338623s.) Setting batch_size=2.\n",
      "[Parallel(n_jobs=-1)]: Done   3 out of   3 | elapsed:    0.1s finished\n",
      "[I 2024-09-30 13:10:11,671] Trial 20 finished with value: 0.6402995428517056 and parameters: {'max_depth': 8, 'min_samples_split': 6, 'min_samples_leaf': 1, 'max_features': 'sqrt'}. Best is trial 10 with value: 0.6510995430676841.\n"
     ]
    },
    {
     "name": "stdout",
     "output_type": "stream",
     "text": [
      "[CV] START .....................................................................\n",
      "[CV] START .....................................................................\n",
      "[CV] START .....................................................................\n",
      "[CV] END ................................ score: (test=0.645) total time=   0.1s\n",
      "[CV] END ................................ score: (test=0.639) total time=   0.1s\n",
      "[CV] END ................................ score: (test=0.637) total time=   0.1s\n"
     ]
    },
    {
     "name": "stderr",
     "output_type": "stream",
     "text": [
      "[Parallel(n_jobs=-1)]: Using backend LokyBackend with 64 concurrent workers.\n",
      "[Parallel(n_jobs=-1)]: Batch computation too fast (0.0591428279876709s.) Setting batch_size=2.\n",
      "[Parallel(n_jobs=-1)]: Done   3 out of   3 | elapsed:    0.1s finished\n",
      "[I 2024-09-30 13:10:11,871] Trial 21 finished with value: 0.6532997630896863 and parameters: {'max_depth': 4, 'min_samples_split': 11, 'min_samples_leaf': 25, 'max_features': 'sqrt'}. Best is trial 21 with value: 0.6532997630896863.\n",
      "[Parallel(n_jobs=-1)]: Using backend LokyBackend with 64 concurrent workers.\n"
     ]
    },
    {
     "name": "stdout",
     "output_type": "stream",
     "text": [
      "[CV] START .....................................................................\n",
      "[CV] START .....................................................................\n",
      "[CV] START .....................................................................\n",
      "[CV] END ................................ score: (test=0.656) total time=   0.0s\n",
      "[CV] END ................................ score: (test=0.660) total time=   0.0s\n",
      "[CV] END ................................ score: (test=0.644) total time=   0.0s\n",
      "[CV] START .....................................................................\n",
      "[CV] START .....................................................................\n",
      "[CV] START .....................................................................\n"
     ]
    },
    {
     "name": "stderr",
     "output_type": "stream",
     "text": [
      "[Parallel(n_jobs=-1)]: Batch computation too fast (0.05968213081359863s.) Setting batch_size=2.\n",
      "[Parallel(n_jobs=-1)]: Done   3 out of   3 | elapsed:    0.1s finished\n",
      "[I 2024-09-30 13:10:12,069] Trial 22 finished with value: 0.649599843007696 and parameters: {'max_depth': 4, 'min_samples_split': 10, 'min_samples_leaf': 23, 'max_features': 'sqrt'}. Best is trial 21 with value: 0.6532997630896863.\n",
      "[Parallel(n_jobs=-1)]: Using backend LokyBackend with 64 concurrent workers.\n"
     ]
    },
    {
     "name": "stdout",
     "output_type": "stream",
     "text": [
      "[CV] END ................................ score: (test=0.651) total time=   0.0s\n",
      "[CV] END ................................ score: (test=0.649) total time=   0.0s\n",
      "[CV] END ................................ score: (test=0.648) total time=   0.0s\n",
      "[CV] START .....................................................................\n",
      "[CV] START .....................................................................\n",
      "[CV] START .....................................................................\n",
      "[CV] END ................................ score: (test=0.651) total time=   0.0s\n",
      "[CV] END ................................ score: (test=0.650) total time=   0.0s\n",
      "[CV] END ................................ score: (test=0.650) total time=   0.0s\n"
     ]
    },
    {
     "name": "stderr",
     "output_type": "stream",
     "text": [
      "[Parallel(n_jobs=-1)]: Batch computation too fast (0.04552602767944336s.) Setting batch_size=2.\n",
      "[Parallel(n_jobs=-1)]: Done   3 out of   3 | elapsed:    0.1s finished\n",
      "[I 2024-09-30 13:10:12,249] Trial 23 finished with value: 0.6502999430116977 and parameters: {'max_depth': 2, 'min_samples_split': 13, 'min_samples_leaf': 25, 'max_features': 'sqrt'}. Best is trial 21 with value: 0.6532997630896863.\n",
      "[Parallel(n_jobs=-1)]: Using backend LokyBackend with 64 concurrent workers.\n",
      "[Parallel(n_jobs=-1)]: Batch computation too fast (0.06212449073791504s.) Setting batch_size=2.\n",
      "[Parallel(n_jobs=-1)]: Done   3 out of   3 | elapsed:    0.1s finished\n",
      "[I 2024-09-30 13:10:12,450] Trial 24 finished with value: 0.6420004627937299 and parameters: {'max_depth': 5, 'min_samples_split': 3, 'min_samples_leaf': 22, 'max_features': 'sqrt'}. Best is trial 21 with value: 0.6532997630896863.\n",
      "[Parallel(n_jobs=-1)]: Using backend LokyBackend with 64 concurrent workers.\n"
     ]
    },
    {
     "name": "stdout",
     "output_type": "stream",
     "text": [
      "[CV] START .....................................................................\n",
      "[CV] START .....................................................................\n",
      "[CV] START .....................................................................\n",
      "[CV] END ................................ score: (test=0.651) total time=   0.0s\n",
      "[CV] END ................................ score: (test=0.637) total time=   0.1s\n",
      "[CV] END ................................ score: (test=0.638) total time=   0.0s\n"
     ]
    },
    {
     "name": "stderr",
     "output_type": "stream",
     "text": [
      "[Parallel(n_jobs=-1)]: Batch computation too fast (0.08988380432128906s.) Setting batch_size=2.\n",
      "[Parallel(n_jobs=-1)]: Done   3 out of   3 | elapsed:    0.1s finished\n",
      "[I 2024-09-30 13:10:12,680] Trial 25 finished with value: 0.6214002024077633 and parameters: {'max_depth': 12, 'min_samples_split': 7, 'min_samples_leaf': 20, 'max_features': 'sqrt'}. Best is trial 21 with value: 0.6532997630896863.\n"
     ]
    },
    {
     "name": "stdout",
     "output_type": "stream",
     "text": [
      "[CV] START .....................................................................\n",
      "[CV] START .....................................................................\n",
      "[CV] START .....................................................................\n",
      "[CV] END ................................ score: (test=0.619) total time=   0.1s\n",
      "[CV] END ................................ score: (test=0.617) total time=   0.1s\n",
      "[CV] END ................................ score: (test=0.628) total time=   0.1s\n"
     ]
    },
    {
     "name": "stderr",
     "output_type": "stream",
     "text": [
      "[Parallel(n_jobs=-1)]: Using backend LokyBackend with 64 concurrent workers.\n",
      "[Parallel(n_jobs=-1)]: Batch computation too fast (0.08078598976135254s.) Setting batch_size=2.\n",
      "[Parallel(n_jobs=-1)]: Done   3 out of   3 | elapsed:    0.1s finished\n",
      "[I 2024-09-30 13:10:12,901] Trial 26 finished with value: 0.6254006624417691 and parameters: {'max_depth': 8, 'min_samples_split': 4, 'min_samples_leaf': 18, 'max_features': 'sqrt'}. Best is trial 21 with value: 0.6532997630896863.\n"
     ]
    },
    {
     "name": "stdout",
     "output_type": "stream",
     "text": [
      "[CV] START .....................................................................\n",
      "[CV] START .....................................................................\n",
      "[CV] START .....................................................................\n",
      "[CV] END ................................ score: (test=0.629) total time=   0.1s\n",
      "[CV] END ................................ score: (test=0.619) total time=   0.1s\n",
      "[CV] END ................................ score: (test=0.628) total time=   0.1s\n"
     ]
    },
    {
     "name": "stderr",
     "output_type": "stream",
     "text": [
      "[Parallel(n_jobs=-1)]: Using backend LokyBackend with 64 concurrent workers.\n",
      "[Parallel(n_jobs=-1)]: Batch computation too fast (0.09159088134765625s.) Setting batch_size=2.\n",
      "[Parallel(n_jobs=-1)]: Done   3 out of   3 | elapsed:    0.1s finished\n",
      "[I 2024-09-30 13:10:13,130] Trial 27 finished with value: 0.6058995521627748 and parameters: {'max_depth': 16, 'min_samples_split': 10, 'min_samples_leaf': 16, 'max_features': 'sqrt'}. Best is trial 21 with value: 0.6532997630896863.\n"
     ]
    },
    {
     "name": "stdout",
     "output_type": "stream",
     "text": [
      "[CV] START .....................................................................\n",
      "[CV] START .....................................................................\n",
      "[CV] START .....................................................................\n",
      "[CV] END ................................ score: (test=0.612) total time=   0.1s\n",
      "[CV] END ................................ score: (test=0.610) total time=   0.1s\n",
      "[CV] END ................................ score: (test=0.595) total time=   0.1s\n"
     ]
    },
    {
     "name": "stderr",
     "output_type": "stream",
     "text": [
      "[Parallel(n_jobs=-1)]: Using backend LokyBackend with 64 concurrent workers.\n",
      "[Parallel(n_jobs=-1)]: Batch computation too fast (0.04980015754699707s.) Setting batch_size=2.\n",
      "[Parallel(n_jobs=-1)]: Done   3 out of   3 | elapsed:    0.1s finished\n",
      "[I 2024-09-30 13:10:13,320] Trial 28 finished with value: 0.6501000429977011 and parameters: {'max_depth': 4, 'min_samples_split': 18, 'min_samples_leaf': 13, 'max_features': 'log2'}. Best is trial 21 with value: 0.6532997630896863.\n",
      "[Parallel(n_jobs=-1)]: Using backend LokyBackend with 64 concurrent workers.\n"
     ]
    },
    {
     "name": "stdout",
     "output_type": "stream",
     "text": [
      "[CV] START .....................................................................\n",
      "[CV] START .....................................................................\n",
      "[CV] START .....................................................................\n",
      "[CV] END ................................ score: (test=0.650) total time=   0.0s\n",
      "[CV] END ................................ score: (test=0.650) total time=   0.0s\n",
      "[CV] END ................................ score: (test=0.650) total time=   0.0s\n",
      "[CV] START .....................................................................\n",
      "[CV] START .....................................................................\n",
      "[CV] START .....................................................................\n"
     ]
    },
    {
     "name": "stderr",
     "output_type": "stream",
     "text": [
      "[Parallel(n_jobs=-1)]: Done   3 out of   3 | elapsed:    0.6s finished\n",
      "[I 2024-09-30 13:10:14,017] Trial 29 finished with value: 0.6176997723767577 and parameters: {'max_depth': 13, 'min_samples_split': 5, 'min_samples_leaf': 25, 'max_features': None}. Best is trial 21 with value: 0.6532997630896863.\n"
     ]
    },
    {
     "name": "stdout",
     "output_type": "stream",
     "text": [
      "[CV] END ................................ score: (test=0.607) total time=   0.5s\n",
      "[CV] END ................................ score: (test=0.620) total time=   0.5s\n",
      "[CV] END ................................ score: (test=0.626) total time=   0.5s\n",
      "[CV] START .....................................................................\n",
      "[CV] START .....................................................................\n",
      "[CV] START .....................................................................\n",
      "[CV] END ................................ score: (test=0.649) total time=   0.0s\n",
      "[CV] END ................................ score: (test=0.650) total time=   0.0s\n",
      "[CV] END ................................ score: (test=0.650) total time=   0.0s\n"
     ]
    },
    {
     "name": "stderr",
     "output_type": "stream",
     "text": [
      "[Parallel(n_jobs=-1)]: Using backend LokyBackend with 64 concurrent workers.\n",
      "[Parallel(n_jobs=-1)]: Batch computation too fast (0.04136347770690918s.) Setting batch_size=2.\n",
      "[Parallel(n_jobs=-1)]: Done   3 out of   3 | elapsed:    0.0s finished\n",
      "[I 2024-09-30 13:10:14,197] Trial 30 finished with value: 0.6497000629877024 and parameters: {'max_depth': 2, 'min_samples_split': 14, 'min_samples_leaf': 19, 'max_features': 'log2'}. Best is trial 21 with value: 0.6532997630896863.\n",
      "[Parallel(n_jobs=-1)]: Using backend LokyBackend with 64 concurrent workers.\n",
      "[Parallel(n_jobs=-1)]: Batch computation too fast (0.044904232025146484s.) Setting batch_size=2.\n",
      "[Parallel(n_jobs=-1)]: Done   3 out of   3 | elapsed:    0.1s finished\n",
      "[I 2024-09-30 13:10:14,377] Trial 31 finished with value: 0.651900193018702 and parameters: {'max_depth': 2, 'min_samples_split': 12, 'min_samples_leaf': 25, 'max_features': 'sqrt'}. Best is trial 21 with value: 0.6532997630896863.\n",
      "[Parallel(n_jobs=-1)]: Using backend LokyBackend with 64 concurrent workers.\n"
     ]
    },
    {
     "name": "stdout",
     "output_type": "stream",
     "text": [
      "[CV] START .....................................................................\n",
      "[CV] START .....................................................................\n",
      "[CV] START .....................................................................\n",
      "[CV] END ................................ score: (test=0.650) total time=   0.0s\n",
      "[CV] END ................................ score: (test=0.650) total time=   0.0s\n",
      "[CV] END ................................ score: (test=0.656) total time=   0.0s\n",
      "[CV] START .....................................................................[CV] START .....................................................................\n",
      "\n",
      "[CV] START .....................................................................\n"
     ]
    },
    {
     "name": "stderr",
     "output_type": "stream",
     "text": [
      "[Parallel(n_jobs=-1)]: Batch computation too fast (0.07152986526489258s.) Setting batch_size=2.\n",
      "[Parallel(n_jobs=-1)]: Done   3 out of   3 | elapsed:    0.1s finished\n",
      "[I 2024-09-30 13:10:14,588] Trial 32 finished with value: 0.6389993528447026 and parameters: {'max_depth': 6, 'min_samples_split': 12, 'min_samples_leaf': 23, 'max_features': 'sqrt'}. Best is trial 21 with value: 0.6532997630896863.\n"
     ]
    },
    {
     "name": "stdout",
     "output_type": "stream",
     "text": [
      "[CV] END ................................ score: (test=0.645) total time=   0.1s\n",
      "[CV] END ................................ score: (test=0.643) total time=   0.1s\n",
      "[CV] END ................................ score: (test=0.629) total time=   0.1s\n",
      "[CV] START .....................................................................\n",
      "[CV] START .....................................................................\n",
      "[CV] START .....................................................................\n",
      "[CV] END ................................ score: (test=0.653) total time=   0.0s\n",
      "[CV] END ................................ score: (test=0.652) total time=   0.0s\n",
      "[CV] END ................................ score: (test=0.652) total time=   0.0s\n"
     ]
    },
    {
     "name": "stderr",
     "output_type": "stream",
     "text": [
      "[Parallel(n_jobs=-1)]: Using backend LokyBackend with 64 concurrent workers.\n",
      "[Parallel(n_jobs=-1)]: Batch computation too fast (0.05228424072265625s.) Setting batch_size=2.\n",
      "[Parallel(n_jobs=-1)]: Done   3 out of   3 | elapsed:    0.1s finished\n",
      "[I 2024-09-30 13:10:14,778] Trial 33 finished with value: 0.6522999330526934 and parameters: {'max_depth': 3, 'min_samples_split': 8, 'min_samples_leaf': 22, 'max_features': 'sqrt'}. Best is trial 21 with value: 0.6532997630896863.\n",
      "[Parallel(n_jobs=-1)]: Using backend LokyBackend with 64 concurrent workers.\n",
      "[Parallel(n_jobs=-1)]: Batch computation too fast (0.06537365913391113s.) Setting batch_size=2.\n",
      "[Parallel(n_jobs=-1)]: Done   3 out of   3 | elapsed:    0.1s finished\n",
      "[I 2024-09-30 13:10:14,977] Trial 34 finished with value: 0.644699712922702 and parameters: {'max_depth': 5, 'min_samples_split': 18, 'min_samples_leaf': 22, 'max_features': 'sqrt'}. Best is trial 21 with value: 0.6532997630896863.\n",
      "[Parallel(n_jobs=-1)]: Using backend LokyBackend with 64 concurrent workers.\n"
     ]
    },
    {
     "name": "stdout",
     "output_type": "stream",
     "text": [
      "[CV] START .....................................................................\n",
      "[CV] START .....................................................................\n",
      "[CV] START .....................................................................\n",
      "[CV] END ................................ score: (test=0.648) total time=   0.1s\n",
      "[CV] END ................................ score: (test=0.651) total time=   0.0s\n",
      "[CV] END ................................ score: (test=0.635) total time=   0.1s\n",
      "[CV] START .....................................................................\n",
      "[CV] START .....................................................................\n"
     ]
    },
    {
     "name": "stderr",
     "output_type": "stream",
     "text": [
      "[Parallel(n_jobs=-1)]: Batch computation too fast (0.051458120346069336s.) Setting batch_size=2.\n",
      "[Parallel(n_jobs=-1)]: Done   3 out of   3 | elapsed:    0.1s finished\n",
      "[I 2024-09-30 13:10:15,165] Trial 35 finished with value: 0.6501006129407182 and parameters: {'max_depth': 3, 'min_samples_split': 8, 'min_samples_leaf': 25, 'max_features': 'sqrt'}. Best is trial 21 with value: 0.6532997630896863.\n",
      "[Parallel(n_jobs=-1)]: Using backend LokyBackend with 64 concurrent workers.\n"
     ]
    },
    {
     "name": "stdout",
     "output_type": "stream",
     "text": [
      "[CV] START .....................................................................\n",
      "[CV] END ................................ score: (test=0.644) total time=   0.0s\n",
      "[CV] END ................................ score: (test=0.656) total time=   0.0s\n",
      "[CV] END ................................ score: (test=0.650) total time=   0.0s\n",
      "[CV] START .....................................................................\n",
      "[CV] START .....................................................................\n",
      "[CV] START .....................................................................\n"
     ]
    },
    {
     "name": "stderr",
     "output_type": "stream",
     "text": [
      "[Parallel(n_jobs=-1)]: Done   3 out of   3 | elapsed:    0.5s finished\n",
      "[I 2024-09-30 13:10:15,760] Trial 36 finished with value: 0.6420008527547415 and parameters: {'max_depth': 7, 'min_samples_split': 10, 'min_samples_leaf': 12, 'max_features': None}. Best is trial 21 with value: 0.6532997630896863.\n"
     ]
    },
    {
     "name": "stdout",
     "output_type": "stream",
     "text": [
      "[CV] END ................................ score: (test=0.633) total time=   0.4s\n",
      "[CV] END ................................ score: (test=0.634) total time=   0.4s\n",
      "[CV] END ................................ score: (test=0.658) total time=   0.4s\n",
      "[CV] START .....................................................................\n",
      "[CV] START .....................................................................\n",
      "[CV] START .....................................................................\n"
     ]
    },
    {
     "name": "stderr",
     "output_type": "stream",
     "text": [
      "[Parallel(n_jobs=-1)]: Using backend LokyBackend with 64 concurrent workers.\n",
      "[Parallel(n_jobs=-1)]: Batch computation too fast (0.09401321411132812s.) Setting batch_size=2.\n",
      "[Parallel(n_jobs=-1)]: Done   3 out of   3 | elapsed:    0.1s finished\n",
      "[I 2024-09-30 13:10:15,991] Trial 37 finished with value: 0.608401332034823 and parameters: {'max_depth': 25, 'min_samples_split': 17, 'min_samples_leaf': 21, 'max_features': 'sqrt'}. Best is trial 21 with value: 0.6532997630896863.\n"
     ]
    },
    {
     "name": "stdout",
     "output_type": "stream",
     "text": [
      "[CV] END ................................ score: (test=0.611) total time=   0.1s\n",
      "[CV] END ................................ score: (test=0.619) total time=   0.1s\n",
      "[CV] END ................................ score: (test=0.595) total time=   0.1s\n",
      "[CV] START .....................................................................\n",
      "[CV] START .....................................................................\n",
      "[CV] START .....................................................................\n"
     ]
    },
    {
     "name": "stderr",
     "output_type": "stream",
     "text": [
      "[Parallel(n_jobs=-1)]: Using backend LokyBackend with 64 concurrent workers.\n",
      "[Parallel(n_jobs=-1)]: Batch computation too fast (0.06820845603942871s.) Setting batch_size=2.\n",
      "[Parallel(n_jobs=-1)]: Done   3 out of   3 | elapsed:    0.1s finished\n",
      "[I 2024-09-30 13:10:16,201] Trial 38 finished with value: 0.6217025421798329 and parameters: {'max_depth': 10, 'min_samples_split': 12, 'min_samples_leaf': 24, 'max_features': 'log2'}. Best is trial 21 with value: 0.6532997630896863.\n"
     ]
    },
    {
     "name": "stdout",
     "output_type": "stream",
     "text": [
      "[CV] END ................................ score: (test=0.596) total time=   0.1s\n",
      "[CV] END ................................ score: (test=0.625) total time=   0.1s\n",
      "[CV] END ................................ score: (test=0.644) total time=   0.1s\n",
      "[CV] START .....................................................................\n",
      "[CV] START .....................................................................\n",
      "[CV] START .....................................................................\n"
     ]
    },
    {
     "name": "stderr",
     "output_type": "stream",
     "text": [
      "[Parallel(n_jobs=-1)]: Using backend LokyBackend with 64 concurrent workers.\n",
      "[Parallel(n_jobs=-1)]: Batch computation too fast (0.10650157928466797s.) Setting batch_size=2.\n",
      "[Parallel(n_jobs=-1)]: Done   3 out of   3 | elapsed:    0.1s finished\n",
      "[I 2024-09-30 13:10:16,441] Trial 39 finished with value: 0.6105006121487974 and parameters: {'max_depth': 18, 'min_samples_split': 14, 'min_samples_leaf': 8, 'max_features': 'sqrt'}. Best is trial 21 with value: 0.6532997630896863.\n"
     ]
    },
    {
     "name": "stdout",
     "output_type": "stream",
     "text": [
      "[CV] END ................................ score: (test=0.606) total time=   0.1s\n",
      "[CV] END ................................ score: (test=0.621) total time=   0.1s\n",
      "[CV] END ................................ score: (test=0.604) total time=   0.1s\n",
      "[CV] START .....................................................................\n",
      "[CV] START .....................................................................\n",
      "[CV] START .....................................................................\n"
     ]
    },
    {
     "name": "stderr",
     "output_type": "stream",
     "text": [
      "[Parallel(n_jobs=-1)]: Using backend LokyBackend with 64 concurrent workers.\n",
      "[Parallel(n_jobs=-1)]: Done   3 out of   3 | elapsed:    0.2s finished\n",
      "[I 2024-09-30 13:10:16,813] Trial 40 finished with value: 0.6608999232256759 and parameters: {'max_depth': 3, 'min_samples_split': 7, 'min_samples_leaf': 19, 'max_features': None}. Best is trial 40 with value: 0.6608999232256759.\n"
     ]
    },
    {
     "name": "stdout",
     "output_type": "stream",
     "text": [
      "[CV] END ................................ score: (test=0.662) total time=   0.2s\n",
      "[CV] END ................................ score: (test=0.667) total time=   0.2s\n",
      "[CV] END ................................ score: (test=0.654) total time=   0.2s\n",
      "[CV] START .....................................................................\n",
      "[CV] START .....................................................................\n",
      "[CV] START .....................................................................\n"
     ]
    },
    {
     "name": "stderr",
     "output_type": "stream",
     "text": [
      "[Parallel(n_jobs=-1)]: Using backend LokyBackend with 64 concurrent workers.\n",
      "[Parallel(n_jobs=-1)]: Done   3 out of   3 | elapsed:    0.2s finished\n",
      "[I 2024-09-30 13:10:17,184] Trial 41 finished with value: 0.6608999232256759 and parameters: {'max_depth': 3, 'min_samples_split': 7, 'min_samples_leaf': 22, 'max_features': None}. Best is trial 40 with value: 0.6608999232256759.\n"
     ]
    },
    {
     "name": "stdout",
     "output_type": "stream",
     "text": [
      "[CV] END ................................ score: (test=0.662) total time=   0.2s\n",
      "[CV] END ................................ score: (test=0.667) total time=   0.2s\n",
      "[CV] END ................................ score: (test=0.654) total time=   0.2s\n",
      "[CV] START .....................................................................\n",
      "[CV] START .....................................................................\n",
      "[CV] START .....................................................................\n"
     ]
    },
    {
     "name": "stderr",
     "output_type": "stream",
     "text": [
      "[Parallel(n_jobs=-1)]: Using backend LokyBackend with 64 concurrent workers.\n",
      "[Parallel(n_jobs=-1)]: Done   3 out of   3 | elapsed:    0.4s finished\n",
      "[I 2024-09-30 13:10:17,707] Trial 42 finished with value: 0.6489000729707044 and parameters: {'max_depth': 5, 'min_samples_split': 7, 'min_samples_leaf': 22, 'max_features': None}. Best is trial 40 with value: 0.6608999232256759.\n"
     ]
    },
    {
     "name": "stdout",
     "output_type": "stream",
     "text": [
      "[CV] END ................................ score: (test=0.645) total time=   0.3s\n",
      "[CV] END ................................ score: (test=0.648) total time=   0.4s\n",
      "[CV] END ................................ score: (test=0.654) total time=   0.4s\n",
      "[CV] START .....................................................................\n",
      "[CV] START .....................................................................\n",
      "[CV] START .....................................................................\n"
     ]
    },
    {
     "name": "stderr",
     "output_type": "stream",
     "text": [
      "[Parallel(n_jobs=-1)]: Using backend LokyBackend with 64 concurrent workers.\n",
      "[Parallel(n_jobs=-1)]: Done   3 out of   3 | elapsed:    0.2s finished\n",
      "[I 2024-09-30 13:10:18,080] Trial 43 finished with value: 0.6608999232256759 and parameters: {'max_depth': 3, 'min_samples_split': 8, 'min_samples_leaf': 24, 'max_features': None}. Best is trial 40 with value: 0.6608999232256759.\n"
     ]
    },
    {
     "name": "stdout",
     "output_type": "stream",
     "text": [
      "[CV] END ................................ score: (test=0.662) total time=   0.2s\n",
      "[CV] END ................................ score: (test=0.667) total time=   0.2s\n",
      "[CV] END ................................ score: (test=0.654) total time=   0.2s\n",
      "[CV] START .....................................................................\n",
      "[CV] START .....................................................................\n",
      "[CV] START .....................................................................\n"
     ]
    },
    {
     "name": "stderr",
     "output_type": "stream",
     "text": [
      "[Parallel(n_jobs=-1)]: Using backend LokyBackend with 64 concurrent workers.\n",
      "[Parallel(n_jobs=-1)]: Done   3 out of   3 | elapsed:    0.2s finished\n",
      "[I 2024-09-30 13:10:18,441] Trial 44 finished with value: 0.6608999232256759 and parameters: {'max_depth': 3, 'min_samples_split': 9, 'min_samples_leaf': 23, 'max_features': None}. Best is trial 40 with value: 0.6608999232256759.\n"
     ]
    },
    {
     "name": "stdout",
     "output_type": "stream",
     "text": [
      "[CV] END ................................ score: (test=0.662) total time=   0.2s\n",
      "[CV] END ................................ score: (test=0.667) total time=   0.2s\n",
      "[CV] END ................................ score: (test=0.654) total time=   0.2s\n",
      "[CV] START .....................................................................\n",
      "[CV] START .....................................................................\n",
      "[CV] START .....................................................................\n"
     ]
    },
    {
     "name": "stderr",
     "output_type": "stream",
     "text": [
      "[Parallel(n_jobs=-1)]: Using backend LokyBackend with 64 concurrent workers.\n",
      "[Parallel(n_jobs=-1)]: Done   3 out of   3 | elapsed:    0.4s finished\n",
      "[I 2024-09-30 13:10:18,821] Trial 45 finished with value: 0.6500001829817054 and parameters: {'max_depth': 5, 'min_samples_split': 9, 'min_samples_leaf': 24, 'max_features': None}. Best is trial 40 with value: 0.6608999232256759.\n"
     ]
    },
    {
     "name": "stdout",
     "output_type": "stream",
     "text": [
      "[CV] END ................................ score: (test=0.648) total time=   0.3s\n",
      "[CV] END ................................ score: (test=0.655) total time=   0.3s\n",
      "[CV] END ................................ score: (test=0.647) total time=   0.3s\n",
      "[CV] START .....................................................................\n",
      "[CV] START .....................................................................\n",
      "[CV] START .....................................................................\n"
     ]
    },
    {
     "name": "stderr",
     "output_type": "stream",
     "text": [
      "[Parallel(n_jobs=-1)]: Using backend LokyBackend with 64 concurrent workers.\n",
      "[Parallel(n_jobs=-1)]: Done   3 out of   3 | elapsed:    0.5s finished\n",
      "[I 2024-09-30 13:10:19,405] Trial 46 finished with value: 0.6445012527647486 and parameters: {'max_depth': 7, 'min_samples_split': 7, 'min_samples_leaf': 19, 'max_features': None}. Best is trial 40 with value: 0.6608999232256759.\n"
     ]
    },
    {
     "name": "stdout",
     "output_type": "stream",
     "text": [
      "[CV] END ................................ score: (test=0.632) total time=   0.4s\n",
      "[CV] END ................................ score: (test=0.637) total time=   0.4s\n",
      "[CV] END ................................ score: (test=0.664) total time=   0.4s\n",
      "[CV] START .....................................................................\n",
      "[CV] START .....................................................................\n",
      "[CV] START .....................................................................\n"
     ]
    },
    {
     "name": "stderr",
     "output_type": "stream",
     "text": [
      "[Parallel(n_jobs=-1)]: Using backend LokyBackend with 64 concurrent workers.\n",
      "[Parallel(n_jobs=-1)]: Done   3 out of   3 | elapsed:    0.2s finished\n",
      "[I 2024-09-30 13:10:19,774] Trial 47 finished with value: 0.6608999232256759 and parameters: {'max_depth': 3, 'min_samples_split': 9, 'min_samples_leaf': 21, 'max_features': None}. Best is trial 40 with value: 0.6608999232256759.\n"
     ]
    },
    {
     "name": "stdout",
     "output_type": "stream",
     "text": [
      "[CV] END ................................ score: (test=0.667) total time=   0.2s\n",
      "[CV] END ................................ score: (test=0.654) total time=   0.2s\n",
      "[CV] END ................................ score: (test=0.662) total time=   0.2s\n",
      "[CV] START .....................................................................\n",
      "[CV] START .....................................................................\n",
      "[CV] START .....................................................................\n"
     ]
    },
    {
     "name": "stderr",
     "output_type": "stream",
     "text": [
      "[Parallel(n_jobs=-1)]: Using backend LokyBackend with 64 concurrent workers.\n",
      "[Parallel(n_jobs=-1)]: Done   3 out of   3 | elapsed:    0.2s finished\n",
      "[I 2024-09-30 13:10:20,147] Trial 48 finished with value: 0.6608999232256759 and parameters: {'max_depth': 3, 'min_samples_split': 6, 'min_samples_leaf': 19, 'max_features': None}. Best is trial 40 with value: 0.6608999232256759.\n"
     ]
    },
    {
     "name": "stdout",
     "output_type": "stream",
     "text": [
      "[CV] END ................................ score: (test=0.662) total time=   0.2s\n",
      "[CV] END ................................ score: (test=0.667) total time=   0.2s\n",
      "[CV] END ................................ score: (test=0.654) total time=   0.2s\n",
      "[CV] START .....................................................................\n",
      "[CV] START .....................................................................\n",
      "[CV] START .....................................................................\n"
     ]
    },
    {
     "name": "stderr",
     "output_type": "stream",
     "text": [
      "[Parallel(n_jobs=-1)]: Using backend LokyBackend with 64 concurrent workers.\n",
      "[Parallel(n_jobs=-1)]: Done   3 out of   3 | elapsed:    0.4s finished\n",
      "[I 2024-09-30 13:10:20,690] Trial 49 finished with value: 0.6495014228477437 and parameters: {'max_depth': 6, 'min_samples_split': 9, 'min_samples_leaf': 21, 'max_features': None}. Best is trial 40 with value: 0.6608999232256759.\n"
     ]
    },
    {
     "name": "stdout",
     "output_type": "stream",
     "text": [
      "[CV] END ................................ score: (test=0.635) total time=   0.4s\n",
      "[CV] END ................................ score: (test=0.668) total time=   0.4s\n",
      "[CV] END ................................ score: (test=0.646) total time=   0.4s\n",
      "[CV] START .....................................................................\n",
      "[CV] START .....................................................................\n",
      "[CV] START .....................................................................\n"
     ]
    },
    {
     "name": "stderr",
     "output_type": "stream",
     "text": [
      "[Parallel(n_jobs=-1)]: Using backend LokyBackend with 64 concurrent workers.\n",
      "[Parallel(n_jobs=-1)]: Done   3 out of   3 | elapsed:    0.5s finished\n",
      "[I 2024-09-30 13:10:21,333] Trial 50 finished with value: 0.6371997427697179 and parameters: {'max_depth': 8, 'min_samples_split': 9, 'min_samples_leaf': 6, 'max_features': None}. Best is trial 40 with value: 0.6608999232256759.\n"
     ]
    },
    {
     "name": "stdout",
     "output_type": "stream",
     "text": [
      "[CV] END ................................ score: (test=0.640) total time=   0.5s\n",
      "[CV] END ................................ score: (test=0.632) total time=   0.5s\n",
      "[CV] END ................................ score: (test=0.639) total time=   0.5s\n",
      "[CV] START .....................................................................\n",
      "[CV] START .....................................................................\n",
      "[CV] START .....................................................................\n"
     ]
    },
    {
     "name": "stderr",
     "output_type": "stream",
     "text": [
      "[Parallel(n_jobs=-1)]: Using backend LokyBackend with 64 concurrent workers.\n",
      "[Parallel(n_jobs=-1)]: Done   3 out of   3 | elapsed:    0.2s finished\n",
      "[I 2024-09-30 13:10:21,706] Trial 51 finished with value: 0.6608999232256759 and parameters: {'max_depth': 3, 'min_samples_split': 6, 'min_samples_leaf': 19, 'max_features': None}. Best is trial 40 with value: 0.6608999232256759.\n"
     ]
    },
    {
     "name": "stdout",
     "output_type": "stream",
     "text": [
      "[CV] END ................................ score: (test=0.667) total time=   0.2s\n",
      "[CV] END ................................ score: (test=0.662) total time=   0.2s\n",
      "[CV] END ................................ score: (test=0.654) total time=   0.2s\n",
      "[CV] START .....................................................................\n",
      "[CV] START .....................................................................\n",
      "[CV] START .....................................................................\n"
     ]
    },
    {
     "name": "stderr",
     "output_type": "stream",
     "text": [
      "[Parallel(n_jobs=-1)]: Using backend LokyBackend with 64 concurrent workers.\n",
      "[Parallel(n_jobs=-1)]: Batch computation too fast (0.16756033897399902s.) Setting batch_size=2.\n",
      "[Parallel(n_jobs=-1)]: Done   3 out of   3 | elapsed:    0.2s finished\n",
      "[I 2024-09-30 13:10:22,007] Trial 52 finished with value: 0.6556000531066905 and parameters: {'max_depth': 2, 'min_samples_split': 7, 'min_samples_leaf': 18, 'max_features': None}. Best is trial 40 with value: 0.6608999232256759.\n"
     ]
    },
    {
     "name": "stdout",
     "output_type": "stream",
     "text": [
      "[CV] END ................................ score: (test=0.664) total time=   0.2s\n",
      "[CV] END ................................ score: (test=0.655) total time=   0.2s\n",
      "[CV] END ................................ score: (test=0.647) total time=   0.2s\n",
      "[CV] START .....................................................................\n",
      "[CV] START .....................................................................\n",
      "[CV] START .....................................................................\n"
     ]
    },
    {
     "name": "stderr",
     "output_type": "stream",
     "text": [
      "[Parallel(n_jobs=-1)]: Using backend LokyBackend with 64 concurrent workers.\n",
      "[Parallel(n_jobs=-1)]: Done   3 out of   3 | elapsed:    0.2s finished\n",
      "[I 2024-09-30 13:10:22,379] Trial 53 finished with value: 0.6608999232256759 and parameters: {'max_depth': 3, 'min_samples_split': 5, 'min_samples_leaf': 21, 'max_features': None}. Best is trial 40 with value: 0.6608999232256759.\n"
     ]
    },
    {
     "name": "stdout",
     "output_type": "stream",
     "text": [
      "[CV] END ................................ score: (test=0.662) total time=   0.2s\n",
      "[CV] END ................................ score: (test=0.667) total time=   0.2s\n",
      "[CV] END ................................ score: (test=0.654) total time=   0.2s\n",
      "[CV] START .....................................................................\n",
      "[CV] START .....................................................................\n",
      "[CV] START .....................................................................\n"
     ]
    },
    {
     "name": "stderr",
     "output_type": "stream",
     "text": [
      "[Parallel(n_jobs=-1)]: Using backend LokyBackend with 64 concurrent workers.\n",
      "[Parallel(n_jobs=-1)]: Done   3 out of   3 | elapsed:    0.3s finished\n",
      "[I 2024-09-30 13:10:22,822] Trial 54 finished with value: 0.6567003430996969 and parameters: {'max_depth': 4, 'min_samples_split': 4, 'min_samples_leaf': 16, 'max_features': None}. Best is trial 40 with value: 0.6608999232256759.\n"
     ]
    },
    {
     "name": "stdout",
     "output_type": "stream",
     "text": [
      "[CV] END ................................ score: (test=0.653) total time=   0.3s\n",
      "[CV] END ................................ score: (test=0.651) total time=   0.3s\n",
      "[CV] END ................................ score: (test=0.666) total time=   0.3s\n",
      "[CV] START .....................................................................\n",
      "[CV] START .....................................................................\n",
      "[CV] START .....................................................................\n"
     ]
    },
    {
     "name": "stderr",
     "output_type": "stream",
     "text": [
      "[Parallel(n_jobs=-1)]: Using backend LokyBackend with 64 concurrent workers.\n",
      "[Parallel(n_jobs=-1)]: Done   3 out of   3 | elapsed:    0.4s finished\n",
      "[I 2024-09-30 13:10:23,307] Trial 55 finished with value: 0.6503002129847059 and parameters: {'max_depth': 5, 'min_samples_split': 6, 'min_samples_leaf': 23, 'max_features': None}. Best is trial 40 with value: 0.6608999232256759.\n"
     ]
    },
    {
     "name": "stdout",
     "output_type": "stream",
     "text": [
      "[CV] END ................................ score: (test=0.648) total time=   0.3s\n",
      "[CV] END ................................ score: (test=0.647) total time=   0.3s\n",
      "[CV] END ................................ score: (test=0.656) total time=   0.3s\n",
      "[CV] START .....................................................................\n",
      "[CV] START .....................................................................\n",
      "[CV] START .....................................................................\n"
     ]
    },
    {
     "name": "stderr",
     "output_type": "stream",
     "text": [
      "[Parallel(n_jobs=-1)]: Using backend LokyBackend with 64 concurrent workers.\n",
      "[Parallel(n_jobs=-1)]: Done   3 out of   3 | elapsed:    0.3s finished\n",
      "[I 2024-09-30 13:10:23,692] Trial 56 finished with value: 0.6608999232256759 and parameters: {'max_depth': 3, 'min_samples_split': 8, 'min_samples_leaf': 20, 'max_features': None}. Best is trial 40 with value: 0.6608999232256759.\n"
     ]
    },
    {
     "name": "stdout",
     "output_type": "stream",
     "text": [
      "[CV] END ................................ score: (test=0.654) total time=   0.2s\n",
      "[CV] END ................................ score: (test=0.662) total time=   0.2s\n",
      "[CV] END ................................ score: (test=0.667) total time=   0.2s\n",
      "[CV] START .....................................................................\n",
      "[CV] START .....................................................................\n",
      "[CV] START .....................................................................\n"
     ]
    },
    {
     "name": "stderr",
     "output_type": "stream",
     "text": [
      "[Parallel(n_jobs=-1)]: Using backend LokyBackend with 64 concurrent workers.\n",
      "[Parallel(n_jobs=-1)]: Done   3 out of   3 | elapsed:    0.4s finished\n",
      "[I 2024-09-30 13:10:24,226] Trial 57 finished with value: 0.6460009228277356 and parameters: {'max_depth': 6, 'min_samples_split': 3, 'min_samples_leaf': 24, 'max_features': None}. Best is trial 40 with value: 0.6608999232256759.\n"
     ]
    },
    {
     "name": "stdout",
     "output_type": "stream",
     "text": [
      "[CV] END ................................ score: (test=0.637) total time=   0.4s\n",
      "[CV] END ................................ score: (test=0.655) total time=   0.4s\n",
      "[CV] END ................................ score: (test=0.646) total time=   0.4s\n",
      "[CV] START .....................................................................\n",
      "[CV] START .....................................................................\n",
      "[CV] START .....................................................................\n"
     ]
    },
    {
     "name": "stderr",
     "output_type": "stream",
     "text": [
      "[Parallel(n_jobs=-1)]: Using backend LokyBackend with 64 concurrent workers.\n",
      "[Parallel(n_jobs=-1)]: Batch computation too fast (0.1690382957458496s.) Setting batch_size=2.\n",
      "[Parallel(n_jobs=-1)]: Done   3 out of   3 | elapsed:    0.2s finished\n",
      "[I 2024-09-30 13:10:24,528] Trial 58 finished with value: 0.6556000531066905 and parameters: {'max_depth': 2, 'min_samples_split': 11, 'min_samples_leaf': 22, 'max_features': None}. Best is trial 40 with value: 0.6608999232256759.\n"
     ]
    },
    {
     "name": "stdout",
     "output_type": "stream",
     "text": [
      "[CV] END ................................ score: (test=0.655) total time=   0.2s\n",
      "[CV] END ................................ score: (test=0.664) total time=   0.2s\n",
      "[CV] END ................................ score: (test=0.647) total time=   0.2s\n",
      "[CV] START .....................................................................\n",
      "[CV] START .....................................................................\n",
      "[CV] START .....................................................................\n"
     ]
    },
    {
     "name": "stderr",
     "output_type": "stream",
     "text": [
      "[Parallel(n_jobs=-1)]: Using backend LokyBackend with 64 concurrent workers.\n",
      "[Parallel(n_jobs=-1)]: Done   3 out of   3 | elapsed:    0.3s finished\n",
      "[I 2024-09-30 13:10:24,961] Trial 59 finished with value: 0.6567003430996969 and parameters: {'max_depth': 4, 'min_samples_split': 5, 'min_samples_leaf': 18, 'max_features': None}. Best is trial 40 with value: 0.6608999232256759.\n"
     ]
    },
    {
     "name": "stdout",
     "output_type": "stream",
     "text": [
      "[CV] END ................................ score: (test=0.666) total time=   0.3s\n",
      "[CV] END ................................ score: (test=0.653) total time=   0.3s\n",
      "[CV] END ................................ score: (test=0.651) total time=   0.3s\n",
      "[CV] START .....................................................................\n",
      "[CV] START .....................................................................\n",
      "[CV] START .....................................................................\n"
     ]
    },
    {
     "name": "stderr",
     "output_type": "stream",
     "text": [
      "[Parallel(n_jobs=-1)]: Using backend LokyBackend with 64 concurrent workers.\n",
      "[Parallel(n_jobs=-1)]: Done   3 out of   3 | elapsed:    0.5s finished\n",
      "[I 2024-09-30 13:10:25,626] Trial 60 finished with value: 0.6246006424277701 and parameters: {'max_depth': 9, 'min_samples_split': 10, 'min_samples_leaf': 20, 'max_features': None}. Best is trial 40 with value: 0.6608999232256759.\n"
     ]
    },
    {
     "name": "stdout",
     "output_type": "stream",
     "text": [
      "[CV] END ................................ score: (test=0.610) total time=   0.5s\n",
      "[CV] END ................................ score: (test=0.646) total time=   0.5s\n",
      "[CV] END ................................ score: (test=0.618) total time=   0.5s\n",
      "[CV] START .....................................................................\n",
      "[CV] START .....................................................................\n",
      "[CV] START .....................................................................\n"
     ]
    },
    {
     "name": "stderr",
     "output_type": "stream",
     "text": [
      "[Parallel(n_jobs=-1)]: Using backend LokyBackend with 64 concurrent workers.\n",
      "[Parallel(n_jobs=-1)]: Done   3 out of   3 | elapsed:    0.2s finished\n",
      "[I 2024-09-30 13:10:25,989] Trial 61 finished with value: 0.6608999232256759 and parameters: {'max_depth': 3, 'min_samples_split': 6, 'min_samples_leaf': 19, 'max_features': None}. Best is trial 40 with value: 0.6608999232256759.\n"
     ]
    },
    {
     "name": "stdout",
     "output_type": "stream",
     "text": [
      "[CV] END ................................ score: (test=0.662) total time=   0.2s\n",
      "[CV] END ................................ score: (test=0.654) total time=   0.2s\n",
      "[CV] END ................................ score: (test=0.667) total time=   0.2s\n",
      "[CV] START .....................................................................\n",
      "[CV] START .....................................................................\n",
      "[CV] START .....................................................................\n"
     ]
    },
    {
     "name": "stderr",
     "output_type": "stream",
     "text": [
      "[Parallel(n_jobs=-1)]: Using backend LokyBackend with 64 concurrent workers.\n",
      "[Parallel(n_jobs=-1)]: Done   3 out of   3 | elapsed:    0.2s finished\n",
      "[I 2024-09-30 13:10:26,362] Trial 62 finished with value: 0.6608999232256759 and parameters: {'max_depth': 3, 'min_samples_split': 7, 'min_samples_leaf': 16, 'max_features': None}. Best is trial 40 with value: 0.6608999232256759.\n"
     ]
    },
    {
     "name": "stdout",
     "output_type": "stream",
     "text": [
      "[CV] END ................................ score: (test=0.662) total time=   0.2s[CV] END ................................ score: (test=0.667) total time=   0.2s\n",
      "\n",
      "[CV] END ................................ score: (test=0.654) total time=   0.2s\n",
      "[CV] START .....................................................................\n",
      "[CV] START .....................................................................\n",
      "[CV] START .....................................................................\n"
     ]
    },
    {
     "name": "stderr",
     "output_type": "stream",
     "text": [
      "[Parallel(n_jobs=-1)]: Using backend LokyBackend with 64 concurrent workers.\n",
      "[Parallel(n_jobs=-1)]: Batch computation too fast (0.167464017868042s.) Setting batch_size=2.\n",
      "[Parallel(n_jobs=-1)]: Done   3 out of   3 | elapsed:    0.2s finished\n",
      "[I 2024-09-30 13:10:26,664] Trial 63 finished with value: 0.6556000531066905 and parameters: {'max_depth': 2, 'min_samples_split': 6, 'min_samples_leaf': 21, 'max_features': None}. Best is trial 40 with value: 0.6608999232256759.\n"
     ]
    },
    {
     "name": "stdout",
     "output_type": "stream",
     "text": [
      "[CV] END ................................ score: (test=0.664) total time=   0.2s\n",
      "[CV] END ................................ score: (test=0.655) total time=   0.2s\n",
      "[CV] END ................................ score: (test=0.647) total time=   0.2s\n",
      "[CV] START .....................................................................\n",
      "[CV] START .....................................................................\n",
      "[CV] START .....................................................................\n"
     ]
    },
    {
     "name": "stderr",
     "output_type": "stream",
     "text": [
      "[Parallel(n_jobs=-1)]: Using backend LokyBackend with 64 concurrent workers.\n",
      "[Parallel(n_jobs=-1)]: Done   3 out of   3 | elapsed:    0.6s finished\n",
      "[I 2024-09-30 13:10:27,421] Trial 64 finished with value: 0.6161001823037733 and parameters: {'max_depth': 19, 'min_samples_split': 8, 'min_samples_leaf': 19, 'max_features': None}. Best is trial 40 with value: 0.6608999232256759.\n"
     ]
    },
    {
     "name": "stdout",
     "output_type": "stream",
     "text": [
      "[CV] END ................................ score: (test=0.614) total time=   0.6s\n",
      "[CV] END ................................ score: (test=0.616) total time=   0.6s\n",
      "[CV] END ................................ score: (test=0.618) total time=   0.6s\n",
      "[CV] START .....................................................................\n",
      "[CV] START .....................................................................\n",
      "[CV] START .....................................................................\n"
     ]
    },
    {
     "name": "stderr",
     "output_type": "stream",
     "text": [
      "[Parallel(n_jobs=-1)]: Using backend LokyBackend with 64 concurrent workers.\n",
      "[Parallel(n_jobs=-1)]: Done   3 out of   3 | elapsed:    0.4s finished\n",
      "[I 2024-09-30 13:10:27,906] Trial 65 finished with value: 0.6518003629997073 and parameters: {'max_depth': 5, 'min_samples_split': 9, 'min_samples_leaf': 17, 'max_features': None}. Best is trial 40 with value: 0.6608999232256759.\n"
     ]
    },
    {
     "name": "stdout",
     "output_type": "stream",
     "text": [
      "[CV] END ................................ score: (test=0.648) total time=   0.3s\n",
      "[CV] END ................................ score: (test=0.664) total time=   0.3s\n",
      "[CV] END ................................ score: (test=0.643) total time=   0.3s\n",
      "[CV] START .....................................................................\n",
      "[CV] START .....................................................................\n",
      "[CV] START .....................................................................\n"
     ]
    },
    {
     "name": "stderr",
     "output_type": "stream",
     "text": [
      "[Parallel(n_jobs=-1)]: Using backend LokyBackend with 64 concurrent workers.\n",
      "[Parallel(n_jobs=-1)]: Done   3 out of   3 | elapsed:    0.3s finished\n",
      "[I 2024-09-30 13:10:28,340] Trial 66 finished with value: 0.6573004031056975 and parameters: {'max_depth': 4, 'min_samples_split': 4, 'min_samples_leaf': 23, 'max_features': None}. Best is trial 40 with value: 0.6608999232256759.\n"
     ]
    },
    {
     "name": "stdout",
     "output_type": "stream",
     "text": [
      "[CV] END ................................ score: (test=0.653) total time=   0.3s\n",
      "[CV] END ................................ score: (test=0.667) total time=   0.3s\n",
      "[CV] END ................................ score: (test=0.651) total time=   0.3s\n",
      "[CV] START .....................................................................\n",
      "[CV] START .....................................................................\n",
      "[CV] START .....................................................................\n"
     ]
    },
    {
     "name": "stderr",
     "output_type": "stream",
     "text": [
      "[Parallel(n_jobs=-1)]: Using backend LokyBackend with 64 concurrent workers.\n",
      "[Parallel(n_jobs=-1)]: Done   3 out of   3 | elapsed:    0.2s finished\n",
      "[I 2024-09-30 13:10:28,712] Trial 67 finished with value: 0.6608999232256759 and parameters: {'max_depth': 3, 'min_samples_split': 25, 'min_samples_leaf': 15, 'max_features': None}. Best is trial 40 with value: 0.6608999232256759.\n"
     ]
    },
    {
     "name": "stdout",
     "output_type": "stream",
     "text": [
      "[CV] END ................................ score: (test=0.662) total time=   0.2s\n",
      "[CV] END ................................ score: (test=0.654) total time=   0.2s\n",
      "[CV] END ................................ score: (test=0.667) total time=   0.2s\n",
      "[CV] START .....................................................................\n",
      "[CV] START .....................................................................\n",
      "[CV] START .....................................................................\n"
     ]
    },
    {
     "name": "stderr",
     "output_type": "stream",
     "text": [
      "[Parallel(n_jobs=-1)]: Using backend LokyBackend with 64 concurrent workers.\n",
      "[Parallel(n_jobs=-1)]: Batch computation too fast (0.16747689247131348s.) Setting batch_size=2.\n",
      "[Parallel(n_jobs=-1)]: Done   3 out of   3 | elapsed:    0.2s finished\n",
      "[I 2024-09-30 13:10:29,014] Trial 68 finished with value: 0.6556000531066905 and parameters: {'max_depth': 2, 'min_samples_split': 2, 'min_samples_leaf': 20, 'max_features': None}. Best is trial 40 with value: 0.6608999232256759.\n"
     ]
    },
    {
     "name": "stdout",
     "output_type": "stream",
     "text": [
      "[CV] END ................................ score: (test=0.655) total time=   0.2s\n",
      "[CV] END ................................ score: (test=0.664) total time=   0.2s\n",
      "[CV] END ................................ score: (test=0.647) total time=   0.2s\n",
      "[CV] START .....................................................................\n",
      "[CV] START .....................................................................\n",
      "[CV] START .....................................................................\n"
     ]
    },
    {
     "name": "stderr",
     "output_type": "stream",
     "text": [
      "[Parallel(n_jobs=-1)]: Using backend LokyBackend with 64 concurrent workers.\n",
      "[Parallel(n_jobs=-1)]: Done   3 out of   3 | elapsed:    0.4s finished\n",
      "[I 2024-09-30 13:10:29,548] Trial 69 finished with value: 0.6475012228277417 and parameters: {'max_depth': 6, 'min_samples_split': 5, 'min_samples_leaf': 22, 'max_features': None}. Best is trial 40 with value: 0.6608999232256759.\n"
     ]
    },
    {
     "name": "stdout",
     "output_type": "stream",
     "text": [
      "[CV] END ................................ score: (test=0.635) total time=   0.4s\n",
      "[CV] END ................................ score: (test=0.646) total time=   0.4s\n",
      "[CV] END ................................ score: (test=0.661) total time=   0.4s\n",
      "[CV] START .....................................................................\n",
      "[CV] START .....................................................................\n",
      "[CV] START .....................................................................\n",
      "[CV] END ................................ score: (test=0.642) total time=   0.0s\n",
      "[CV] END ................................ score: (test=0.641) total time=   0.0s\n",
      "[CV] END ................................ score: (test=0.645) total time=   0.0s\n"
     ]
    },
    {
     "name": "stderr",
     "output_type": "stream",
     "text": [
      "[Parallel(n_jobs=-1)]: Using backend LokyBackend with 64 concurrent workers.\n",
      "[Parallel(n_jobs=-1)]: Batch computation too fast (0.0500941276550293s.) Setting batch_size=2.\n",
      "[Parallel(n_jobs=-1)]: Done   3 out of   3 | elapsed:    0.1s finished\n",
      "[I 2024-09-30 13:10:29,740] Trial 70 finished with value: 0.6427000228517152 and parameters: {'max_depth': 4, 'min_samples_split': 6, 'min_samples_leaf': 24, 'max_features': 'log2'}. Best is trial 40 with value: 0.6608999232256759.\n",
      "[Parallel(n_jobs=-1)]: Using backend LokyBackend with 64 concurrent workers.\n"
     ]
    },
    {
     "name": "stdout",
     "output_type": "stream",
     "text": [
      "[CV] START .....................................................................\n",
      "[CV] START .....................................................................\n",
      "[CV] START .....................................................................\n"
     ]
    },
    {
     "name": "stderr",
     "output_type": "stream",
     "text": [
      "[Parallel(n_jobs=-1)]: Done   3 out of   3 | elapsed:    0.3s finished\n",
      "[I 2024-09-30 13:10:30,124] Trial 71 finished with value: 0.6608999232256759 and parameters: {'max_depth': 3, 'min_samples_split': 5, 'min_samples_leaf': 21, 'max_features': None}. Best is trial 40 with value: 0.6608999232256759.\n"
     ]
    },
    {
     "name": "stdout",
     "output_type": "stream",
     "text": [
      "[CV] END ................................ score: (test=0.662) total time=   0.2s\n",
      "[CV] END ................................ score: (test=0.667) total time=   0.2s\n",
      "[CV] END ................................ score: (test=0.654) total time=   0.2s\n",
      "[CV] START .....................................................................\n",
      "[CV] START .....................................................................\n",
      "[CV] START .....................................................................\n"
     ]
    },
    {
     "name": "stderr",
     "output_type": "stream",
     "text": [
      "[Parallel(n_jobs=-1)]: Using backend LokyBackend with 64 concurrent workers.\n",
      "[Parallel(n_jobs=-1)]: Done   3 out of   3 | elapsed:    0.2s finished\n",
      "[I 2024-09-30 13:10:30,498] Trial 72 finished with value: 0.6608999232256759 and parameters: {'max_depth': 3, 'min_samples_split': 7, 'min_samples_leaf': 21, 'max_features': None}. Best is trial 40 with value: 0.6608999232256759.\n"
     ]
    },
    {
     "name": "stdout",
     "output_type": "stream",
     "text": [
      "[CV] END ................................ score: (test=0.662) total time=   0.2s\n",
      "[CV] END ................................ score: (test=0.654) total time=   0.2s\n",
      "[CV] END ................................ score: (test=0.667) total time=   0.2s\n",
      "[CV] START .....................................................................\n",
      "[CV] START .....................................................................\n",
      "[CV] START .....................................................................\n"
     ]
    },
    {
     "name": "stderr",
     "output_type": "stream",
     "text": [
      "[Parallel(n_jobs=-1)]: Using backend LokyBackend with 64 concurrent workers.\n",
      "[Parallel(n_jobs=-1)]: Done   3 out of   3 | elapsed:    0.4s finished\n",
      "[I 2024-09-30 13:10:30,992] Trial 73 finished with value: 0.6519003730007075 and parameters: {'max_depth': 5, 'min_samples_split': 4, 'min_samples_leaf': 19, 'max_features': None}. Best is trial 40 with value: 0.6608999232256759.\n"
     ]
    },
    {
     "name": "stdout",
     "output_type": "stream",
     "text": [
      "[CV] END ................................ score: (test=0.648) total time=   0.3s\n",
      "[CV] END ................................ score: (test=0.644) total time=   0.3s\n",
      "[CV] END ................................ score: (test=0.664) total time=   0.3s\n",
      "[CV] START .....................................................................\n",
      "[CV] START .....................................................................\n",
      "[CV] START .....................................................................\n"
     ]
    },
    {
     "name": "stderr",
     "output_type": "stream",
     "text": [
      "[Parallel(n_jobs=-1)]: Using backend LokyBackend with 64 concurrent workers.\n",
      "[Parallel(n_jobs=-1)]: Batch computation too fast (0.16720223426818848s.) Setting batch_size=2.\n",
      "[Parallel(n_jobs=-1)]: Done   3 out of   3 | elapsed:    0.2s finished\n",
      "[I 2024-09-30 13:10:31,293] Trial 74 finished with value: 0.6556000531066905 and parameters: {'max_depth': 2, 'min_samples_split': 8, 'min_samples_leaf': 18, 'max_features': None}. Best is trial 40 with value: 0.6608999232256759.\n"
     ]
    },
    {
     "name": "stdout",
     "output_type": "stream",
     "text": [
      "[CV] END ................................ score: (test=0.664) total time=   0.2s\n",
      "[CV] END ................................ score: (test=0.647) total time=   0.2s\n",
      "[CV] END ................................ score: (test=0.655) total time=   0.2s\n",
      "[CV] START .....................................................................\n",
      "[CV] START .....................................................................\n",
      "[CV] START .....................................................................\n"
     ]
    },
    {
     "name": "stderr",
     "output_type": "stream",
     "text": [
      "[Parallel(n_jobs=-1)]: Using backend LokyBackend with 64 concurrent workers.\n",
      "[Parallel(n_jobs=-1)]: Done   3 out of   3 | elapsed:    0.3s finished\n",
      "[I 2024-09-30 13:10:31,738] Trial 75 finished with value: 0.6573004031056975 and parameters: {'max_depth': 4, 'min_samples_split': 5, 'min_samples_leaf': 23, 'max_features': None}. Best is trial 40 with value: 0.6608999232256759.\n"
     ]
    },
    {
     "name": "stdout",
     "output_type": "stream",
     "text": [
      "[CV] END ................................ score: (test=0.653) total time=   0.3s\n",
      "[CV] END ................................ score: (test=0.651) total time=   0.3s\n",
      "[CV] END ................................ score: (test=0.667) total time=   0.3s\n",
      "[CV] START .....................................................................\n",
      "[CV] START .....................................................................\n",
      "[CV] START .....................................................................\n"
     ]
    },
    {
     "name": "stderr",
     "output_type": "stream",
     "text": [
      "[Parallel(n_jobs=-1)]: Using backend LokyBackend with 64 concurrent workers.\n",
      "[Parallel(n_jobs=-1)]: Done   3 out of   3 | elapsed:    0.2s finished\n",
      "[I 2024-09-30 13:10:32,110] Trial 76 finished with value: 0.6608999232256759 and parameters: {'max_depth': 3, 'min_samples_split': 7, 'min_samples_leaf': 22, 'max_features': None}. Best is trial 40 with value: 0.6608999232256759.\n"
     ]
    },
    {
     "name": "stdout",
     "output_type": "stream",
     "text": [
      "[CV] END ................................ score: (test=0.667) total time=   0.2s\n",
      "[CV] END ................................ score: (test=0.662) total time=   0.2s\n",
      "[CV] END ................................ score: (test=0.654) total time=   0.2s\n",
      "[CV] START .....................................................................\n",
      "[CV] START .....................................................................\n",
      "[CV] START .....................................................................\n"
     ]
    },
    {
     "name": "stderr",
     "output_type": "stream",
     "text": [
      "[Parallel(n_jobs=-1)]: Using backend LokyBackend with 64 concurrent workers.\n",
      "[Parallel(n_jobs=-1)]: Done   3 out of   3 | elapsed:    0.6s finished\n",
      "[I 2024-09-30 13:10:32,848] Trial 77 finished with value: 0.6174999923507647 and parameters: {'max_depth': 15, 'min_samples_split': 9, 'min_samples_leaf': 24, 'max_features': None}. Best is trial 40 with value: 0.6608999232256759.\n"
     ]
    },
    {
     "name": "stdout",
     "output_type": "stream",
     "text": [
      "[CV] END ................................ score: (test=0.618) total time=   0.5s\n",
      "[CV] END ................................ score: (test=0.624) total time=   0.6s\n",
      "[CV] END ................................ score: (test=0.611) total time=   0.6s\n"
     ]
    },
    {
     "name": "stderr",
     "output_type": "stream",
     "text": [
      "[Parallel(n_jobs=-1)]: Using backend LokyBackend with 64 concurrent workers.\n"
     ]
    },
    {
     "name": "stdout",
     "output_type": "stream",
     "text": [
      "[CV] START .....................................................................\n",
      "[CV] START .....................................................................\n",
      "[CV] START .....................................................................\n"
     ]
    },
    {
     "name": "stderr",
     "output_type": "stream",
     "text": [
      "[Parallel(n_jobs=-1)]: Done   3 out of   3 | elapsed:    0.3s finished\n",
      "[I 2024-09-30 13:10:33,302] Trial 78 finished with value: 0.6569003631016971 and parameters: {'max_depth': 4, 'min_samples_split': 10, 'min_samples_leaf': 20, 'max_features': None}. Best is trial 40 with value: 0.6608999232256759.\n"
     ]
    },
    {
     "name": "stdout",
     "output_type": "stream",
     "text": [
      "[CV] END ................................ score: (test=0.653) total time=   0.3s\n",
      "[CV] END ................................ score: (test=0.651) total time=   0.3s\n",
      "[CV] END ................................ score: (test=0.666) total time=   0.3s\n",
      "[CV] START .....................................................................\n",
      "[CV] START .....................................................................\n",
      "[CV] START .....................................................................\n"
     ]
    },
    {
     "name": "stderr",
     "output_type": "stream",
     "text": [
      "[Parallel(n_jobs=-1)]: Using backend LokyBackend with 64 concurrent workers.\n",
      "[Parallel(n_jobs=-1)]: Batch computation too fast (0.06300568580627441s.) Setting batch_size=2.\n",
      "[Parallel(n_jobs=-1)]: Done   3 out of   3 | elapsed:    0.1s finished\n",
      "[I 2024-09-30 13:10:33,504] Trial 79 finished with value: 0.6343981128766746 and parameters: {'max_depth': 7, 'min_samples_split': 3, 'min_samples_leaf': 17, 'max_features': 'log2'}. Best is trial 40 with value: 0.6608999232256759.\n",
      "[Parallel(n_jobs=-1)]: Using backend LokyBackend with 64 concurrent workers.\n"
     ]
    },
    {
     "name": "stdout",
     "output_type": "stream",
     "text": [
      "[CV] END ................................ score: (test=0.620) total time=   0.0s\n",
      "[CV] END ................................ score: (test=0.653) total time=   0.0s\n",
      "[CV] END ................................ score: (test=0.630) total time=   0.0s\n",
      "[CV] START .....................................................................\n",
      "[CV] START .....................................................................\n",
      "[CV] START .....................................................................\n"
     ]
    },
    {
     "name": "stderr",
     "output_type": "stream",
     "text": [
      "[Parallel(n_jobs=-1)]: Batch computation too fast (0.16366815567016602s.) Setting batch_size=2.\n",
      "[Parallel(n_jobs=-1)]: Done   3 out of   3 | elapsed:    0.2s finished\n",
      "[I 2024-09-30 13:10:33,808] Trial 80 finished with value: 0.6556000531066905 and parameters: {'max_depth': 2, 'min_samples_split': 6, 'min_samples_leaf': 23, 'max_features': None}. Best is trial 40 with value: 0.6608999232256759.\n"
     ]
    },
    {
     "name": "stdout",
     "output_type": "stream",
     "text": [
      "[CV] END ................................ score: (test=0.664) total time=   0.1s\n",
      "[CV] END ................................ score: (test=0.655) total time=   0.2s\n",
      "[CV] END ................................ score: (test=0.647) total time=   0.2s\n",
      "[CV] START .....................................................................\n",
      "[CV] START .....................................................................\n",
      "[CV] START .....................................................................\n"
     ]
    },
    {
     "name": "stderr",
     "output_type": "stream",
     "text": [
      "[Parallel(n_jobs=-1)]: Using backend LokyBackend with 64 concurrent workers.\n",
      "[Parallel(n_jobs=-1)]: Done   3 out of   3 | elapsed:    0.3s finished\n",
      "[I 2024-09-30 13:10:34,193] Trial 81 finished with value: 0.6608999232256759 and parameters: {'max_depth': 3, 'min_samples_split': 8, 'min_samples_leaf': 20, 'max_features': None}. Best is trial 40 with value: 0.6608999232256759.\n"
     ]
    },
    {
     "name": "stdout",
     "output_type": "stream",
     "text": [
      "[CV] END ................................ score: (test=0.654) total time=   0.2s\n",
      "[CV] END ................................ score: (test=0.662) total time=   0.2s\n",
      "[CV] END ................................ score: (test=0.667) total time=   0.2s\n",
      "[CV] START .....................................................................\n",
      "[CV] START .....................................................................\n",
      "[CV] START .....................................................................\n"
     ]
    },
    {
     "name": "stderr",
     "output_type": "stream",
     "text": [
      "[Parallel(n_jobs=-1)]: Using backend LokyBackend with 64 concurrent workers.\n",
      "[Parallel(n_jobs=-1)]: Done   3 out of   3 | elapsed:    0.2s finished\n",
      "[I 2024-09-30 13:10:34,568] Trial 82 finished with value: 0.6608999232256759 and parameters: {'max_depth': 3, 'min_samples_split': 8, 'min_samples_leaf': 21, 'max_features': None}. Best is trial 40 with value: 0.6608999232256759.\n"
     ]
    },
    {
     "name": "stdout",
     "output_type": "stream",
     "text": [
      "[CV] END ................................ score: (test=0.667) total time=   0.2s\n",
      "[CV] END ................................ score: (test=0.662) total time=   0.2s\n",
      "[CV] END ................................ score: (test=0.654) total time=   0.2s\n",
      "[CV] START .....................................................................\n",
      "[CV] START .....................................................................\n",
      "[CV] START .....................................................................\n"
     ]
    },
    {
     "name": "stderr",
     "output_type": "stream",
     "text": [
      "[Parallel(n_jobs=-1)]: Using backend LokyBackend with 64 concurrent workers.\n",
      "[Parallel(n_jobs=-1)]: Done   3 out of   3 | elapsed:    0.4s finished\n",
      "[I 2024-09-30 13:10:35,055] Trial 83 finished with value: 0.6519003730007075 and parameters: {'max_depth': 5, 'min_samples_split': 23, 'min_samples_leaf': 19, 'max_features': None}. Best is trial 40 with value: 0.6608999232256759.\n"
     ]
    },
    {
     "name": "stdout",
     "output_type": "stream",
     "text": [
      "[CV] END ................................ score: (test=0.644) total time=   0.3s\n",
      "[CV] END ................................ score: (test=0.664) total time=   0.3s\n",
      "[CV] END ................................ score: (test=0.648) total time=   0.3s\n",
      "[CV] START .....................................................................\n",
      "[CV] START .....................................................................\n",
      "[CV] START .....................................................................\n"
     ]
    },
    {
     "name": "stderr",
     "output_type": "stream",
     "text": [
      "[Parallel(n_jobs=-1)]: Using backend LokyBackend with 64 concurrent workers.\n",
      "[Parallel(n_jobs=-1)]: Done   3 out of   3 | elapsed:    0.3s finished\n",
      "[I 2024-09-30 13:10:35,508] Trial 84 finished with value: 0.6571003831036973 and parameters: {'max_depth': 4, 'min_samples_split': 11, 'min_samples_leaf': 10, 'max_features': None}. Best is trial 40 with value: 0.6608999232256759.\n"
     ]
    },
    {
     "name": "stdout",
     "output_type": "stream",
     "text": [
      "[CV] END ................................ score: (test=0.651) total time=   0.3s\n",
      "[CV] END ................................ score: (test=0.653) total time=   0.3s\n",
      "[CV] END ................................ score: (test=0.667) total time=   0.3s\n",
      "[CV] START .....................................................................\n",
      "[CV] START .....................................................................\n",
      "[CV] START .....................................................................\n"
     ]
    },
    {
     "name": "stderr",
     "output_type": "stream",
     "text": [
      "[Parallel(n_jobs=-1)]: Using backend LokyBackend with 64 concurrent workers.\n",
      "[Parallel(n_jobs=-1)]: Batch computation too fast (0.1679246425628662s.) Setting batch_size=2.\n",
      "[Parallel(n_jobs=-1)]: Done   3 out of   3 | elapsed:    0.2s finished\n",
      "[I 2024-09-30 13:10:35,822] Trial 85 finished with value: 0.6556000531066905 and parameters: {'max_depth': 2, 'min_samples_split': 8, 'min_samples_leaf': 22, 'max_features': None}. Best is trial 40 with value: 0.6608999232256759.\n"
     ]
    },
    {
     "name": "stdout",
     "output_type": "stream",
     "text": [
      "[CV] END ................................ score: (test=0.647) total time=   0.1s\n",
      "[CV] END ................................ score: (test=0.664) total time=   0.2s\n",
      "[CV] END ................................ score: (test=0.655) total time=   0.2s\n",
      "[CV] START .....................................................................\n",
      "[CV] START .....................................................................\n",
      "[CV] START .....................................................................\n"
     ]
    },
    {
     "name": "stderr",
     "output_type": "stream",
     "text": [
      "[Parallel(n_jobs=-1)]: Using backend LokyBackend with 64 concurrent workers.\n",
      "[Parallel(n_jobs=-1)]: Done   3 out of   3 | elapsed:    0.2s finished\n",
      "[I 2024-09-30 13:10:36,196] Trial 86 finished with value: 0.6608999232256759 and parameters: {'max_depth': 3, 'min_samples_split': 7, 'min_samples_leaf': 20, 'max_features': None}. Best is trial 40 with value: 0.6608999232256759.\n"
     ]
    },
    {
     "name": "stdout",
     "output_type": "stream",
     "text": [
      "[CV] END ................................ score: (test=0.667) total time=   0.2s\n",
      "[CV] END ................................ score: (test=0.662) total time=   0.2s\n",
      "[CV] END ................................ score: (test=0.654) total time=   0.2s\n",
      "[CV] START .....................................................................\n",
      "[CV] START .....................................................................\n",
      "[CV] START .....................................................................\n"
     ]
    },
    {
     "name": "stderr",
     "output_type": "stream",
     "text": [
      "[Parallel(n_jobs=-1)]: Using backend LokyBackend with 64 concurrent workers.\n",
      "[Parallel(n_jobs=-1)]: Done   3 out of   3 | elapsed:    0.4s finished\n",
      "[I 2024-09-30 13:10:36,679] Trial 87 finished with value: 0.6527004530087082 and parameters: {'max_depth': 5, 'min_samples_split': 6, 'min_samples_leaf': 21, 'max_features': None}. Best is trial 40 with value: 0.6608999232256759.\n"
     ]
    },
    {
     "name": "stdout",
     "output_type": "stream",
     "text": [
      "[CV] END ................................ score: (test=0.648) total time=   0.3s\n",
      "[CV] END ................................ score: (test=0.647) total time=   0.3s\n",
      "[CV] END ................................ score: (test=0.663) total time=   0.3s\n",
      "[CV] START .....................................................................\n",
      "[CV] START .....................................................................\n",
      "[CV] START .....................................................................\n"
     ]
    },
    {
     "name": "stderr",
     "output_type": "stream",
     "text": [
      "[Parallel(n_jobs=-1)]: Using backend LokyBackend with 64 concurrent workers.\n",
      "[Parallel(n_jobs=-1)]: Done   3 out of   3 | elapsed:    0.3s finished\n",
      "[I 2024-09-30 13:10:37,103] Trial 88 finished with value: 0.6567003430996969 and parameters: {'max_depth': 4, 'min_samples_split': 10, 'min_samples_leaf': 18, 'max_features': None}. Best is trial 40 with value: 0.6608999232256759.\n"
     ]
    },
    {
     "name": "stdout",
     "output_type": "stream",
     "text": [
      "[CV] END ................................ score: (test=0.653) total time=   0.3s\n",
      "[CV] END ................................ score: (test=0.666) total time=   0.3s\n",
      "[CV] END ................................ score: (test=0.651) total time=   0.3s\n",
      "[CV] START .....................................................................\n",
      "[CV] START .....................................................................\n",
      "[CV] START .....................................................................\n"
     ]
    },
    {
     "name": "stderr",
     "output_type": "stream",
     "text": [
      "[Parallel(n_jobs=-1)]: Using backend LokyBackend with 64 concurrent workers.\n",
      "[Parallel(n_jobs=-1)]: Done   3 out of   3 | elapsed:    0.4s finished\n",
      "[I 2024-09-30 13:10:37,647] Trial 89 finished with value: 0.6484013728307444 and parameters: {'max_depth': 6, 'min_samples_split': 9, 'min_samples_leaf': 17, 'max_features': None}. Best is trial 40 with value: 0.6608999232256759.\n"
     ]
    },
    {
     "name": "stdout",
     "output_type": "stream",
     "text": [
      "[CV] END ................................ score: (test=0.635) total time=   0.4s\n",
      "[CV] END ................................ score: (test=0.668) total time=   0.4s\n",
      "[CV] END ................................ score: (test=0.642) total time=   0.4s\n",
      "[CV] START .....................................................................\n",
      "[CV] START .....................................................................\n",
      "[CV] START .....................................................................\n"
     ]
    },
    {
     "name": "stderr",
     "output_type": "stream",
     "text": [
      "[Parallel(n_jobs=-1)]: Using backend LokyBackend with 64 concurrent workers.\n",
      "[Parallel(n_jobs=-1)]: Batch computation too fast (0.06883573532104492s.) Setting batch_size=2.\n",
      "[Parallel(n_jobs=-1)]: Done   3 out of   3 | elapsed:    0.1s finished\n",
      "[I 2024-09-30 13:10:37,858] Trial 90 finished with value: 0.6240003724427631 and parameters: {'max_depth': 12, 'min_samples_split': 7, 'min_samples_leaf': 23, 'max_features': 'log2'}. Best is trial 40 with value: 0.6608999232256759.\n"
     ]
    },
    {
     "name": "stdout",
     "output_type": "stream",
     "text": [
      "[CV] END ................................ score: (test=0.620) total time=   0.1s\n",
      "[CV] END ................................ score: (test=0.625) total time=   0.1s\n",
      "[CV] END ................................ score: (test=0.626) total time=   0.1s\n",
      "[CV] START .....................................................................\n",
      "[CV] START .....................................................................\n",
      "[CV] START .....................................................................\n"
     ]
    },
    {
     "name": "stderr",
     "output_type": "stream",
     "text": [
      "[Parallel(n_jobs=-1)]: Using backend LokyBackend with 64 concurrent workers.\n",
      "[Parallel(n_jobs=-1)]: Done   3 out of   3 | elapsed:    0.2s finished\n",
      "[I 2024-09-30 13:10:38,229] Trial 91 finished with value: 0.6608999232256759 and parameters: {'max_depth': 3, 'min_samples_split': 6, 'min_samples_leaf': 19, 'max_features': None}. Best is trial 40 with value: 0.6608999232256759.\n"
     ]
    },
    {
     "name": "stdout",
     "output_type": "stream",
     "text": [
      "[CV] END ................................ score: (test=0.662) total time=   0.2s\n",
      "[CV] END ................................ score: (test=0.667) total time=   0.2s\n",
      "[CV] END ................................ score: (test=0.654) total time=   0.2s\n",
      "[CV] START .....................................................................\n",
      "[CV] START .....................................................................\n",
      "[CV] START .....................................................................\n"
     ]
    },
    {
     "name": "stderr",
     "output_type": "stream",
     "text": [
      "[Parallel(n_jobs=-1)]: Using backend LokyBackend with 64 concurrent workers.\n",
      "[Parallel(n_jobs=-1)]: Batch computation too fast (0.16916537284851074s.) Setting batch_size=2.\n",
      "[Parallel(n_jobs=-1)]: Done   3 out of   3 | elapsed:    0.2s finished\n",
      "[I 2024-09-30 13:10:38,543] Trial 92 finished with value: 0.6556000531066905 and parameters: {'max_depth': 2, 'min_samples_split': 6, 'min_samples_leaf': 19, 'max_features': None}. Best is trial 40 with value: 0.6608999232256759.\n"
     ]
    },
    {
     "name": "stdout",
     "output_type": "stream",
     "text": [
      "[CV] END ................................ score: (test=0.647) total time=   0.2s\n",
      "[CV] END ................................ score: (test=0.664) total time=   0.2s\n",
      "[CV] END ................................ score: (test=0.655) total time=   0.2s\n",
      "[CV] START .....................................................................\n",
      "[CV] START .....................................................................\n",
      "[CV] START .....................................................................\n"
     ]
    },
    {
     "name": "stderr",
     "output_type": "stream",
     "text": [
      "[Parallel(n_jobs=-1)]: Using backend LokyBackend with 64 concurrent workers.\n",
      "[Parallel(n_jobs=-1)]: Done   3 out of   3 | elapsed:    0.2s finished\n",
      "[I 2024-09-30 13:10:38,915] Trial 93 finished with value: 0.6608999232256759 and parameters: {'max_depth': 3, 'min_samples_split': 5, 'min_samples_leaf': 20, 'max_features': None}. Best is trial 40 with value: 0.6608999232256759.\n"
     ]
    },
    {
     "name": "stdout",
     "output_type": "stream",
     "text": [
      "[CV] END ................................ score: (test=0.654) total time=   0.2s\n",
      "[CV] END ................................ score: (test=0.667) total time=   0.2s\n",
      "[CV] END ................................ score: (test=0.662) total time=   0.2s\n",
      "[CV] START .....................................................................\n",
      "[CV] START .....................................................................\n",
      "[CV] START .....................................................................\n"
     ]
    },
    {
     "name": "stderr",
     "output_type": "stream",
     "text": [
      "[Parallel(n_jobs=-1)]: Using backend LokyBackend with 64 concurrent workers.\n",
      "[Parallel(n_jobs=-1)]: Done   3 out of   3 | elapsed:    0.2s finished\n",
      "[I 2024-09-30 13:10:39,280] Trial 94 finished with value: 0.6608999232256759 and parameters: {'max_depth': 3, 'min_samples_split': 7, 'min_samples_leaf': 22, 'max_features': None}. Best is trial 40 with value: 0.6608999232256759.\n"
     ]
    },
    {
     "name": "stdout",
     "output_type": "stream",
     "text": [
      "[CV] END ................................ score: (test=0.662) total time=   0.2s\n",
      "[CV] END ................................ score: (test=0.667) total time=   0.2s\n",
      "[CV] END ................................ score: (test=0.654) total time=   0.2s\n",
      "[CV] START .....................................................................\n",
      "[CV] START .....................................................................\n",
      "[CV] START .....................................................................\n"
     ]
    },
    {
     "name": "stderr",
     "output_type": "stream",
     "text": [
      "[Parallel(n_jobs=-1)]: Using backend LokyBackend with 64 concurrent workers.\n",
      "[Parallel(n_jobs=-1)]: Batch computation too fast (0.16897296905517578s.) Setting batch_size=2.\n",
      "[Parallel(n_jobs=-1)]: Done   3 out of   3 | elapsed:    0.2s finished\n",
      "[I 2024-09-30 13:10:39,583] Trial 95 finished with value: 0.6556000531066905 and parameters: {'max_depth': 2, 'min_samples_split': 4, 'min_samples_leaf': 3, 'max_features': None}. Best is trial 40 with value: 0.6608999232256759.\n"
     ]
    },
    {
     "name": "stdout",
     "output_type": "stream",
     "text": [
      "[CV] END ................................ score: (test=0.655) total time=   0.2s\n",
      "[CV] END ................................ score: (test=0.647) total time=   0.2s\n",
      "[CV] END ................................ score: (test=0.664) total time=   0.2s\n",
      "[CV] START .....................................................................\n",
      "[CV] START .....................................................................\n",
      "[CV] START .....................................................................\n"
     ]
    },
    {
     "name": "stderr",
     "output_type": "stream",
     "text": [
      "[Parallel(n_jobs=-1)]: Using backend LokyBackend with 64 concurrent workers.\n",
      "[Parallel(n_jobs=-1)]: Done   3 out of   3 | elapsed:    0.3s finished\n",
      "[I 2024-09-30 13:10:40,048] Trial 96 finished with value: 0.6569003631016971 and parameters: {'max_depth': 4, 'min_samples_split': 6, 'min_samples_leaf': 21, 'max_features': None}. Best is trial 40 with value: 0.6608999232256759.\n"
     ]
    },
    {
     "name": "stdout",
     "output_type": "stream",
     "text": [
      "[CV] END ................................ score: (test=0.651) total time=   0.3s\n",
      "[CV] END ................................ score: (test=0.666) total time=   0.3s\n",
      "[CV] END ................................ score: (test=0.653) total time=   0.3s\n",
      "[CV] START .....................................................................\n",
      "[CV] START .....................................................................\n",
      "[CV] START .....................................................................\n"
     ]
    },
    {
     "name": "stderr",
     "output_type": "stream",
     "text": [
      "[Parallel(n_jobs=-1)]: Using backend LokyBackend with 64 concurrent workers.\n",
      "[Parallel(n_jobs=-1)]: Done   3 out of   3 | elapsed:    0.3s finished\n",
      "[I 2024-09-30 13:10:40,488] Trial 97 finished with value: 0.6571004430976991 and parameters: {'max_depth': 4, 'min_samples_split': 8, 'min_samples_leaf': 25, 'max_features': None}. Best is trial 40 with value: 0.6608999232256759.\n"
     ]
    },
    {
     "name": "stdout",
     "output_type": "stream",
     "text": [
      "[CV] END ................................ score: (test=0.667) total time=   0.3s\n",
      "[CV] END ................................ score: (test=0.651) total time=   0.3s\n",
      "[CV] END ................................ score: (test=0.653) total time=   0.3s\n",
      "[CV] START .....................................................................\n",
      "[CV] START .....................................................................\n",
      "[CV] START .....................................................................\n"
     ]
    },
    {
     "name": "stderr",
     "output_type": "stream",
     "text": [
      "[Parallel(n_jobs=-1)]: Using backend LokyBackend with 64 concurrent workers.\n",
      "[Parallel(n_jobs=-1)]: Done   3 out of   3 | elapsed:    0.4s finished\n",
      "[I 2024-09-30 13:10:40,995] Trial 98 finished with value: 0.6529004130167065 and parameters: {'max_depth': 5, 'min_samples_split': 5, 'min_samples_leaf': 12, 'max_features': None}. Best is trial 40 with value: 0.6608999232256759.\n"
     ]
    },
    {
     "name": "stdout",
     "output_type": "stream",
     "text": [
      "[CV] END ................................ score: (test=0.649) total time=   0.3s\n",
      "[CV] END ................................ score: (test=0.646) total time=   0.3s\n",
      "[CV] END ................................ score: (test=0.664) total time=   0.4s\n",
      "[CV] START .....................................................................\n",
      "[CV] START .....................................................................\n",
      "[CV] START .....................................................................\n"
     ]
    },
    {
     "name": "stderr",
     "output_type": "stream",
     "text": [
      "[Parallel(n_jobs=-1)]: Using backend LokyBackend with 64 concurrent workers.\n",
      "[Parallel(n_jobs=-1)]: Batch computation too fast (0.1709442138671875s.) Setting batch_size=2.\n",
      "[Parallel(n_jobs=-1)]: Done   3 out of   3 | elapsed:    0.2s finished\n",
      "[I 2024-09-30 13:10:41,320] Trial 99 finished with value: 0.6556000531066905 and parameters: {'max_depth': 2, 'min_samples_split': 8, 'min_samples_leaf': 18, 'max_features': None}. Best is trial 40 with value: 0.6608999232256759.\n"
     ]
    },
    {
     "name": "stdout",
     "output_type": "stream",
     "text": [
      "[CV] END ................................ score: (test=0.655) total time=   0.2s\n",
      "[CV] END ................................ score: (test=0.647) total time=   0.2s\n",
      "[CV] END ................................ score: (test=0.664) total time=   0.2s\n",
      "[CV] START .....................................................................\n",
      "[CV] START .....................................................................\n",
      "[CV] START .....................................................................\n"
     ]
    },
    {
     "name": "stderr",
     "output_type": "stream",
     "text": [
      "[Parallel(n_jobs=-1)]: Using backend LokyBackend with 64 concurrent workers.\n",
      "[Parallel(n_jobs=-1)]: Done   3 out of   3 | elapsed:    0.2s finished\n",
      "[I 2024-09-30 13:10:41,695] Trial 100 finished with value: 0.6608999232256759 and parameters: {'max_depth': 3, 'min_samples_split': 9, 'min_samples_leaf': 24, 'max_features': None}. Best is trial 40 with value: 0.6608999232256759.\n"
     ]
    },
    {
     "name": "stdout",
     "output_type": "stream",
     "text": [
      "[CV] END ................................ score: (test=0.662) total time=   0.2s\n",
      "[CV] END ................................ score: (test=0.667) total time=   0.2s\n",
      "[CV] END ................................ score: (test=0.654) total time=   0.2s\n",
      "[CV] START .....................................................................\n",
      "[CV] START .....................................................................\n",
      "[CV] START .....................................................................\n"
     ]
    },
    {
     "name": "stderr",
     "output_type": "stream",
     "text": [
      "[Parallel(n_jobs=-1)]: Using backend LokyBackend with 64 concurrent workers.\n",
      "[Parallel(n_jobs=-1)]: Done   3 out of   3 | elapsed:    0.3s finished\n",
      "[I 2024-09-30 13:10:42,130] Trial 101 finished with value: 0.6570003731026972 and parameters: {'max_depth': 4, 'min_samples_split': 7, 'min_samples_leaf': 13, 'max_features': None}. Best is trial 40 with value: 0.6608999232256759.\n"
     ]
    },
    {
     "name": "stdout",
     "output_type": "stream",
     "text": [
      "[CV] END ................................ score: (test=0.653) total time=   0.3s\n",
      "[CV] END ................................ score: (test=0.667) total time=   0.3s\n",
      "[CV] END ................................ score: (test=0.651) total time=   0.3s\n",
      "[CV] START .....................................................................\n",
      "[CV] START .....................................................................\n",
      "[CV] START .....................................................................\n"
     ]
    },
    {
     "name": "stderr",
     "output_type": "stream",
     "text": [
      "[Parallel(n_jobs=-1)]: Using backend LokyBackend with 64 concurrent workers.\n",
      "[Parallel(n_jobs=-1)]: Done   3 out of   3 | elapsed:    0.2s finished\n",
      "[I 2024-09-30 13:10:42,505] Trial 102 finished with value: 0.6608999232256759 and parameters: {'max_depth': 3, 'min_samples_split': 11, 'min_samples_leaf': 15, 'max_features': None}. Best is trial 40 with value: 0.6608999232256759.\n"
     ]
    },
    {
     "name": "stdout",
     "output_type": "stream",
     "text": [
      "[CV] END ................................ score: (test=0.667) total time=   0.2s\n",
      "[CV] END ................................ score: (test=0.662) total time=   0.2s\n",
      "[CV] END ................................ score: (test=0.654) total time=   0.2s\n",
      "[CV] START .....................................................................\n",
      "[CV] START .....................................................................\n",
      "[CV] START .....................................................................\n"
     ]
    },
    {
     "name": "stderr",
     "output_type": "stream",
     "text": [
      "[Parallel(n_jobs=-1)]: Using backend LokyBackend with 64 concurrent workers.\n",
      "[Parallel(n_jobs=-1)]: Batch computation too fast (0.16424059867858887s.) Setting batch_size=2.\n",
      "[Parallel(n_jobs=-1)]: Done   3 out of   3 | elapsed:    0.2s finished\n",
      "[I 2024-09-30 13:10:42,809] Trial 103 finished with value: 0.6556000531066905 and parameters: {'max_depth': 2, 'min_samples_split': 6, 'min_samples_leaf': 16, 'max_features': None}. Best is trial 40 with value: 0.6608999232256759.\n"
     ]
    },
    {
     "name": "stdout",
     "output_type": "stream",
     "text": [
      "[CV] END ................................ score: (test=0.655) total time=   0.2s\n",
      "[CV] END ................................ score: (test=0.647) total time=   0.2s\n",
      "[CV] END ................................ score: (test=0.664) total time=   0.2s\n",
      "[CV] START .....................................................................\n",
      "[CV] START .....................................................................\n",
      "[CV] START .....................................................................\n"
     ]
    },
    {
     "name": "stderr",
     "output_type": "stream",
     "text": [
      "[Parallel(n_jobs=-1)]: Using backend LokyBackend with 64 concurrent workers.\n",
      "[Parallel(n_jobs=-1)]: Done   3 out of   3 | elapsed:    0.2s finished\n",
      "[I 2024-09-30 13:10:43,185] Trial 104 finished with value: 0.6608999232256759 and parameters: {'max_depth': 3, 'min_samples_split': 7, 'min_samples_leaf': 14, 'max_features': None}. Best is trial 40 with value: 0.6608999232256759.\n"
     ]
    },
    {
     "name": "stdout",
     "output_type": "stream",
     "text": [
      "[CV] END ................................ score: (test=0.667) total time=   0.2s\n",
      "[CV] END ................................ score: (test=0.662) total time=   0.2s\n",
      "[CV] END ................................ score: (test=0.654) total time=   0.2s\n",
      "[CV] START .....................................................................\n",
      "[CV] START .....................................................................\n",
      "[CV] START .....................................................................\n"
     ]
    },
    {
     "name": "stderr",
     "output_type": "stream",
     "text": [
      "[Parallel(n_jobs=-1)]: Using backend LokyBackend with 64 concurrent workers.\n",
      "[Parallel(n_jobs=-1)]: Done   3 out of   3 | elapsed:    0.3s finished\n",
      "[I 2024-09-30 13:10:43,622] Trial 105 finished with value: 0.6569003631016971 and parameters: {'max_depth': 4, 'min_samples_split': 5, 'min_samples_leaf': 20, 'max_features': None}. Best is trial 40 with value: 0.6608999232256759.\n"
     ]
    },
    {
     "name": "stdout",
     "output_type": "stream",
     "text": [
      "[CV] END ................................ score: (test=0.651) total time=   0.3s\n",
      "[CV] END ................................ score: (test=0.653) total time=   0.3s\n",
      "[CV] END ................................ score: (test=0.666) total time=   0.3s\n",
      "[CV] START .....................................................................\n",
      "[CV] START .....................................................................\n",
      "[CV] START .....................................................................\n"
     ]
    },
    {
     "name": "stderr",
     "output_type": "stream",
     "text": [
      "[Parallel(n_jobs=-1)]: Using backend LokyBackend with 64 concurrent workers.\n",
      "[Parallel(n_jobs=-1)]: Done   3 out of   3 | elapsed:    0.4s finished\n",
      "[I 2024-09-30 13:10:44,109] Trial 106 finished with value: 0.6519003730007075 and parameters: {'max_depth': 5, 'min_samples_split': 9, 'min_samples_leaf': 19, 'max_features': None}. Best is trial 40 with value: 0.6608999232256759.\n"
     ]
    },
    {
     "name": "stdout",
     "output_type": "stream",
     "text": [
      "[CV] END ................................ score: (test=0.664) total time=   0.3s\n",
      "[CV] END ................................ score: (test=0.648) total time=   0.3s\n",
      "[CV] END ................................ score: (test=0.644) total time=   0.3s\n",
      "[CV] START .....................................................................\n",
      "[CV] START .....................................................................\n",
      "[CV] START .....................................................................\n"
     ]
    },
    {
     "name": "stderr",
     "output_type": "stream",
     "text": [
      "[Parallel(n_jobs=-1)]: Using backend LokyBackend with 64 concurrent workers.\n",
      "[Parallel(n_jobs=-1)]: Batch computation too fast (0.16454553604125977s.) Setting batch_size=2.\n",
      "[Parallel(n_jobs=-1)]: Done   3 out of   3 | elapsed:    0.2s finished\n",
      "[I 2024-09-30 13:10:44,411] Trial 107 finished with value: 0.6556000531066905 and parameters: {'max_depth': 2, 'min_samples_split': 4, 'min_samples_leaf': 17, 'max_features': None}. Best is trial 40 with value: 0.6608999232256759.\n"
     ]
    },
    {
     "name": "stdout",
     "output_type": "stream",
     "text": [
      "[CV] END ................................ score: (test=0.664) total time=   0.1s\n",
      "[CV] END ................................ score: (test=0.655) total time=   0.2s\n",
      "[CV] END ................................ score: (test=0.647) total time=   0.2s\n",
      "[CV] START .....................................................................\n",
      "[CV] START .....................................................................\n",
      "[CV] START .....................................................................\n"
     ]
    },
    {
     "name": "stderr",
     "output_type": "stream",
     "text": [
      "[Parallel(n_jobs=-1)]: Using backend LokyBackend with 64 concurrent workers.\n",
      "[Parallel(n_jobs=-1)]: Done   3 out of   3 | elapsed:    0.4s finished\n",
      "[I 2024-09-30 13:10:44,896] Trial 108 finished with value: 0.6516003429977072 and parameters: {'max_depth': 5, 'min_samples_split': 7, 'min_samples_leaf': 16, 'max_features': None}. Best is trial 40 with value: 0.6608999232256759.\n"
     ]
    },
    {
     "name": "stdout",
     "output_type": "stream",
     "text": [
      "[CV] END ................................ score: (test=0.648) total time=   0.3s\n",
      "[CV] END ................................ score: (test=0.663) total time=   0.3s\n",
      "[CV] END ................................ score: (test=0.643) total time=   0.3s\n",
      "[CV] START .....................................................................\n",
      "[CV] START .....................................................................\n",
      "[CV] START .....................................................................\n",
      "[CV] END ................................ score: (test=0.650) total time=   0.0s\n",
      "[CV] END ................................ score: (test=0.638) total time=   0.0s\n",
      "[CV] END ................................ score: (test=0.654) total time=   0.0s\n"
     ]
    },
    {
     "name": "stderr",
     "output_type": "stream",
     "text": [
      "[Parallel(n_jobs=-1)]: Using backend LokyBackend with 64 concurrent workers.\n",
      "[Parallel(n_jobs=-1)]: Batch computation too fast (0.044968605041503906s.) Setting batch_size=2.\n",
      "[Parallel(n_jobs=-1)]: Done   3 out of   3 | elapsed:    0.0s finished\n",
      "[I 2024-09-30 13:10:45,078] Trial 109 finished with value: 0.6475997629756978 and parameters: {'max_depth': 3, 'min_samples_split': 6, 'min_samples_leaf': 19, 'max_features': 'log2'}. Best is trial 40 with value: 0.6608999232256759.\n",
      "[Parallel(n_jobs=-1)]: Using backend LokyBackend with 64 concurrent workers.\n"
     ]
    },
    {
     "name": "stdout",
     "output_type": "stream",
     "text": [
      "[CV] START .....................................................................\n",
      "[CV] START .....................................................................\n",
      "[CV] START .....................................................................\n"
     ]
    },
    {
     "name": "stderr",
     "output_type": "stream",
     "text": [
      "[Parallel(n_jobs=-1)]: Done   3 out of   3 | elapsed:    0.4s finished\n",
      "[I 2024-09-30 13:10:45,624] Trial 110 finished with value: 0.6496014328487437 and parameters: {'max_depth': 6, 'min_samples_split': 8, 'min_samples_leaf': 21, 'max_features': None}. Best is trial 40 with value: 0.6608999232256759.\n"
     ]
    },
    {
     "name": "stdout",
     "output_type": "stream",
     "text": [
      "[CV] END ................................ score: (test=0.635) total time=   0.4s\n",
      "[CV] END ................................ score: (test=0.646) total time=   0.4s\n",
      "[CV] END ................................ score: (test=0.668) total time=   0.4s\n",
      "[CV] START .....................................................................\n",
      "[CV] START .....................................................................\n",
      "[CV] START .....................................................................\n"
     ]
    },
    {
     "name": "stderr",
     "output_type": "stream",
     "text": [
      "[Parallel(n_jobs=-1)]: Using backend LokyBackend with 64 concurrent workers.\n",
      "[Parallel(n_jobs=-1)]: Done   3 out of   3 | elapsed:    0.2s finished\n",
      "[I 2024-09-30 13:10:46,005] Trial 111 finished with value: 0.6608999232256759 and parameters: {'max_depth': 3, 'min_samples_split': 25, 'min_samples_leaf': 15, 'max_features': None}. Best is trial 40 with value: 0.6608999232256759.\n"
     ]
    },
    {
     "name": "stdout",
     "output_type": "stream",
     "text": [
      "[CV] END ................................ score: (test=0.662) total time=   0.2s\n",
      "[CV] END ................................ score: (test=0.654) total time=   0.2s\n",
      "[CV] END ................................ score: (test=0.667) total time=   0.2s\n",
      "[CV] START .....................................................................\n",
      "[CV] START .....................................................................\n",
      "[CV] START .....................................................................\n"
     ]
    },
    {
     "name": "stderr",
     "output_type": "stream",
     "text": [
      "[Parallel(n_jobs=-1)]: Using backend LokyBackend with 64 concurrent workers.\n",
      "[Parallel(n_jobs=-1)]: Done   3 out of   3 | elapsed:    0.3s finished\n",
      "[I 2024-09-30 13:10:46,430] Trial 112 finished with value: 0.6569003631016971 and parameters: {'max_depth': 4, 'min_samples_split': 20, 'min_samples_leaf': 14, 'max_features': None}. Best is trial 40 with value: 0.6608999232256759.\n"
     ]
    },
    {
     "name": "stdout",
     "output_type": "stream",
     "text": [
      "[CV] END ................................ score: (test=0.653) total time=   0.3s\n",
      "[CV] END ................................ score: (test=0.666) total time=   0.3s\n",
      "[CV] END ................................ score: (test=0.651) total time=   0.3s\n",
      "[CV] START .....................................................................\n",
      "[CV] START .....................................................................\n",
      "[CV] START .....................................................................\n"
     ]
    },
    {
     "name": "stderr",
     "output_type": "stream",
     "text": [
      "[Parallel(n_jobs=-1)]: Using backend LokyBackend with 64 concurrent workers.\n",
      "[Parallel(n_jobs=-1)]: Batch computation too fast (0.16743993759155273s.) Setting batch_size=2.\n",
      "[Parallel(n_jobs=-1)]: Done   3 out of   3 | elapsed:    0.2s finished\n",
      "[I 2024-09-30 13:10:46,744] Trial 113 finished with value: 0.6556000531066905 and parameters: {'max_depth': 2, 'min_samples_split': 7, 'min_samples_leaf': 18, 'max_features': None}. Best is trial 40 with value: 0.6608999232256759.\n"
     ]
    },
    {
     "name": "stdout",
     "output_type": "stream",
     "text": [
      "[CV] END ................................ score: (test=0.664) total time=   0.2s\n",
      "[CV] END ................................ score: (test=0.647) total time=   0.2s\n",
      "[CV] END ................................ score: (test=0.655) total time=   0.2s\n",
      "[CV] START .....................................................................\n",
      "[CV] START .....................................................................\n",
      "[CV] START .....................................................................\n"
     ]
    },
    {
     "name": "stderr",
     "output_type": "stream",
     "text": [
      "[Parallel(n_jobs=-1)]: Using backend LokyBackend with 64 concurrent workers.\n",
      "[Parallel(n_jobs=-1)]: Done   3 out of   3 | elapsed:    0.2s finished\n",
      "[I 2024-09-30 13:10:47,110] Trial 114 finished with value: 0.6608999232256759 and parameters: {'max_depth': 3, 'min_samples_split': 16, 'min_samples_leaf': 11, 'max_features': None}. Best is trial 40 with value: 0.6608999232256759.\n"
     ]
    },
    {
     "name": "stdout",
     "output_type": "stream",
     "text": [
      "[CV] END ................................ score: (test=0.662) total time=   0.2s\n",
      "[CV] END ................................ score: (test=0.667) total time=   0.2s[CV] END ................................ score: (test=0.654) total time=   0.2s\n",
      "\n",
      "[CV] START .....................................................................\n",
      "[CV] START .....................................................................\n",
      "[CV] START .....................................................................\n"
     ]
    },
    {
     "name": "stderr",
     "output_type": "stream",
     "text": [
      "[Parallel(n_jobs=-1)]: Using backend LokyBackend with 64 concurrent workers.\n",
      "[Parallel(n_jobs=-1)]: Done   3 out of   3 | elapsed:    0.6s finished\n",
      "[I 2024-09-30 13:10:47,837] Trial 115 finished with value: 0.612999932266772 and parameters: {'max_depth': 23, 'min_samples_split': 23, 'min_samples_leaf': 20, 'max_features': None}. Best is trial 40 with value: 0.6608999232256759.\n"
     ]
    },
    {
     "name": "stdout",
     "output_type": "stream",
     "text": [
      "[CV] END ................................ score: (test=0.604) total time=   0.6s\n",
      "[CV] END ................................ score: (test=0.614) total time=   0.6s\n",
      "[CV] END ................................ score: (test=0.621) total time=   0.6s\n",
      "[CV] START .....................................................................\n",
      "[CV] START .....................................................................\n",
      "[CV] START .....................................................................\n"
     ]
    },
    {
     "name": "stderr",
     "output_type": "stream",
     "text": [
      "[Parallel(n_jobs=-1)]: Using backend LokyBackend with 64 concurrent workers.\n",
      "[Parallel(n_jobs=-1)]: Batch computation too fast (0.16705036163330078s.) Setting batch_size=2.\n",
      "[Parallel(n_jobs=-1)]: Done   3 out of   3 | elapsed:    0.2s finished\n",
      "[I 2024-09-30 13:10:48,142] Trial 116 finished with value: 0.6556000531066905 and parameters: {'max_depth': 2, 'min_samples_split': 20, 'min_samples_leaf': 22, 'max_features': None}. Best is trial 40 with value: 0.6608999232256759.\n"
     ]
    },
    {
     "name": "stdout",
     "output_type": "stream",
     "text": [
      "[CV] END ................................ score: (test=0.647) total time=   0.2s\n",
      "[CV] END ................................ score: (test=0.664) total time=   0.2s\n",
      "[CV] END ................................ score: (test=0.655) total time=   0.2s\n",
      "[CV] START .....................................................................\n",
      "[CV] START .....................................................................\n",
      "[CV] START .....................................................................\n"
     ]
    },
    {
     "name": "stderr",
     "output_type": "stream",
     "text": [
      "[Parallel(n_jobs=-1)]: Using backend LokyBackend with 64 concurrent workers.\n",
      "[Parallel(n_jobs=-1)]: Done   3 out of   3 | elapsed:    0.2s finished\n",
      "[I 2024-09-30 13:10:48,506] Trial 117 finished with value: 0.6608999232256759 and parameters: {'max_depth': 3, 'min_samples_split': 10, 'min_samples_leaf': 18, 'max_features': None}. Best is trial 40 with value: 0.6608999232256759.\n"
     ]
    },
    {
     "name": "stdout",
     "output_type": "stream",
     "text": [
      "[CV] END ................................ score: (test=0.662) total time=   0.2s\n",
      "[CV] END ................................ score: (test=0.667) total time=   0.2s\n",
      "[CV] END ................................ score: (test=0.654) total time=   0.2s\n",
      "[CV] START .....................................................................\n",
      "[CV] START .....................................................................\n",
      "[CV] START .....................................................................\n"
     ]
    },
    {
     "name": "stderr",
     "output_type": "stream",
     "text": [
      "[Parallel(n_jobs=-1)]: Using backend LokyBackend with 64 concurrent workers.\n",
      "[Parallel(n_jobs=-1)]: Done   3 out of   3 | elapsed:    0.3s finished\n",
      "[I 2024-09-30 13:10:48,934] Trial 118 finished with value: 0.6573004031056975 and parameters: {'max_depth': 4, 'min_samples_split': 15, 'min_samples_leaf': 22, 'max_features': None}. Best is trial 40 with value: 0.6608999232256759.\n"
     ]
    },
    {
     "name": "stdout",
     "output_type": "stream",
     "text": [
      "[CV] END ................................ score: (test=0.651) total time=   0.3s\n",
      "[CV] END ................................ score: (test=0.653) total time=   0.3s\n",
      "[CV] END ................................ score: (test=0.667) total time=   0.3s\n",
      "[CV] START .....................................................................\n",
      "[CV] START .....................................................................\n",
      "[CV] START .....................................................................\n"
     ]
    },
    {
     "name": "stderr",
     "output_type": "stream",
     "text": [
      "[Parallel(n_jobs=-1)]: Using backend LokyBackend with 64 concurrent workers.\n",
      "[Parallel(n_jobs=-1)]: Done   3 out of   3 | elapsed:    0.2s finished\n",
      "[I 2024-09-30 13:10:49,308] Trial 119 finished with value: 0.6608999232256759 and parameters: {'max_depth': 3, 'min_samples_split': 24, 'min_samples_leaf': 23, 'max_features': None}. Best is trial 40 with value: 0.6608999232256759.\n"
     ]
    },
    {
     "name": "stdout",
     "output_type": "stream",
     "text": [
      "[CV] END ................................ score: (test=0.654) total time=   0.2s\n",
      "[CV] END ................................ score: (test=0.667) total time=   0.2s\n",
      "[CV] END ................................ score: (test=0.662) total time=   0.2s\n",
      "[CV] START .....................................................................\n",
      "[CV] START .....................................................................\n",
      "[CV] START .....................................................................\n"
     ]
    },
    {
     "name": "stderr",
     "output_type": "stream",
     "text": [
      "[Parallel(n_jobs=-1)]: Using backend LokyBackend with 64 concurrent workers.\n",
      "[Parallel(n_jobs=-1)]: Done   3 out of   3 | elapsed:    0.4s finished\n",
      "[I 2024-09-30 13:10:49,804] Trial 120 finished with value: 0.6518003629997073 and parameters: {'max_depth': 5, 'min_samples_split': 8, 'min_samples_leaf': 17, 'max_features': None}. Best is trial 40 with value: 0.6608999232256759.\n"
     ]
    },
    {
     "name": "stdout",
     "output_type": "stream",
     "text": [
      "[CV] END ................................ score: (test=0.648) total time=   0.3s\n",
      "[CV] END ................................ score: (test=0.664) total time=   0.3s\n",
      "[CV] END ................................ score: (test=0.643) total time=   0.3s\n",
      "[CV] START .....................................................................\n",
      "[CV] START .....................................................................\n",
      "[CV] START .....................................................................\n"
     ]
    },
    {
     "name": "stderr",
     "output_type": "stream",
     "text": [
      "[Parallel(n_jobs=-1)]: Using backend LokyBackend with 64 concurrent workers.\n",
      "[Parallel(n_jobs=-1)]: Done   3 out of   3 | elapsed:    0.2s finished\n",
      "[I 2024-09-30 13:10:50,171] Trial 121 finished with value: 0.6608999232256759 and parameters: {'max_depth': 3, 'min_samples_split': 5, 'min_samples_leaf': 21, 'max_features': None}. Best is trial 40 with value: 0.6608999232256759.\n"
     ]
    },
    {
     "name": "stdout",
     "output_type": "stream",
     "text": [
      "[CV] END ................................ score: (test=0.667) total time=   0.2s\n",
      "[CV] END ................................ score: (test=0.654) total time=   0.2s\n",
      "[CV] END ................................ score: (test=0.662) total time=   0.2s\n",
      "[CV] START .....................................................................\n",
      "[CV] START .....................................................................\n",
      "[CV] START .....................................................................\n"
     ]
    },
    {
     "name": "stderr",
     "output_type": "stream",
     "text": [
      "[Parallel(n_jobs=-1)]: Using backend LokyBackend with 64 concurrent workers.\n",
      "[Parallel(n_jobs=-1)]: Done   3 out of   3 | elapsed:    0.3s finished\n",
      "[I 2024-09-30 13:10:50,605] Trial 122 finished with value: 0.6569003631016971 and parameters: {'max_depth': 4, 'min_samples_split': 5, 'min_samples_leaf': 20, 'max_features': None}. Best is trial 40 with value: 0.6608999232256759.\n"
     ]
    },
    {
     "name": "stdout",
     "output_type": "stream",
     "text": [
      "[CV] END ................................ score: (test=0.653) total time=   0.3s\n",
      "[CV] END ................................ score: (test=0.666) total time=   0.3s\n",
      "[CV] END ................................ score: (test=0.651) total time=   0.3s\n",
      "[CV] START .....................................................................\n",
      "[CV] START .....................................................................\n",
      "[CV] START .....................................................................\n"
     ]
    },
    {
     "name": "stderr",
     "output_type": "stream",
     "text": [
      "[Parallel(n_jobs=-1)]: Using backend LokyBackend with 64 concurrent workers.\n",
      "[Parallel(n_jobs=-1)]: Batch computation too fast (0.17061185836791992s.) Setting batch_size=2.\n",
      "[Parallel(n_jobs=-1)]: Done   3 out of   3 | elapsed:    0.2s finished\n",
      "[I 2024-09-30 13:10:50,918] Trial 123 finished with value: 0.6556000531066905 and parameters: {'max_depth': 2, 'min_samples_split': 3, 'min_samples_leaf': 21, 'max_features': None}. Best is trial 40 with value: 0.6608999232256759.\n"
     ]
    },
    {
     "name": "stdout",
     "output_type": "stream",
     "text": [
      "[CV] END ................................ score: (test=0.655) total time=   0.2s\n",
      "[CV] END ................................ score: (test=0.647) total time=   0.2s\n",
      "[CV] END ................................ score: (test=0.664) total time=   0.2s\n",
      "[CV] START .....................................................................\n",
      "[CV] START .....................................................................\n",
      "[CV] START .....................................................................\n"
     ]
    },
    {
     "name": "stderr",
     "output_type": "stream",
     "text": [
      "[Parallel(n_jobs=-1)]: Using backend LokyBackend with 64 concurrent workers.\n",
      "[Parallel(n_jobs=-1)]: Done   3 out of   3 | elapsed:    0.7s finished\n",
      "[I 2024-09-30 13:10:51,716] Trial 124 finished with value: 0.6073004121047978 and parameters: {'max_depth': 21, 'min_samples_split': 6, 'min_samples_leaf': 16, 'max_features': None}. Best is trial 40 with value: 0.6608999232256759.\n"
     ]
    },
    {
     "name": "stdout",
     "output_type": "stream",
     "text": [
      "[CV] END ................................ score: (test=0.603) total time=   0.6s\n",
      "[CV] END ................................ score: (test=0.618) total time=   0.6s\n",
      "[CV] END ................................ score: (test=0.601) total time=   0.6s\n",
      "[CV] START .....................................................................\n",
      "[CV] START .....................................................................\n",
      "[CV] START .....................................................................\n"
     ]
    },
    {
     "name": "stderr",
     "output_type": "stream",
     "text": [
      "[Parallel(n_jobs=-1)]: Using backend LokyBackend with 64 concurrent workers.\n",
      "[Parallel(n_jobs=-1)]: Batch computation too fast (0.1674048900604248s.) Setting batch_size=2.\n",
      "[Parallel(n_jobs=-1)]: Done   3 out of   3 | elapsed:    0.2s finished\n",
      "[I 2024-09-30 13:10:52,021] Trial 125 finished with value: 0.6556000531066905 and parameters: {'max_depth': 2, 'min_samples_split': 4, 'min_samples_leaf': 19, 'max_features': None}. Best is trial 40 with value: 0.6608999232256759.\n"
     ]
    },
    {
     "name": "stdout",
     "output_type": "stream",
     "text": [
      "[CV] END ................................ score: (test=0.655) total time=   0.2s\n",
      "[CV] END ................................ score: (test=0.647) total time=   0.2s\n",
      "[CV] END ................................ score: (test=0.664) total time=   0.2s\n",
      "[CV] START .....................................................................\n",
      "[CV] START .....................................................................\n",
      "[CV] START .....................................................................\n"
     ]
    },
    {
     "name": "stderr",
     "output_type": "stream",
     "text": [
      "[Parallel(n_jobs=-1)]: Using backend LokyBackend with 64 concurrent workers.\n",
      "[Parallel(n_jobs=-1)]: Done   3 out of   3 | elapsed:    0.2s finished\n",
      "[I 2024-09-30 13:10:52,395] Trial 126 finished with value: 0.6608999232256759 and parameters: {'max_depth': 3, 'min_samples_split': 6, 'min_samples_leaf': 23, 'max_features': None}. Best is trial 40 with value: 0.6608999232256759.\n"
     ]
    },
    {
     "name": "stdout",
     "output_type": "stream",
     "text": [
      "[CV] END ................................ score: (test=0.662) total time=   0.2s\n",
      "[CV] END ................................ score: (test=0.654) total time=   0.2s\n",
      "[CV] END ................................ score: (test=0.667) total time=   0.2s\n",
      "[CV] START .....................................................................\n",
      "[CV] START .....................................................................\n",
      "[CV] START .....................................................................\n"
     ]
    },
    {
     "name": "stderr",
     "output_type": "stream",
     "text": [
      "[Parallel(n_jobs=-1)]: Using backend LokyBackend with 64 concurrent workers.\n",
      "[Parallel(n_jobs=-1)]: Done   3 out of   3 | elapsed:    0.2s finished\n",
      "[I 2024-09-30 13:10:52,770] Trial 127 finished with value: 0.6608999232256759 and parameters: {'max_depth': 3, 'min_samples_split': 2, 'min_samples_leaf': 20, 'max_features': None}. Best is trial 40 with value: 0.6608999232256759.\n"
     ]
    },
    {
     "name": "stdout",
     "output_type": "stream",
     "text": [
      "[CV] END ................................ score: (test=0.662) total time=   0.2s\n",
      "[CV] END ................................ score: (test=0.667) total time=   0.2s\n",
      "[CV] END ................................ score: (test=0.654) total time=   0.2s\n",
      "[CV] START .....................................................................\n",
      "[CV] START .....................................................................\n",
      "[CV] START .....................................................................\n",
      "[CV] END ................................ score: (test=0.638) total time=   0.0s\n",
      "[CV] END ................................ score: (test=0.654) total time=   0.0s\n",
      "[CV] END ................................ score: (test=0.639) total time=   0.0s\n"
     ]
    },
    {
     "name": "stderr",
     "output_type": "stream",
     "text": [
      "[Parallel(n_jobs=-1)]: Using backend LokyBackend with 64 concurrent workers.\n",
      "[Parallel(n_jobs=-1)]: Batch computation too fast (0.04999399185180664s.) Setting batch_size=2.\n",
      "[Parallel(n_jobs=-1)]: Done   3 out of   3 | elapsed:    0.1s finished\n",
      "[I 2024-09-30 13:10:52,953] Trial 128 finished with value: 0.6439005628217291 and parameters: {'max_depth': 4, 'min_samples_split': 7, 'min_samples_leaf': 22, 'max_features': 'log2'}. Best is trial 40 with value: 0.6608999232256759.\n",
      "[Parallel(n_jobs=-1)]: Using backend LokyBackend with 64 concurrent workers.\n"
     ]
    },
    {
     "name": "stdout",
     "output_type": "stream",
     "text": [
      "[CV] START .....................................................................\n",
      "[CV] START .....................................................................\n",
      "[CV] START .....................................................................\n"
     ]
    },
    {
     "name": "stderr",
     "output_type": "stream",
     "text": [
      "[Parallel(n_jobs=-1)]: Done   3 out of   3 | elapsed:    0.3s finished\n",
      "[I 2024-09-30 13:10:53,420] Trial 129 finished with value: 0.6569003631016971 and parameters: {'max_depth': 4, 'min_samples_split': 8, 'min_samples_leaf': 14, 'max_features': None}. Best is trial 40 with value: 0.6608999232256759.\n"
     ]
    },
    {
     "name": "stdout",
     "output_type": "stream",
     "text": [
      "[CV] END ................................ score: (test=0.666) total time=   0.3s\n",
      "[CV] END ................................ score: (test=0.651) total time=   0.3s\n",
      "[CV] END ................................ score: (test=0.653) total time=   0.3s\n",
      "[CV] START .....................................................................\n",
      "[CV] START .....................................................................\n",
      "[CV] START .....................................................................\n"
     ]
    },
    {
     "name": "stderr",
     "output_type": "stream",
     "text": [
      "[Parallel(n_jobs=-1)]: Using backend LokyBackend with 64 concurrent workers.\n",
      "[Parallel(n_jobs=-1)]: Done   3 out of   3 | elapsed:    0.2s finished\n",
      "[I 2024-09-30 13:10:53,794] Trial 130 finished with value: 0.6608999232256759 and parameters: {'max_depth': 3, 'min_samples_split': 5, 'min_samples_leaf': 24, 'max_features': None}. Best is trial 40 with value: 0.6608999232256759.\n"
     ]
    },
    {
     "name": "stdout",
     "output_type": "stream",
     "text": [
      "[CV] END ................................ score: (test=0.662) total time=   0.2s\n",
      "[CV] END ................................ score: (test=0.667) total time=   0.2s\n",
      "[CV] END ................................ score: (test=0.654) total time=   0.2s\n",
      "[CV] START .....................................................................\n",
      "[CV] START .....................................................................\n",
      "[CV] START .....................................................................\n"
     ]
    },
    {
     "name": "stderr",
     "output_type": "stream",
     "text": [
      "[Parallel(n_jobs=-1)]: Using backend LokyBackend with 64 concurrent workers.\n",
      "[Parallel(n_jobs=-1)]: Done   3 out of   3 | elapsed:    0.2s finished\n",
      "[I 2024-09-30 13:10:54,159] Trial 131 finished with value: 0.6608999232256759 and parameters: {'max_depth': 3, 'min_samples_split': 7, 'min_samples_leaf': 21, 'max_features': None}. Best is trial 40 with value: 0.6608999232256759.\n"
     ]
    },
    {
     "name": "stdout",
     "output_type": "stream",
     "text": [
      "[CV] END ................................ score: (test=0.667) total time=   0.2s\n",
      "[CV] END ................................ score: (test=0.662) total time=   0.2s\n",
      "[CV] END ................................ score: (test=0.654) total time=   0.2s\n",
      "[CV] START .....................................................................\n",
      "[CV] START .....................................................................\n",
      "[CV] START .....................................................................\n"
     ]
    },
    {
     "name": "stderr",
     "output_type": "stream",
     "text": [
      "[Parallel(n_jobs=-1)]: Using backend LokyBackend with 64 concurrent workers.\n",
      "[Parallel(n_jobs=-1)]: Batch computation too fast (0.1658933162689209s.) Setting batch_size=2.\n",
      "[Parallel(n_jobs=-1)]: Done   3 out of   3 | elapsed:    0.2s finished\n",
      "[I 2024-09-30 13:10:54,463] Trial 132 finished with value: 0.6556000531066905 and parameters: {'max_depth': 2, 'min_samples_split': 9, 'min_samples_leaf': 20, 'max_features': None}. Best is trial 40 with value: 0.6608999232256759.\n"
     ]
    },
    {
     "name": "stdout",
     "output_type": "stream",
     "text": [
      "[CV] END ................................ score: (test=0.664) total time=   0.2s\n",
      "[CV] END ................................ score: (test=0.655) total time=   0.2s\n",
      "[CV] END ................................ score: (test=0.647) total time=   0.2s\n",
      "[CV] START .....................................................................\n",
      "[CV] START .....................................................................\n",
      "[CV] START .....................................................................\n"
     ]
    },
    {
     "name": "stderr",
     "output_type": "stream",
     "text": [
      "[Parallel(n_jobs=-1)]: Using backend LokyBackend with 64 concurrent workers.\n",
      "[Parallel(n_jobs=-1)]: Done   3 out of   3 | elapsed:    0.3s finished\n",
      "[I 2024-09-30 13:10:54,888] Trial 133 finished with value: 0.6569003631016971 and parameters: {'max_depth': 4, 'min_samples_split': 6, 'min_samples_leaf': 21, 'max_features': None}. Best is trial 40 with value: 0.6608999232256759.\n"
     ]
    },
    {
     "name": "stdout",
     "output_type": "stream",
     "text": [
      "[CV] END ................................ score: (test=0.653) total time=   0.3s\n",
      "[CV] END ................................ score: (test=0.666) total time=   0.3s\n",
      "[CV] END ................................ score: (test=0.651) total time=   0.3s\n",
      "[CV] START .....................................................................\n",
      "[CV] START .....................................................................\n",
      "[CV] START .....................................................................\n"
     ]
    },
    {
     "name": "stderr",
     "output_type": "stream",
     "text": [
      "[Parallel(n_jobs=-1)]: Using backend LokyBackend with 64 concurrent workers.\n",
      "[Parallel(n_jobs=-1)]: Batch computation too fast (0.1687304973602295s.) Setting batch_size=2.\n",
      "[Parallel(n_jobs=-1)]: Done   3 out of   3 | elapsed:    0.2s finished\n",
      "[I 2024-09-30 13:10:55,232] Trial 134 finished with value: 0.6556000531066905 and parameters: {'max_depth': 2, 'min_samples_split': 8, 'min_samples_leaf': 19, 'max_features': None}. Best is trial 40 with value: 0.6608999232256759.\n"
     ]
    },
    {
     "name": "stdout",
     "output_type": "stream",
     "text": [
      "[CV] END ................................ score: (test=0.647) total time=   0.2s\n",
      "[CV] END ................................ score: (test=0.664) total time=   0.2s\n",
      "[CV] END ................................ score: (test=0.655) total time=   0.2s\n",
      "[CV] START .....................................................................\n",
      "[CV] START .....................................................................\n",
      "[CV] START .....................................................................\n"
     ]
    },
    {
     "name": "stderr",
     "output_type": "stream",
     "text": [
      "[Parallel(n_jobs=-1)]: Using backend LokyBackend with 64 concurrent workers.\n",
      "[Parallel(n_jobs=-1)]: Done   3 out of   3 | elapsed:    0.2s finished\n",
      "[I 2024-09-30 13:10:55,598] Trial 135 finished with value: 0.6608999232256759 and parameters: {'max_depth': 3, 'min_samples_split': 7, 'min_samples_leaf': 21, 'max_features': None}. Best is trial 40 with value: 0.6608999232256759.\n"
     ]
    },
    {
     "name": "stdout",
     "output_type": "stream",
     "text": [
      "[CV] END ................................ score: (test=0.662) total time=   0.2s\n",
      "[CV] END ................................ score: (test=0.667) total time=   0.2s\n",
      "[CV] END ................................ score: (test=0.654) total time=   0.2s\n",
      "[CV] START .....................................................................\n",
      "[CV] START .....................................................................\n",
      "[CV] START .....................................................................\n"
     ]
    },
    {
     "name": "stderr",
     "output_type": "stream",
     "text": [
      "[Parallel(n_jobs=-1)]: Using backend LokyBackend with 64 concurrent workers.\n",
      "[Parallel(n_jobs=-1)]: Done   3 out of   3 | elapsed:    0.4s finished\n",
      "[I 2024-09-30 13:10:56,085] Trial 136 finished with value: 0.6496001429777051 and parameters: {'max_depth': 5, 'min_samples_split': 5, 'min_samples_leaf': 22, 'max_features': None}. Best is trial 40 with value: 0.6608999232256759.\n"
     ]
    },
    {
     "name": "stdout",
     "output_type": "stream",
     "text": [
      "[CV] END ................................ score: (test=0.648) total time=   0.3s\n",
      "[CV] END ................................ score: (test=0.645) total time=   0.3s\n",
      "[CV] END ................................ score: (test=0.656) total time=   0.3s\n",
      "[CV] START .....................................................................\n",
      "[CV] START .....................................................................\n",
      "[CV] START .....................................................................\n"
     ]
    },
    {
     "name": "stderr",
     "output_type": "stream",
     "text": [
      "[Parallel(n_jobs=-1)]: Using backend LokyBackend with 64 concurrent workers.\n",
      "[Parallel(n_jobs=-1)]: Done   3 out of   3 | elapsed:    0.2s finished\n",
      "[I 2024-09-30 13:10:56,460] Trial 137 finished with value: 0.6608999232256759 and parameters: {'max_depth': 3, 'min_samples_split': 7, 'min_samples_leaf': 19, 'max_features': None}. Best is trial 40 with value: 0.6608999232256759.\n"
     ]
    },
    {
     "name": "stdout",
     "output_type": "stream",
     "text": [
      "[CV] END ................................ score: (test=0.667) total time=   0.2s\n",
      "[CV] END ................................ score: (test=0.654) total time=   0.2s\n",
      "[CV] END ................................ score: (test=0.662) total time=   0.2s\n",
      "[CV] START .....................................................................\n",
      "[CV] START .....................................................................\n",
      "[CV] START .....................................................................\n"
     ]
    },
    {
     "name": "stderr",
     "output_type": "stream",
     "text": [
      "[Parallel(n_jobs=-1)]: Using backend LokyBackend with 64 concurrent workers.\n",
      "[Parallel(n_jobs=-1)]: Done   3 out of   3 | elapsed:    0.6s finished\n",
      "[I 2024-09-30 13:10:57,169] Trial 138 finished with value: 0.6128997422837664 and parameters: {'max_depth': 15, 'min_samples_split': 13, 'min_samples_leaf': 22, 'max_features': None}. Best is trial 40 with value: 0.6608999232256759.\n"
     ]
    },
    {
     "name": "stdout",
     "output_type": "stream",
     "text": [
      "[CV] END ................................ score: (test=0.615) total time=   0.5s\n",
      "[CV] END ................................ score: (test=0.605) total time=   0.5s\n",
      "[CV] END ................................ score: (test=0.618) total time=   0.6s\n",
      "[CV] START .....................................................................\n",
      "[CV] START .....................................................................\n",
      "[CV] START .....................................................................\n"
     ]
    },
    {
     "name": "stderr",
     "output_type": "stream",
     "text": [
      "[Parallel(n_jobs=-1)]: Using backend LokyBackend with 64 concurrent workers.\n",
      "[Parallel(n_jobs=-1)]: Done   3 out of   3 | elapsed:    0.3s finished\n",
      "[I 2024-09-30 13:10:57,618] Trial 139 finished with value: 0.6573004031056975 and parameters: {'max_depth': 4, 'min_samples_split': 6, 'min_samples_leaf': 23, 'max_features': None}. Best is trial 40 with value: 0.6608999232256759.\n"
     ]
    },
    {
     "name": "stdout",
     "output_type": "stream",
     "text": [
      "[CV] END ................................ score: (test=0.653) total time=   0.3s\n",
      "[CV] END ................................ score: (test=0.651) total time=   0.3s\n",
      "[CV] END ................................ score: (test=0.667) total time=   0.3s\n",
      "[CV] START .....................................................................\n",
      "[CV] START .....................................................................\n",
      "[CV] START .....................................................................\n"
     ]
    },
    {
     "name": "stderr",
     "output_type": "stream",
     "text": [
      "[Parallel(n_jobs=-1)]: Using backend LokyBackend with 64 concurrent workers.\n",
      "[Parallel(n_jobs=-1)]: Batch computation too fast (0.16256499290466309s.) Setting batch_size=2.\n",
      "[Parallel(n_jobs=-1)]: Done   3 out of   3 | elapsed:    0.2s finished\n",
      "[I 2024-09-30 13:10:57,932] Trial 140 finished with value: 0.6556000531066905 and parameters: {'max_depth': 2, 'min_samples_split': 9, 'min_samples_leaf': 18, 'max_features': None}. Best is trial 40 with value: 0.6608999232256759.\n"
     ]
    },
    {
     "name": "stdout",
     "output_type": "stream",
     "text": [
      "[CV] END ................................ score: (test=0.664) total time=   0.1s\n",
      "[CV] END ................................ score: (test=0.655) total time=   0.2s\n",
      "[CV] END ................................ score: (test=0.647) total time=   0.2s\n",
      "[CV] START .....................................................................\n",
      "[CV] START .....................................................................\n",
      "[CV] START .....................................................................\n"
     ]
    },
    {
     "name": "stderr",
     "output_type": "stream",
     "text": [
      "[Parallel(n_jobs=-1)]: Using backend LokyBackend with 64 concurrent workers.\n",
      "[Parallel(n_jobs=-1)]: Done   3 out of   3 | elapsed:    0.2s finished\n",
      "[I 2024-09-30 13:10:58,309] Trial 141 finished with value: 0.6608999232256759 and parameters: {'max_depth': 3, 'min_samples_split': 7, 'min_samples_leaf': 21, 'max_features': None}. Best is trial 40 with value: 0.6608999232256759.\n"
     ]
    },
    {
     "name": "stdout",
     "output_type": "stream",
     "text": [
      "[CV] END ................................ score: (test=0.662) total time=   0.2s\n",
      "[CV] END ................................ score: (test=0.654) total time=   0.2s\n",
      "[CV] END ................................ score: (test=0.667) total time=   0.2s\n",
      "[CV] START .....................................................................\n",
      "[CV] START .....................................................................\n",
      "[CV] START .....................................................................\n"
     ]
    },
    {
     "name": "stderr",
     "output_type": "stream",
     "text": [
      "[Parallel(n_jobs=-1)]: Using backend LokyBackend with 64 concurrent workers.\n",
      "[Parallel(n_jobs=-1)]: Done   3 out of   3 | elapsed:    0.3s finished\n",
      "[I 2024-09-30 13:10:58,746] Trial 142 finished with value: 0.6573004031056975 and parameters: {'max_depth': 4, 'min_samples_split': 8, 'min_samples_leaf': 23, 'max_features': None}. Best is trial 40 with value: 0.6608999232256759.\n"
     ]
    },
    {
     "name": "stdout",
     "output_type": "stream",
     "text": [
      "[CV] END ................................ score: (test=0.653) total time=   0.3s\n",
      "[CV] END ................................ score: (test=0.651) total time=   0.3s\n",
      "[CV] END ................................ score: (test=0.667) total time=   0.3s\n",
      "[CV] START .....................................................................\n",
      "[CV] START .....................................................................\n",
      "[CV] START .....................................................................\n"
     ]
    },
    {
     "name": "stderr",
     "output_type": "stream",
     "text": [
      "[Parallel(n_jobs=-1)]: Using backend LokyBackend with 64 concurrent workers.\n",
      "[Parallel(n_jobs=-1)]: Batch computation too fast (0.17086100578308105s.) Setting batch_size=2.\n",
      "[Parallel(n_jobs=-1)]: Done   3 out of   3 | elapsed:    0.2s finished\n",
      "[I 2024-09-30 13:10:59,061] Trial 143 finished with value: 0.6556000531066905 and parameters: {'max_depth': 2, 'min_samples_split': 7, 'min_samples_leaf': 22, 'max_features': None}. Best is trial 40 with value: 0.6608999232256759.\n"
     ]
    },
    {
     "name": "stdout",
     "output_type": "stream",
     "text": [
      "[CV] END ................................ score: (test=0.655) total time=   0.2s\n",
      "[CV] END ................................ score: (test=0.664) total time=   0.2s\n",
      "[CV] END ................................ score: (test=0.647) total time=   0.2s\n",
      "[CV] START .....................................................................\n",
      "[CV] START .....................................................................\n",
      "[CV] START .....................................................................\n"
     ]
    },
    {
     "name": "stderr",
     "output_type": "stream",
     "text": [
      "[Parallel(n_jobs=-1)]: Using backend LokyBackend with 64 concurrent workers.\n",
      "[Parallel(n_jobs=-1)]: Done   3 out of   3 | elapsed:    0.2s finished\n",
      "[I 2024-09-30 13:10:59,429] Trial 144 finished with value: 0.6608999232256759 and parameters: {'max_depth': 3, 'min_samples_split': 6, 'min_samples_leaf': 20, 'max_features': None}. Best is trial 40 with value: 0.6608999232256759.\n"
     ]
    },
    {
     "name": "stdout",
     "output_type": "stream",
     "text": [
      "[CV] END ................................ score: (test=0.662) total time=   0.2s\n",
      "[CV] END ................................ score: (test=0.654) total time=   0.2s\n",
      "[CV] END ................................ score: (test=0.667) total time=   0.2s\n",
      "[CV] START .....................................................................\n",
      "[CV] START .....................................................................\n",
      "[CV] START .....................................................................\n"
     ]
    },
    {
     "name": "stderr",
     "output_type": "stream",
     "text": [
      "[Parallel(n_jobs=-1)]: Using backend LokyBackend with 64 concurrent workers.\n",
      "[Parallel(n_jobs=-1)]: Done   3 out of   3 | elapsed:    0.3s finished\n",
      "[I 2024-09-30 13:10:59,877] Trial 145 finished with value: 0.6608999232256759 and parameters: {'max_depth': 3, 'min_samples_split': 6, 'min_samples_leaf': 24, 'max_features': None}. Best is trial 40 with value: 0.6608999232256759.\n"
     ]
    },
    {
     "name": "stdout",
     "output_type": "stream",
     "text": [
      "[CV] END ................................ score: (test=0.667) total time=   0.2s\n",
      "[CV] END ................................ score: (test=0.654) total time=   0.3s\n",
      "[CV] END ................................ score: (test=0.662) total time=   0.3s\n"
     ]
    },
    {
     "name": "stderr",
     "output_type": "stream",
     "text": [
      "[Parallel(n_jobs=-1)]: Using backend LokyBackend with 64 concurrent workers.\n"
     ]
    },
    {
     "name": "stdout",
     "output_type": "stream",
     "text": [
      "[CV] START .....................................................................\n",
      "[CV] START .....................................................................\n",
      "[CV] START .....................................................................\n"
     ]
    },
    {
     "name": "stderr",
     "output_type": "stream",
     "text": [
      "[Parallel(n_jobs=-1)]: Done   3 out of   3 | elapsed:    0.6s finished\n",
      "[I 2024-09-30 13:11:00,618] Trial 146 finished with value: 0.6133997622917661 and parameters: {'max_depth': 18, 'min_samples_split': 7, 'min_samples_leaf': 21, 'max_features': None}. Best is trial 40 with value: 0.6608999232256759.\n"
     ]
    },
    {
     "name": "stdout",
     "output_type": "stream",
     "text": [
      "[CV] END ................................ score: (test=0.616) total time=   0.5s\n",
      "[CV] END ................................ score: (test=0.605) total time=   0.5s\n",
      "[CV] END ................................ score: (test=0.620) total time=   0.6s\n",
      "[CV] START .....................................................................\n",
      "[CV] START .....................................................................\n",
      "[CV] START .....................................................................\n"
     ]
    },
    {
     "name": "stderr",
     "output_type": "stream",
     "text": [
      "[Parallel(n_jobs=-1)]: Using backend LokyBackend with 64 concurrent workers.\n",
      "[Parallel(n_jobs=-1)]: Done   3 out of   3 | elapsed:    0.3s finished\n",
      "[I 2024-09-30 13:11:01,056] Trial 147 finished with value: 0.6568003531006971 and parameters: {'max_depth': 4, 'min_samples_split': 8, 'min_samples_leaf': 15, 'max_features': None}. Best is trial 40 with value: 0.6608999232256759.\n"
     ]
    },
    {
     "name": "stdout",
     "output_type": "stream",
     "text": [
      "[CV] END ................................ score: (test=0.666) total time=   0.3s\n",
      "[CV] END ................................ score: (test=0.653) total time=   0.3s\n",
      "[CV] END ................................ score: (test=0.651) total time=   0.3s\n",
      "[CV] START .....................................................................\n",
      "[CV] START .....................................................................\n",
      "[CV] START .....................................................................\n"
     ]
    },
    {
     "name": "stderr",
     "output_type": "stream",
     "text": [
      "[Parallel(n_jobs=-1)]: Using backend LokyBackend with 64 concurrent workers.\n",
      "[Parallel(n_jobs=-1)]: Done   3 out of   3 | elapsed:    0.2s finished\n",
      "[I 2024-09-30 13:11:01,422] Trial 148 finished with value: 0.6608999232256759 and parameters: {'max_depth': 3, 'min_samples_split': 5, 'min_samples_leaf': 20, 'max_features': None}. Best is trial 40 with value: 0.6608999232256759.\n"
     ]
    },
    {
     "name": "stdout",
     "output_type": "stream",
     "text": [
      "[CV] END ................................ score: (test=0.662) total time=   0.2s\n",
      "[CV] END ................................ score: (test=0.667) total time=   0.2s\n",
      "[CV] END ................................ score: (test=0.654) total time=   0.2s\n",
      "[CV] START .....................................................................\n",
      "[CV] START .....................................................................\n",
      "[CV] START .....................................................................\n",
      "[CV] END ................................ score: (test=0.650) total time=   0.0s\n",
      "[CV] END ................................ score: (test=0.650) total time=   0.0s\n",
      "[CV] END ................................ score: (test=0.650) total time=   0.0s\n"
     ]
    },
    {
     "name": "stderr",
     "output_type": "stream",
     "text": [
      "[Parallel(n_jobs=-1)]: Using backend LokyBackend with 64 concurrent workers.\n",
      "[Parallel(n_jobs=-1)]: Batch computation too fast (0.04059624671936035s.) Setting batch_size=2.\n",
      "[Parallel(n_jobs=-1)]: Done   3 out of   3 | elapsed:    0.0s finished\n",
      "[I 2024-09-30 13:11:01,604] Trial 149 finished with value: 0.6500999830036993 and parameters: {'max_depth': 2, 'min_samples_split': 9, 'min_samples_leaf': 22, 'max_features': 'log2'}. Best is trial 40 with value: 0.6608999232256759.\n",
      "[Parallel(n_jobs=-1)]: Using backend LokyBackend with 64 concurrent workers.\n"
     ]
    },
    {
     "name": "stdout",
     "output_type": "stream",
     "text": [
      "[CV] START .....................................................................\n",
      "[CV] START .....................................................................\n",
      "[CV] START .....................................................................\n"
     ]
    },
    {
     "name": "stderr",
     "output_type": "stream",
     "text": [
      "[Parallel(n_jobs=-1)]: Done   3 out of   3 | elapsed:    0.4s finished\n",
      "[I 2024-09-30 13:11:02,102] Trial 150 finished with value: 0.6523004130047078 and parameters: {'max_depth': 5, 'min_samples_split': 4, 'min_samples_leaf': 18, 'max_features': None}. Best is trial 40 with value: 0.6608999232256759.\n"
     ]
    },
    {
     "name": "stdout",
     "output_type": "stream",
     "text": [
      "[CV] END ................................ score: (test=0.645) total time=   0.3s\n",
      "[CV] END ................................ score: (test=0.648) total time=   0.3s\n",
      "[CV] END ................................ score: (test=0.664) total time=   0.3s\n",
      "[CV] START .....................................................................\n",
      "[CV] START .....................................................................\n",
      "[CV] START .....................................................................\n"
     ]
    },
    {
     "name": "stderr",
     "output_type": "stream",
     "text": [
      "[Parallel(n_jobs=-1)]: Using backend LokyBackend with 64 concurrent workers.\n",
      "[Parallel(n_jobs=-1)]: Done   3 out of   3 | elapsed:    0.2s finished\n",
      "[I 2024-09-30 13:11:02,466] Trial 151 finished with value: 0.6608999232256759 and parameters: {'max_depth': 3, 'min_samples_split': 8, 'min_samples_leaf': 19, 'max_features': None}. Best is trial 40 with value: 0.6608999232256759.\n"
     ]
    },
    {
     "name": "stdout",
     "output_type": "stream",
     "text": [
      "[CV] END ................................ score: (test=0.654) total time=   0.2s\n",
      "[CV] END ................................ score: (test=0.667) total time=   0.2s\n",
      "[CV] END ................................ score: (test=0.662) total time=   0.2s\n",
      "[CV] START .....................................................................\n",
      "[CV] START .....................................................................\n",
      "[CV] START .....................................................................\n"
     ]
    },
    {
     "name": "stderr",
     "output_type": "stream",
     "text": [
      "[Parallel(n_jobs=-1)]: Using backend LokyBackend with 64 concurrent workers.\n",
      "[Parallel(n_jobs=-1)]: Done   3 out of   3 | elapsed:    0.3s finished\n",
      "[I 2024-09-30 13:11:02,892] Trial 152 finished with value: 0.6569003631016971 and parameters: {'max_depth': 4, 'min_samples_split': 8, 'min_samples_leaf': 20, 'max_features': None}. Best is trial 40 with value: 0.6608999232256759.\n"
     ]
    },
    {
     "name": "stdout",
     "output_type": "stream",
     "text": [
      "[CV] END ................................ score: (test=0.653) total time=   0.3s\n",
      "[CV] END ................................ score: (test=0.666) total time=   0.3s\n",
      "[CV] END ................................ score: (test=0.651) total time=   0.3s\n",
      "[CV] START .....................................................................\n",
      "[CV] START .....................................................................\n",
      "[CV] START .....................................................................\n"
     ]
    },
    {
     "name": "stderr",
     "output_type": "stream",
     "text": [
      "[Parallel(n_jobs=-1)]: Using backend LokyBackend with 64 concurrent workers.\n",
      "[Parallel(n_jobs=-1)]: Done   3 out of   3 | elapsed:    0.3s finished\n",
      "[I 2024-09-30 13:11:03,287] Trial 153 finished with value: 0.6608999232256759 and parameters: {'max_depth': 3, 'min_samples_split': 7, 'min_samples_leaf': 21, 'max_features': None}. Best is trial 40 with value: 0.6608999232256759.\n"
     ]
    },
    {
     "name": "stdout",
     "output_type": "stream",
     "text": [
      "[CV] END ................................ score: (test=0.667) total time=   0.2s\n",
      "[CV] END ................................ score: (test=0.654) total time=   0.2s\n",
      "[CV] END ................................ score: (test=0.662) total time=   0.2s\n",
      "[CV] START .....................................................................\n",
      "[CV] START .....................................................................\n",
      "[CV] START .....................................................................\n"
     ]
    },
    {
     "name": "stderr",
     "output_type": "stream",
     "text": [
      "[Parallel(n_jobs=-1)]: Using backend LokyBackend with 64 concurrent workers.\n",
      "[Parallel(n_jobs=-1)]: Done   3 out of   3 | elapsed:    0.6s finished\n",
      "[I 2024-09-30 13:11:03,926] Trial 154 finished with value: 0.6154997923307627 and parameters: {'max_depth': 24, 'min_samples_split': 10, 'min_samples_leaf': 19, 'max_features': None}. Best is trial 40 with value: 0.6608999232256759.\n"
     ]
    },
    {
     "name": "stdout",
     "output_type": "stream",
     "text": [
      "[CV] END ................................ score: (test=0.618) total time=   0.6s\n",
      "[CV] END ................................ score: (test=0.611) total time=   0.6s\n",
      "[CV] END ................................ score: (test=0.618) total time=   0.6s\n",
      "[CV] START .....................................................................\n",
      "[CV] START .....................................................................\n",
      "[CV] START .....................................................................\n"
     ]
    },
    {
     "name": "stderr",
     "output_type": "stream",
     "text": [
      "[Parallel(n_jobs=-1)]: Using backend LokyBackend with 64 concurrent workers.\n",
      "[Parallel(n_jobs=-1)]: Batch computation too fast (0.16694974899291992s.) Setting batch_size=2.\n",
      "[Parallel(n_jobs=-1)]: Done   3 out of   3 | elapsed:    0.2s finished\n",
      "[I 2024-09-30 13:11:04,231] Trial 155 finished with value: 0.6556000531066905 and parameters: {'max_depth': 2, 'min_samples_split': 8, 'min_samples_leaf': 13, 'max_features': None}. Best is trial 40 with value: 0.6608999232256759.\n"
     ]
    },
    {
     "name": "stdout",
     "output_type": "stream",
     "text": [
      "[CV] END ................................ score: (test=0.655) total time=   0.2s\n",
      "[CV] END ................................ score: (test=0.647) total time=   0.2s\n",
      "[CV] END ................................ score: (test=0.664) total time=   0.2s\n",
      "[CV] START .....................................................................\n",
      "[CV] START .....................................................................\n",
      "[CV] START .....................................................................\n"
     ]
    },
    {
     "name": "stderr",
     "output_type": "stream",
     "text": [
      "[Parallel(n_jobs=-1)]: Using backend LokyBackend with 64 concurrent workers.\n",
      "[Parallel(n_jobs=-1)]: Done   3 out of   3 | elapsed:    0.2s finished\n",
      "[I 2024-09-30 13:11:04,606] Trial 156 finished with value: 0.6608999232256759 and parameters: {'max_depth': 3, 'min_samples_split': 9, 'min_samples_leaf': 21, 'max_features': None}. Best is trial 40 with value: 0.6608999232256759.\n"
     ]
    },
    {
     "name": "stdout",
     "output_type": "stream",
     "text": [
      "[CV] END ................................ score: (test=0.662) total time=   0.2s\n",
      "[CV] END ................................ score: (test=0.667) total time=   0.2s[CV] END ................................ score: (test=0.654) total time=   0.2s\n",
      "\n",
      "[CV] START .....................................................................\n",
      "[CV] START .....................................................................\n",
      "[CV] START .....................................................................\n"
     ]
    },
    {
     "name": "stderr",
     "output_type": "stream",
     "text": [
      "[Parallel(n_jobs=-1)]: Using backend LokyBackend with 64 concurrent workers.\n",
      "[Parallel(n_jobs=-1)]: Done   3 out of   3 | elapsed:    0.5s finished\n",
      "[I 2024-09-30 13:11:05,295] Trial 157 finished with value: 0.6193000523807629 and parameters: {'max_depth': 10, 'min_samples_split': 6, 'min_samples_leaf': 20, 'max_features': None}. Best is trial 40 with value: 0.6608999232256759.\n"
     ]
    },
    {
     "name": "stdout",
     "output_type": "stream",
     "text": [
      "[CV] END ................................ score: (test=0.619) total time=   0.5s\n",
      "[CV] END ................................ score: (test=0.611) total time=   0.5s\n",
      "[CV] END ................................ score: (test=0.628) total time=   0.5s\n",
      "[CV] START .....................................................................\n",
      "[CV] START .....................................................................\n",
      "[CV] START .....................................................................\n"
     ]
    },
    {
     "name": "stderr",
     "output_type": "stream",
     "text": [
      "[Parallel(n_jobs=-1)]: Using backend LokyBackend with 64 concurrent workers.\n",
      "[Parallel(n_jobs=-1)]: Batch computation too fast (0.1652524471282959s.) Setting batch_size=2.\n",
      "[Parallel(n_jobs=-1)]: Done   3 out of   3 | elapsed:    0.2s finished\n",
      "[I 2024-09-30 13:11:05,601] Trial 158 finished with value: 0.6556000531066905 and parameters: {'max_depth': 2, 'min_samples_split': 22, 'min_samples_leaf': 22, 'max_features': None}. Best is trial 40 with value: 0.6608999232256759.\n"
     ]
    },
    {
     "name": "stdout",
     "output_type": "stream",
     "text": [
      "[CV] END ................................ score: (test=0.655) total time=   0.2s\n",
      "[CV] END ................................ score: (test=0.647) total time=   0.2s\n",
      "[CV] END ................................ score: (test=0.664) total time=   0.2s\n",
      "[CV] START .....................................................................\n",
      "[CV] START .....................................................................\n",
      "[CV] START .....................................................................\n"
     ]
    },
    {
     "name": "stderr",
     "output_type": "stream",
     "text": [
      "[Parallel(n_jobs=-1)]: Using backend LokyBackend with 64 concurrent workers.\n",
      "[Parallel(n_jobs=-1)]: Done   3 out of   3 | elapsed:    0.3s finished\n",
      "[I 2024-09-30 13:11:06,038] Trial 159 finished with value: 0.6571003831036973 and parameters: {'max_depth': 4, 'min_samples_split': 7, 'min_samples_leaf': 9, 'max_features': None}. Best is trial 40 with value: 0.6608999232256759.\n"
     ]
    },
    {
     "name": "stdout",
     "output_type": "stream",
     "text": [
      "[CV] END ................................ score: (test=0.653) total time=   0.3s\n",
      "[CV] END ................................ score: (test=0.651) total time=   0.3s\n",
      "[CV] END ................................ score: (test=0.667) total time=   0.3s\n",
      "[CV] START .....................................................................\n",
      "[CV] START .....................................................................\n",
      "[CV] START .....................................................................\n"
     ]
    },
    {
     "name": "stderr",
     "output_type": "stream",
     "text": [
      "[Parallel(n_jobs=-1)]: Using backend LokyBackend with 64 concurrent workers.\n",
      "[Parallel(n_jobs=-1)]: Done   3 out of   3 | elapsed:    0.3s finished\n",
      "[I 2024-09-30 13:11:06,474] Trial 160 finished with value: 0.6569003631016971 and parameters: {'max_depth': 4, 'min_samples_split': 6, 'min_samples_leaf': 20, 'max_features': None}. Best is trial 40 with value: 0.6608999232256759.\n"
     ]
    },
    {
     "name": "stdout",
     "output_type": "stream",
     "text": [
      "[CV] END ................................ score: (test=0.666) total time=   0.3s\n",
      "[CV] END ................................ score: (test=0.653) total time=   0.3s\n",
      "[CV] END ................................ score: (test=0.651) total time=   0.3s\n",
      "[CV] START .....................................................................\n",
      "[CV] START .....................................................................\n",
      "[CV] START .....................................................................\n"
     ]
    },
    {
     "name": "stderr",
     "output_type": "stream",
     "text": [
      "[Parallel(n_jobs=-1)]: Using backend LokyBackend with 64 concurrent workers.\n",
      "[Parallel(n_jobs=-1)]: Done   3 out of   3 | elapsed:    0.2s finished\n",
      "[I 2024-09-30 13:11:06,850] Trial 161 finished with value: 0.6608999232256759 and parameters: {'max_depth': 3, 'min_samples_split': 8, 'min_samples_leaf': 21, 'max_features': None}. Best is trial 40 with value: 0.6608999232256759.\n"
     ]
    },
    {
     "name": "stdout",
     "output_type": "stream",
     "text": [
      "[CV] END ................................ score: (test=0.662) total time=   0.2s\n",
      "[CV] END ................................ score: (test=0.667) total time=   0.2s\n",
      "[CV] END ................................ score: (test=0.654) total time=   0.2s\n",
      "[CV] START .....................................................................\n",
      "[CV] START .....................................................................\n",
      "[CV] START .....................................................................\n"
     ]
    },
    {
     "name": "stderr",
     "output_type": "stream",
     "text": [
      "[Parallel(n_jobs=-1)]: Using backend LokyBackend with 64 concurrent workers.\n",
      "[Parallel(n_jobs=-1)]: Done   3 out of   3 | elapsed:    0.3s finished\n",
      "[I 2024-09-30 13:11:07,236] Trial 162 finished with value: 0.6608999232256759 and parameters: {'max_depth': 3, 'min_samples_split': 8, 'min_samples_leaf': 23, 'max_features': None}. Best is trial 40 with value: 0.6608999232256759.\n"
     ]
    },
    {
     "name": "stdout",
     "output_type": "stream",
     "text": [
      "[CV] END ................................ score: (test=0.662) total time=   0.2s\n",
      "[CV] END ................................ score: (test=0.667) total time=   0.2s\n",
      "[CV] END ................................ score: (test=0.654) total time=   0.2s\n",
      "[CV] START .....................................................................\n",
      "[CV] START .....................................................................\n",
      "[CV] START .....................................................................\n"
     ]
    },
    {
     "name": "stderr",
     "output_type": "stream",
     "text": [
      "[Parallel(n_jobs=-1)]: Using backend LokyBackend with 64 concurrent workers.\n",
      "[Parallel(n_jobs=-1)]: Done   3 out of   3 | elapsed:    0.2s finished\n",
      "[I 2024-09-30 13:11:07,601] Trial 163 finished with value: 0.6608999232256759 and parameters: {'max_depth': 3, 'min_samples_split': 9, 'min_samples_leaf': 21, 'max_features': None}. Best is trial 40 with value: 0.6608999232256759.\n"
     ]
    },
    {
     "name": "stdout",
     "output_type": "stream",
     "text": [
      "[CV] END ................................ score: (test=0.662) total time=   0.2s\n",
      "[CV] END ................................ score: (test=0.667) total time=   0.2s\n",
      "[CV] END ................................ score: (test=0.654) total time=   0.2s\n",
      "[CV] START .....................................................................\n",
      "[CV] START .....................................................................\n",
      "[CV] START .....................................................................\n"
     ]
    },
    {
     "name": "stderr",
     "output_type": "stream",
     "text": [
      "[Parallel(n_jobs=-1)]: Using backend LokyBackend with 64 concurrent workers.\n",
      "[Parallel(n_jobs=-1)]: Batch computation too fast (0.16863107681274414s.) Setting batch_size=2.\n",
      "[Parallel(n_jobs=-1)]: Done   3 out of   3 | elapsed:    0.2s finished\n",
      "[I 2024-09-30 13:11:07,905] Trial 164 finished with value: 0.6556000531066905 and parameters: {'max_depth': 2, 'min_samples_split': 7, 'min_samples_leaf': 20, 'max_features': None}. Best is trial 40 with value: 0.6608999232256759.\n"
     ]
    },
    {
     "name": "stdout",
     "output_type": "stream",
     "text": [
      "[CV] END ................................ score: (test=0.664) total time=   0.2s\n",
      "[CV] END ................................ score: (test=0.655) total time=   0.2s\n",
      "[CV] END ................................ score: (test=0.647) total time=   0.2s\n",
      "[CV] START .....................................................................\n",
      "[CV] START .....................................................................\n",
      "[CV] START .....................................................................\n"
     ]
    },
    {
     "name": "stderr",
     "output_type": "stream",
     "text": [
      "[Parallel(n_jobs=-1)]: Using backend LokyBackend with 64 concurrent workers.\n",
      "[Parallel(n_jobs=-1)]: Done   3 out of   3 | elapsed:    0.2s finished\n",
      "[I 2024-09-30 13:11:08,285] Trial 165 finished with value: 0.6608999232256759 and parameters: {'max_depth': 3, 'min_samples_split': 5, 'min_samples_leaf': 19, 'max_features': None}. Best is trial 40 with value: 0.6608999232256759.\n"
     ]
    },
    {
     "name": "stdout",
     "output_type": "stream",
     "text": [
      "[CV] END ................................ score: (test=0.662) total time=   0.2s\n",
      "[CV] END ................................ score: (test=0.667) total time=   0.2s\n",
      "[CV] END ................................ score: (test=0.654) total time=   0.2s\n",
      "[CV] START .....................................................................\n",
      "[CV] START .....................................................................\n",
      "[CV] START .....................................................................\n"
     ]
    },
    {
     "name": "stderr",
     "output_type": "stream",
     "text": [
      "[Parallel(n_jobs=-1)]: Using backend LokyBackend with 64 concurrent workers.\n",
      "[Parallel(n_jobs=-1)]: Done   3 out of   3 | elapsed:    0.3s finished\n",
      "[I 2024-09-30 13:11:08,720] Trial 166 finished with value: 0.6573004031056975 and parameters: {'max_depth': 4, 'min_samples_split': 8, 'min_samples_leaf': 22, 'max_features': None}. Best is trial 40 with value: 0.6608999232256759.\n"
     ]
    },
    {
     "name": "stdout",
     "output_type": "stream",
     "text": [
      "[CV] END ................................ score: (test=0.651) total time=   0.3s\n",
      "[CV] END ................................ score: (test=0.653) total time=   0.3s\n",
      "[CV] END ................................ score: (test=0.667) total time=   0.3s\n",
      "[CV] START .....................................................................\n",
      "[CV] START .....................................................................\n",
      "[CV] START .....................................................................\n"
     ]
    },
    {
     "name": "stderr",
     "output_type": "stream",
     "text": [
      "[Parallel(n_jobs=-1)]: Using backend LokyBackend with 64 concurrent workers.\n",
      "[Parallel(n_jobs=-1)]: Done   3 out of   3 | elapsed:    0.3s finished\n",
      "[I 2024-09-30 13:11:09,156] Trial 167 finished with value: 0.6571004430976991 and parameters: {'max_depth': 4, 'min_samples_split': 18, 'min_samples_leaf': 25, 'max_features': None}. Best is trial 40 with value: 0.6608999232256759.\n"
     ]
    },
    {
     "name": "stdout",
     "output_type": "stream",
     "text": [
      "[CV] END ................................ score: (test=0.653) total time=   0.3s\n",
      "[CV] END ................................ score: (test=0.651) total time=   0.3s\n",
      "[CV] END ................................ score: (test=0.667) total time=   0.3s\n",
      "[CV] START .....................................................................\n",
      "[CV] START .....................................................................\n",
      "[CV] START .....................................................................\n"
     ]
    },
    {
     "name": "stderr",
     "output_type": "stream",
     "text": [
      "[Parallel(n_jobs=-1)]: Using backend LokyBackend with 64 concurrent workers.\n",
      "[Parallel(n_jobs=-1)]: Done   3 out of   3 | elapsed:    0.2s finished\n",
      "[I 2024-09-30 13:11:09,534] Trial 168 finished with value: 0.6608999232256759 and parameters: {'max_depth': 3, 'min_samples_split': 7, 'min_samples_leaf': 21, 'max_features': None}. Best is trial 40 with value: 0.6608999232256759.\n"
     ]
    },
    {
     "name": "stdout",
     "output_type": "stream",
     "text": [
      "[CV] END ................................ score: (test=0.667) total time=   0.2s\n",
      "[CV] END ................................ score: (test=0.662) total time=   0.2s\n",
      "[CV] END ................................ score: (test=0.654) total time=   0.2s\n",
      "[CV] START .....................................................................\n",
      "[CV] START .....................................................................\n",
      "[CV] START .....................................................................\n",
      "[CV] END ................................ score: (test=0.650) total time=   0.0s\n",
      "[CV] END ................................ score: (test=0.649) total time=   0.0s\n",
      "[CV] END ................................ score: (test=0.650) total time=   0.0s\n"
     ]
    },
    {
     "name": "stderr",
     "output_type": "stream",
     "text": [
      "[Parallel(n_jobs=-1)]: Using backend LokyBackend with 64 concurrent workers.\n",
      "[Parallel(n_jobs=-1)]: Batch computation too fast (0.04873347282409668s.) Setting batch_size=2.\n",
      "[Parallel(n_jobs=-1)]: Done   3 out of   3 | elapsed:    0.1s finished\n",
      "[I 2024-09-30 13:11:09,719] Trial 169 finished with value: 0.6495999629956998 and parameters: {'max_depth': 2, 'min_samples_split': 7, 'min_samples_leaf': 22, 'max_features': 'sqrt'}. Best is trial 40 with value: 0.6608999232256759.\n",
      "[Parallel(n_jobs=-1)]: Using backend LokyBackend with 64 concurrent workers.\n",
      "[Parallel(n_jobs=-1)]: Batch computation too fast (0.16799354553222656s.) Setting batch_size=2.\n",
      "[Parallel(n_jobs=-1)]: Done   3 out of   3 | elapsed:    0.2s finished\n"
     ]
    },
    {
     "name": "stdout",
     "output_type": "stream",
     "text": [
      "[CV] START .....................................................................\n",
      "[CV] START .....................................................................\n",
      "[CV] START .....................................................................\n",
      "[CV] END ................................ score: (test=0.664) total time=   0.2s\n",
      "[CV] END ................................ score: (test=0.647) total time=   0.2s\n",
      "[CV] END ................................ score: (test=0.655) total time=   0.2s\n"
     ]
    },
    {
     "name": "stderr",
     "output_type": "stream",
     "text": [
      "[I 2024-09-30 13:11:10,043] Trial 170 finished with value: 0.6556000531066905 and parameters: {'max_depth': 2, 'min_samples_split': 6, 'min_samples_leaf': 23, 'max_features': None}. Best is trial 40 with value: 0.6608999232256759.\n",
      "[Parallel(n_jobs=-1)]: Using backend LokyBackend with 64 concurrent workers.\n"
     ]
    },
    {
     "name": "stdout",
     "output_type": "stream",
     "text": [
      "[CV] START .....................................................................\n",
      "[CV] START .....................................................................\n",
      "[CV] START .....................................................................\n"
     ]
    },
    {
     "name": "stderr",
     "output_type": "stream",
     "text": [
      "[Parallel(n_jobs=-1)]: Done   3 out of   3 | elapsed:    0.2s finished\n",
      "[I 2024-09-30 13:11:10,409] Trial 171 finished with value: 0.6608999232256759 and parameters: {'max_depth': 3, 'min_samples_split': 10, 'min_samples_leaf': 20, 'max_features': None}. Best is trial 40 with value: 0.6608999232256759.\n"
     ]
    },
    {
     "name": "stdout",
     "output_type": "stream",
     "text": [
      "[CV] END ................................ score: (test=0.667) total time=   0.2s\n",
      "[CV] END ................................ score: (test=0.654) total time=   0.2s\n",
      "[CV] END ................................ score: (test=0.662) total time=   0.2s\n",
      "[CV] START .....................................................................\n",
      "[CV] START .....................................................................\n",
      "[CV] START .....................................................................\n"
     ]
    },
    {
     "name": "stderr",
     "output_type": "stream",
     "text": [
      "[Parallel(n_jobs=-1)]: Using backend LokyBackend with 64 concurrent workers.\n",
      "[Parallel(n_jobs=-1)]: Done   3 out of   3 | elapsed:    0.2s finished\n",
      "[I 2024-09-30 13:11:10,789] Trial 172 finished with value: 0.6608999232256759 and parameters: {'max_depth': 3, 'min_samples_split': 8, 'min_samples_leaf': 19, 'max_features': None}. Best is trial 40 with value: 0.6608999232256759.\n"
     ]
    },
    {
     "name": "stdout",
     "output_type": "stream",
     "text": [
      "[CV] END ................................ score: (test=0.662) total time=   0.2s\n",
      "[CV] END ................................ score: (test=0.667) total time=   0.2s\n",
      "[CV] END ................................ score: (test=0.654) total time=   0.2s\n",
      "[CV] START .....................................................................\n",
      "[CV] START .....................................................................\n",
      "[CV] START .....................................................................\n"
     ]
    },
    {
     "name": "stderr",
     "output_type": "stream",
     "text": [
      "[Parallel(n_jobs=-1)]: Using backend LokyBackend with 64 concurrent workers.\n",
      "[Parallel(n_jobs=-1)]: Done   3 out of   3 | elapsed:    0.3s finished\n",
      "[I 2024-09-30 13:11:11,217] Trial 173 finished with value: 0.6569003631016971 and parameters: {'max_depth': 4, 'min_samples_split': 6, 'min_samples_leaf': 20, 'max_features': None}. Best is trial 40 with value: 0.6608999232256759.\n"
     ]
    },
    {
     "name": "stdout",
     "output_type": "stream",
     "text": [
      "[CV] END ................................ score: (test=0.653) total time=   0.3s\n",
      "[CV] END ................................ score: (test=0.651) total time=   0.3s\n",
      "[CV] END ................................ score: (test=0.666) total time=   0.3s\n",
      "[CV] START .....................................................................\n",
      "[CV] START .....................................................................\n",
      "[CV] START .....................................................................\n"
     ]
    },
    {
     "name": "stderr",
     "output_type": "stream",
     "text": [
      "[Parallel(n_jobs=-1)]: Using backend LokyBackend with 64 concurrent workers.\n",
      "[Parallel(n_jobs=-1)]: Done   3 out of   3 | elapsed:    0.2s finished\n",
      "[I 2024-09-30 13:11:11,583] Trial 174 finished with value: 0.6608999232256759 and parameters: {'max_depth': 3, 'min_samples_split': 7, 'min_samples_leaf': 21, 'max_features': None}. Best is trial 40 with value: 0.6608999232256759.\n"
     ]
    },
    {
     "name": "stdout",
     "output_type": "stream",
     "text": [
      "[CV] END ................................ score: (test=0.662) total time=   0.2s\n",
      "[CV] END ................................ score: (test=0.667) total time=   0.2s\n",
      "[CV] END ................................ score: (test=0.654) total time=   0.2s\n",
      "[CV] START .....................................................................\n",
      "[CV] START .....................................................................\n",
      "[CV] START .....................................................................\n"
     ]
    },
    {
     "name": "stderr",
     "output_type": "stream",
     "text": [
      "[Parallel(n_jobs=-1)]: Using backend LokyBackend with 64 concurrent workers.\n",
      "[Parallel(n_jobs=-1)]: Batch computation too fast (0.16853713989257812s.) Setting batch_size=2.\n",
      "[Parallel(n_jobs=-1)]: Done   3 out of   3 | elapsed:    0.2s finished\n",
      "[I 2024-09-30 13:11:11,888] Trial 175 finished with value: 0.6556000531066905 and parameters: {'max_depth': 2, 'min_samples_split': 9, 'min_samples_leaf': 19, 'max_features': None}. Best is trial 40 with value: 0.6608999232256759.\n"
     ]
    },
    {
     "name": "stdout",
     "output_type": "stream",
     "text": [
      "[CV] END ................................ score: (test=0.664) total time=   0.2s\n",
      "[CV] END ................................ score: (test=0.655) total time=   0.2s\n",
      "[CV] END ................................ score: (test=0.647) total time=   0.2s\n",
      "[CV] START .....................................................................\n",
      "[CV] START .....................................................................\n",
      "[CV] START .....................................................................\n"
     ]
    },
    {
     "name": "stderr",
     "output_type": "stream",
     "text": [
      "[Parallel(n_jobs=-1)]: Using backend LokyBackend with 64 concurrent workers.\n",
      "[Parallel(n_jobs=-1)]: Done   3 out of   3 | elapsed:    0.2s finished\n",
      "[I 2024-09-30 13:11:12,263] Trial 176 finished with value: 0.6608999232256759 and parameters: {'max_depth': 3, 'min_samples_split': 5, 'min_samples_leaf': 20, 'max_features': None}. Best is trial 40 with value: 0.6608999232256759.\n"
     ]
    },
    {
     "name": "stdout",
     "output_type": "stream",
     "text": [
      "[CV] END ................................ score: (test=0.662) total time=   0.2s\n",
      "[CV] END ................................ score: (test=0.667) total time=   0.2s\n",
      "[CV] END ................................ score: (test=0.654) total time=   0.2s\n",
      "[CV] START .....................................................................\n",
      "[CV] START .....................................................................\n",
      "[CV] START .....................................................................\n"
     ]
    },
    {
     "name": "stderr",
     "output_type": "stream",
     "text": [
      "[Parallel(n_jobs=-1)]: Using backend LokyBackend with 64 concurrent workers.\n",
      "[Parallel(n_jobs=-1)]: Done   3 out of   3 | elapsed:    0.3s finished\n",
      "[I 2024-09-30 13:11:12,699] Trial 177 finished with value: 0.6567003430996969 and parameters: {'max_depth': 4, 'min_samples_split': 7, 'min_samples_leaf': 17, 'max_features': None}. Best is trial 40 with value: 0.6608999232256759.\n"
     ]
    },
    {
     "name": "stdout",
     "output_type": "stream",
     "text": [
      "[CV] END ................................ score: (test=0.653) total time=   0.3s\n",
      "[CV] END ................................ score: (test=0.651) total time=   0.3s\n",
      "[CV] END ................................ score: (test=0.666) total time=   0.3s\n",
      "[CV] START .....................................................................\n",
      "[CV] START .....................................................................\n",
      "[CV] START .....................................................................\n",
      "[CV] END ................................ score: (test=0.650) total time=   0.0s\n",
      "[CV] END ................................ score: (test=0.650) total time=   0.0s\n",
      "[CV] END ................................ score: (test=0.652) total time=   0.0s\n"
     ]
    },
    {
     "name": "stderr",
     "output_type": "stream",
     "text": [
      "[Parallel(n_jobs=-1)]: Using backend LokyBackend with 64 concurrent workers.\n",
      "[Parallel(n_jobs=-1)]: Batch computation too fast (0.04027128219604492s.) Setting batch_size=2.\n",
      "[Parallel(n_jobs=-1)]: Done   3 out of   3 | elapsed:    0.0s finished\n",
      "[I 2024-09-30 13:11:12,882] Trial 178 finished with value: 0.6506000630057007 and parameters: {'max_depth': 2, 'min_samples_split': 6, 'min_samples_leaf': 24, 'max_features': 'log2'}. Best is trial 40 with value: 0.6608999232256759.\n",
      "[Parallel(n_jobs=-1)]: Using backend LokyBackend with 64 concurrent workers.\n"
     ]
    },
    {
     "name": "stdout",
     "output_type": "stream",
     "text": [
      "[CV] START .....................................................................\n",
      "[CV] START .....................................................................\n",
      "[CV] START .....................................................................\n"
     ]
    },
    {
     "name": "stderr",
     "output_type": "stream",
     "text": [
      "[Parallel(n_jobs=-1)]: Done   3 out of   3 | elapsed:    0.4s finished\n",
      "[I 2024-09-30 13:11:13,420] Trial 179 finished with value: 0.6496001429777051 and parameters: {'max_depth': 5, 'min_samples_split': 7, 'min_samples_leaf': 22, 'max_features': None}. Best is trial 40 with value: 0.6608999232256759.\n"
     ]
    },
    {
     "name": "stdout",
     "output_type": "stream",
     "text": [
      "[CV] END ................................ score: (test=0.645) total time=   0.3s\n",
      "[CV] END ................................ score: (test=0.656) total time=   0.4s\n",
      "[CV] END ................................ score: (test=0.648) total time=   0.4s\n"
     ]
    },
    {
     "name": "stderr",
     "output_type": "stream",
     "text": [
      "[Parallel(n_jobs=-1)]: Using backend LokyBackend with 64 concurrent workers.\n"
     ]
    },
    {
     "name": "stdout",
     "output_type": "stream",
     "text": [
      "[CV] START .....................................................................\n",
      "[CV] START .....................................................................\n",
      "[CV] START .....................................................................\n"
     ]
    },
    {
     "name": "stderr",
     "output_type": "stream",
     "text": [
      "[Parallel(n_jobs=-1)]: Done   3 out of   3 | elapsed:    0.3s finished\n",
      "[I 2024-09-30 13:11:13,856] Trial 180 finished with value: 0.6567003430996969 and parameters: {'max_depth': 4, 'min_samples_split': 8, 'min_samples_leaf': 18, 'max_features': None}. Best is trial 40 with value: 0.6608999232256759.\n"
     ]
    },
    {
     "name": "stdout",
     "output_type": "stream",
     "text": [
      "[CV] END ................................ score: (test=0.666) total time=   0.3s\n",
      "[CV] END ................................ score: (test=0.653) total time=   0.3s\n",
      "[CV] END ................................ score: (test=0.651) total time=   0.3s\n",
      "[CV] START .....................................................................\n",
      "[CV] START .....................................................................\n",
      "[CV] START .....................................................................\n"
     ]
    },
    {
     "name": "stderr",
     "output_type": "stream",
     "text": [
      "[Parallel(n_jobs=-1)]: Using backend LokyBackend with 64 concurrent workers.\n",
      "[Parallel(n_jobs=-1)]: Done   3 out of   3 | elapsed:    0.2s finished\n",
      "[I 2024-09-30 13:11:14,223] Trial 181 finished with value: 0.6608999232256759 and parameters: {'max_depth': 3, 'min_samples_split': 6, 'min_samples_leaf': 19, 'max_features': None}. Best is trial 40 with value: 0.6608999232256759.\n"
     ]
    },
    {
     "name": "stdout",
     "output_type": "stream",
     "text": [
      "[CV] END ................................ score: (test=0.667) total time=   0.2s\n",
      "[CV] END ................................ score: (test=0.662) total time=   0.2s\n",
      "[CV] END ................................ score: (test=0.654) total time=   0.2s\n",
      "[CV] START .....................................................................\n",
      "[CV] START .....................................................................\n",
      "[CV] START .....................................................................\n"
     ]
    },
    {
     "name": "stderr",
     "output_type": "stream",
     "text": [
      "[Parallel(n_jobs=-1)]: Using backend LokyBackend with 64 concurrent workers.\n",
      "[Parallel(n_jobs=-1)]: Done   3 out of   3 | elapsed:    0.2s finished\n",
      "[I 2024-09-30 13:11:14,599] Trial 182 finished with value: 0.6608999232256759 and parameters: {'max_depth': 3, 'min_samples_split': 5, 'min_samples_leaf': 20, 'max_features': None}. Best is trial 40 with value: 0.6608999232256759.\n"
     ]
    },
    {
     "name": "stdout",
     "output_type": "stream",
     "text": [
      "[CV] END ................................ score: (test=0.654) total time=   0.2s\n",
      "[CV] END ................................ score: (test=0.662) total time=   0.2s\n",
      "[CV] END ................................ score: (test=0.667) total time=   0.2s\n",
      "[CV] START .....................................................................\n",
      "[CV] START .....................................................................\n",
      "[CV] START .....................................................................\n"
     ]
    },
    {
     "name": "stderr",
     "output_type": "stream",
     "text": [
      "[Parallel(n_jobs=-1)]: Using backend LokyBackend with 64 concurrent workers.\n",
      "[Parallel(n_jobs=-1)]: Done   3 out of   3 | elapsed:    0.2s finished\n",
      "[I 2024-09-30 13:11:14,975] Trial 183 finished with value: 0.6608999232256759 and parameters: {'max_depth': 3, 'min_samples_split': 6, 'min_samples_leaf': 21, 'max_features': None}. Best is trial 40 with value: 0.6608999232256759.\n"
     ]
    },
    {
     "name": "stdout",
     "output_type": "stream",
     "text": [
      "[CV] END ................................ score: (test=0.654) total time=   0.2s\n",
      "[CV] END ................................ score: (test=0.667) total time=   0.2s\n",
      "[CV] END ................................ score: (test=0.662) total time=   0.2s\n",
      "[CV] START .....................................................................\n",
      "[CV] START .....................................................................\n",
      "[CV] START .....................................................................\n"
     ]
    },
    {
     "name": "stderr",
     "output_type": "stream",
     "text": [
      "[Parallel(n_jobs=-1)]: Using backend LokyBackend with 64 concurrent workers.\n",
      "[Parallel(n_jobs=-1)]: Batch computation too fast (0.16784167289733887s.) Setting batch_size=2.\n",
      "[Parallel(n_jobs=-1)]: Done   3 out of   3 | elapsed:    0.2s finished\n",
      "[I 2024-09-30 13:11:15,280] Trial 184 finished with value: 0.6556000531066905 and parameters: {'max_depth': 2, 'min_samples_split': 7, 'min_samples_leaf': 20, 'max_features': None}. Best is trial 40 with value: 0.6608999232256759.\n"
     ]
    },
    {
     "name": "stdout",
     "output_type": "stream",
     "text": [
      "[CV] END ................................ score: (test=0.655) total time=   0.2s\n",
      "[CV] END ................................ score: (test=0.664) total time=   0.2s\n",
      "[CV] END ................................ score: (test=0.647) total time=   0.2s\n",
      "[CV] START .....................................................................\n",
      "[CV] START .....................................................................\n",
      "[CV] START .....................................................................\n"
     ]
    },
    {
     "name": "stderr",
     "output_type": "stream",
     "text": [
      "[Parallel(n_jobs=-1)]: Using backend LokyBackend with 64 concurrent workers.\n",
      "[Parallel(n_jobs=-1)]: Done   3 out of   3 | elapsed:    0.4s finished\n",
      "[I 2024-09-30 13:11:15,766] Trial 185 finished with value: 0.6567003430996969 and parameters: {'max_depth': 4, 'min_samples_split': 17, 'min_samples_leaf': 18, 'max_features': None}. Best is trial 40 with value: 0.6608999232256759.\n"
     ]
    },
    {
     "name": "stdout",
     "output_type": "stream",
     "text": [
      "[CV] END ................................ score: (test=0.653) total time=   0.3s\n",
      "[CV] END ................................ score: (test=0.651) total time=   0.3s\n",
      "[CV] END ................................ score: (test=0.666) total time=   0.3s\n",
      "[CV] START .....................................................................\n",
      "[CV] START .....................................................................\n",
      "[CV] START .....................................................................\n"
     ]
    },
    {
     "name": "stderr",
     "output_type": "stream",
     "text": [
      "[Parallel(n_jobs=-1)]: Using backend LokyBackend with 64 concurrent workers.\n",
      "[Parallel(n_jobs=-1)]: Done   3 out of   3 | elapsed:    0.3s finished\n",
      "[I 2024-09-30 13:11:16,163] Trial 186 finished with value: 0.6608999232256759 and parameters: {'max_depth': 3, 'min_samples_split': 6, 'min_samples_leaf': 18, 'max_features': None}. Best is trial 40 with value: 0.6608999232256759.\n"
     ]
    },
    {
     "name": "stdout",
     "output_type": "stream",
     "text": [
      "[CV] END ................................ score: (test=0.654) total time=   0.2s\n",
      "[CV] END ................................ score: (test=0.667) total time=   0.2s\n",
      "[CV] END ................................ score: (test=0.662) total time=   0.2s\n",
      "[CV] START .....................................................................\n",
      "[CV] START .....................................................................\n",
      "[CV] START .....................................................................\n"
     ]
    },
    {
     "name": "stderr",
     "output_type": "stream",
     "text": [
      "[Parallel(n_jobs=-1)]: Using backend LokyBackend with 64 concurrent workers.\n",
      "[Parallel(n_jobs=-1)]: Batch computation too fast (0.16656780242919922s.) Setting batch_size=2.\n",
      "[Parallel(n_jobs=-1)]: Done   3 out of   3 | elapsed:    0.2s finished\n",
      "[I 2024-09-30 13:11:16,470] Trial 187 finished with value: 0.6556000531066905 and parameters: {'max_depth': 2, 'min_samples_split': 5, 'min_samples_leaf': 19, 'max_features': None}. Best is trial 40 with value: 0.6608999232256759.\n"
     ]
    },
    {
     "name": "stdout",
     "output_type": "stream",
     "text": [
      "[CV] END ................................ score: (test=0.664) total time=   0.1s\n",
      "[CV] END ................................ score: (test=0.655) total time=   0.2s\n",
      "[CV] END ................................ score: (test=0.647) total time=   0.2s\n",
      "[CV] START .....................................................................\n",
      "[CV] START .....................................................................\n",
      "[CV] START .....................................................................\n"
     ]
    },
    {
     "name": "stderr",
     "output_type": "stream",
     "text": [
      "[Parallel(n_jobs=-1)]: Using backend LokyBackend with 64 concurrent workers.\n",
      "[Parallel(n_jobs=-1)]: Done   3 out of   3 | elapsed:    0.3s finished\n",
      "[I 2024-09-30 13:11:16,918] Trial 188 finished with value: 0.6569003631016971 and parameters: {'max_depth': 4, 'min_samples_split': 7, 'min_samples_leaf': 21, 'max_features': None}. Best is trial 40 with value: 0.6608999232256759.\n"
     ]
    },
    {
     "name": "stdout",
     "output_type": "stream",
     "text": [
      "[CV] END ................................ score: (test=0.653) total time=   0.3s\n",
      "[CV] END ................................ score: (test=0.666) total time=   0.3s\n",
      "[CV] END ................................ score: (test=0.651) total time=   0.3s\n",
      "[CV] START .....................................................................\n",
      "[CV] START .....................................................................\n",
      "[CV] START .....................................................................\n"
     ]
    },
    {
     "name": "stderr",
     "output_type": "stream",
     "text": [
      "[Parallel(n_jobs=-1)]: Using backend LokyBackend with 64 concurrent workers.\n",
      "[Parallel(n_jobs=-1)]: Done   3 out of   3 | elapsed:    0.6s finished\n",
      "[I 2024-09-30 13:11:17,649] Trial 189 finished with value: 0.6195004923407758 and parameters: {'max_depth': 12, 'min_samples_split': 9, 'min_samples_leaf': 19, 'max_features': None}. Best is trial 40 with value: 0.6608999232256759.\n"
     ]
    },
    {
     "name": "stdout",
     "output_type": "stream",
     "text": [
      "[CV] END ................................ score: (test=0.618) total time=   0.6s\n",
      "[CV] END ................................ score: (test=0.615) total time=   0.6s\n",
      "[CV] END ................................ score: (test=0.626) total time=   0.6s\n",
      "[CV] START .....................................................................\n",
      "[CV] START .....................................................................\n",
      "[CV] START .....................................................................\n"
     ]
    },
    {
     "name": "stderr",
     "output_type": "stream",
     "text": [
      "[Parallel(n_jobs=-1)]: Using backend LokyBackend with 64 concurrent workers.\n",
      "[Parallel(n_jobs=-1)]: Done   3 out of   3 | elapsed:    0.2s finished\n",
      "[I 2024-09-30 13:11:18,015] Trial 190 finished with value: 0.6608999232256759 and parameters: {'max_depth': 3, 'min_samples_split': 8, 'min_samples_leaf': 21, 'max_features': None}. Best is trial 40 with value: 0.6608999232256759.\n"
     ]
    },
    {
     "name": "stdout",
     "output_type": "stream",
     "text": [
      "[CV] END ................................ score: (test=0.667) total time=   0.2s\n",
      "[CV] END ................................ score: (test=0.662) total time=   0.2s\n",
      "[CV] END ................................ score: (test=0.654) total time=   0.2s\n",
      "[CV] START .....................................................................\n",
      "[CV] START .....................................................................\n",
      "[CV] START .....................................................................\n"
     ]
    },
    {
     "name": "stderr",
     "output_type": "stream",
     "text": [
      "[Parallel(n_jobs=-1)]: Using backend LokyBackend with 64 concurrent workers.\n",
      "[Parallel(n_jobs=-1)]: Done   3 out of   3 | elapsed:    0.2s finished\n",
      "[I 2024-09-30 13:11:18,393] Trial 191 finished with value: 0.6608999232256759 and parameters: {'max_depth': 3, 'min_samples_split': 4, 'min_samples_leaf': 20, 'max_features': None}. Best is trial 40 with value: 0.6608999232256759.\n"
     ]
    },
    {
     "name": "stdout",
     "output_type": "stream",
     "text": [
      "[CV] END ................................ score: (test=0.662) total time=   0.2s\n",
      "[CV] END ................................ score: (test=0.667) total time=   0.2s\n",
      "[CV] END ................................ score: (test=0.654) total time=   0.2s\n",
      "[CV] START .....................................................................\n",
      "[CV] START .....................................................................\n",
      "[CV] START .....................................................................\n"
     ]
    },
    {
     "name": "stderr",
     "output_type": "stream",
     "text": [
      "[Parallel(n_jobs=-1)]: Using backend LokyBackend with 64 concurrent workers.\n",
      "[Parallel(n_jobs=-1)]: Done   3 out of   3 | elapsed:    0.2s finished\n",
      "[I 2024-09-30 13:11:18,772] Trial 192 finished with value: 0.6608999232256759 and parameters: {'max_depth': 3, 'min_samples_split': 6, 'min_samples_leaf': 20, 'max_features': None}. Best is trial 40 with value: 0.6608999232256759.\n"
     ]
    },
    {
     "name": "stdout",
     "output_type": "stream",
     "text": [
      "[CV] END ................................ score: (test=0.667) total time=   0.2s\n",
      "[CV] END ................................ score: (test=0.662) total time=   0.2s\n",
      "[CV] END ................................ score: (test=0.654) total time=   0.2s\n",
      "[CV] START .....................................................................\n",
      "[CV] START .....................................................................\n",
      "[CV] START .....................................................................\n"
     ]
    },
    {
     "name": "stderr",
     "output_type": "stream",
     "text": [
      "[Parallel(n_jobs=-1)]: Using backend LokyBackend with 64 concurrent workers.\n",
      "[Parallel(n_jobs=-1)]: Done   3 out of   3 | elapsed:    0.2s finished\n",
      "[I 2024-09-30 13:11:19,139] Trial 193 finished with value: 0.6608999232256759 and parameters: {'max_depth': 3, 'min_samples_split': 5, 'min_samples_leaf': 19, 'max_features': None}. Best is trial 40 with value: 0.6608999232256759.\n"
     ]
    },
    {
     "name": "stdout",
     "output_type": "stream",
     "text": [
      "[CV] END ................................ score: (test=0.654) total time=   0.2s\n",
      "[CV] END ................................ score: (test=0.662) total time=   0.2s\n",
      "[CV] END ................................ score: (test=0.667) total time=   0.2s\n",
      "[CV] START .....................................................................\n",
      "[CV] START .....................................................................\n",
      "[CV] START .....................................................................\n"
     ]
    },
    {
     "name": "stderr",
     "output_type": "stream",
     "text": [
      "[Parallel(n_jobs=-1)]: Using backend LokyBackend with 64 concurrent workers.\n",
      "[Parallel(n_jobs=-1)]: Batch computation too fast (0.16812777519226074s.) Setting batch_size=2.\n",
      "[Parallel(n_jobs=-1)]: Done   3 out of   3 | elapsed:    0.2s finished\n",
      "[I 2024-09-30 13:11:19,446] Trial 194 finished with value: 0.6556000531066905 and parameters: {'max_depth': 2, 'min_samples_split': 6, 'min_samples_leaf': 22, 'max_features': None}. Best is trial 40 with value: 0.6608999232256759.\n"
     ]
    },
    {
     "name": "stdout",
     "output_type": "stream",
     "text": [
      "[CV] END ................................ score: (test=0.655) total time=   0.2s\n",
      "[CV] END ................................ score: (test=0.664) total time=   0.2s\n",
      "[CV] END ................................ score: (test=0.647) total time=   0.2s\n",
      "[CV] START .....................................................................\n",
      "[CV] START .....................................................................\n",
      "[CV] START .....................................................................\n"
     ]
    },
    {
     "name": "stderr",
     "output_type": "stream",
     "text": [
      "[Parallel(n_jobs=-1)]: Using backend LokyBackend with 64 concurrent workers.\n",
      "[Parallel(n_jobs=-1)]: Done   3 out of   3 | elapsed:    0.3s finished\n",
      "[I 2024-09-30 13:11:19,882] Trial 195 finished with value: 0.6569003631016971 and parameters: {'max_depth': 4, 'min_samples_split': 7, 'min_samples_leaf': 21, 'max_features': None}. Best is trial 40 with value: 0.6608999232256759.\n"
     ]
    },
    {
     "name": "stdout",
     "output_type": "stream",
     "text": [
      "[CV] END ................................ score: (test=0.653) total time=   0.3s\n",
      "[CV] END ................................ score: (test=0.651) total time=   0.3s\n",
      "[CV] END ................................ score: (test=0.666) total time=   0.3s\n",
      "[CV] START .....................................................................\n",
      "[CV] START .....................................................................\n",
      "[CV] START .....................................................................\n"
     ]
    },
    {
     "name": "stderr",
     "output_type": "stream",
     "text": [
      "[Parallel(n_jobs=-1)]: Using backend LokyBackend with 64 concurrent workers.\n",
      "[Parallel(n_jobs=-1)]: Done   3 out of   3 | elapsed:    0.2s finished\n",
      "[I 2024-09-30 13:11:20,259] Trial 196 finished with value: 0.6608999232256759 and parameters: {'max_depth': 3, 'min_samples_split': 5, 'min_samples_leaf': 20, 'max_features': None}. Best is trial 40 with value: 0.6608999232256759.\n"
     ]
    },
    {
     "name": "stdout",
     "output_type": "stream",
     "text": [
      "[CV] END ................................ score: (test=0.662) total time=   0.2s\n",
      "[CV] END ................................ score: (test=0.654) total time=   0.2s\n",
      "[CV] END ................................ score: (test=0.667) total time=   0.2s\n",
      "[CV] START .....................................................................\n",
      "[CV] START .....................................................................\n",
      "[CV] START .....................................................................\n"
     ]
    },
    {
     "name": "stderr",
     "output_type": "stream",
     "text": [
      "[Parallel(n_jobs=-1)]: Using backend LokyBackend with 64 concurrent workers.\n",
      "[Parallel(n_jobs=-1)]: Done   3 out of   3 | elapsed:    0.3s finished\n",
      "[I 2024-09-30 13:11:20,717] Trial 197 finished with value: 0.6567003430996969 and parameters: {'max_depth': 4, 'min_samples_split': 4, 'min_samples_leaf': 19, 'max_features': None}. Best is trial 40 with value: 0.6608999232256759.\n"
     ]
    },
    {
     "name": "stdout",
     "output_type": "stream",
     "text": [
      "[CV] END ................................ score: (test=0.651) total time=   0.3s\n",
      "[CV] END ................................ score: (test=0.653) total time=   0.3s\n",
      "[CV] END ................................ score: (test=0.666) total time=   0.3s\n",
      "[CV] START .....................................................................\n",
      "[CV] START .....................................................................\n",
      "[CV] START .....................................................................\n"
     ]
    },
    {
     "name": "stderr",
     "output_type": "stream",
     "text": [
      "[Parallel(n_jobs=-1)]: Using backend LokyBackend with 64 concurrent workers.\n",
      "[Parallel(n_jobs=-1)]: Batch computation too fast (0.16895151138305664s.) Setting batch_size=2.\n",
      "[Parallel(n_jobs=-1)]: Done   3 out of   3 | elapsed:    0.2s finished\n",
      "[I 2024-09-30 13:11:21,033] Trial 198 finished with value: 0.6556000531066905 and parameters: {'max_depth': 2, 'min_samples_split': 8, 'min_samples_leaf': 5, 'max_features': None}. Best is trial 40 with value: 0.6608999232256759.\n"
     ]
    },
    {
     "name": "stdout",
     "output_type": "stream",
     "text": [
      "[CV] END ................................ score: (test=0.655) total time=   0.2s\n",
      "[CV] END ................................ score: (test=0.664) total time=   0.2s\n",
      "[CV] END ................................ score: (test=0.647) total time=   0.2s\n",
      "[CV] START .....................................................................\n",
      "[CV] START .....................................................................\n",
      "[CV] START .....................................................................\n"
     ]
    },
    {
     "name": "stderr",
     "output_type": "stream",
     "text": [
      "[Parallel(n_jobs=-1)]: Using backend LokyBackend with 64 concurrent workers.\n",
      "[Parallel(n_jobs=-1)]: Batch computation too fast (0.09104418754577637s.) Setting batch_size=2.\n",
      "[Parallel(n_jobs=-1)]: Done   3 out of   3 | elapsed:    0.1s finished\n",
      "[I 2024-09-30 13:11:21,267] Trial 199 finished with value: 0.6113992323047541 and parameters: {'max_depth': 20, 'min_samples_split': 5, 'min_samples_leaf': 21, 'max_features': 'sqrt'}. Best is trial 40 with value: 0.6608999232256759.\n"
     ]
    },
    {
     "name": "stdout",
     "output_type": "stream",
     "text": [
      "[CV] END ................................ score: (test=0.605) total time=   0.1s\n",
      "[CV] END ................................ score: (test=0.619) total time=   0.1s\n",
      "[CV] END ................................ score: (test=0.610) total time=   0.1s\n"
     ]
    }
   ],
   "source": [
    "ann2tree = ml2tree(X_train, ann_preds, n_trials=200)"
   ]
  },
  {
   "cell_type": "code",
   "execution_count": 18,
   "metadata": {},
   "outputs": [
    {
     "data": {
      "text/html": [
       "<style>#sk-container-id-2 {\n",
       "  /* Definition of color scheme common for light and dark mode */\n",
       "  --sklearn-color-text: black;\n",
       "  --sklearn-color-line: gray;\n",
       "  /* Definition of color scheme for unfitted estimators */\n",
       "  --sklearn-color-unfitted-level-0: #fff5e6;\n",
       "  --sklearn-color-unfitted-level-1: #f6e4d2;\n",
       "  --sklearn-color-unfitted-level-2: #ffe0b3;\n",
       "  --sklearn-color-unfitted-level-3: chocolate;\n",
       "  /* Definition of color scheme for fitted estimators */\n",
       "  --sklearn-color-fitted-level-0: #f0f8ff;\n",
       "  --sklearn-color-fitted-level-1: #d4ebff;\n",
       "  --sklearn-color-fitted-level-2: #b3dbfd;\n",
       "  --sklearn-color-fitted-level-3: cornflowerblue;\n",
       "\n",
       "  /* Specific color for light theme */\n",
       "  --sklearn-color-text-on-default-background: var(--sg-text-color, var(--theme-code-foreground, var(--jp-content-font-color1, black)));\n",
       "  --sklearn-color-background: var(--sg-background-color, var(--theme-background, var(--jp-layout-color0, white)));\n",
       "  --sklearn-color-border-box: var(--sg-text-color, var(--theme-code-foreground, var(--jp-content-font-color1, black)));\n",
       "  --sklearn-color-icon: #696969;\n",
       "\n",
       "  @media (prefers-color-scheme: dark) {\n",
       "    /* Redefinition of color scheme for dark theme */\n",
       "    --sklearn-color-text-on-default-background: var(--sg-text-color, var(--theme-code-foreground, var(--jp-content-font-color1, white)));\n",
       "    --sklearn-color-background: var(--sg-background-color, var(--theme-background, var(--jp-layout-color0, #111)));\n",
       "    --sklearn-color-border-box: var(--sg-text-color, var(--theme-code-foreground, var(--jp-content-font-color1, white)));\n",
       "    --sklearn-color-icon: #878787;\n",
       "  }\n",
       "}\n",
       "\n",
       "#sk-container-id-2 {\n",
       "  color: var(--sklearn-color-text);\n",
       "}\n",
       "\n",
       "#sk-container-id-2 pre {\n",
       "  padding: 0;\n",
       "}\n",
       "\n",
       "#sk-container-id-2 input.sk-hidden--visually {\n",
       "  border: 0;\n",
       "  clip: rect(1px 1px 1px 1px);\n",
       "  clip: rect(1px, 1px, 1px, 1px);\n",
       "  height: 1px;\n",
       "  margin: -1px;\n",
       "  overflow: hidden;\n",
       "  padding: 0;\n",
       "  position: absolute;\n",
       "  width: 1px;\n",
       "}\n",
       "\n",
       "#sk-container-id-2 div.sk-dashed-wrapped {\n",
       "  border: 1px dashed var(--sklearn-color-line);\n",
       "  margin: 0 0.4em 0.5em 0.4em;\n",
       "  box-sizing: border-box;\n",
       "  padding-bottom: 0.4em;\n",
       "  background-color: var(--sklearn-color-background);\n",
       "}\n",
       "\n",
       "#sk-container-id-2 div.sk-container {\n",
       "  /* jupyter's `normalize.less` sets `[hidden] { display: none; }`\n",
       "     but bootstrap.min.css set `[hidden] { display: none !important; }`\n",
       "     so we also need the `!important` here to be able to override the\n",
       "     default hidden behavior on the sphinx rendered scikit-learn.org.\n",
       "     See: https://github.com/scikit-learn/scikit-learn/issues/21755 */\n",
       "  display: inline-block !important;\n",
       "  position: relative;\n",
       "}\n",
       "\n",
       "#sk-container-id-2 div.sk-text-repr-fallback {\n",
       "  display: none;\n",
       "}\n",
       "\n",
       "div.sk-parallel-item,\n",
       "div.sk-serial,\n",
       "div.sk-item {\n",
       "  /* draw centered vertical line to link estimators */\n",
       "  background-image: linear-gradient(var(--sklearn-color-text-on-default-background), var(--sklearn-color-text-on-default-background));\n",
       "  background-size: 2px 100%;\n",
       "  background-repeat: no-repeat;\n",
       "  background-position: center center;\n",
       "}\n",
       "\n",
       "/* Parallel-specific style estimator block */\n",
       "\n",
       "#sk-container-id-2 div.sk-parallel-item::after {\n",
       "  content: \"\";\n",
       "  width: 100%;\n",
       "  border-bottom: 2px solid var(--sklearn-color-text-on-default-background);\n",
       "  flex-grow: 1;\n",
       "}\n",
       "\n",
       "#sk-container-id-2 div.sk-parallel {\n",
       "  display: flex;\n",
       "  align-items: stretch;\n",
       "  justify-content: center;\n",
       "  background-color: var(--sklearn-color-background);\n",
       "  position: relative;\n",
       "}\n",
       "\n",
       "#sk-container-id-2 div.sk-parallel-item {\n",
       "  display: flex;\n",
       "  flex-direction: column;\n",
       "}\n",
       "\n",
       "#sk-container-id-2 div.sk-parallel-item:first-child::after {\n",
       "  align-self: flex-end;\n",
       "  width: 50%;\n",
       "}\n",
       "\n",
       "#sk-container-id-2 div.sk-parallel-item:last-child::after {\n",
       "  align-self: flex-start;\n",
       "  width: 50%;\n",
       "}\n",
       "\n",
       "#sk-container-id-2 div.sk-parallel-item:only-child::after {\n",
       "  width: 0;\n",
       "}\n",
       "\n",
       "/* Serial-specific style estimator block */\n",
       "\n",
       "#sk-container-id-2 div.sk-serial {\n",
       "  display: flex;\n",
       "  flex-direction: column;\n",
       "  align-items: center;\n",
       "  background-color: var(--sklearn-color-background);\n",
       "  padding-right: 1em;\n",
       "  padding-left: 1em;\n",
       "}\n",
       "\n",
       "\n",
       "/* Toggleable style: style used for estimator/Pipeline/ColumnTransformer box that is\n",
       "clickable and can be expanded/collapsed.\n",
       "- Pipeline and ColumnTransformer use this feature and define the default style\n",
       "- Estimators will overwrite some part of the style using the `sk-estimator` class\n",
       "*/\n",
       "\n",
       "/* Pipeline and ColumnTransformer style (default) */\n",
       "\n",
       "#sk-container-id-2 div.sk-toggleable {\n",
       "  /* Default theme specific background. It is overwritten whether we have a\n",
       "  specific estimator or a Pipeline/ColumnTransformer */\n",
       "  background-color: var(--sklearn-color-background);\n",
       "}\n",
       "\n",
       "/* Toggleable label */\n",
       "#sk-container-id-2 label.sk-toggleable__label {\n",
       "  cursor: pointer;\n",
       "  display: block;\n",
       "  width: 100%;\n",
       "  margin-bottom: 0;\n",
       "  padding: 0.5em;\n",
       "  box-sizing: border-box;\n",
       "  text-align: center;\n",
       "}\n",
       "\n",
       "#sk-container-id-2 label.sk-toggleable__label-arrow:before {\n",
       "  /* Arrow on the left of the label */\n",
       "  content: \"▸\";\n",
       "  float: left;\n",
       "  margin-right: 0.25em;\n",
       "  color: var(--sklearn-color-icon);\n",
       "}\n",
       "\n",
       "#sk-container-id-2 label.sk-toggleable__label-arrow:hover:before {\n",
       "  color: var(--sklearn-color-text);\n",
       "}\n",
       "\n",
       "/* Toggleable content - dropdown */\n",
       "\n",
       "#sk-container-id-2 div.sk-toggleable__content {\n",
       "  max-height: 0;\n",
       "  max-width: 0;\n",
       "  overflow: hidden;\n",
       "  text-align: left;\n",
       "  /* unfitted */\n",
       "  background-color: var(--sklearn-color-unfitted-level-0);\n",
       "}\n",
       "\n",
       "#sk-container-id-2 div.sk-toggleable__content.fitted {\n",
       "  /* fitted */\n",
       "  background-color: var(--sklearn-color-fitted-level-0);\n",
       "}\n",
       "\n",
       "#sk-container-id-2 div.sk-toggleable__content pre {\n",
       "  margin: 0.2em;\n",
       "  border-radius: 0.25em;\n",
       "  color: var(--sklearn-color-text);\n",
       "  /* unfitted */\n",
       "  background-color: var(--sklearn-color-unfitted-level-0);\n",
       "}\n",
       "\n",
       "#sk-container-id-2 div.sk-toggleable__content.fitted pre {\n",
       "  /* unfitted */\n",
       "  background-color: var(--sklearn-color-fitted-level-0);\n",
       "}\n",
       "\n",
       "#sk-container-id-2 input.sk-toggleable__control:checked~div.sk-toggleable__content {\n",
       "  /* Expand drop-down */\n",
       "  max-height: 200px;\n",
       "  max-width: 100%;\n",
       "  overflow: auto;\n",
       "}\n",
       "\n",
       "#sk-container-id-2 input.sk-toggleable__control:checked~label.sk-toggleable__label-arrow:before {\n",
       "  content: \"▾\";\n",
       "}\n",
       "\n",
       "/* Pipeline/ColumnTransformer-specific style */\n",
       "\n",
       "#sk-container-id-2 div.sk-label input.sk-toggleable__control:checked~label.sk-toggleable__label {\n",
       "  color: var(--sklearn-color-text);\n",
       "  background-color: var(--sklearn-color-unfitted-level-2);\n",
       "}\n",
       "\n",
       "#sk-container-id-2 div.sk-label.fitted input.sk-toggleable__control:checked~label.sk-toggleable__label {\n",
       "  background-color: var(--sklearn-color-fitted-level-2);\n",
       "}\n",
       "\n",
       "/* Estimator-specific style */\n",
       "\n",
       "/* Colorize estimator box */\n",
       "#sk-container-id-2 div.sk-estimator input.sk-toggleable__control:checked~label.sk-toggleable__label {\n",
       "  /* unfitted */\n",
       "  background-color: var(--sklearn-color-unfitted-level-2);\n",
       "}\n",
       "\n",
       "#sk-container-id-2 div.sk-estimator.fitted input.sk-toggleable__control:checked~label.sk-toggleable__label {\n",
       "  /* fitted */\n",
       "  background-color: var(--sklearn-color-fitted-level-2);\n",
       "}\n",
       "\n",
       "#sk-container-id-2 div.sk-label label.sk-toggleable__label,\n",
       "#sk-container-id-2 div.sk-label label {\n",
       "  /* The background is the default theme color */\n",
       "  color: var(--sklearn-color-text-on-default-background);\n",
       "}\n",
       "\n",
       "/* On hover, darken the color of the background */\n",
       "#sk-container-id-2 div.sk-label:hover label.sk-toggleable__label {\n",
       "  color: var(--sklearn-color-text);\n",
       "  background-color: var(--sklearn-color-unfitted-level-2);\n",
       "}\n",
       "\n",
       "/* Label box, darken color on hover, fitted */\n",
       "#sk-container-id-2 div.sk-label.fitted:hover label.sk-toggleable__label.fitted {\n",
       "  color: var(--sklearn-color-text);\n",
       "  background-color: var(--sklearn-color-fitted-level-2);\n",
       "}\n",
       "\n",
       "/* Estimator label */\n",
       "\n",
       "#sk-container-id-2 div.sk-label label {\n",
       "  font-family: monospace;\n",
       "  font-weight: bold;\n",
       "  display: inline-block;\n",
       "  line-height: 1.2em;\n",
       "}\n",
       "\n",
       "#sk-container-id-2 div.sk-label-container {\n",
       "  text-align: center;\n",
       "}\n",
       "\n",
       "/* Estimator-specific */\n",
       "#sk-container-id-2 div.sk-estimator {\n",
       "  font-family: monospace;\n",
       "  border: 1px dotted var(--sklearn-color-border-box);\n",
       "  border-radius: 0.25em;\n",
       "  box-sizing: border-box;\n",
       "  margin-bottom: 0.5em;\n",
       "  /* unfitted */\n",
       "  background-color: var(--sklearn-color-unfitted-level-0);\n",
       "}\n",
       "\n",
       "#sk-container-id-2 div.sk-estimator.fitted {\n",
       "  /* fitted */\n",
       "  background-color: var(--sklearn-color-fitted-level-0);\n",
       "}\n",
       "\n",
       "/* on hover */\n",
       "#sk-container-id-2 div.sk-estimator:hover {\n",
       "  /* unfitted */\n",
       "  background-color: var(--sklearn-color-unfitted-level-2);\n",
       "}\n",
       "\n",
       "#sk-container-id-2 div.sk-estimator.fitted:hover {\n",
       "  /* fitted */\n",
       "  background-color: var(--sklearn-color-fitted-level-2);\n",
       "}\n",
       "\n",
       "/* Specification for estimator info (e.g. \"i\" and \"?\") */\n",
       "\n",
       "/* Common style for \"i\" and \"?\" */\n",
       "\n",
       ".sk-estimator-doc-link,\n",
       "a:link.sk-estimator-doc-link,\n",
       "a:visited.sk-estimator-doc-link {\n",
       "  float: right;\n",
       "  font-size: smaller;\n",
       "  line-height: 1em;\n",
       "  font-family: monospace;\n",
       "  background-color: var(--sklearn-color-background);\n",
       "  border-radius: 1em;\n",
       "  height: 1em;\n",
       "  width: 1em;\n",
       "  text-decoration: none !important;\n",
       "  margin-left: 1ex;\n",
       "  /* unfitted */\n",
       "  border: var(--sklearn-color-unfitted-level-1) 1pt solid;\n",
       "  color: var(--sklearn-color-unfitted-level-1);\n",
       "}\n",
       "\n",
       ".sk-estimator-doc-link.fitted,\n",
       "a:link.sk-estimator-doc-link.fitted,\n",
       "a:visited.sk-estimator-doc-link.fitted {\n",
       "  /* fitted */\n",
       "  border: var(--sklearn-color-fitted-level-1) 1pt solid;\n",
       "  color: var(--sklearn-color-fitted-level-1);\n",
       "}\n",
       "\n",
       "/* On hover */\n",
       "div.sk-estimator:hover .sk-estimator-doc-link:hover,\n",
       ".sk-estimator-doc-link:hover,\n",
       "div.sk-label-container:hover .sk-estimator-doc-link:hover,\n",
       ".sk-estimator-doc-link:hover {\n",
       "  /* unfitted */\n",
       "  background-color: var(--sklearn-color-unfitted-level-3);\n",
       "  color: var(--sklearn-color-background);\n",
       "  text-decoration: none;\n",
       "}\n",
       "\n",
       "div.sk-estimator.fitted:hover .sk-estimator-doc-link.fitted:hover,\n",
       ".sk-estimator-doc-link.fitted:hover,\n",
       "div.sk-label-container:hover .sk-estimator-doc-link.fitted:hover,\n",
       ".sk-estimator-doc-link.fitted:hover {\n",
       "  /* fitted */\n",
       "  background-color: var(--sklearn-color-fitted-level-3);\n",
       "  color: var(--sklearn-color-background);\n",
       "  text-decoration: none;\n",
       "}\n",
       "\n",
       "/* Span, style for the box shown on hovering the info icon */\n",
       ".sk-estimator-doc-link span {\n",
       "  display: none;\n",
       "  z-index: 9999;\n",
       "  position: relative;\n",
       "  font-weight: normal;\n",
       "  right: .2ex;\n",
       "  padding: .5ex;\n",
       "  margin: .5ex;\n",
       "  width: min-content;\n",
       "  min-width: 20ex;\n",
       "  max-width: 50ex;\n",
       "  color: var(--sklearn-color-text);\n",
       "  box-shadow: 2pt 2pt 4pt #999;\n",
       "  /* unfitted */\n",
       "  background: var(--sklearn-color-unfitted-level-0);\n",
       "  border: .5pt solid var(--sklearn-color-unfitted-level-3);\n",
       "}\n",
       "\n",
       ".sk-estimator-doc-link.fitted span {\n",
       "  /* fitted */\n",
       "  background: var(--sklearn-color-fitted-level-0);\n",
       "  border: var(--sklearn-color-fitted-level-3);\n",
       "}\n",
       "\n",
       ".sk-estimator-doc-link:hover span {\n",
       "  display: block;\n",
       "}\n",
       "\n",
       "/* \"?\"-specific style due to the `<a>` HTML tag */\n",
       "\n",
       "#sk-container-id-2 a.estimator_doc_link {\n",
       "  float: right;\n",
       "  font-size: 1rem;\n",
       "  line-height: 1em;\n",
       "  font-family: monospace;\n",
       "  background-color: var(--sklearn-color-background);\n",
       "  border-radius: 1rem;\n",
       "  height: 1rem;\n",
       "  width: 1rem;\n",
       "  text-decoration: none;\n",
       "  /* unfitted */\n",
       "  color: var(--sklearn-color-unfitted-level-1);\n",
       "  border: var(--sklearn-color-unfitted-level-1) 1pt solid;\n",
       "}\n",
       "\n",
       "#sk-container-id-2 a.estimator_doc_link.fitted {\n",
       "  /* fitted */\n",
       "  border: var(--sklearn-color-fitted-level-1) 1pt solid;\n",
       "  color: var(--sklearn-color-fitted-level-1);\n",
       "}\n",
       "\n",
       "/* On hover */\n",
       "#sk-container-id-2 a.estimator_doc_link:hover {\n",
       "  /* unfitted */\n",
       "  background-color: var(--sklearn-color-unfitted-level-3);\n",
       "  color: var(--sklearn-color-background);\n",
       "  text-decoration: none;\n",
       "}\n",
       "\n",
       "#sk-container-id-2 a.estimator_doc_link.fitted:hover {\n",
       "  /* fitted */\n",
       "  background-color: var(--sklearn-color-fitted-level-3);\n",
       "}\n",
       "</style><div id=\"sk-container-id-2\" class=\"sk-top-container\"><div class=\"sk-text-repr-fallback\"><pre>DecisionTreeClassifier(max_depth=3, min_samples_leaf=19, min_samples_split=7)</pre><b>In a Jupyter environment, please rerun this cell to show the HTML representation or trust the notebook. <br />On GitHub, the HTML representation is unable to render, please try loading this page with nbviewer.org.</b></div><div class=\"sk-container\" hidden><div class=\"sk-item\"><div class=\"sk-estimator fitted sk-toggleable\"><input class=\"sk-toggleable__control sk-hidden--visually\" id=\"sk-estimator-id-2\" type=\"checkbox\" checked><label for=\"sk-estimator-id-2\" class=\"sk-toggleable__label fitted sk-toggleable__label-arrow fitted\">&nbsp;&nbsp;DecisionTreeClassifier<a class=\"sk-estimator-doc-link fitted\" rel=\"noreferrer\" target=\"_blank\" href=\"https://scikit-learn.org/1.5/modules/generated/sklearn.tree.DecisionTreeClassifier.html\">?<span>Documentation for DecisionTreeClassifier</span></a><span class=\"sk-estimator-doc-link fitted\">i<span>Fitted</span></span></label><div class=\"sk-toggleable__content fitted\"><pre>DecisionTreeClassifier(max_depth=3, min_samples_leaf=19, min_samples_split=7)</pre></div> </div></div></div></div>"
      ],
      "text/plain": [
       "DecisionTreeClassifier(max_depth=3, min_samples_leaf=19, min_samples_split=7)"
      ]
     },
     "metadata": {},
     "output_type": "display_data"
    },
    {
     "name": "stdout",
     "output_type": "stream",
     "text": [
      "Accuracy: 0.572878947368421\n",
      "Precision: 0.6747733644009175\n",
      "Recall: 0.20422240342023493\n",
      "F1 score: 0.3135483543532875\n",
      "ROC AUC score: 0.5571068690417984\n",
      "Matthews correlation coefficient: 0.16223006794716527\n"
     ]
    }
   ],
   "source": [
    "display(ann2tree)\n",
    "evaluate_sklean(ann2tree, X_test, y_test)"
   ]
  },
  {
   "cell_type": "code",
   "execution_count": 112,
   "metadata": {},
   "outputs": [],
   "source": []
  },
  {
   "cell_type": "code",
   "execution_count": 19,
   "metadata": {},
   "outputs": [
    {
     "data": {
      "text/plain": [
       "['if (ASN@pi_m > 0.679) and (XRI@nadh_c <= 0.633) and (ASN@atp_m <= 0.573) then class: 1 (proba: 60.97%) | based on 889 samples',\n",
       " 'if (ASN@pi_m <= 0.679) and (XRI@nadh_c <= 0.526) and (GND1@6pgl_c > 0.942) then class: 1 (proba: 57.71%) | based on 227 samples',\n",
       " 'if (ASN@pi_m > 0.679) and (XRI@nadh_c > 0.633) and (GND1@6pgl_c > 0.82) then class: 1 (proba: 56.28%) | based on 215 samples']"
      ]
     },
     "execution_count": 19,
     "metadata": {},
     "output_type": "execute_result"
    }
   ],
   "source": [
    "train = pd.concat([X_train, y_train], axis=1)\n",
    "ruler = TreeRuler(df=train, tree_clf=ann2tree, target=\"label\")\n",
    "ruler.get_rules()\n",
    "ruler.rules"
   ]
  },
  {
   "cell_type": "code",
   "execution_count": null,
   "metadata": {},
   "outputs": [],
   "source": [
    "ruler.get_rule_constraints(0)"
   ]
  },
  {
   "cell_type": "code",
   "execution_count": null,
   "metadata": {},
   "outputs": [],
   "source": [
    "_ = test[test[\"ASN@pi_m\"] > 0.679]\n",
    "_ = _[_[\"XRI@nadh_c\"] <= 0.633]\n",
    "_ = _[_[\"ASN@atp_m\"] <= 0.573]\n",
    "\n",
    "print(f\"Number of samples: {_.shape[0]}\")\n",
    "print(_[\"label\"].value_counts(normalize=True).round(4))\n",
    "print(_[\"label\"].value_counts())"
   ]
  },
  {
   "cell_type": "code",
   "execution_count": null,
   "metadata": {},
   "outputs": [],
   "source": []
  },
  {
   "cell_type": "code",
   "execution_count": null,
   "metadata": {},
   "outputs": [],
   "source": []
  },
  {
   "cell_type": "code",
   "execution_count": 66,
   "metadata": {},
   "outputs": [],
   "source": [
    "import shap\n",
    "\n",
    "\n",
    "# Calculate shap values for the ANN model\n",
    "def f(x):\n",
    "    return model(torch.tensor(x, dtype=torch.float32)).detach().numpy()\n",
    "\n",
    "\n",
    "X_shap = shap.utils.sample(X_train, 100)\n",
    "explainer = shap.KernelExplainer(f, X_shap)"
   ]
  },
  {
   "cell_type": "code",
   "execution_count": null,
   "metadata": {},
   "outputs": [],
   "source": [
    "shap_values = explainer.shap_values(X_train.sample(300))"
   ]
  },
  {
   "cell_type": "code",
   "execution_count": null,
   "metadata": {},
   "outputs": [],
   "source": [
    "fig = plt.figure()\n",
    "shap.summary_plot(shap_values[0], X_shap, plot_type=\"dot\", show=False)\n",
    "plt.gcf().set_size_inches(10, 4)\n",
    "plt.show()\n"
   ]
  },
  {
   "cell_type": "code",
   "execution_count": null,
   "metadata": {},
   "outputs": [],
   "source": []
  }
 ],
 "metadata": {
  "kernelspec": {
   "display_name": "main",
   "language": "python",
   "name": "python3"
  },
  "language_info": {
   "codemirror_mode": {
    "name": "ipython",
    "version": 3
   },
   "file_extension": ".py",
   "mimetype": "text/x-python",
   "name": "python",
   "nbconvert_exporter": "python",
   "pygments_lexer": "ipython3",
   "version": "3.10.12"
  }
 },
 "nbformat": 4,
 "nbformat_minor": 2
}
