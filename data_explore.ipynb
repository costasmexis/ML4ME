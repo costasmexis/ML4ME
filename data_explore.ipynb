{
 "cells": [
  {
   "cell_type": "code",
   "execution_count": 33,
   "metadata": {},
   "outputs": [
    {
     "name": "stdout",
     "output_type": "stream",
     "text": [
      "The autoreload extension is already loaded. To reload it, use:\n",
      "  %reload_ext autoreload\n"
     ]
    }
   ],
   "source": [
    "%load_ext autoreload\n",
    "%autoreload 2"
   ]
  },
  {
   "cell_type": "code",
   "execution_count": 34,
   "metadata": {},
   "outputs": [],
   "source": [
    "import pandas as pd\n",
    "import numpy as np\n",
    "from scipy.io import loadmat\n",
    "import matplotlib.pyplot as plt\n",
    "from src.utils import get_dataset, get_cc_mat"
   ]
  },
  {
   "cell_type": "markdown",
   "metadata": {},
   "source": [
    "### Get data"
   ]
  },
  {
   "cell_type": "code",
   "execution_count": 35,
   "metadata": {},
   "outputs": [
    {
     "name": "stdout",
     "output_type": "stream",
     "text": [
      "Dataset shape: (200000, 259)\n"
     ]
    },
    {
     "data": {
      "text/html": [
       "<div>\n",
       "<style scoped>\n",
       "    .dataframe tbody tr th:only-of-type {\n",
       "        vertical-align: middle;\n",
       "    }\n",
       "\n",
       "    .dataframe tbody tr th {\n",
       "        vertical-align: top;\n",
       "    }\n",
       "\n",
       "    .dataframe thead th {\n",
       "        text-align: right;\n",
       "    }\n",
       "</style>\n",
       "<table border=\"1\" class=\"dataframe\">\n",
       "  <thead>\n",
       "    <tr style=\"text-align: right;\">\n",
       "      <th></th>\n",
       "      <th>BIO@atp_c</th>\n",
       "      <th>BIO@pyr_c</th>\n",
       "      <th>BIO@nad_c</th>\n",
       "      <th>BIO@g6p_c</th>\n",
       "      <th>BIO@oaa_c</th>\n",
       "      <th>BIO@f6p_c</th>\n",
       "      <th>BIO@nadph_c</th>\n",
       "      <th>BIO@nh4_c</th>\n",
       "      <th>BIO@o2_c</th>\n",
       "      <th>BIO@r5p_c</th>\n",
       "      <th>...</th>\n",
       "      <th>D_LAC@feri_m</th>\n",
       "      <th>D_LAC@lac_m</th>\n",
       "      <th>SUCCt2r@suc_c</th>\n",
       "      <th>MALt2r@mal_c</th>\n",
       "      <th>CITt2m@mal_c</th>\n",
       "      <th>CITt2m@cit_m</th>\n",
       "      <th>CITt2m@mal_m</th>\n",
       "      <th>CITt2m@cit_c</th>\n",
       "      <th>PFK@amp_c</th>\n",
       "      <th>label</th>\n",
       "    </tr>\n",
       "  </thead>\n",
       "  <tbody>\n",
       "    <tr>\n",
       "      <th>0</th>\n",
       "      <td>0.457634</td>\n",
       "      <td>0.014440</td>\n",
       "      <td>0.058212</td>\n",
       "      <td>0.676883</td>\n",
       "      <td>0.341359</td>\n",
       "      <td>0.662601</td>\n",
       "      <td>0.558494</td>\n",
       "      <td>0.469465</td>\n",
       "      <td>0.379688</td>\n",
       "      <td>0.031882</td>\n",
       "      <td>...</td>\n",
       "      <td>0.310612</td>\n",
       "      <td>0.176318</td>\n",
       "      <td>0.750574</td>\n",
       "      <td>0.835077</td>\n",
       "      <td>0.636952</td>\n",
       "      <td>0.805681</td>\n",
       "      <td>0.314653</td>\n",
       "      <td>0.601644</td>\n",
       "      <td>0.442062</td>\n",
       "      <td>1</td>\n",
       "    </tr>\n",
       "    <tr>\n",
       "      <th>1</th>\n",
       "      <td>0.011809</td>\n",
       "      <td>0.879388</td>\n",
       "      <td>0.003459</td>\n",
       "      <td>0.746891</td>\n",
       "      <td>0.306732</td>\n",
       "      <td>0.324433</td>\n",
       "      <td>0.790872</td>\n",
       "      <td>0.561433</td>\n",
       "      <td>0.601143</td>\n",
       "      <td>0.729455</td>\n",
       "      <td>...</td>\n",
       "      <td>0.260641</td>\n",
       "      <td>0.480122</td>\n",
       "      <td>0.828887</td>\n",
       "      <td>0.774984</td>\n",
       "      <td>0.793254</td>\n",
       "      <td>0.111233</td>\n",
       "      <td>0.174306</td>\n",
       "      <td>0.035144</td>\n",
       "      <td>0.432545</td>\n",
       "      <td>1</td>\n",
       "    </tr>\n",
       "    <tr>\n",
       "      <th>2</th>\n",
       "      <td>0.150170</td>\n",
       "      <td>0.442691</td>\n",
       "      <td>0.029388</td>\n",
       "      <td>0.930178</td>\n",
       "      <td>0.904467</td>\n",
       "      <td>0.690296</td>\n",
       "      <td>0.083225</td>\n",
       "      <td>0.292097</td>\n",
       "      <td>0.122153</td>\n",
       "      <td>0.097039</td>\n",
       "      <td>...</td>\n",
       "      <td>0.780362</td>\n",
       "      <td>0.548510</td>\n",
       "      <td>0.591525</td>\n",
       "      <td>0.579699</td>\n",
       "      <td>0.168482</td>\n",
       "      <td>0.214867</td>\n",
       "      <td>0.430102</td>\n",
       "      <td>0.757192</td>\n",
       "      <td>0.281138</td>\n",
       "      <td>1</td>\n",
       "    </tr>\n",
       "    <tr>\n",
       "      <th>3</th>\n",
       "      <td>0.241337</td>\n",
       "      <td>0.108236</td>\n",
       "      <td>0.874900</td>\n",
       "      <td>0.908554</td>\n",
       "      <td>0.945598</td>\n",
       "      <td>0.204189</td>\n",
       "      <td>0.396873</td>\n",
       "      <td>0.474224</td>\n",
       "      <td>0.738103</td>\n",
       "      <td>0.958655</td>\n",
       "      <td>...</td>\n",
       "      <td>0.998683</td>\n",
       "      <td>0.015408</td>\n",
       "      <td>0.362024</td>\n",
       "      <td>0.127115</td>\n",
       "      <td>0.230577</td>\n",
       "      <td>0.996991</td>\n",
       "      <td>0.195371</td>\n",
       "      <td>0.013773</td>\n",
       "      <td>0.316083</td>\n",
       "      <td>1</td>\n",
       "    </tr>\n",
       "    <tr>\n",
       "      <th>4</th>\n",
       "      <td>0.357361</td>\n",
       "      <td>0.179095</td>\n",
       "      <td>0.737178</td>\n",
       "      <td>0.371373</td>\n",
       "      <td>0.562450</td>\n",
       "      <td>0.809965</td>\n",
       "      <td>0.920162</td>\n",
       "      <td>0.750900</td>\n",
       "      <td>0.623332</td>\n",
       "      <td>0.356794</td>\n",
       "      <td>...</td>\n",
       "      <td>0.298213</td>\n",
       "      <td>0.555471</td>\n",
       "      <td>0.611591</td>\n",
       "      <td>0.020826</td>\n",
       "      <td>0.543747</td>\n",
       "      <td>0.459455</td>\n",
       "      <td>0.110901</td>\n",
       "      <td>0.838803</td>\n",
       "      <td>0.561902</td>\n",
       "      <td>1</td>\n",
       "    </tr>\n",
       "  </tbody>\n",
       "</table>\n",
       "<p>5 rows × 259 columns</p>\n",
       "</div>"
      ],
      "text/plain": [
       "   BIO@atp_c  BIO@pyr_c  BIO@nad_c  BIO@g6p_c  BIO@oaa_c  BIO@f6p_c  \\\n",
       "0   0.457634   0.014440   0.058212   0.676883   0.341359   0.662601   \n",
       "1   0.011809   0.879388   0.003459   0.746891   0.306732   0.324433   \n",
       "2   0.150170   0.442691   0.029388   0.930178   0.904467   0.690296   \n",
       "3   0.241337   0.108236   0.874900   0.908554   0.945598   0.204189   \n",
       "4   0.357361   0.179095   0.737178   0.371373   0.562450   0.809965   \n",
       "\n",
       "   BIO@nadph_c  BIO@nh4_c  BIO@o2_c  BIO@r5p_c  ...  D_LAC@feri_m  \\\n",
       "0     0.558494   0.469465  0.379688   0.031882  ...      0.310612   \n",
       "1     0.790872   0.561433  0.601143   0.729455  ...      0.260641   \n",
       "2     0.083225   0.292097  0.122153   0.097039  ...      0.780362   \n",
       "3     0.396873   0.474224  0.738103   0.958655  ...      0.998683   \n",
       "4     0.920162   0.750900  0.623332   0.356794  ...      0.298213   \n",
       "\n",
       "   D_LAC@lac_m  SUCCt2r@suc_c  MALt2r@mal_c  CITt2m@mal_c  CITt2m@cit_m  \\\n",
       "0     0.176318       0.750574      0.835077      0.636952      0.805681   \n",
       "1     0.480122       0.828887      0.774984      0.793254      0.111233   \n",
       "2     0.548510       0.591525      0.579699      0.168482      0.214867   \n",
       "3     0.015408       0.362024      0.127115      0.230577      0.996991   \n",
       "4     0.555471       0.611591      0.020826      0.543747      0.459455   \n",
       "\n",
       "   CITt2m@mal_m  CITt2m@cit_c  PFK@amp_c  label  \n",
       "0      0.314653      0.601644   0.442062      1  \n",
       "1      0.174306      0.035144   0.432545      1  \n",
       "2      0.430102      0.757192   0.281138      1  \n",
       "3      0.195371      0.013773   0.316083      1  \n",
       "4      0.110901      0.838803   0.561902      1  \n",
       "\n",
       "[5 rows x 259 columns]"
      ]
     },
     "execution_count": 35,
     "metadata": {},
     "output_type": "execute_result"
    }
   ],
   "source": [
    "df = get_dataset(\n",
    "    labels_file=\"./data/class_vector_train_ref.mat\", \n",
    "    params_file=\"./data/training_set_ref.mat\",\n",
    "    names_file=\"./data/paremeterNames.mat\"\n",
    ")\n",
    "\n",
    "print(f'Dataset shape: {df.shape}')\n",
    "df.head()"
   ]
  },
  {
   "cell_type": "code",
   "execution_count": 38,
   "metadata": {},
   "outputs": [
    {
     "data": {
      "text/plain": [
       "0    0.5287\n",
       "1    0.4713\n",
       "Name: label, dtype: float64"
      ]
     },
     "execution_count": 38,
     "metadata": {},
     "output_type": "execute_result"
    }
   ],
   "source": [
    "# Value counts of the stability label\n",
    "df['label'].value_counts(normalize=True).round(4)"
   ]
  },
  {
   "cell_type": "code",
   "execution_count": 42,
   "metadata": {},
   "outputs": [
    {
     "name": "stderr",
     "output_type": "stream",
     "text": [
      "100%|██████████| 10/10 [00:09<00:00,  1.11it/s]\n"
     ]
    }
   ],
   "source": [
    "from mrmr import mrmr_classif\n",
    "selected_features = mrmr_classif(X=df.drop('label', axis=1), y=df['label'], K=10)"
   ]
  },
  {
   "cell_type": "code",
   "execution_count": 45,
   "metadata": {},
   "outputs": [
    {
     "name": "stdout",
     "output_type": "stream",
     "text": [
      "XRI@nadh_c\n",
      "ASN@pi_m\n",
      "GND1@6pgl_c\n",
      "PGK@dpg_c\n",
      "XRI@nad_c\n",
      "XDH@xlt_c\n",
      "TPI@t3p_c\n",
      "XK@adp_c\n",
      "SO4t@so4_c\n",
      "ZWF@6pgl_c\n"
     ]
    }
   ],
   "source": [
    "for i in selected_features:\n",
    "    print(i)"
   ]
  },
  {
   "cell_type": "markdown",
   "metadata": {},
   "source": [
    "### ML"
   ]
  },
  {
   "cell_type": "markdown",
   "metadata": {},
   "source": [
    "### FFC"
   ]
  },
  {
   "cell_type": "code",
   "execution_count": 31,
   "metadata": {},
   "outputs": [
    {
     "name": "stdout",
     "output_type": "stream",
     "text": [
      "Enzyme: XTR\n",
      "Common enzymes: ['HXK', 'PGI', 'TPI', 'ZWF', 'ATPM', 'ADK', 'NDR', 'PDA', 'XTR', 'XRI', 'XDH', 'XK']\n",
      "Number of all enzymes: 86\n"
     ]
    }
   ],
   "source": [
    "enzyme, commonEnz, allEnzymes, \\\n",
    "    commonConCoeff, allConCoeff = get_cc_mat('./data/ccXTR_ref.mat')\n"
   ]
  },
  {
   "cell_type": "code",
   "execution_count": null,
   "metadata": {},
   "outputs": [],
   "source": [
    "idx_HXK = commonConCoeff[commonConCoeff['HXK'] < 0].index\n",
    "df_HXK = df.drop('label', axis=1)\n",
    "df_HXK['label'] = [1 if i in idx_HXK else 0 for i in df_HXK.index]\n",
    "df_HXK['label'].value_counts(normalize=True).round(4)"
   ]
  },
  {
   "cell_type": "code",
   "execution_count": null,
   "metadata": {},
   "outputs": [],
   "source": [
    "# Calculate the 1st and 3rd quartiles of commonConCoeff values\n",
    "q1 = commonConCoeff.quantile(0.25)\n",
    "q3 = commonConCoeff.quantile(0.75)\n",
    "\n",
    "# Plot the mean of commonConCoeff values\n",
    "plt.barh(commonConCoeff.columns, commonConCoeff.mean())\n",
    "plt.plot(q1, commonConCoeff.columns, 'o', color='red', label='Q1', alpha=0.3)\n",
    "plt.plot(q3, commonConCoeff.columns, '+', color='green', label='Q3', alpha=0.3)\n",
    "plt.title(\"CC_XTR\")\n",
    "plt.show()"
   ]
  },
  {
   "cell_type": "code",
   "execution_count": null,
   "metadata": {},
   "outputs": [],
   "source": [
    "commonConCoeff[(commonConCoeff['HXK'] <= 1) & (commonConCoeff['HXK'] >= -1)].describe()"
   ]
  },
  {
   "cell_type": "code",
   "execution_count": null,
   "metadata": {},
   "outputs": [],
   "source": []
  }
 ],
 "metadata": {
  "kernelspec": {
   "display_name": "main",
   "language": "python",
   "name": "python3"
  },
  "language_info": {
   "codemirror_mode": {
    "name": "ipython",
    "version": 3
   },
   "file_extension": ".py",
   "mimetype": "text/x-python",
   "name": "python",
   "nbconvert_exporter": "python",
   "pygments_lexer": "ipython3",
   "version": "3.10.12"
  }
 },
 "nbformat": 4,
 "nbformat_minor": 2
}
