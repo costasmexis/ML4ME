{
 "cells": [
  {
   "cell_type": "code",
   "execution_count": 16,
   "metadata": {},
   "outputs": [
    {
     "name": "stdout",
     "output_type": "stream",
     "text": [
      "The autoreload extension is already loaded. To reload it, use:\n",
      "  %reload_ext autoreload\n"
     ]
    }
   ],
   "source": [
    "%load_ext autoreload\n",
    "%autoreload 2"
   ]
  },
  {
   "cell_type": "code",
   "execution_count": 17,
   "metadata": {},
   "outputs": [],
   "source": [
    "import matplotlib.pyplot as plt\n",
    "import numpy as np\n",
    "import pandas as pd\n",
    "from scipy.io import loadmat\n",
    "\n",
    "from src.utils import get_cc_mat, get_dataset"
   ]
  },
  {
   "cell_type": "markdown",
   "metadata": {},
   "source": [
    "### Get data"
   ]
  },
  {
   "cell_type": "code",
   "execution_count": 18,
   "metadata": {},
   "outputs": [
    {
     "name": "stdout",
     "output_type": "stream",
     "text": [
      "***Dataset shape: (200000, 259)\n",
      "***Value counts of the stability label:\n",
      "0    0.5287\n",
      "1    0.4713\n",
      "Name: label, dtype: float64\n"
     ]
    },
    {
     "data": {
      "text/html": [
       "<div>\n",
       "<style scoped>\n",
       "    .dataframe tbody tr th:only-of-type {\n",
       "        vertical-align: middle;\n",
       "    }\n",
       "\n",
       "    .dataframe tbody tr th {\n",
       "        vertical-align: top;\n",
       "    }\n",
       "\n",
       "    .dataframe thead th {\n",
       "        text-align: right;\n",
       "    }\n",
       "</style>\n",
       "<table border=\"1\" class=\"dataframe\">\n",
       "  <thead>\n",
       "    <tr style=\"text-align: right;\">\n",
       "      <th></th>\n",
       "      <th>BIO@atp_c</th>\n",
       "      <th>BIO@pyr_c</th>\n",
       "      <th>BIO@nad_c</th>\n",
       "      <th>BIO@g6p_c</th>\n",
       "      <th>BIO@oaa_c</th>\n",
       "      <th>BIO@f6p_c</th>\n",
       "      <th>BIO@nadph_c</th>\n",
       "      <th>BIO@nh4_c</th>\n",
       "      <th>BIO@o2_c</th>\n",
       "      <th>BIO@r5p_c</th>\n",
       "      <th>...</th>\n",
       "      <th>D_LAC@feri_m</th>\n",
       "      <th>D_LAC@lac_m</th>\n",
       "      <th>SUCCt2r@suc_c</th>\n",
       "      <th>MALt2r@mal_c</th>\n",
       "      <th>CITt2m@mal_c</th>\n",
       "      <th>CITt2m@cit_m</th>\n",
       "      <th>CITt2m@mal_m</th>\n",
       "      <th>CITt2m@cit_c</th>\n",
       "      <th>PFK@amp_c</th>\n",
       "      <th>label</th>\n",
       "    </tr>\n",
       "  </thead>\n",
       "  <tbody>\n",
       "    <tr>\n",
       "      <th>0</th>\n",
       "      <td>0.457634</td>\n",
       "      <td>0.014440</td>\n",
       "      <td>0.058212</td>\n",
       "      <td>0.676883</td>\n",
       "      <td>0.341359</td>\n",
       "      <td>0.662601</td>\n",
       "      <td>0.558494</td>\n",
       "      <td>0.469465</td>\n",
       "      <td>0.379688</td>\n",
       "      <td>0.031882</td>\n",
       "      <td>...</td>\n",
       "      <td>0.310612</td>\n",
       "      <td>0.176318</td>\n",
       "      <td>0.750574</td>\n",
       "      <td>0.835077</td>\n",
       "      <td>0.636952</td>\n",
       "      <td>0.805681</td>\n",
       "      <td>0.314653</td>\n",
       "      <td>0.601644</td>\n",
       "      <td>0.442062</td>\n",
       "      <td>1</td>\n",
       "    </tr>\n",
       "    <tr>\n",
       "      <th>1</th>\n",
       "      <td>0.011809</td>\n",
       "      <td>0.879388</td>\n",
       "      <td>0.003459</td>\n",
       "      <td>0.746891</td>\n",
       "      <td>0.306732</td>\n",
       "      <td>0.324433</td>\n",
       "      <td>0.790872</td>\n",
       "      <td>0.561433</td>\n",
       "      <td>0.601143</td>\n",
       "      <td>0.729455</td>\n",
       "      <td>...</td>\n",
       "      <td>0.260641</td>\n",
       "      <td>0.480122</td>\n",
       "      <td>0.828887</td>\n",
       "      <td>0.774984</td>\n",
       "      <td>0.793254</td>\n",
       "      <td>0.111233</td>\n",
       "      <td>0.174306</td>\n",
       "      <td>0.035144</td>\n",
       "      <td>0.432545</td>\n",
       "      <td>1</td>\n",
       "    </tr>\n",
       "    <tr>\n",
       "      <th>2</th>\n",
       "      <td>0.150170</td>\n",
       "      <td>0.442691</td>\n",
       "      <td>0.029388</td>\n",
       "      <td>0.930178</td>\n",
       "      <td>0.904467</td>\n",
       "      <td>0.690296</td>\n",
       "      <td>0.083225</td>\n",
       "      <td>0.292097</td>\n",
       "      <td>0.122153</td>\n",
       "      <td>0.097039</td>\n",
       "      <td>...</td>\n",
       "      <td>0.780362</td>\n",
       "      <td>0.548510</td>\n",
       "      <td>0.591525</td>\n",
       "      <td>0.579699</td>\n",
       "      <td>0.168482</td>\n",
       "      <td>0.214867</td>\n",
       "      <td>0.430102</td>\n",
       "      <td>0.757192</td>\n",
       "      <td>0.281138</td>\n",
       "      <td>1</td>\n",
       "    </tr>\n",
       "    <tr>\n",
       "      <th>3</th>\n",
       "      <td>0.241337</td>\n",
       "      <td>0.108236</td>\n",
       "      <td>0.874900</td>\n",
       "      <td>0.908554</td>\n",
       "      <td>0.945598</td>\n",
       "      <td>0.204189</td>\n",
       "      <td>0.396873</td>\n",
       "      <td>0.474224</td>\n",
       "      <td>0.738103</td>\n",
       "      <td>0.958655</td>\n",
       "      <td>...</td>\n",
       "      <td>0.998683</td>\n",
       "      <td>0.015408</td>\n",
       "      <td>0.362024</td>\n",
       "      <td>0.127115</td>\n",
       "      <td>0.230577</td>\n",
       "      <td>0.996991</td>\n",
       "      <td>0.195371</td>\n",
       "      <td>0.013773</td>\n",
       "      <td>0.316083</td>\n",
       "      <td>1</td>\n",
       "    </tr>\n",
       "    <tr>\n",
       "      <th>4</th>\n",
       "      <td>0.357361</td>\n",
       "      <td>0.179095</td>\n",
       "      <td>0.737178</td>\n",
       "      <td>0.371373</td>\n",
       "      <td>0.562450</td>\n",
       "      <td>0.809965</td>\n",
       "      <td>0.920162</td>\n",
       "      <td>0.750900</td>\n",
       "      <td>0.623332</td>\n",
       "      <td>0.356794</td>\n",
       "      <td>...</td>\n",
       "      <td>0.298213</td>\n",
       "      <td>0.555471</td>\n",
       "      <td>0.611591</td>\n",
       "      <td>0.020826</td>\n",
       "      <td>0.543747</td>\n",
       "      <td>0.459455</td>\n",
       "      <td>0.110901</td>\n",
       "      <td>0.838803</td>\n",
       "      <td>0.561902</td>\n",
       "      <td>1</td>\n",
       "    </tr>\n",
       "  </tbody>\n",
       "</table>\n",
       "<p>5 rows × 259 columns</p>\n",
       "</div>"
      ],
      "text/plain": [
       "   BIO@atp_c  BIO@pyr_c  BIO@nad_c  BIO@g6p_c  BIO@oaa_c  BIO@f6p_c  \\\n",
       "0   0.457634   0.014440   0.058212   0.676883   0.341359   0.662601   \n",
       "1   0.011809   0.879388   0.003459   0.746891   0.306732   0.324433   \n",
       "2   0.150170   0.442691   0.029388   0.930178   0.904467   0.690296   \n",
       "3   0.241337   0.108236   0.874900   0.908554   0.945598   0.204189   \n",
       "4   0.357361   0.179095   0.737178   0.371373   0.562450   0.809965   \n",
       "\n",
       "   BIO@nadph_c  BIO@nh4_c  BIO@o2_c  BIO@r5p_c  ...  D_LAC@feri_m  \\\n",
       "0     0.558494   0.469465  0.379688   0.031882  ...      0.310612   \n",
       "1     0.790872   0.561433  0.601143   0.729455  ...      0.260641   \n",
       "2     0.083225   0.292097  0.122153   0.097039  ...      0.780362   \n",
       "3     0.396873   0.474224  0.738103   0.958655  ...      0.998683   \n",
       "4     0.920162   0.750900  0.623332   0.356794  ...      0.298213   \n",
       "\n",
       "   D_LAC@lac_m  SUCCt2r@suc_c  MALt2r@mal_c  CITt2m@mal_c  CITt2m@cit_m  \\\n",
       "0     0.176318       0.750574      0.835077      0.636952      0.805681   \n",
       "1     0.480122       0.828887      0.774984      0.793254      0.111233   \n",
       "2     0.548510       0.591525      0.579699      0.168482      0.214867   \n",
       "3     0.015408       0.362024      0.127115      0.230577      0.996991   \n",
       "4     0.555471       0.611591      0.020826      0.543747      0.459455   \n",
       "\n",
       "   CITt2m@mal_m  CITt2m@cit_c  PFK@amp_c  label  \n",
       "0      0.314653      0.601644   0.442062      1  \n",
       "1      0.174306      0.035144   0.432545      1  \n",
       "2      0.430102      0.757192   0.281138      1  \n",
       "3      0.195371      0.013773   0.316083      1  \n",
       "4      0.110901      0.838803   0.561902      1  \n",
       "\n",
       "[5 rows x 259 columns]"
      ]
     },
     "execution_count": 18,
     "metadata": {},
     "output_type": "execute_result"
    }
   ],
   "source": [
    "df = get_dataset(\n",
    "    labels_file=\"./data/class_vector_train_ref.mat\", \n",
    "    params_file=\"./data/training_set_ref.mat\",\n",
    "    names_file=\"./data/paremeterNames.mat\"\n",
    ")\n",
    "\n",
    "print(f'***Dataset shape: {df.shape}')\n",
    "\n",
    "# Value counts of the stability label\n",
    "print('***Value counts of the stability label:')\n",
    "print(df['label'].value_counts(normalize=True).round(4))\n",
    "\n",
    "df.head()"
   ]
  },
  {
   "cell_type": "markdown",
   "metadata": {},
   "source": [
    "### Feature Selection"
   ]
  },
  {
   "cell_type": "code",
   "execution_count": 20,
   "metadata": {},
   "outputs": [
    {
     "name": "stdout",
     "output_type": "stream",
     "text": [
      "***Number of features to select: 64\n"
     ]
    },
    {
     "name": "stderr",
     "output_type": "stream",
     "text": [
      "100%|██████████| 64/64 [01:00<00:00,  1.06it/s]\n"
     ]
    }
   ],
   "source": [
    "from mrmr import mrmr_classif\n",
    "\n",
    "K = int(df.drop('label', axis=1).shape[1] / 4)\n",
    "print(f'***Number of features to select: {K}')\n",
    "selected_features = mrmr_classif(X=df.drop('label', axis=1), y=df['label'], K=K)"
   ]
  },
  {
   "cell_type": "markdown",
   "metadata": {},
   "source": [
    "### FFC"
   ]
  },
  {
   "cell_type": "code",
   "execution_count": 21,
   "metadata": {},
   "outputs": [
    {
     "name": "stdout",
     "output_type": "stream",
     "text": [
      "Enzyme: XTR\n",
      "Common enzymes: ['HXK', 'PGI', 'TPI', 'ZWF', 'ATPM', 'ADK', 'NDR', 'PDA', 'XTR', 'XRI', 'XDH', 'XK']\n",
      "Number of all enzymes: 86\n"
     ]
    }
   ],
   "source": [
    "enzyme, commonEnz, allEnzymes, \\\n",
    "    commonConCoeff, allConCoeff = get_cc_mat('./data/ccXTR_ref.mat')\n"
   ]
  },
  {
   "cell_type": "code",
   "execution_count": 22,
   "metadata": {},
   "outputs": [
    {
     "data": {
      "image/png": "[encoded data removed]",
      "text/plain": [
       "<Figure size 1000x300 with 1 Axes>"
      ]
     },
     "metadata": {},
     "output_type": "display_data"
    }
   ],
   "source": [
    "# Change plot style\n",
    "plt.style.use('ggplot')\n",
    "\n",
    "# Calculate the 1st and 3rd quartiles of commonConCoeff values\n",
    "q1 = commonConCoeff.quantile(0.25)\n",
    "q3 = commonConCoeff.quantile(0.75)\n",
    "\n",
    "# Plot the mean of commonConCoeff values\n",
    "plt.figure(figsize=(10, 3))\n",
    "plt.barh(commonConCoeff.columns[::-1], commonConCoeff.mean()[::-1])\n",
    "plt.axvline(x=0, color='black', linestyle='-')\n",
    "plt.plot(q1, commonConCoeff.columns, '|', color='black', label='Q1', alpha=1)\n",
    "plt.plot(q3, commonConCoeff.columns, '|', color='black', label='Q3', alpha=1)\n",
    "for i, enzyme in enumerate(commonConCoeff.columns):\n",
    "    plt.plot([q1[i], q3[i]], [enzyme, enzyme], color='black')\n",
    "plt.title(\"CC_XTR\")\n",
    "plt.grid()\n",
    "plt.show()"
   ]
  },
  {
   "cell_type": "markdown",
   "metadata": {},
   "source": [
    "### Dataset formulation"
   ]
  },
  {
   "cell_type": "code",
   "execution_count": 23,
   "metadata": {},
   "outputs": [
    {
     "data": {
      "text/plain": [
       "0    0.5287\n",
       "1    0.4713\n",
       "Name: label, dtype: float64"
      ]
     },
     "execution_count": 23,
     "metadata": {},
     "output_type": "execute_result"
    }
   ],
   "source": [
    "idx_HXK = commonConCoeff[commonConCoeff['HXK'] < 0].index\n",
    "df_HXK = df.drop('label', axis=1)\n",
    "df_HXK['label'] = [1 if i in idx_HXK else 0 for i in df_HXK.index]\n",
    "df_HXK['label'].value_counts(normalize=True).round(4)"
   ]
  },
  {
   "cell_type": "code",
   "execution_count": 24,
   "metadata": {},
   "outputs": [
    {
     "name": "stdout",
     "output_type": "stream",
     "text": [
      "***Dataset shape: (200000, 65)\n"
     ]
    }
   ],
   "source": [
    "# # Keep only the features selected by mRMR\n",
    "# df_HXK = df_HXK[selected_features + ['label']]\n",
    "# print(f'***Dataset shape: {df_HXK.shape}')"
   ]
  },
  {
   "cell_type": "code",
   "execution_count": 14,
   "metadata": {},
   "outputs": [
    {
     "name": "stderr",
     "output_type": "stream",
     "text": [
      "[I 2024-09-29 15:11:51,455] A new study created in memory with name: no-name-94ac715f-d6c9-4c6f-97e2-e6c108e11cdb\n"
     ]
    },
    {
     "name": "stdout",
     "output_type": "stream",
     "text": [
      "Traininig set shape: (2000, 258)\n",
      "Test set shape: (198000, 258)\n"
     ]
    },
    {
     "name": "stderr",
     "output_type": "stream",
     "text": [
      "[Parallel(n_jobs=-1)]: Using backend LokyBackend with 64 concurrent workers.\n"
     ]
    },
    {
     "name": "stdout",
     "output_type": "stream",
     "text": [
      "[CV] START .....................................................................\n",
      "[CV] START .....................................................................\n",
      "[CV] START .....................................................................\n",
      "[CV] END ................................ score: (test=0.276) total time=  28.9s\n",
      "[CV] END ................................ score: (test=0.233) total time=  29.0s\n",
      "[CV] END ................................ score: (test=0.165) total time=  29.1s\n"
     ]
    },
    {
     "name": "stderr",
     "output_type": "stream",
     "text": [
      "[Parallel(n_jobs=-1)]: Done   3 out of   3 | elapsed:   29.7s finished\n",
      "[I 2024-09-29 15:12:21,244] Trial 0 finished with value: 0.22453599531110394 and parameters: {'learning_rate': 0.1049021285336682, 'n_estimators': 127, 'max_depth': 10, 'subsample': 0.6450760877729136, 'booster': 'dart', 'tree_method': 'hist', 'reg_alpha': 0.3698414726113932, 'reg_lambda': 0.8143838205916376}. Best is trial 0 with value: 0.22453599531110394.\n",
      "[Parallel(n_jobs=-1)]: Using backend LokyBackend with 64 concurrent workers.\n"
     ]
    },
    {
     "name": "stdout",
     "output_type": "stream",
     "text": [
      "[CV] START .....................................................................\n",
      "[CV] START .....................................................................\n",
      "[CV] START .....................................................................\n",
      "[CV] END ................................ score: (test=0.272) total time=  10.8s\n",
      "[CV] END ................................ score: (test=0.229) total time=  10.9s\n"
     ]
    },
    {
     "name": "stderr",
     "output_type": "stream",
     "text": [
      "[Parallel(n_jobs=-1)]: Done   3 out of   3 | elapsed:   11.7s finished\n",
      "[I 2024-09-29 15:12:33,080] Trial 1 finished with value: 0.2562013545195469 and parameters: {'learning_rate': 0.0641324185462614, 'n_estimators': 243, 'max_depth': 9, 'subsample': 0.7996022598923374, 'booster': 'gbtree', 'tree_method': 'hist', 'reg_alpha': 0.2752392437394473, 'reg_lambda': 0.8167387555805283}. Best is trial 1 with value: 0.2562013545195469.\n"
     ]
    },
    {
     "name": "stdout",
     "output_type": "stream",
     "text": [
      "[CV] END ................................ score: (test=0.267) total time=  11.1s\n"
     ]
    },
    {
     "name": "stderr",
     "output_type": "stream",
     "text": [
      "[Parallel(n_jobs=-1)]: Using backend LokyBackend with 64 concurrent workers.\n"
     ]
    },
    {
     "name": "stdout",
     "output_type": "stream",
     "text": [
      "[CV] START .....................................................................\n",
      "[CV] START .....................................................................\n",
      "[CV] START .....................................................................\n",
      "[CV] END ................................ score: (test=0.254) total time=  23.0s\n",
      "[CV] END ................................ score: (test=0.300) total time=  23.2s\n"
     ]
    },
    {
     "name": "stderr",
     "output_type": "stream",
     "text": [
      "[Parallel(n_jobs=-1)]: Done   3 out of   3 | elapsed:   24.1s finished\n",
      "[I 2024-09-29 15:12:57,301] Trial 2 finished with value: 0.26554724569919924 and parameters: {'learning_rate': 0.019203508680390627, 'n_estimators': 279, 'max_depth': 11, 'subsample': 0.8661575200152734, 'booster': 'gbtree', 'tree_method': 'auto', 'reg_alpha': 0.1180890322649436, 'reg_lambda': 0.7622091233411183}. Best is trial 2 with value: 0.26554724569919924.\n"
     ]
    },
    {
     "name": "stdout",
     "output_type": "stream",
     "text": [
      "[CV] END ................................ score: (test=0.242) total time=  23.5s\n"
     ]
    },
    {
     "name": "stderr",
     "output_type": "stream",
     "text": [
      "[Parallel(n_jobs=-1)]: Using backend LokyBackend with 64 concurrent workers.\n"
     ]
    },
    {
     "name": "stdout",
     "output_type": "stream",
     "text": [
      "[CV] START .....................................................................\n",
      "[CV] START .....................................................................\n",
      "[CV] START .....................................................................\n",
      "[CV] END ................................ score: (test=0.227) total time=  18.1s\n",
      "[CV] END ................................ score: (test=0.242) total time=  18.2s\n"
     ]
    },
    {
     "name": "stderr",
     "output_type": "stream",
     "text": [
      "[Parallel(n_jobs=-1)]: Done   3 out of   3 | elapsed:   19.0s finished\n",
      "[I 2024-09-29 15:13:16,426] Trial 3 finished with value: 0.26265714983197647 and parameters: {'learning_rate': 0.026755731604849918, 'n_estimators': 427, 'max_depth': 7, 'subsample': 0.80261429882556, 'booster': 'gbtree', 'tree_method': 'exact', 'reg_alpha': 0.20677479639883967, 'reg_lambda': 0.9413388267501732}. Best is trial 2 with value: 0.26554724569919924.\n"
     ]
    },
    {
     "name": "stdout",
     "output_type": "stream",
     "text": [
      "[CV] END ................................ score: (test=0.319) total time=  18.4s\n"
     ]
    },
    {
     "name": "stderr",
     "output_type": "stream",
     "text": [
      "[Parallel(n_jobs=-1)]: Using backend LokyBackend with 64 concurrent workers.\n"
     ]
    },
    {
     "name": "stdout",
     "output_type": "stream",
     "text": [
      "[CV] START .....................................................................\n",
      "[CV] START .....................................................................\n",
      "[CV] START .....................................................................\n",
      "[CV] END ................................ score: (test=0.199) total time=  10.1s\n",
      "[CV] END ................................ score: (test=0.246) total time=  10.2s\n"
     ]
    },
    {
     "name": "stderr",
     "output_type": "stream",
     "text": [
      "[Parallel(n_jobs=-1)]: Done   3 out of   3 | elapsed:   10.8s finished\n",
      "[I 2024-09-29 15:13:27,359] Trial 4 finished with value: 0.23950471180275992 and parameters: {'learning_rate': 0.1352191144165154, 'n_estimators': 216, 'max_depth': 5, 'subsample': 0.6901624413778712, 'booster': 'gbtree', 'tree_method': 'approx', 'reg_alpha': 0.367088928856019, 'reg_lambda': 0.5404047476717497}. Best is trial 2 with value: 0.26554724569919924.\n"
     ]
    },
    {
     "name": "stdout",
     "output_type": "stream",
     "text": [
      "[CV] END ................................ score: (test=0.274) total time=  10.3s\n"
     ]
    },
    {
     "name": "stderr",
     "output_type": "stream",
     "text": [
      "[Parallel(n_jobs=-1)]: Using backend LokyBackend with 64 concurrent workers.\n"
     ]
    },
    {
     "name": "stdout",
     "output_type": "stream",
     "text": [
      "[CV] START .....................................................................\n",
      "[CV] START .....................................................................\n",
      "[CV] START .....................................................................\n",
      "[CV] END ................................ score: (test=0.278) total time=  12.6s\n",
      "[CV] END ................................ score: (test=0.291) total time=  12.7s\n"
     ]
    },
    {
     "name": "stderr",
     "output_type": "stream",
     "text": [
      "[Parallel(n_jobs=-1)]: Done   3 out of   3 | elapsed:   13.3s finished\n",
      "[I 2024-09-29 15:13:40,818] Trial 5 finished with value: 0.2818027790420233 and parameters: {'learning_rate': 0.03995220377311539, 'n_estimators': 252, 'max_depth': 11, 'subsample': 0.7935759365549935, 'booster': 'gbtree', 'tree_method': 'exact', 'reg_alpha': 0.04315273739501241, 'reg_lambda': 0.9528940375443837}. Best is trial 5 with value: 0.2818027790420233.\n"
     ]
    },
    {
     "name": "stdout",
     "output_type": "stream",
     "text": [
      "[CV] END ................................ score: (test=0.277) total time=  12.8s\n"
     ]
    },
    {
     "name": "stderr",
     "output_type": "stream",
     "text": [
      "[Parallel(n_jobs=-1)]: Using backend LokyBackend with 64 concurrent workers.\n"
     ]
    },
    {
     "name": "stdout",
     "output_type": "stream",
     "text": [
      "[CV] START .....................................................................\n",
      "[CV] START .....................................................................\n",
      "[CV] START .....................................................................\n"
     ]
    },
    {
     "name": "stderr",
     "output_type": "stream",
     "text": [
      "[Parallel(n_jobs=-1)]: Done   3 out of   3 | elapsed:    4.3s finished\n",
      "[I 2024-09-29 15:13:45,188] Trial 6 finished with value: 0.23845785597372857 and parameters: {'learning_rate': 0.059379754547174896, 'n_estimators': 61, 'max_depth': 11, 'subsample': 0.5352315932466738, 'booster': 'dart', 'tree_method': 'exact', 'reg_alpha': 0.462433066447939, 'reg_lambda': 0.6313743714777029}. Best is trial 5 with value: 0.2818027790420233.\n"
     ]
    },
    {
     "name": "stdout",
     "output_type": "stream",
     "text": [
      "[CV] END ................................ score: (test=0.216) total time=   3.6s\n",
      "[CV] END ................................ score: (test=0.249) total time=   3.6s\n",
      "[CV] END ................................ score: (test=0.251) total time=   3.7s\n"
     ]
    },
    {
     "name": "stderr",
     "output_type": "stream",
     "text": [
      "[Parallel(n_jobs=-1)]: Using backend LokyBackend with 64 concurrent workers.\n"
     ]
    },
    {
     "name": "stdout",
     "output_type": "stream",
     "text": [
      "[CV] START .....................................................................\n",
      "[CV] START .....................................................................\n",
      "[CV] START .....................................................................\n",
      "[CV] END ................................ score: (test=0.229) total time=   5.9s\n",
      "[CV] END ................................ score: (test=0.249) total time=   6.0s\n",
      "[CV] END ................................ score: (test=0.200) total time=   6.0s\n"
     ]
    },
    {
     "name": "stderr",
     "output_type": "stream",
     "text": [
      "[Parallel(n_jobs=-1)]: Done   3 out of   3 | elapsed:    6.6s finished\n",
      "[I 2024-09-29 15:13:51,861] Trial 7 finished with value: 0.22599627771925887 and parameters: {'learning_rate': 0.07324603809382214, 'n_estimators': 63, 'max_depth': 6, 'subsample': 0.6039695893315415, 'booster': 'dart', 'tree_method': 'approx', 'reg_alpha': 0.35614040014158055, 'reg_lambda': 0.6379593096430465}. Best is trial 5 with value: 0.2818027790420233.\n",
      "[Parallel(n_jobs=-1)]: Using backend LokyBackend with 64 concurrent workers.\n"
     ]
    },
    {
     "name": "stdout",
     "output_type": "stream",
     "text": [
      "[CV] START .....................................................................\n",
      "[CV] START .....................................................................\n",
      "[CV] START .....................................................................\n"
     ]
    },
    {
     "name": "stderr",
     "output_type": "stream",
     "text": [
      "[Parallel(n_jobs=-1)]: Done   3 out of   3 | elapsed:    1.8s finished\n",
      "[I 2024-09-29 15:13:53,754] Trial 8 finished with value: 0.25595335375600586 and parameters: {'learning_rate': 0.01514292463832929, 'n_estimators': 214, 'max_depth': 2, 'subsample': 0.8215968837639738, 'booster': 'gbtree', 'tree_method': 'hist', 'reg_alpha': 0.3451421626519526, 'reg_lambda': 0.978582735410765}. Best is trial 5 with value: 0.2818027790420233.\n"
     ]
    },
    {
     "name": "stdout",
     "output_type": "stream",
     "text": [
      "[CV] END ................................ score: (test=0.251) total time=   1.1s\n",
      "[CV] END ................................ score: (test=0.257) total time=   1.2s\n",
      "[CV] END ................................ score: (test=0.260) total time=   1.2s\n"
     ]
    },
    {
     "name": "stderr",
     "output_type": "stream",
     "text": [
      "[Parallel(n_jobs=-1)]: Using backend LokyBackend with 64 concurrent workers.\n"
     ]
    },
    {
     "name": "stdout",
     "output_type": "stream",
     "text": [
      "[CV] START .....................................................................\n",
      "[CV] START .....................................................................\n",
      "[CV] START .....................................................................\n",
      "[CV] END ................................ score: (test=0.230) total time=   7.1s\n",
      "[CV] END ................................ score: (test=0.277) total time=   7.3s\n",
      "[CV] END ................................ score: (test=0.251) total time=   7.3s\n"
     ]
    },
    {
     "name": "stderr",
     "output_type": "stream",
     "text": [
      "[Parallel(n_jobs=-1)]: Done   3 out of   3 | elapsed:    7.9s finished\n",
      "[I 2024-09-29 15:14:01,763] Trial 9 finished with value: 0.2528847675055464 and parameters: {'learning_rate': 0.16595060917722113, 'n_estimators': 330, 'max_depth': 12, 'subsample': 0.6769597381619205, 'booster': 'gbtree', 'tree_method': 'auto', 'reg_alpha': 0.4596378485508418, 'reg_lambda': 0.7487033986509946}. Best is trial 5 with value: 0.2818027790420233.\n",
      "[Parallel(n_jobs=-1)]: Using backend LokyBackend with 64 concurrent workers.\n"
     ]
    },
    {
     "name": "stdout",
     "output_type": "stream",
     "text": [
      "[CV] START .....................................................................\n",
      "[CV] START .....................................................................\n",
      "[CV] START .....................................................................\n",
      "[CV] END ................................ score: (test=0.276) total time=  49.9s\n",
      "[CV] END ................................ score: (test=0.283) total time=  50.1s\n"
     ]
    },
    {
     "name": "stderr",
     "output_type": "stream",
     "text": [
      "[Parallel(n_jobs=-1)]: Done   3 out of   3 | elapsed:   51.1s finished\n",
      "[I 2024-09-29 15:14:53,031] Trial 10 finished with value: 0.2621694463859895 and parameters: {'learning_rate': 0.19321710403753525, 'n_estimators': 490, 'max_depth': 9, 'subsample': 0.9779044419708658, 'booster': 'dart', 'tree_method': 'exact', 'reg_alpha': 0.01977499219468416, 'reg_lambda': 0.904605560782454}. Best is trial 5 with value: 0.2818027790420233.\n"
     ]
    },
    {
     "name": "stdout",
     "output_type": "stream",
     "text": [
      "[CV] END ................................ score: (test=0.228) total time=  50.6s\n",
      "[CV] START .....................................................................\n",
      "[CV] START .....................................................................\n"
     ]
    },
    {
     "name": "stderr",
     "output_type": "stream",
     "text": [
      "[Parallel(n_jobs=-1)]: Using backend LokyBackend with 64 concurrent workers.\n"
     ]
    },
    {
     "name": "stdout",
     "output_type": "stream",
     "text": [
      "[CV] START .....................................................................\n",
      "[CV] END ................................ score: (test=0.245) total time=  17.5s\n",
      "[CV] END ................................ score: (test=0.306) total time=  17.8s\n"
     ]
    },
    {
     "name": "stderr",
     "output_type": "stream",
     "text": [
      "[Parallel(n_jobs=-1)]: Done   3 out of   3 | elapsed:   18.5s finished\n",
      "[I 2024-09-29 15:15:11,685] Trial 11 finished with value: 0.2656848741929267 and parameters: {'learning_rate': 0.038534426259379154, 'n_estimators': 327, 'max_depth': 12, 'subsample': 0.9210143795759004, 'booster': 'gbtree', 'tree_method': 'auto', 'reg_alpha': 0.0513010274310232, 'reg_lambda': 0.8556662189916451}. Best is trial 5 with value: 0.2818027790420233.\n"
     ]
    },
    {
     "name": "stdout",
     "output_type": "stream",
     "text": [
      "[CV] END ................................ score: (test=0.246) total time=  17.9s\n",
      "[CV] START .....................................................................\n",
      "[CV] START .....................................................................\n",
      "[CV] START .....................................................................\n"
     ]
    },
    {
     "name": "stderr",
     "output_type": "stream",
     "text": [
      "[Parallel(n_jobs=-1)]: Using backend LokyBackend with 64 concurrent workers.\n"
     ]
    },
    {
     "name": "stdout",
     "output_type": "stream",
     "text": [
      "[CV] END ................................ score: (test=0.230) total time=  16.3s\n",
      "[CV] END ................................ score: (test=0.270) total time=  16.4s\n",
      "[CV] END ................................ score: (test=0.266) total time=  16.4s\n"
     ]
    },
    {
     "name": "stderr",
     "output_type": "stream",
     "text": [
      "[Parallel(n_jobs=-1)]: Done   3 out of   3 | elapsed:   16.5s finished\n",
      "[I 2024-09-29 15:15:28,281] Trial 12 finished with value: 0.2556149377355826 and parameters: {'learning_rate': 0.045087383629502986, 'n_estimators': 337, 'max_depth': 12, 'subsample': 0.9462178631973934, 'booster': 'gbtree', 'tree_method': 'auto', 'reg_alpha': 0.004794844306470633, 'reg_lambda': 0.8759869096328927}. Best is trial 5 with value: 0.2818027790420233.\n",
      "[Parallel(n_jobs=-1)]: Using backend LokyBackend with 64 concurrent workers.\n"
     ]
    },
    {
     "name": "stdout",
     "output_type": "stream",
     "text": [
      "[CV] START .....................................................................\n",
      "[CV] START .....................................................................\n",
      "[CV] START .....................................................................\n"
     ]
    },
    {
     "name": "stderr",
     "output_type": "stream",
     "text": [
      "[Parallel(n_jobs=-1)]: Done   3 out of   3 | elapsed:   10.0s finished\n",
      "[I 2024-09-29 15:15:38,410] Trial 13 finished with value: 0.25002623040965927 and parameters: {'learning_rate': 0.09596215790960548, 'n_estimators': 375, 'max_depth': 9, 'subsample': 0.9052192433406273, 'booster': 'gbtree', 'tree_method': 'auto', 'reg_alpha': 0.10234098492263533, 'reg_lambda': 0.979443447577651}. Best is trial 5 with value: 0.2818027790420233.\n"
     ]
    },
    {
     "name": "stdout",
     "output_type": "stream",
     "text": [
      "[CV] END ................................ score: (test=0.248) total time=   9.9s\n",
      "[CV] END ................................ score: (test=0.258) total time=  10.0s\n",
      "[CV] END ................................ score: (test=0.244) total time=  10.0s\n"
     ]
    },
    {
     "name": "stderr",
     "output_type": "stream",
     "text": [
      "[Parallel(n_jobs=-1)]: Using backend LokyBackend with 64 concurrent workers.\n"
     ]
    },
    {
     "name": "stdout",
     "output_type": "stream",
     "text": [
      "[CV] START .....................................................................\n",
      "[CV] START .....................................................................\n",
      "[CV] START .....................................................................\n",
      "[CV] END ................................ score: (test=0.322) total time=   3.9s\n",
      "[CV] END ................................ score: (test=0.241) total time=   4.0s\n",
      "[CV] END ................................ score: (test=0.272) total time=   4.1s\n"
     ]
    },
    {
     "name": "stderr",
     "output_type": "stream",
     "text": [
      "[Parallel(n_jobs=-1)]: Done   3 out of   3 | elapsed:    4.1s finished\n",
      "[I 2024-09-29 15:15:42,679] Trial 14 finished with value: 0.2782289575969818 and parameters: {'learning_rate': 0.043318027755247214, 'n_estimators': 158, 'max_depth': 4, 'subsample': 0.7328987059198426, 'booster': 'gbtree', 'tree_method': 'exact', 'reg_alpha': 0.11048080247310726, 'reg_lambda': 0.8528729899027532}. Best is trial 5 with value: 0.2818027790420233.\n",
      "[Parallel(n_jobs=-1)]: Using backend LokyBackend with 64 concurrent workers.\n"
     ]
    },
    {
     "name": "stdout",
     "output_type": "stream",
     "text": [
      "[CV] START .....................................................................\n",
      "[CV] START .....................................................................\n",
      "[CV] START .....................................................................\n",
      "[CV] END ................................ score: (test=0.203) total time=   2.4s\n",
      "[CV] END ................................ score: (test=0.240) total time=   2.4s\n",
      "[CV] END ................................ score: (test=0.331) total time=   2.5s\n"
     ]
    },
    {
     "name": "stderr",
     "output_type": "stream",
     "text": [
      "[Parallel(n_jobs=-1)]: Done   3 out of   3 | elapsed:    2.5s finished\n",
      "[I 2024-09-29 15:15:45,305] Trial 15 finished with value: 0.25815061814180146 and parameters: {'learning_rate': 0.07805401302589135, 'n_estimators': 122, 'max_depth': 3, 'subsample': 0.7629959412485576, 'booster': 'gbtree', 'tree_method': 'exact', 'reg_alpha': 0.16886417443221302, 'reg_lambda': 0.7345858714767928}. Best is trial 5 with value: 0.2818027790420233.\n",
      "[Parallel(n_jobs=-1)]: Using backend LokyBackend with 64 concurrent workers.\n"
     ]
    },
    {
     "name": "stdout",
     "output_type": "stream",
     "text": [
      "[CV] START .....................................................................\n",
      "[CV] START .....................................................................\n",
      "[CV] START .....................................................................\n"
     ]
    },
    {
     "name": "stderr",
     "output_type": "stream",
     "text": [
      "[Parallel(n_jobs=-1)]: Done   3 out of   3 | elapsed:    4.2s finished\n",
      "[I 2024-09-29 15:15:49,633] Trial 16 finished with value: 0.25211494898275216 and parameters: {'learning_rate': 0.12676366928905322, 'n_estimators': 165, 'max_depth': 4, 'subsample': 0.7281937235823042, 'booster': 'gbtree', 'tree_method': 'exact', 'reg_alpha': 0.09002858071444628, 'reg_lambda': 0.9277678134564311}. Best is trial 5 with value: 0.2818027790420233.\n"
     ]
    },
    {
     "name": "stdout",
     "output_type": "stream",
     "text": [
      "[CV] END ................................ score: (test=0.316) total time=   4.1s\n",
      "[CV] END ................................ score: (test=0.227) total time=   4.1s\n",
      "[CV] END ................................ score: (test=0.213) total time=   4.2s\n"
     ]
    },
    {
     "name": "stderr",
     "output_type": "stream",
     "text": [
      "[Parallel(n_jobs=-1)]: Using backend LokyBackend with 64 concurrent workers.\n"
     ]
    },
    {
     "name": "stdout",
     "output_type": "stream",
     "text": [
      "[CV] START .....................................................................\n",
      "[CV] START .....................................................................\n",
      "[CV] START .....................................................................\n",
      "[CV] END ................................ score: (test=0.246) total time=   6.1s\n",
      "[CV] END ................................ score: (test=0.223) total time=   6.1s\n",
      "[CV] END ................................ score: (test=0.300) total time=   6.2s\n"
     ]
    },
    {
     "name": "stderr",
     "output_type": "stream",
     "text": [
      "[Parallel(n_jobs=-1)]: Done   3 out of   3 | elapsed:    6.2s finished\n",
      "[I 2024-09-29 15:15:55,978] Trial 17 finished with value: 0.25635581063219903 and parameters: {'learning_rate': 0.04914528534161311, 'n_estimators': 157, 'max_depth': 7, 'subsample': 0.5978743924945238, 'booster': 'gbtree', 'tree_method': 'exact', 'reg_alpha': 0.16515788856608882, 'reg_lambda': 0.9988617609879864}. Best is trial 5 with value: 0.2818027790420233.\n",
      "[Parallel(n_jobs=-1)]: Using backend LokyBackend with 64 concurrent workers.\n"
     ]
    },
    {
     "name": "stdout",
     "output_type": "stream",
     "text": [
      "[CV] START .....................................................................\n",
      "[CV] START .....................................................................\n",
      "[CV] START .....................................................................\n",
      "[CV] END ................................ score: (test=0.273) total time=  20.2s\n",
      "[CV] END ................................ score: (test=0.251) total time=  20.4s\n",
      "[CV] END ................................ score: (test=0.266) total time=  20.4s\n"
     ]
    },
    {
     "name": "stderr",
     "output_type": "stream",
     "text": [
      "[Parallel(n_jobs=-1)]: Done   3 out of   3 | elapsed:   20.4s finished\n",
      "[I 2024-09-29 15:16:16,522] Trial 18 finished with value: 0.2633163624397403 and parameters: {'learning_rate': 0.010424665954296898, 'n_estimators': 268, 'max_depth': 5, 'subsample': 0.7452968430505105, 'booster': 'dart', 'tree_method': 'exact', 'reg_alpha': 0.26400525551447196, 'reg_lambda': 0.8287540277291319}. Best is trial 5 with value: 0.2818027790420233.\n",
      "[Parallel(n_jobs=-1)]: Using backend LokyBackend with 64 concurrent workers.\n"
     ]
    },
    {
     "name": "stdout",
     "output_type": "stream",
     "text": [
      "[CV] START .....................................................................\n",
      "[CV] START .....................................................................\n",
      "[CV] START .....................................................................\n",
      "[CV] END ................................ score: (test=0.274) total time=   2.4s\n",
      "[CV] END ................................ score: (test=0.266) total time=   2.4s\n"
     ]
    },
    {
     "name": "stderr",
     "output_type": "stream",
     "text": [
      "[Parallel(n_jobs=-1)]: Done   3 out of   3 | elapsed:    2.8s finished\n",
      "[I 2024-09-29 15:16:19,417] Trial 19 finished with value: 0.27723644745891834 and parameters: {'learning_rate': 0.08587817765310995, 'n_estimators': 184, 'max_depth': 2, 'subsample': 0.859240806710272, 'booster': 'gbtree', 'tree_method': 'exact', 'reg_alpha': 0.0701542142366528, 'reg_lambda': 0.9004547864272479}. Best is trial 5 with value: 0.2818027790420233.\n"
     ]
    },
    {
     "name": "stdout",
     "output_type": "stream",
     "text": [
      "[CV] END ................................ score: (test=0.291) total time=   2.5s\n",
      "[CV] START .....................................................................\n",
      "[CV] START .....................................................................\n",
      "[CV] START .....................................................................\n"
     ]
    },
    {
     "name": "stderr",
     "output_type": "stream",
     "text": [
      "[Parallel(n_jobs=-1)]: Using backend LokyBackend with 64 concurrent workers.\n"
     ]
    },
    {
     "name": "stdout",
     "output_type": "stream",
     "text": [
      "[CV] END ................................ score: (test=0.242) total time=  11.1s\n",
      "[CV] END ................................ score: (test=0.227) total time=  11.2s\n"
     ]
    },
    {
     "name": "stderr",
     "output_type": "stream",
     "text": [
      "[Parallel(n_jobs=-1)]: Done   3 out of   3 | elapsed:   11.5s finished\n",
      "[I 2024-09-29 15:16:31,068] Trial 20 finished with value: 0.2315986898322013 and parameters: {'learning_rate': 0.03840112740584584, 'n_estimators': 97, 'max_depth': 8, 'subsample': 0.5327806698677545, 'booster': 'gbtree', 'tree_method': 'approx', 'reg_alpha': 0.15026458698175205, 'reg_lambda': 0.6762565818904572}. Best is trial 5 with value: 0.2818027790420233.\n"
     ]
    },
    {
     "name": "stdout",
     "output_type": "stream",
     "text": [
      "[CV] END ................................ score: (test=0.226) total time=  11.5s\n",
      "[CV] START .....................................................................\n",
      "[CV] START .....................................................................\n",
      "[CV] START .....................................................................\n"
     ]
    },
    {
     "name": "stderr",
     "output_type": "stream",
     "text": [
      "[Parallel(n_jobs=-1)]: Using backend LokyBackend with 64 concurrent workers.\n",
      "[Parallel(n_jobs=-1)]: Done   3 out of   3 | elapsed:    2.4s finished\n",
      "[I 2024-09-29 15:16:33,646] Trial 21 finished with value: 0.25711624732312094 and parameters: {'learning_rate': 0.09046091176814845, 'n_estimators': 184, 'max_depth': 2, 'subsample': 0.85915021076697, 'booster': 'gbtree', 'tree_method': 'exact', 'reg_alpha': 0.06191709468382764, 'reg_lambda': 0.8932855286644802}. Best is trial 5 with value: 0.2818027790420233.\n"
     ]
    },
    {
     "name": "stdout",
     "output_type": "stream",
     "text": [
      "[CV] END ................................ score: (test=0.282) total time=   2.4s\n",
      "[CV] END ................................ score: (test=0.212) total time=   2.4s\n",
      "[CV] END ................................ score: (test=0.277) total time=   2.4s\n",
      "[CV] START .....................................................................\n",
      "[CV] START .....................................................................\n",
      "[CV] START .....................................................................\n"
     ]
    },
    {
     "name": "stderr",
     "output_type": "stream",
     "text": [
      "[Parallel(n_jobs=-1)]: Using backend LokyBackend with 64 concurrent workers.\n",
      "[Parallel(n_jobs=-1)]: Done   3 out of   3 | elapsed:    5.2s finished\n",
      "[I 2024-09-29 15:16:39,011] Trial 22 finished with value: 0.2509477624044783 and parameters: {'learning_rate': 0.125400936792658, 'n_estimators': 196, 'max_depth': 4, 'subsample': 0.8650238314100606, 'booster': 'gbtree', 'tree_method': 'exact', 'reg_alpha': 0.04843167214091902, 'reg_lambda': 0.9385655451372358}. Best is trial 5 with value: 0.2818027790420233.\n"
     ]
    },
    {
     "name": "stdout",
     "output_type": "stream",
     "text": [
      "[CV] END ................................ score: (test=0.301) total time=   5.1s\n",
      "[CV] END ................................ score: (test=0.240) total time=   5.1s\n",
      "[CV] END ................................ score: (test=0.212) total time=   5.2s\n"
     ]
    },
    {
     "name": "stderr",
     "output_type": "stream",
     "text": [
      "[Parallel(n_jobs=-1)]: Using backend LokyBackend with 64 concurrent workers.\n"
     ]
    },
    {
     "name": "stdout",
     "output_type": "stream",
     "text": [
      "[CV] START .....................................................................\n",
      "[CV] START .....................................................................\n",
      "[CV] START .....................................................................\n"
     ]
    },
    {
     "name": "stderr",
     "output_type": "stream",
     "text": [
      "[Parallel(n_jobs=-1)]: Done   3 out of   3 | elapsed:    4.9s finished\n",
      "[I 2024-09-29 15:16:44,094] Trial 23 finished with value: 0.2607816851153662 and parameters: {'learning_rate': 0.08383528576479288, 'n_estimators': 259, 'max_depth': 3, 'subsample': 0.7691121242873271, 'booster': 'gbtree', 'tree_method': 'exact', 'reg_alpha': 0.1251889187963047, 'reg_lambda': 0.8469691584622374}. Best is trial 5 with value: 0.2818027790420233.\n"
     ]
    },
    {
     "name": "stdout",
     "output_type": "stream",
     "text": [
      "[CV] END ................................ score: (test=0.319) total time=   4.9s\n",
      "[CV] END ................................ score: (test=0.198) total time=   4.9s\n",
      "[CV] END ................................ score: (test=0.266) total time=   4.9s\n"
     ]
    },
    {
     "name": "stderr",
     "output_type": "stream",
     "text": [
      "[Parallel(n_jobs=-1)]: Using backend LokyBackend with 64 concurrent workers.\n"
     ]
    },
    {
     "name": "stdout",
     "output_type": "stream",
     "text": [
      "[CV] START .....................................................................\n",
      "[CV] START .....................................................................\n",
      "[CV] START .....................................................................\n"
     ]
    },
    {
     "name": "stderr",
     "output_type": "stream",
     "text": [
      "[Parallel(n_jobs=-1)]: Done   3 out of   3 | elapsed:    2.6s finished\n",
      "[I 2024-09-29 15:16:46,840] Trial 24 finished with value: 0.27201342835275194 and parameters: {'learning_rate': 0.05848241581447734, 'n_estimators': 136, 'max_depth': 3, 'subsample': 0.7066089465866312, 'booster': 'gbtree', 'tree_method': 'exact', 'reg_alpha': 0.07495807634152715, 'reg_lambda': 0.9507588250276426}. Best is trial 5 with value: 0.2818027790420233.\n"
     ]
    },
    {
     "name": "stdout",
     "output_type": "stream",
     "text": [
      "[CV] END ................................ score: (test=0.277) total time=   2.5s\n",
      "[CV] END ................................ score: (test=0.294) total time=   2.5s\n",
      "[CV] END ................................ score: (test=0.245) total time=   2.6s\n"
     ]
    }
   ],
   "source": [
    "from src.machinelearning import train_xgboost, evaluate_sklean\n",
    "from sklearn.model_selection import train_test_split\n",
    "\n",
    "X = df_HXK.drop('label', axis=1)\n",
    "y = df_HXK['label']\n",
    "\n",
    "X_train, X_test, y_train, y_test = train_test_split(X, y, test_size=0.99, random_state=42)\n",
    "\n",
    "print(f'Traininig set shape: {X_train.shape}')\n",
    "print(f'Test set shape: {X_test.shape}')\n",
    "\n",
    "xgb_model = train_xgboost(X_train, y_train, n_trials=100)"
   ]
  },
  {
   "cell_type": "code",
   "execution_count": 15,
   "metadata": {},
   "outputs": [
    {
     "name": "stdout",
     "output_type": "stream",
     "text": [
      "Accuracy: 0.6463686868686869\n",
      "F1 score: 0.6100849227342336\n",
      "ROC AUC score: 0.6431444853293067\n",
      "Matthews correlation coefficient: 0.2882091258283946\n"
     ]
    }
   ],
   "source": [
    "evaluate_sklean(xgb_model, X_test, y_test)"
   ]
  },
  {
   "cell_type": "code",
   "execution_count": 12,
   "metadata": {},
   "outputs": [
    {
     "ename": "NameError",
     "evalue": "name 'stop' is not defined",
     "output_type": "error",
     "traceback": [
      "\u001b[0;31m---------------------------------------------------------------------------\u001b[0m",
      "\u001b[0;31mNameError\u001b[0m                                 Traceback (most recent call last)",
      "Cell \u001b[0;32mIn[12], line 1\u001b[0m\n\u001b[0;32m----> 1\u001b[0m \u001b[43mstop\u001b[49m\n",
      "\u001b[0;31mNameError\u001b[0m: name 'stop' is not defined"
     ]
    }
   ],
   "source": [
    "stop"
   ]
  },
  {
   "cell_type": "code",
   "execution_count": null,
   "metadata": {},
   "outputs": [],
   "source": []
  },
  {
   "cell_type": "code",
   "execution_count": null,
   "metadata": {},
   "outputs": [],
   "source": [
    "from sklearn.model_selection import train_test_split\n",
    "\n",
    "X = df_HXK.drop('label', axis=1)\n",
    "y = df_HXK['label']\n",
    "\n",
    "X_train, X_test, y_train, y_test = train_test_split(X, y, test_size=0.8, random_state=42)\n",
    "\n",
    "print(f'Traininig set shape: {X_train.shape}')\n",
    "print(f'Test set shape: {X_test.shape}')\n",
    "\n",
    "# Train ANNClassifier\n",
    "import torch\n",
    "from src.machinelearning import ANNClassifier, train, evaluate\n",
    "device = torch.device('cuda' if torch.cuda.is_available() else 'cpu')\n",
    "\n",
    "input_dim = X_train.shape[1]\n",
    "hidden_dim = 2048\n",
    "output_dim = 1\n",
    "hidden_layers = 3\n",
    "\n",
    "model = ANNClassifier(input_dim, hidden_dim, output_dim, hidden_layers).to(device)\n",
    "\n",
    "model = train(model, X_train, y_train, num_epochs=1000, learning_rate=0.001, batch_size=2048)"
   ]
  },
  {
   "cell_type": "code",
   "execution_count": 47,
   "metadata": {},
   "outputs": [],
   "source": [
    "# Save trained model\n",
    "torch.save(model.state_dict(), './ann_classifier.pth')"
   ]
  },
  {
   "cell_type": "code",
   "execution_count": null,
   "metadata": {},
   "outputs": [],
   "source": [
    "# Evaluate model\n",
    "evaluate(model, X_test, y_test)"
   ]
  },
  {
   "cell_type": "code",
   "execution_count": null,
   "metadata": {},
   "outputs": [],
   "source": [
    "aaa"
   ]
  },
  {
   "cell_type": "code",
   "execution_count": 66,
   "metadata": {},
   "outputs": [],
   "source": [
    "import shap\n",
    "\n",
    "# Calculate shap values for the ANN model\n",
    "def f(x):\n",
    "    return model(torch.tensor(x, dtype=torch.float32)).detach().numpy()\n",
    "\n",
    "X_shap = shap.utils.sample(X_train, 100)\n",
    "explainer = shap.KernelExplainer(f, X_shap)"
   ]
  },
  {
   "cell_type": "code",
   "execution_count": null,
   "metadata": {},
   "outputs": [],
   "source": [
    "shap_values = explainer.shap_values(X_train.sample(300)) "
   ]
  },
  {
   "cell_type": "code",
   "execution_count": null,
   "metadata": {},
   "outputs": [],
   "source": [
    "fig = plt.figure()\n",
    "shap.summary_plot(shap_values[0], X_shap, plot_type='dot', show=False)\n",
    "plt.gcf().set_size_inches(10,4)\n",
    "plt.show()\n"
   ]
  },
  {
   "cell_type": "code",
   "execution_count": null,
   "metadata": {},
   "outputs": [],
   "source": []
  }
 ],
 "metadata": {
  "kernelspec": {
   "display_name": "main",
   "language": "python",
   "name": "python3"
  },
  "language_info": {
   "codemirror_mode": {
    "name": "ipython",
    "version": 3
   },
   "file_extension": ".py",
   "mimetype": "text/x-python",
   "name": "python",
   "nbconvert_exporter": "python",
   "pygments_lexer": "ipython3",
   "version": "3.10.12"
  }
 },
 "nbformat": 4,
 "nbformat_minor": 2
}
