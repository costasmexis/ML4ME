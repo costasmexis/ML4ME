{
 "cells": [
  {
   "cell_type": "code",
   "execution_count": 1,
   "metadata": {},
   "outputs": [],
   "source": [
    "%load_ext autoreload\n",
    "%autoreload 2"
   ]
  },
  {
   "cell_type": "code",
   "execution_count": 2,
   "metadata": {},
   "outputs": [],
   "source": [
    "import matplotlib.pyplot as plt\n",
    "import numpy as np\n",
    "import pandas as pd\n",
    "from scipy.io import loadmat\n",
    "\n",
    "from src.utils import get_cc_mat, get_dataset"
   ]
  },
  {
   "cell_type": "markdown",
   "metadata": {},
   "source": [
    "### Get data"
   ]
  },
  {
   "cell_type": "code",
   "execution_count": null,
   "metadata": {},
   "outputs": [],
   "source": [
    "df = get_dataset(\n",
    "    labels_file=\"./data/class_vector_train_ref.mat\", \n",
    "    params_file=\"./data/training_set_ref.mat\",\n",
    "    names_file=\"./data/paremeterNames.mat\"\n",
    ")\n",
    "\n",
    "print(f'***Dataset shape: {df.shape}')\n",
    "\n",
    "# Value counts of the stability label\n",
    "print('***Value counts of the stability label:')\n",
    "print(df['label'].value_counts(normalize=True).round(4))\n",
    "\n",
    "df.head()"
   ]
  },
  {
   "cell_type": "markdown",
   "metadata": {},
   "source": [
    "### Feature Selection"
   ]
  },
  {
   "cell_type": "code",
   "execution_count": 4,
   "metadata": {},
   "outputs": [],
   "source": [
    "# from mrmr import mrmr_classif\n",
    "\n",
    "# K = int(df.drop('label', axis=1).shape[1] / 3)\n",
    "# print(f'***Number of features to select: {K}')\n",
    "# selected_features = mrmr_classif(X=df.drop('label', axis=1), y=df['label'], K=K)"
   ]
  },
  {
   "cell_type": "markdown",
   "metadata": {},
   "source": [
    "### ML"
   ]
  },
  {
   "cell_type": "markdown",
   "metadata": {},
   "source": [
    "### FFC"
   ]
  },
  {
   "cell_type": "code",
   "execution_count": null,
   "metadata": {},
   "outputs": [],
   "source": [
    "enzyme, commonEnz, allEnzymes, \\\n",
    "    commonConCoeff, allConCoeff = get_cc_mat('./data/ccXTR_ref.mat')\n"
   ]
  },
  {
   "cell_type": "code",
   "execution_count": null,
   "metadata": {},
   "outputs": [],
   "source": [
    "# Change plot style\n",
    "plt.style.use('ggplot')\n",
    "\n",
    "# Calculate the 1st and 3rd quartiles of commonConCoeff values\n",
    "q1 = commonConCoeff.quantile(0.25)\n",
    "q3 = commonConCoeff.quantile(0.75)\n",
    "\n",
    "# Plot the mean of commonConCoeff values\n",
    "plt.figure(figsize=(10, 3))\n",
    "plt.barh(commonConCoeff.columns[::-1], commonConCoeff.mean()[::-1])\n",
    "plt.axvline(x=0, color='black', linestyle='-')\n",
    "plt.plot(q1, commonConCoeff.columns, '|', color='black', label='Q1', alpha=1)\n",
    "plt.plot(q3, commonConCoeff.columns, '|', color='black', label='Q3', alpha=1)\n",
    "for i, enzyme in enumerate(commonConCoeff.columns):\n",
    "    plt.plot([q1[i], q3[i]], [enzyme, enzyme], color='black')\n",
    "plt.title(\"CC_XTR\")\n",
    "plt.grid()\n",
    "plt.show()"
   ]
  },
  {
   "cell_type": "code",
   "execution_count": null,
   "metadata": {},
   "outputs": [],
   "source": [
    "idx_HXK = commonConCoeff[commonConCoeff['HXK'] < 0].index\n",
    "df_HXK = df.drop('label', axis=1)\n",
    "df_HXK['label'] = [1 if i in idx_HXK else 0 for i in df_HXK.index]\n",
    "df_HXK['label'].value_counts(normalize=True).round(4)"
   ]
  },
  {
   "cell_type": "code",
   "execution_count": 8,
   "metadata": {},
   "outputs": [],
   "source": [
    "# # Keep only the features selected by mRMR\n",
    "# df_HXK = df_HXK[selected_features + ['label']]\n",
    "# print(f'***Dataset shape: {df_HXK.shape}')"
   ]
  },
  {
   "cell_type": "code",
   "execution_count": null,
   "metadata": {},
   "outputs": [],
   "source": [
    "from src.machinelearning import train_xgboost\n",
    "from sklearn.model_selection import train_test_split\n",
    "\n",
    "X = df_HXK.drop('label', axis=1)\n",
    "y = df_HXK['label']\n",
    "\n",
    "X_train, X_test, y_train, y_test = train_test_split(X, y, test_size=0.99, random_state=42)\n",
    "\n",
    "print(f'Traininig set shape: {X_train.shape}')\n",
    "print(f'Test set shape: {X_test.shape}')\n",
    "\n",
    "xgb_model = train_xgboost(X_train, y_train)"
   ]
  },
  {
   "cell_type": "code",
   "execution_count": 11,
   "metadata": {},
   "outputs": [
    {
     "ename": "NameError",
     "evalue": "name 'stop' is not defined",
     "output_type": "error",
     "traceback": [
      "\u001b[0;31m---------------------------------------------------------------------------\u001b[0m",
      "\u001b[0;31mNameError\u001b[0m                                 Traceback (most recent call last)",
      "Cell \u001b[0;32mIn[11], line 1\u001b[0m\n\u001b[0;32m----> 1\u001b[0m \u001b[43mstop\u001b[49m\n",
      "\u001b[0;31mNameError\u001b[0m: name 'stop' is not defined"
     ]
    }
   ],
   "source": [
    "stop"
   ]
  },
  {
   "cell_type": "code",
   "execution_count": 16,
   "metadata": {},
   "outputs": [
    {
     "name": "stdout",
     "output_type": "stream",
     "text": [
      "Accuracy: 0.6312272727272727\n",
      "F1 score: 0.5980545967994979\n",
      "ROC AUC score: 0.6285600085944588\n",
      "Matthews correlation coefficient: 0.2581927271115636\n"
     ]
    }
   ],
   "source": [
    "from sklearn.linear_model import LogisticRegression\n",
    "from xgboost import XGBClassifier\n",
    "\n",
    "lr = XGBClassifier()\n",
    "lr.fit(X_train, y_train)\n",
    "\n",
    "y_pred = lr.predict(X_test)\n",
    "\n",
    "from sklearn.metrics import accuracy_score, f1_score, roc_auc_score, matthews_corrcoef\n",
    "\n",
    "print(f'Accuracy: {accuracy_score(y_test, y_pred)}')\n",
    "print(f'F1 score: {f1_score(y_test, y_pred)}')\n",
    "print(f'ROC AUC score: {roc_auc_score(y_test, y_pred)}')\n",
    "print(f'Matthews correlation coefficient: {matthews_corrcoef(y_test, y_pred)}')\n"
   ]
  },
  {
   "cell_type": "code",
   "execution_count": null,
   "metadata": {},
   "outputs": [],
   "source": []
  },
  {
   "cell_type": "code",
   "execution_count": null,
   "metadata": {},
   "outputs": [],
   "source": [
    "from sklearn.model_selection import train_test_split\n",
    "\n",
    "X = df_HXK.drop('label', axis=1)\n",
    "y = df_HXK['label']\n",
    "\n",
    "X_train, X_test, y_train, y_test = train_test_split(X, y, test_size=0.8, random_state=42)\n",
    "\n",
    "print(f'Traininig set shape: {X_train.shape}')\n",
    "print(f'Test set shape: {X_test.shape}')\n",
    "\n",
    "# Train ANNClassifier\n",
    "import torch\n",
    "from src.machinelearning import ANNClassifier, train, evaluate\n",
    "device = torch.device('cuda' if torch.cuda.is_available() else 'cpu')\n",
    "\n",
    "input_dim = X_train.shape[1]\n",
    "hidden_dim = 2048\n",
    "output_dim = 1\n",
    "hidden_layers = 3\n",
    "\n",
    "model = ANNClassifier(input_dim, hidden_dim, output_dim, hidden_layers).to(device)\n",
    "\n",
    "model = train(model, X_train, y_train, num_epochs=1000, learning_rate=0.001, batch_size=2048)"
   ]
  },
  {
   "cell_type": "code",
   "execution_count": 47,
   "metadata": {},
   "outputs": [],
   "source": [
    "# Save trained model\n",
    "torch.save(model.state_dict(), './ann_classifier.pth')"
   ]
  },
  {
   "cell_type": "code",
   "execution_count": null,
   "metadata": {},
   "outputs": [],
   "source": [
    "# Evaluate model\n",
    "evaluate(model, X_test, y_test)"
   ]
  },
  {
   "cell_type": "code",
   "execution_count": null,
   "metadata": {},
   "outputs": [],
   "source": [
    "aaa"
   ]
  },
  {
   "cell_type": "code",
   "execution_count": 66,
   "metadata": {},
   "outputs": [],
   "source": [
    "import shap\n",
    "\n",
    "# Calculate shap values for the ANN model\n",
    "def f(x):\n",
    "    return model(torch.tensor(x, dtype=torch.float32)).detach().numpy()\n",
    "\n",
    "X_shap = shap.utils.sample(X_train, 100)\n",
    "explainer = shap.KernelExplainer(f, X_shap)"
   ]
  },
  {
   "cell_type": "code",
   "execution_count": null,
   "metadata": {},
   "outputs": [],
   "source": [
    "shap_values = explainer.shap_values(X_train.sample(300)) "
   ]
  },
  {
   "cell_type": "code",
   "execution_count": null,
   "metadata": {},
   "outputs": [],
   "source": [
    "fig = plt.figure()\n",
    "shap.summary_plot(shap_values[0], X_shap, plot_type='dot', show=False)\n",
    "plt.gcf().set_size_inches(10,4)\n",
    "plt.show()\n"
   ]
  },
  {
   "cell_type": "code",
   "execution_count": null,
   "metadata": {},
   "outputs": [],
   "source": []
  }
 ],
 "metadata": {
  "kernelspec": {
   "display_name": "main",
   "language": "python",
   "name": "python3"
  },
  "language_info": {
   "codemirror_mode": {
    "name": "ipython",
    "version": 3
   },
   "file_extension": ".py",
   "mimetype": "text/x-python",
   "name": "python",
   "nbconvert_exporter": "python",
   "pygments_lexer": "ipython3",
   "version": "3.10.12"
  }
 },
 "nbformat": 4,
 "nbformat_minor": 2
}
